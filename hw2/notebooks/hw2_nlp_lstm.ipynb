{
  "nbformat": 4,
  "nbformat_minor": 0,
  "metadata": {
    "colab": {
      "provenance": [],
      "gpuType": "T4"
    },
    "kernelspec": {
      "name": "python3",
      "display_name": "Python 3"
    },
    "language_info": {
      "name": "python"
    },
    "accelerator": "GPU",
    "widgets": {
      "application/vnd.jupyter.widget-state+json": {
        "5083beea69704f249454b120dba438de": {
          "model_module": "@jupyter-widgets/controls",
          "model_name": "HBoxModel",
          "model_module_version": "1.5.0",
          "state": {
            "_dom_classes": [],
            "_model_module": "@jupyter-widgets/controls",
            "_model_module_version": "1.5.0",
            "_model_name": "HBoxModel",
            "_view_count": null,
            "_view_module": "@jupyter-widgets/controls",
            "_view_module_version": "1.5.0",
            "_view_name": "HBoxView",
            "box_style": "",
            "children": [
              "IPY_MODEL_4ac9150a710d436c9eb9ed7b9af23b28",
              "IPY_MODEL_4283be1b317645139ea8411e8ed1e5a9",
              "IPY_MODEL_b4a05b88d4274a66ae166182b033f27a"
            ],
            "layout": "IPY_MODEL_695858b9b95743789424b4b076a48be5"
          }
        },
        "4ac9150a710d436c9eb9ed7b9af23b28": {
          "model_module": "@jupyter-widgets/controls",
          "model_name": "HTMLModel",
          "model_module_version": "1.5.0",
          "state": {
            "_dom_classes": [],
            "_model_module": "@jupyter-widgets/controls",
            "_model_module_version": "1.5.0",
            "_model_name": "HTMLModel",
            "_view_count": null,
            "_view_module": "@jupyter-widgets/controls",
            "_view_module_version": "1.5.0",
            "_view_name": "HTMLView",
            "description": "",
            "description_tooltip": null,
            "layout": "IPY_MODEL_d449c4672b124eca8c6223fd9a818add",
            "placeholder": "​",
            "style": "IPY_MODEL_b782b406c137438d8130366aabc80cf0",
            "value": "tokenizer_config.json: 100%"
          }
        },
        "4283be1b317645139ea8411e8ed1e5a9": {
          "model_module": "@jupyter-widgets/controls",
          "model_name": "FloatProgressModel",
          "model_module_version": "1.5.0",
          "state": {
            "_dom_classes": [],
            "_model_module": "@jupyter-widgets/controls",
            "_model_module_version": "1.5.0",
            "_model_name": "FloatProgressModel",
            "_view_count": null,
            "_view_module": "@jupyter-widgets/controls",
            "_view_module_version": "1.5.0",
            "_view_name": "ProgressView",
            "bar_style": "success",
            "description": "",
            "description_tooltip": null,
            "layout": "IPY_MODEL_2d43c4f1a0624c12adb9da27e08ba870",
            "max": 48,
            "min": 0,
            "orientation": "horizontal",
            "style": "IPY_MODEL_98b0c161435c4260a166e43d18e9d6a7",
            "value": 48
          }
        },
        "b4a05b88d4274a66ae166182b033f27a": {
          "model_module": "@jupyter-widgets/controls",
          "model_name": "HTMLModel",
          "model_module_version": "1.5.0",
          "state": {
            "_dom_classes": [],
            "_model_module": "@jupyter-widgets/controls",
            "_model_module_version": "1.5.0",
            "_model_name": "HTMLModel",
            "_view_count": null,
            "_view_module": "@jupyter-widgets/controls",
            "_view_module_version": "1.5.0",
            "_view_name": "HTMLView",
            "description": "",
            "description_tooltip": null,
            "layout": "IPY_MODEL_4044e87e78bb4c9c9c7d4df1b192fbee",
            "placeholder": "​",
            "style": "IPY_MODEL_1ec73f6595e24e1c9233954f14dab0af",
            "value": " 48.0/48.0 [00:00&lt;00:00, 4.66kB/s]"
          }
        },
        "695858b9b95743789424b4b076a48be5": {
          "model_module": "@jupyter-widgets/base",
          "model_name": "LayoutModel",
          "model_module_version": "1.2.0",
          "state": {
            "_model_module": "@jupyter-widgets/base",
            "_model_module_version": "1.2.0",
            "_model_name": "LayoutModel",
            "_view_count": null,
            "_view_module": "@jupyter-widgets/base",
            "_view_module_version": "1.2.0",
            "_view_name": "LayoutView",
            "align_content": null,
            "align_items": null,
            "align_self": null,
            "border": null,
            "bottom": null,
            "display": null,
            "flex": null,
            "flex_flow": null,
            "grid_area": null,
            "grid_auto_columns": null,
            "grid_auto_flow": null,
            "grid_auto_rows": null,
            "grid_column": null,
            "grid_gap": null,
            "grid_row": null,
            "grid_template_areas": null,
            "grid_template_columns": null,
            "grid_template_rows": null,
            "height": null,
            "justify_content": null,
            "justify_items": null,
            "left": null,
            "margin": null,
            "max_height": null,
            "max_width": null,
            "min_height": null,
            "min_width": null,
            "object_fit": null,
            "object_position": null,
            "order": null,
            "overflow": null,
            "overflow_x": null,
            "overflow_y": null,
            "padding": null,
            "right": null,
            "top": null,
            "visibility": null,
            "width": null
          }
        },
        "d449c4672b124eca8c6223fd9a818add": {
          "model_module": "@jupyter-widgets/base",
          "model_name": "LayoutModel",
          "model_module_version": "1.2.0",
          "state": {
            "_model_module": "@jupyter-widgets/base",
            "_model_module_version": "1.2.0",
            "_model_name": "LayoutModel",
            "_view_count": null,
            "_view_module": "@jupyter-widgets/base",
            "_view_module_version": "1.2.0",
            "_view_name": "LayoutView",
            "align_content": null,
            "align_items": null,
            "align_self": null,
            "border": null,
            "bottom": null,
            "display": null,
            "flex": null,
            "flex_flow": null,
            "grid_area": null,
            "grid_auto_columns": null,
            "grid_auto_flow": null,
            "grid_auto_rows": null,
            "grid_column": null,
            "grid_gap": null,
            "grid_row": null,
            "grid_template_areas": null,
            "grid_template_columns": null,
            "grid_template_rows": null,
            "height": null,
            "justify_content": null,
            "justify_items": null,
            "left": null,
            "margin": null,
            "max_height": null,
            "max_width": null,
            "min_height": null,
            "min_width": null,
            "object_fit": null,
            "object_position": null,
            "order": null,
            "overflow": null,
            "overflow_x": null,
            "overflow_y": null,
            "padding": null,
            "right": null,
            "top": null,
            "visibility": null,
            "width": null
          }
        },
        "b782b406c137438d8130366aabc80cf0": {
          "model_module": "@jupyter-widgets/controls",
          "model_name": "DescriptionStyleModel",
          "model_module_version": "1.5.0",
          "state": {
            "_model_module": "@jupyter-widgets/controls",
            "_model_module_version": "1.5.0",
            "_model_name": "DescriptionStyleModel",
            "_view_count": null,
            "_view_module": "@jupyter-widgets/base",
            "_view_module_version": "1.2.0",
            "_view_name": "StyleView",
            "description_width": ""
          }
        },
        "2d43c4f1a0624c12adb9da27e08ba870": {
          "model_module": "@jupyter-widgets/base",
          "model_name": "LayoutModel",
          "model_module_version": "1.2.0",
          "state": {
            "_model_module": "@jupyter-widgets/base",
            "_model_module_version": "1.2.0",
            "_model_name": "LayoutModel",
            "_view_count": null,
            "_view_module": "@jupyter-widgets/base",
            "_view_module_version": "1.2.0",
            "_view_name": "LayoutView",
            "align_content": null,
            "align_items": null,
            "align_self": null,
            "border": null,
            "bottom": null,
            "display": null,
            "flex": null,
            "flex_flow": null,
            "grid_area": null,
            "grid_auto_columns": null,
            "grid_auto_flow": null,
            "grid_auto_rows": null,
            "grid_column": null,
            "grid_gap": null,
            "grid_row": null,
            "grid_template_areas": null,
            "grid_template_columns": null,
            "grid_template_rows": null,
            "height": null,
            "justify_content": null,
            "justify_items": null,
            "left": null,
            "margin": null,
            "max_height": null,
            "max_width": null,
            "min_height": null,
            "min_width": null,
            "object_fit": null,
            "object_position": null,
            "order": null,
            "overflow": null,
            "overflow_x": null,
            "overflow_y": null,
            "padding": null,
            "right": null,
            "top": null,
            "visibility": null,
            "width": null
          }
        },
        "98b0c161435c4260a166e43d18e9d6a7": {
          "model_module": "@jupyter-widgets/controls",
          "model_name": "ProgressStyleModel",
          "model_module_version": "1.5.0",
          "state": {
            "_model_module": "@jupyter-widgets/controls",
            "_model_module_version": "1.5.0",
            "_model_name": "ProgressStyleModel",
            "_view_count": null,
            "_view_module": "@jupyter-widgets/base",
            "_view_module_version": "1.2.0",
            "_view_name": "StyleView",
            "bar_color": null,
            "description_width": ""
          }
        },
        "4044e87e78bb4c9c9c7d4df1b192fbee": {
          "model_module": "@jupyter-widgets/base",
          "model_name": "LayoutModel",
          "model_module_version": "1.2.0",
          "state": {
            "_model_module": "@jupyter-widgets/base",
            "_model_module_version": "1.2.0",
            "_model_name": "LayoutModel",
            "_view_count": null,
            "_view_module": "@jupyter-widgets/base",
            "_view_module_version": "1.2.0",
            "_view_name": "LayoutView",
            "align_content": null,
            "align_items": null,
            "align_self": null,
            "border": null,
            "bottom": null,
            "display": null,
            "flex": null,
            "flex_flow": null,
            "grid_area": null,
            "grid_auto_columns": null,
            "grid_auto_flow": null,
            "grid_auto_rows": null,
            "grid_column": null,
            "grid_gap": null,
            "grid_row": null,
            "grid_template_areas": null,
            "grid_template_columns": null,
            "grid_template_rows": null,
            "height": null,
            "justify_content": null,
            "justify_items": null,
            "left": null,
            "margin": null,
            "max_height": null,
            "max_width": null,
            "min_height": null,
            "min_width": null,
            "object_fit": null,
            "object_position": null,
            "order": null,
            "overflow": null,
            "overflow_x": null,
            "overflow_y": null,
            "padding": null,
            "right": null,
            "top": null,
            "visibility": null,
            "width": null
          }
        },
        "1ec73f6595e24e1c9233954f14dab0af": {
          "model_module": "@jupyter-widgets/controls",
          "model_name": "DescriptionStyleModel",
          "model_module_version": "1.5.0",
          "state": {
            "_model_module": "@jupyter-widgets/controls",
            "_model_module_version": "1.5.0",
            "_model_name": "DescriptionStyleModel",
            "_view_count": null,
            "_view_module": "@jupyter-widgets/base",
            "_view_module_version": "1.2.0",
            "_view_name": "StyleView",
            "description_width": ""
          }
        },
        "46f2dea7af0f44c19d2bb23beaa3b166": {
          "model_module": "@jupyter-widgets/controls",
          "model_name": "HBoxModel",
          "model_module_version": "1.5.0",
          "state": {
            "_dom_classes": [],
            "_model_module": "@jupyter-widgets/controls",
            "_model_module_version": "1.5.0",
            "_model_name": "HBoxModel",
            "_view_count": null,
            "_view_module": "@jupyter-widgets/controls",
            "_view_module_version": "1.5.0",
            "_view_name": "HBoxView",
            "box_style": "",
            "children": [
              "IPY_MODEL_b94a038237254eaf9fde06add2cf4852",
              "IPY_MODEL_2a7f0360848e4831b2f6e3cf0857627f",
              "IPY_MODEL_f16f1b66ee224cc1a55a928d2ffb984d"
            ],
            "layout": "IPY_MODEL_b93b5a2c86d440ebbebbb31481cd7acc"
          }
        },
        "b94a038237254eaf9fde06add2cf4852": {
          "model_module": "@jupyter-widgets/controls",
          "model_name": "HTMLModel",
          "model_module_version": "1.5.0",
          "state": {
            "_dom_classes": [],
            "_model_module": "@jupyter-widgets/controls",
            "_model_module_version": "1.5.0",
            "_model_name": "HTMLModel",
            "_view_count": null,
            "_view_module": "@jupyter-widgets/controls",
            "_view_module_version": "1.5.0",
            "_view_name": "HTMLView",
            "description": "",
            "description_tooltip": null,
            "layout": "IPY_MODEL_a3ba70c8a5a34ce5b5085eaac68719fc",
            "placeholder": "​",
            "style": "IPY_MODEL_ad466b5836d94022a437e70cd1c85fc2",
            "value": "config.json: 100%"
          }
        },
        "2a7f0360848e4831b2f6e3cf0857627f": {
          "model_module": "@jupyter-widgets/controls",
          "model_name": "FloatProgressModel",
          "model_module_version": "1.5.0",
          "state": {
            "_dom_classes": [],
            "_model_module": "@jupyter-widgets/controls",
            "_model_module_version": "1.5.0",
            "_model_name": "FloatProgressModel",
            "_view_count": null,
            "_view_module": "@jupyter-widgets/controls",
            "_view_module_version": "1.5.0",
            "_view_name": "ProgressView",
            "bar_style": "success",
            "description": "",
            "description_tooltip": null,
            "layout": "IPY_MODEL_c988e45a496d4e0f91c7e69edc2c1d6f",
            "max": 570,
            "min": 0,
            "orientation": "horizontal",
            "style": "IPY_MODEL_f9cb187950bb48bf893152af859f5c0a",
            "value": 570
          }
        },
        "f16f1b66ee224cc1a55a928d2ffb984d": {
          "model_module": "@jupyter-widgets/controls",
          "model_name": "HTMLModel",
          "model_module_version": "1.5.0",
          "state": {
            "_dom_classes": [],
            "_model_module": "@jupyter-widgets/controls",
            "_model_module_version": "1.5.0",
            "_model_name": "HTMLModel",
            "_view_count": null,
            "_view_module": "@jupyter-widgets/controls",
            "_view_module_version": "1.5.0",
            "_view_name": "HTMLView",
            "description": "",
            "description_tooltip": null,
            "layout": "IPY_MODEL_ca88c98295244d59b005f13219b7774b",
            "placeholder": "​",
            "style": "IPY_MODEL_88014141761a4370b822161206952bdf",
            "value": " 570/570 [00:00&lt;00:00, 59.3kB/s]"
          }
        },
        "b93b5a2c86d440ebbebbb31481cd7acc": {
          "model_module": "@jupyter-widgets/base",
          "model_name": "LayoutModel",
          "model_module_version": "1.2.0",
          "state": {
            "_model_module": "@jupyter-widgets/base",
            "_model_module_version": "1.2.0",
            "_model_name": "LayoutModel",
            "_view_count": null,
            "_view_module": "@jupyter-widgets/base",
            "_view_module_version": "1.2.0",
            "_view_name": "LayoutView",
            "align_content": null,
            "align_items": null,
            "align_self": null,
            "border": null,
            "bottom": null,
            "display": null,
            "flex": null,
            "flex_flow": null,
            "grid_area": null,
            "grid_auto_columns": null,
            "grid_auto_flow": null,
            "grid_auto_rows": null,
            "grid_column": null,
            "grid_gap": null,
            "grid_row": null,
            "grid_template_areas": null,
            "grid_template_columns": null,
            "grid_template_rows": null,
            "height": null,
            "justify_content": null,
            "justify_items": null,
            "left": null,
            "margin": null,
            "max_height": null,
            "max_width": null,
            "min_height": null,
            "min_width": null,
            "object_fit": null,
            "object_position": null,
            "order": null,
            "overflow": null,
            "overflow_x": null,
            "overflow_y": null,
            "padding": null,
            "right": null,
            "top": null,
            "visibility": null,
            "width": null
          }
        },
        "a3ba70c8a5a34ce5b5085eaac68719fc": {
          "model_module": "@jupyter-widgets/base",
          "model_name": "LayoutModel",
          "model_module_version": "1.2.0",
          "state": {
            "_model_module": "@jupyter-widgets/base",
            "_model_module_version": "1.2.0",
            "_model_name": "LayoutModel",
            "_view_count": null,
            "_view_module": "@jupyter-widgets/base",
            "_view_module_version": "1.2.0",
            "_view_name": "LayoutView",
            "align_content": null,
            "align_items": null,
            "align_self": null,
            "border": null,
            "bottom": null,
            "display": null,
            "flex": null,
            "flex_flow": null,
            "grid_area": null,
            "grid_auto_columns": null,
            "grid_auto_flow": null,
            "grid_auto_rows": null,
            "grid_column": null,
            "grid_gap": null,
            "grid_row": null,
            "grid_template_areas": null,
            "grid_template_columns": null,
            "grid_template_rows": null,
            "height": null,
            "justify_content": null,
            "justify_items": null,
            "left": null,
            "margin": null,
            "max_height": null,
            "max_width": null,
            "min_height": null,
            "min_width": null,
            "object_fit": null,
            "object_position": null,
            "order": null,
            "overflow": null,
            "overflow_x": null,
            "overflow_y": null,
            "padding": null,
            "right": null,
            "top": null,
            "visibility": null,
            "width": null
          }
        },
        "ad466b5836d94022a437e70cd1c85fc2": {
          "model_module": "@jupyter-widgets/controls",
          "model_name": "DescriptionStyleModel",
          "model_module_version": "1.5.0",
          "state": {
            "_model_module": "@jupyter-widgets/controls",
            "_model_module_version": "1.5.0",
            "_model_name": "DescriptionStyleModel",
            "_view_count": null,
            "_view_module": "@jupyter-widgets/base",
            "_view_module_version": "1.2.0",
            "_view_name": "StyleView",
            "description_width": ""
          }
        },
        "c988e45a496d4e0f91c7e69edc2c1d6f": {
          "model_module": "@jupyter-widgets/base",
          "model_name": "LayoutModel",
          "model_module_version": "1.2.0",
          "state": {
            "_model_module": "@jupyter-widgets/base",
            "_model_module_version": "1.2.0",
            "_model_name": "LayoutModel",
            "_view_count": null,
            "_view_module": "@jupyter-widgets/base",
            "_view_module_version": "1.2.0",
            "_view_name": "LayoutView",
            "align_content": null,
            "align_items": null,
            "align_self": null,
            "border": null,
            "bottom": null,
            "display": null,
            "flex": null,
            "flex_flow": null,
            "grid_area": null,
            "grid_auto_columns": null,
            "grid_auto_flow": null,
            "grid_auto_rows": null,
            "grid_column": null,
            "grid_gap": null,
            "grid_row": null,
            "grid_template_areas": null,
            "grid_template_columns": null,
            "grid_template_rows": null,
            "height": null,
            "justify_content": null,
            "justify_items": null,
            "left": null,
            "margin": null,
            "max_height": null,
            "max_width": null,
            "min_height": null,
            "min_width": null,
            "object_fit": null,
            "object_position": null,
            "order": null,
            "overflow": null,
            "overflow_x": null,
            "overflow_y": null,
            "padding": null,
            "right": null,
            "top": null,
            "visibility": null,
            "width": null
          }
        },
        "f9cb187950bb48bf893152af859f5c0a": {
          "model_module": "@jupyter-widgets/controls",
          "model_name": "ProgressStyleModel",
          "model_module_version": "1.5.0",
          "state": {
            "_model_module": "@jupyter-widgets/controls",
            "_model_module_version": "1.5.0",
            "_model_name": "ProgressStyleModel",
            "_view_count": null,
            "_view_module": "@jupyter-widgets/base",
            "_view_module_version": "1.2.0",
            "_view_name": "StyleView",
            "bar_color": null,
            "description_width": ""
          }
        },
        "ca88c98295244d59b005f13219b7774b": {
          "model_module": "@jupyter-widgets/base",
          "model_name": "LayoutModel",
          "model_module_version": "1.2.0",
          "state": {
            "_model_module": "@jupyter-widgets/base",
            "_model_module_version": "1.2.0",
            "_model_name": "LayoutModel",
            "_view_count": null,
            "_view_module": "@jupyter-widgets/base",
            "_view_module_version": "1.2.0",
            "_view_name": "LayoutView",
            "align_content": null,
            "align_items": null,
            "align_self": null,
            "border": null,
            "bottom": null,
            "display": null,
            "flex": null,
            "flex_flow": null,
            "grid_area": null,
            "grid_auto_columns": null,
            "grid_auto_flow": null,
            "grid_auto_rows": null,
            "grid_column": null,
            "grid_gap": null,
            "grid_row": null,
            "grid_template_areas": null,
            "grid_template_columns": null,
            "grid_template_rows": null,
            "height": null,
            "justify_content": null,
            "justify_items": null,
            "left": null,
            "margin": null,
            "max_height": null,
            "max_width": null,
            "min_height": null,
            "min_width": null,
            "object_fit": null,
            "object_position": null,
            "order": null,
            "overflow": null,
            "overflow_x": null,
            "overflow_y": null,
            "padding": null,
            "right": null,
            "top": null,
            "visibility": null,
            "width": null
          }
        },
        "88014141761a4370b822161206952bdf": {
          "model_module": "@jupyter-widgets/controls",
          "model_name": "DescriptionStyleModel",
          "model_module_version": "1.5.0",
          "state": {
            "_model_module": "@jupyter-widgets/controls",
            "_model_module_version": "1.5.0",
            "_model_name": "DescriptionStyleModel",
            "_view_count": null,
            "_view_module": "@jupyter-widgets/base",
            "_view_module_version": "1.2.0",
            "_view_name": "StyleView",
            "description_width": ""
          }
        },
        "269872fef58447cb92101c6f347bc211": {
          "model_module": "@jupyter-widgets/controls",
          "model_name": "HBoxModel",
          "model_module_version": "1.5.0",
          "state": {
            "_dom_classes": [],
            "_model_module": "@jupyter-widgets/controls",
            "_model_module_version": "1.5.0",
            "_model_name": "HBoxModel",
            "_view_count": null,
            "_view_module": "@jupyter-widgets/controls",
            "_view_module_version": "1.5.0",
            "_view_name": "HBoxView",
            "box_style": "",
            "children": [
              "IPY_MODEL_0e65ddeaa88c48a2bdb2532de5ba7ae1",
              "IPY_MODEL_4249dade2c184613852834783da7c726",
              "IPY_MODEL_339e7b89192a43f9ae55097bbfc10744"
            ],
            "layout": "IPY_MODEL_6998cdca591548ada30c05ee1d561d4c"
          }
        },
        "0e65ddeaa88c48a2bdb2532de5ba7ae1": {
          "model_module": "@jupyter-widgets/controls",
          "model_name": "HTMLModel",
          "model_module_version": "1.5.0",
          "state": {
            "_dom_classes": [],
            "_model_module": "@jupyter-widgets/controls",
            "_model_module_version": "1.5.0",
            "_model_name": "HTMLModel",
            "_view_count": null,
            "_view_module": "@jupyter-widgets/controls",
            "_view_module_version": "1.5.0",
            "_view_name": "HTMLView",
            "description": "",
            "description_tooltip": null,
            "layout": "IPY_MODEL_8ac8d3c16cef4b31b75617530e423818",
            "placeholder": "​",
            "style": "IPY_MODEL_c6bf78cfc27f46239aef902c529194d8",
            "value": "vocab.txt: 100%"
          }
        },
        "4249dade2c184613852834783da7c726": {
          "model_module": "@jupyter-widgets/controls",
          "model_name": "FloatProgressModel",
          "model_module_version": "1.5.0",
          "state": {
            "_dom_classes": [],
            "_model_module": "@jupyter-widgets/controls",
            "_model_module_version": "1.5.0",
            "_model_name": "FloatProgressModel",
            "_view_count": null,
            "_view_module": "@jupyter-widgets/controls",
            "_view_module_version": "1.5.0",
            "_view_name": "ProgressView",
            "bar_style": "success",
            "description": "",
            "description_tooltip": null,
            "layout": "IPY_MODEL_ce68f1f3b9b54f8baafac2c0825cc330",
            "max": 231508,
            "min": 0,
            "orientation": "horizontal",
            "style": "IPY_MODEL_0b48a3d8c89441f28f5e199cddfbf23c",
            "value": 231508
          }
        },
        "339e7b89192a43f9ae55097bbfc10744": {
          "model_module": "@jupyter-widgets/controls",
          "model_name": "HTMLModel",
          "model_module_version": "1.5.0",
          "state": {
            "_dom_classes": [],
            "_model_module": "@jupyter-widgets/controls",
            "_model_module_version": "1.5.0",
            "_model_name": "HTMLModel",
            "_view_count": null,
            "_view_module": "@jupyter-widgets/controls",
            "_view_module_version": "1.5.0",
            "_view_name": "HTMLView",
            "description": "",
            "description_tooltip": null,
            "layout": "IPY_MODEL_a7dd1b317c3e4cbc9dfc05ff0b7fd30f",
            "placeholder": "​",
            "style": "IPY_MODEL_5725ce4c3be448b4b7a5382c4df581b7",
            "value": " 232k/232k [00:00&lt;00:00, 3.29MB/s]"
          }
        },
        "6998cdca591548ada30c05ee1d561d4c": {
          "model_module": "@jupyter-widgets/base",
          "model_name": "LayoutModel",
          "model_module_version": "1.2.0",
          "state": {
            "_model_module": "@jupyter-widgets/base",
            "_model_module_version": "1.2.0",
            "_model_name": "LayoutModel",
            "_view_count": null,
            "_view_module": "@jupyter-widgets/base",
            "_view_module_version": "1.2.0",
            "_view_name": "LayoutView",
            "align_content": null,
            "align_items": null,
            "align_self": null,
            "border": null,
            "bottom": null,
            "display": null,
            "flex": null,
            "flex_flow": null,
            "grid_area": null,
            "grid_auto_columns": null,
            "grid_auto_flow": null,
            "grid_auto_rows": null,
            "grid_column": null,
            "grid_gap": null,
            "grid_row": null,
            "grid_template_areas": null,
            "grid_template_columns": null,
            "grid_template_rows": null,
            "height": null,
            "justify_content": null,
            "justify_items": null,
            "left": null,
            "margin": null,
            "max_height": null,
            "max_width": null,
            "min_height": null,
            "min_width": null,
            "object_fit": null,
            "object_position": null,
            "order": null,
            "overflow": null,
            "overflow_x": null,
            "overflow_y": null,
            "padding": null,
            "right": null,
            "top": null,
            "visibility": null,
            "width": null
          }
        },
        "8ac8d3c16cef4b31b75617530e423818": {
          "model_module": "@jupyter-widgets/base",
          "model_name": "LayoutModel",
          "model_module_version": "1.2.0",
          "state": {
            "_model_module": "@jupyter-widgets/base",
            "_model_module_version": "1.2.0",
            "_model_name": "LayoutModel",
            "_view_count": null,
            "_view_module": "@jupyter-widgets/base",
            "_view_module_version": "1.2.0",
            "_view_name": "LayoutView",
            "align_content": null,
            "align_items": null,
            "align_self": null,
            "border": null,
            "bottom": null,
            "display": null,
            "flex": null,
            "flex_flow": null,
            "grid_area": null,
            "grid_auto_columns": null,
            "grid_auto_flow": null,
            "grid_auto_rows": null,
            "grid_column": null,
            "grid_gap": null,
            "grid_row": null,
            "grid_template_areas": null,
            "grid_template_columns": null,
            "grid_template_rows": null,
            "height": null,
            "justify_content": null,
            "justify_items": null,
            "left": null,
            "margin": null,
            "max_height": null,
            "max_width": null,
            "min_height": null,
            "min_width": null,
            "object_fit": null,
            "object_position": null,
            "order": null,
            "overflow": null,
            "overflow_x": null,
            "overflow_y": null,
            "padding": null,
            "right": null,
            "top": null,
            "visibility": null,
            "width": null
          }
        },
        "c6bf78cfc27f46239aef902c529194d8": {
          "model_module": "@jupyter-widgets/controls",
          "model_name": "DescriptionStyleModel",
          "model_module_version": "1.5.0",
          "state": {
            "_model_module": "@jupyter-widgets/controls",
            "_model_module_version": "1.5.0",
            "_model_name": "DescriptionStyleModel",
            "_view_count": null,
            "_view_module": "@jupyter-widgets/base",
            "_view_module_version": "1.2.0",
            "_view_name": "StyleView",
            "description_width": ""
          }
        },
        "ce68f1f3b9b54f8baafac2c0825cc330": {
          "model_module": "@jupyter-widgets/base",
          "model_name": "LayoutModel",
          "model_module_version": "1.2.0",
          "state": {
            "_model_module": "@jupyter-widgets/base",
            "_model_module_version": "1.2.0",
            "_model_name": "LayoutModel",
            "_view_count": null,
            "_view_module": "@jupyter-widgets/base",
            "_view_module_version": "1.2.0",
            "_view_name": "LayoutView",
            "align_content": null,
            "align_items": null,
            "align_self": null,
            "border": null,
            "bottom": null,
            "display": null,
            "flex": null,
            "flex_flow": null,
            "grid_area": null,
            "grid_auto_columns": null,
            "grid_auto_flow": null,
            "grid_auto_rows": null,
            "grid_column": null,
            "grid_gap": null,
            "grid_row": null,
            "grid_template_areas": null,
            "grid_template_columns": null,
            "grid_template_rows": null,
            "height": null,
            "justify_content": null,
            "justify_items": null,
            "left": null,
            "margin": null,
            "max_height": null,
            "max_width": null,
            "min_height": null,
            "min_width": null,
            "object_fit": null,
            "object_position": null,
            "order": null,
            "overflow": null,
            "overflow_x": null,
            "overflow_y": null,
            "padding": null,
            "right": null,
            "top": null,
            "visibility": null,
            "width": null
          }
        },
        "0b48a3d8c89441f28f5e199cddfbf23c": {
          "model_module": "@jupyter-widgets/controls",
          "model_name": "ProgressStyleModel",
          "model_module_version": "1.5.0",
          "state": {
            "_model_module": "@jupyter-widgets/controls",
            "_model_module_version": "1.5.0",
            "_model_name": "ProgressStyleModel",
            "_view_count": null,
            "_view_module": "@jupyter-widgets/base",
            "_view_module_version": "1.2.0",
            "_view_name": "StyleView",
            "bar_color": null,
            "description_width": ""
          }
        },
        "a7dd1b317c3e4cbc9dfc05ff0b7fd30f": {
          "model_module": "@jupyter-widgets/base",
          "model_name": "LayoutModel",
          "model_module_version": "1.2.0",
          "state": {
            "_model_module": "@jupyter-widgets/base",
            "_model_module_version": "1.2.0",
            "_model_name": "LayoutModel",
            "_view_count": null,
            "_view_module": "@jupyter-widgets/base",
            "_view_module_version": "1.2.0",
            "_view_name": "LayoutView",
            "align_content": null,
            "align_items": null,
            "align_self": null,
            "border": null,
            "bottom": null,
            "display": null,
            "flex": null,
            "flex_flow": null,
            "grid_area": null,
            "grid_auto_columns": null,
            "grid_auto_flow": null,
            "grid_auto_rows": null,
            "grid_column": null,
            "grid_gap": null,
            "grid_row": null,
            "grid_template_areas": null,
            "grid_template_columns": null,
            "grid_template_rows": null,
            "height": null,
            "justify_content": null,
            "justify_items": null,
            "left": null,
            "margin": null,
            "max_height": null,
            "max_width": null,
            "min_height": null,
            "min_width": null,
            "object_fit": null,
            "object_position": null,
            "order": null,
            "overflow": null,
            "overflow_x": null,
            "overflow_y": null,
            "padding": null,
            "right": null,
            "top": null,
            "visibility": null,
            "width": null
          }
        },
        "5725ce4c3be448b4b7a5382c4df581b7": {
          "model_module": "@jupyter-widgets/controls",
          "model_name": "DescriptionStyleModel",
          "model_module_version": "1.5.0",
          "state": {
            "_model_module": "@jupyter-widgets/controls",
            "_model_module_version": "1.5.0",
            "_model_name": "DescriptionStyleModel",
            "_view_count": null,
            "_view_module": "@jupyter-widgets/base",
            "_view_module_version": "1.2.0",
            "_view_name": "StyleView",
            "description_width": ""
          }
        },
        "7987b0b56d5a4e91b77c0262b68b23f1": {
          "model_module": "@jupyter-widgets/controls",
          "model_name": "HBoxModel",
          "model_module_version": "1.5.0",
          "state": {
            "_dom_classes": [],
            "_model_module": "@jupyter-widgets/controls",
            "_model_module_version": "1.5.0",
            "_model_name": "HBoxModel",
            "_view_count": null,
            "_view_module": "@jupyter-widgets/controls",
            "_view_module_version": "1.5.0",
            "_view_name": "HBoxView",
            "box_style": "",
            "children": [
              "IPY_MODEL_786ad76f7c7e4adfb55500fc18e1e7b9",
              "IPY_MODEL_67ab4486d4a144d890db2793c67d41e1",
              "IPY_MODEL_2fd10fd418c64ee18cf863a86e5310f0"
            ],
            "layout": "IPY_MODEL_ff6aca56e8ec4b628b235f02a3686552"
          }
        },
        "786ad76f7c7e4adfb55500fc18e1e7b9": {
          "model_module": "@jupyter-widgets/controls",
          "model_name": "HTMLModel",
          "model_module_version": "1.5.0",
          "state": {
            "_dom_classes": [],
            "_model_module": "@jupyter-widgets/controls",
            "_model_module_version": "1.5.0",
            "_model_name": "HTMLModel",
            "_view_count": null,
            "_view_module": "@jupyter-widgets/controls",
            "_view_module_version": "1.5.0",
            "_view_name": "HTMLView",
            "description": "",
            "description_tooltip": null,
            "layout": "IPY_MODEL_dbf53f880b31415dad28e8b5052eda36",
            "placeholder": "​",
            "style": "IPY_MODEL_982768e2b7a2439da13d9032ef1176a8",
            "value": "tokenizer.json: 100%"
          }
        },
        "67ab4486d4a144d890db2793c67d41e1": {
          "model_module": "@jupyter-widgets/controls",
          "model_name": "FloatProgressModel",
          "model_module_version": "1.5.0",
          "state": {
            "_dom_classes": [],
            "_model_module": "@jupyter-widgets/controls",
            "_model_module_version": "1.5.0",
            "_model_name": "FloatProgressModel",
            "_view_count": null,
            "_view_module": "@jupyter-widgets/controls",
            "_view_module_version": "1.5.0",
            "_view_name": "ProgressView",
            "bar_style": "success",
            "description": "",
            "description_tooltip": null,
            "layout": "IPY_MODEL_a06ea1075445417fa88d778b5de57fd6",
            "max": 466062,
            "min": 0,
            "orientation": "horizontal",
            "style": "IPY_MODEL_9aea9b2af971408cb531e8c8912e534c",
            "value": 466062
          }
        },
        "2fd10fd418c64ee18cf863a86e5310f0": {
          "model_module": "@jupyter-widgets/controls",
          "model_name": "HTMLModel",
          "model_module_version": "1.5.0",
          "state": {
            "_dom_classes": [],
            "_model_module": "@jupyter-widgets/controls",
            "_model_module_version": "1.5.0",
            "_model_name": "HTMLModel",
            "_view_count": null,
            "_view_module": "@jupyter-widgets/controls",
            "_view_module_version": "1.5.0",
            "_view_name": "HTMLView",
            "description": "",
            "description_tooltip": null,
            "layout": "IPY_MODEL_dbc800a12bc24b138fd01535886f8091",
            "placeholder": "​",
            "style": "IPY_MODEL_490efccd8ab64097b8fb37b160ca4ac2",
            "value": " 466k/466k [00:00&lt;00:00, 5.95MB/s]"
          }
        },
        "ff6aca56e8ec4b628b235f02a3686552": {
          "model_module": "@jupyter-widgets/base",
          "model_name": "LayoutModel",
          "model_module_version": "1.2.0",
          "state": {
            "_model_module": "@jupyter-widgets/base",
            "_model_module_version": "1.2.0",
            "_model_name": "LayoutModel",
            "_view_count": null,
            "_view_module": "@jupyter-widgets/base",
            "_view_module_version": "1.2.0",
            "_view_name": "LayoutView",
            "align_content": null,
            "align_items": null,
            "align_self": null,
            "border": null,
            "bottom": null,
            "display": null,
            "flex": null,
            "flex_flow": null,
            "grid_area": null,
            "grid_auto_columns": null,
            "grid_auto_flow": null,
            "grid_auto_rows": null,
            "grid_column": null,
            "grid_gap": null,
            "grid_row": null,
            "grid_template_areas": null,
            "grid_template_columns": null,
            "grid_template_rows": null,
            "height": null,
            "justify_content": null,
            "justify_items": null,
            "left": null,
            "margin": null,
            "max_height": null,
            "max_width": null,
            "min_height": null,
            "min_width": null,
            "object_fit": null,
            "object_position": null,
            "order": null,
            "overflow": null,
            "overflow_x": null,
            "overflow_y": null,
            "padding": null,
            "right": null,
            "top": null,
            "visibility": null,
            "width": null
          }
        },
        "dbf53f880b31415dad28e8b5052eda36": {
          "model_module": "@jupyter-widgets/base",
          "model_name": "LayoutModel",
          "model_module_version": "1.2.0",
          "state": {
            "_model_module": "@jupyter-widgets/base",
            "_model_module_version": "1.2.0",
            "_model_name": "LayoutModel",
            "_view_count": null,
            "_view_module": "@jupyter-widgets/base",
            "_view_module_version": "1.2.0",
            "_view_name": "LayoutView",
            "align_content": null,
            "align_items": null,
            "align_self": null,
            "border": null,
            "bottom": null,
            "display": null,
            "flex": null,
            "flex_flow": null,
            "grid_area": null,
            "grid_auto_columns": null,
            "grid_auto_flow": null,
            "grid_auto_rows": null,
            "grid_column": null,
            "grid_gap": null,
            "grid_row": null,
            "grid_template_areas": null,
            "grid_template_columns": null,
            "grid_template_rows": null,
            "height": null,
            "justify_content": null,
            "justify_items": null,
            "left": null,
            "margin": null,
            "max_height": null,
            "max_width": null,
            "min_height": null,
            "min_width": null,
            "object_fit": null,
            "object_position": null,
            "order": null,
            "overflow": null,
            "overflow_x": null,
            "overflow_y": null,
            "padding": null,
            "right": null,
            "top": null,
            "visibility": null,
            "width": null
          }
        },
        "982768e2b7a2439da13d9032ef1176a8": {
          "model_module": "@jupyter-widgets/controls",
          "model_name": "DescriptionStyleModel",
          "model_module_version": "1.5.0",
          "state": {
            "_model_module": "@jupyter-widgets/controls",
            "_model_module_version": "1.5.0",
            "_model_name": "DescriptionStyleModel",
            "_view_count": null,
            "_view_module": "@jupyter-widgets/base",
            "_view_module_version": "1.2.0",
            "_view_name": "StyleView",
            "description_width": ""
          }
        },
        "a06ea1075445417fa88d778b5de57fd6": {
          "model_module": "@jupyter-widgets/base",
          "model_name": "LayoutModel",
          "model_module_version": "1.2.0",
          "state": {
            "_model_module": "@jupyter-widgets/base",
            "_model_module_version": "1.2.0",
            "_model_name": "LayoutModel",
            "_view_count": null,
            "_view_module": "@jupyter-widgets/base",
            "_view_module_version": "1.2.0",
            "_view_name": "LayoutView",
            "align_content": null,
            "align_items": null,
            "align_self": null,
            "border": null,
            "bottom": null,
            "display": null,
            "flex": null,
            "flex_flow": null,
            "grid_area": null,
            "grid_auto_columns": null,
            "grid_auto_flow": null,
            "grid_auto_rows": null,
            "grid_column": null,
            "grid_gap": null,
            "grid_row": null,
            "grid_template_areas": null,
            "grid_template_columns": null,
            "grid_template_rows": null,
            "height": null,
            "justify_content": null,
            "justify_items": null,
            "left": null,
            "margin": null,
            "max_height": null,
            "max_width": null,
            "min_height": null,
            "min_width": null,
            "object_fit": null,
            "object_position": null,
            "order": null,
            "overflow": null,
            "overflow_x": null,
            "overflow_y": null,
            "padding": null,
            "right": null,
            "top": null,
            "visibility": null,
            "width": null
          }
        },
        "9aea9b2af971408cb531e8c8912e534c": {
          "model_module": "@jupyter-widgets/controls",
          "model_name": "ProgressStyleModel",
          "model_module_version": "1.5.0",
          "state": {
            "_model_module": "@jupyter-widgets/controls",
            "_model_module_version": "1.5.0",
            "_model_name": "ProgressStyleModel",
            "_view_count": null,
            "_view_module": "@jupyter-widgets/base",
            "_view_module_version": "1.2.0",
            "_view_name": "StyleView",
            "bar_color": null,
            "description_width": ""
          }
        },
        "dbc800a12bc24b138fd01535886f8091": {
          "model_module": "@jupyter-widgets/base",
          "model_name": "LayoutModel",
          "model_module_version": "1.2.0",
          "state": {
            "_model_module": "@jupyter-widgets/base",
            "_model_module_version": "1.2.0",
            "_model_name": "LayoutModel",
            "_view_count": null,
            "_view_module": "@jupyter-widgets/base",
            "_view_module_version": "1.2.0",
            "_view_name": "LayoutView",
            "align_content": null,
            "align_items": null,
            "align_self": null,
            "border": null,
            "bottom": null,
            "display": null,
            "flex": null,
            "flex_flow": null,
            "grid_area": null,
            "grid_auto_columns": null,
            "grid_auto_flow": null,
            "grid_auto_rows": null,
            "grid_column": null,
            "grid_gap": null,
            "grid_row": null,
            "grid_template_areas": null,
            "grid_template_columns": null,
            "grid_template_rows": null,
            "height": null,
            "justify_content": null,
            "justify_items": null,
            "left": null,
            "margin": null,
            "max_height": null,
            "max_width": null,
            "min_height": null,
            "min_width": null,
            "object_fit": null,
            "object_position": null,
            "order": null,
            "overflow": null,
            "overflow_x": null,
            "overflow_y": null,
            "padding": null,
            "right": null,
            "top": null,
            "visibility": null,
            "width": null
          }
        },
        "490efccd8ab64097b8fb37b160ca4ac2": {
          "model_module": "@jupyter-widgets/controls",
          "model_name": "DescriptionStyleModel",
          "model_module_version": "1.5.0",
          "state": {
            "_model_module": "@jupyter-widgets/controls",
            "_model_module_version": "1.5.0",
            "_model_name": "DescriptionStyleModel",
            "_view_count": null,
            "_view_module": "@jupyter-widgets/base",
            "_view_module_version": "1.2.0",
            "_view_name": "StyleView",
            "description_width": ""
          }
        }
      }
    }
  },
  "cells": [
    {
      "cell_type": "code",
      "source": [
        "import os\n",
        "import re\n",
        "\n",
        "import numpy as np\n",
        "import pandas as pd\n",
        "import matplotlib.pyplot as plt\n",
        "import seaborn as sns\n",
        "import nltk\n",
        "import torch\n",
        "import torch.nn as nn\n",
        "import torch.nn.functional as F"
      ],
      "metadata": {
        "id": "iEV8CDeLlgYe"
      },
      "execution_count": 1,
      "outputs": []
    },
    {
      "cell_type": "code",
      "source": [
        "from google.colab import drive\n",
        "\n",
        "drive.mount('/content/drive/')"
      ],
      "metadata": {
        "colab": {
          "base_uri": "https://localhost:8080/"
        },
        "id": "ma_lCWZyu5s2",
        "outputId": "36dc81d7-fc44-4ae9-df4f-623cb7054c1a"
      },
      "execution_count": 2,
      "outputs": [
        {
          "output_type": "stream",
          "name": "stdout",
          "text": [
            "Mounted at /content/drive/\n"
          ]
        }
      ]
    },
    {
      "cell_type": "markdown",
      "metadata": {
        "id": "df507cf8"
      },
      "source": [
        "## Dataset"
      ]
    },
    {
      "cell_type": "markdown",
      "metadata": {
        "id": "bb85259d"
      },
      "source": [
        "I've chosen [BBC news dataset](https://www.kaggle.com/datasets/pariza/bbc-news-summary). I selected the sports, tech, and business categories, which together comprise 1422 news articles.\n",
        "\n",
        "Description of the dataset: This dataset was created using a dataset used for data categorization that onsists of 2225 documents from the BBC news website corresponding to stories in five topical areas from 2004-2005 used in the paper of D. Greene and P. Cunningham. \"Practical Solutions to the Problem of Diagonal Dominance in Kernel Document Clustering\", Proc. ICML 2006; whose all rights, including copyright, in the content of the original articles are owned by the BBC."
      ]
    },
    {
      "cell_type": "markdown",
      "metadata": {
        "id": "7af3af4e"
      },
      "source": [
        "Creating dataframe based on txt files"
      ]
    },
    {
      "cell_type": "code",
      "execution_count": 3,
      "metadata": {
        "id": "3d80fe8a"
      },
      "outputs": [],
      "source": [
        "def create_df_from_folder(folder, suffix):\n",
        "    records = []\n",
        "\n",
        "    for fname in os.listdir(folder):\n",
        "        full_path = os.path.join(folder, fname)\n",
        "\n",
        "        if not fname.lower().endswith('.txt'):\n",
        "            continue\n",
        "\n",
        "        with open(full_path, 'r', errors='ignore') as f:\n",
        "            content = f.read()\n",
        "\n",
        "        name, ext = os.path.splitext(fname)\n",
        "        records.append({'file_name': f\"{name}_{suffix}{ext}\",\n",
        "                        'text': content,\n",
        "                        })\n",
        "\n",
        "    news_df = pd.DataFrame(records)\n",
        "    return news_df"
      ]
    },
    {
      "cell_type": "code",
      "execution_count": 4,
      "metadata": {
        "id": "87455030"
      },
      "outputs": [],
      "source": [
        "# sport category\n",
        "\n",
        "sport_news_folder = r'/content/drive/MyDrive/documents/вшэ/10сем/nlp/homeworks/hw_2/bbc_news/BBC News Summary/News Articles/sport/'\n",
        "\n",
        "sports_df = create_df_from_folder(sport_news_folder, 'sport')"
      ]
    },
    {
      "cell_type": "code",
      "execution_count": 5,
      "metadata": {
        "id": "b41793d5"
      },
      "outputs": [],
      "source": [
        "# tech category\n",
        "\n",
        "tech_news_folder = r'/content/drive/MyDrive/documents/вшэ/10сем/nlp/homeworks/hw_2/bbc_news/BBC News Summary/News Articles/tech/'\n",
        "\n",
        "tech_df = create_df_from_folder(tech_news_folder, 'tech')"
      ]
    },
    {
      "cell_type": "code",
      "execution_count": 6,
      "metadata": {
        "id": "4754865f"
      },
      "outputs": [],
      "source": [
        "# business category\n",
        "\n",
        "business_path = r'/content/drive/MyDrive/documents/вшэ/10сем/nlp/homeworks/hw_2/bbc_news/BBC News Summary/News Articles/business/'\n",
        "\n",
        "business_df = create_df_from_folder(business_path, 'business')"
      ]
    },
    {
      "cell_type": "code",
      "execution_count": 7,
      "metadata": {
        "id": "e87dbb49"
      },
      "outputs": [],
      "source": [
        "# combining three news categories\n",
        "\n",
        "news_df = pd.concat([sports_df,\n",
        "                     tech_df,\n",
        "                     business_df,], axis=0)"
      ]
    },
    {
      "cell_type": "code",
      "execution_count": 8,
      "metadata": {
        "colab": {
          "base_uri": "https://localhost:8080/",
          "height": 423
        },
        "id": "a11981bc",
        "outputId": "ee2c1fcb-95a6-4d80-f6cf-b3cd3b7f2150"
      },
      "outputs": [
        {
          "output_type": "execute_result",
          "data": {
            "text/plain": [
              "            file_name                                               text\n",
              "0       267_sport.txt  Robertson out to retain Euro lure\\n\\nHearts ma...\n",
              "1       486_sport.txt  Hewitt fights back to reach final\\n\\nLleyton H...\n",
              "2       396_sport.txt  Wales silent on Grand Slam talk\\n\\nRhys Willia...\n",
              "3       251_sport.txt  Bates seals takeover\\n\\nKen Bates has complete...\n",
              "4       270_sport.txt  Strachan turns down Pompey\\n\\nFormer Southampt...\n",
              "..                ...                                                ...\n",
              "505  428_business.txt  Karachi stocks hit historic high\\n\\nThe Karach...\n",
              "506  481_business.txt  Christmas sales worst since 1981\\n\\nUK retail ...\n",
              "507  499_business.txt  China Aviation seeks rescue deal\\n\\nScandal-hi...\n",
              "508  408_business.txt  South African car demand surges\\n\\nCar manufac...\n",
              "509  501_business.txt  Water firm Suez in Argentina row\\n\\nA conflict...\n",
              "\n",
              "[1422 rows x 2 columns]"
            ],
            "text/html": [
              "\n",
              "  <div id=\"df-5974185e-2264-4af9-a5b5-7774c1e813bf\" class=\"colab-df-container\">\n",
              "    <div>\n",
              "<style scoped>\n",
              "    .dataframe tbody tr th:only-of-type {\n",
              "        vertical-align: middle;\n",
              "    }\n",
              "\n",
              "    .dataframe tbody tr th {\n",
              "        vertical-align: top;\n",
              "    }\n",
              "\n",
              "    .dataframe thead th {\n",
              "        text-align: right;\n",
              "    }\n",
              "</style>\n",
              "<table border=\"1\" class=\"dataframe\">\n",
              "  <thead>\n",
              "    <tr style=\"text-align: right;\">\n",
              "      <th></th>\n",
              "      <th>file_name</th>\n",
              "      <th>text</th>\n",
              "    </tr>\n",
              "  </thead>\n",
              "  <tbody>\n",
              "    <tr>\n",
              "      <th>0</th>\n",
              "      <td>267_sport.txt</td>\n",
              "      <td>Robertson out to retain Euro lure\\n\\nHearts ma...</td>\n",
              "    </tr>\n",
              "    <tr>\n",
              "      <th>1</th>\n",
              "      <td>486_sport.txt</td>\n",
              "      <td>Hewitt fights back to reach final\\n\\nLleyton H...</td>\n",
              "    </tr>\n",
              "    <tr>\n",
              "      <th>2</th>\n",
              "      <td>396_sport.txt</td>\n",
              "      <td>Wales silent on Grand Slam talk\\n\\nRhys Willia...</td>\n",
              "    </tr>\n",
              "    <tr>\n",
              "      <th>3</th>\n",
              "      <td>251_sport.txt</td>\n",
              "      <td>Bates seals takeover\\n\\nKen Bates has complete...</td>\n",
              "    </tr>\n",
              "    <tr>\n",
              "      <th>4</th>\n",
              "      <td>270_sport.txt</td>\n",
              "      <td>Strachan turns down Pompey\\n\\nFormer Southampt...</td>\n",
              "    </tr>\n",
              "    <tr>\n",
              "      <th>...</th>\n",
              "      <td>...</td>\n",
              "      <td>...</td>\n",
              "    </tr>\n",
              "    <tr>\n",
              "      <th>505</th>\n",
              "      <td>428_business.txt</td>\n",
              "      <td>Karachi stocks hit historic high\\n\\nThe Karach...</td>\n",
              "    </tr>\n",
              "    <tr>\n",
              "      <th>506</th>\n",
              "      <td>481_business.txt</td>\n",
              "      <td>Christmas sales worst since 1981\\n\\nUK retail ...</td>\n",
              "    </tr>\n",
              "    <tr>\n",
              "      <th>507</th>\n",
              "      <td>499_business.txt</td>\n",
              "      <td>China Aviation seeks rescue deal\\n\\nScandal-hi...</td>\n",
              "    </tr>\n",
              "    <tr>\n",
              "      <th>508</th>\n",
              "      <td>408_business.txt</td>\n",
              "      <td>South African car demand surges\\n\\nCar manufac...</td>\n",
              "    </tr>\n",
              "    <tr>\n",
              "      <th>509</th>\n",
              "      <td>501_business.txt</td>\n",
              "      <td>Water firm Suez in Argentina row\\n\\nA conflict...</td>\n",
              "    </tr>\n",
              "  </tbody>\n",
              "</table>\n",
              "<p>1422 rows × 2 columns</p>\n",
              "</div>\n",
              "    <div class=\"colab-df-buttons\">\n",
              "\n",
              "  <div class=\"colab-df-container\">\n",
              "    <button class=\"colab-df-convert\" onclick=\"convertToInteractive('df-5974185e-2264-4af9-a5b5-7774c1e813bf')\"\n",
              "            title=\"Convert this dataframe to an interactive table.\"\n",
              "            style=\"display:none;\">\n",
              "\n",
              "  <svg xmlns=\"http://www.w3.org/2000/svg\" height=\"24px\" viewBox=\"0 -960 960 960\">\n",
              "    <path d=\"M120-120v-720h720v720H120Zm60-500h600v-160H180v160Zm220 220h160v-160H400v160Zm0 220h160v-160H400v160ZM180-400h160v-160H180v160Zm440 0h160v-160H620v160ZM180-180h160v-160H180v160Zm440 0h160v-160H620v160Z\"/>\n",
              "  </svg>\n",
              "    </button>\n",
              "\n",
              "  <style>\n",
              "    .colab-df-container {\n",
              "      display:flex;\n",
              "      gap: 12px;\n",
              "    }\n",
              "\n",
              "    .colab-df-convert {\n",
              "      background-color: #E8F0FE;\n",
              "      border: none;\n",
              "      border-radius: 50%;\n",
              "      cursor: pointer;\n",
              "      display: none;\n",
              "      fill: #1967D2;\n",
              "      height: 32px;\n",
              "      padding: 0 0 0 0;\n",
              "      width: 32px;\n",
              "    }\n",
              "\n",
              "    .colab-df-convert:hover {\n",
              "      background-color: #E2EBFA;\n",
              "      box-shadow: 0px 1px 2px rgba(60, 64, 67, 0.3), 0px 1px 3px 1px rgba(60, 64, 67, 0.15);\n",
              "      fill: #174EA6;\n",
              "    }\n",
              "\n",
              "    .colab-df-buttons div {\n",
              "      margin-bottom: 4px;\n",
              "    }\n",
              "\n",
              "    [theme=dark] .colab-df-convert {\n",
              "      background-color: #3B4455;\n",
              "      fill: #D2E3FC;\n",
              "    }\n",
              "\n",
              "    [theme=dark] .colab-df-convert:hover {\n",
              "      background-color: #434B5C;\n",
              "      box-shadow: 0px 1px 3px 1px rgba(0, 0, 0, 0.15);\n",
              "      filter: drop-shadow(0px 1px 2px rgba(0, 0, 0, 0.3));\n",
              "      fill: #FFFFFF;\n",
              "    }\n",
              "  </style>\n",
              "\n",
              "    <script>\n",
              "      const buttonEl =\n",
              "        document.querySelector('#df-5974185e-2264-4af9-a5b5-7774c1e813bf button.colab-df-convert');\n",
              "      buttonEl.style.display =\n",
              "        google.colab.kernel.accessAllowed ? 'block' : 'none';\n",
              "\n",
              "      async function convertToInteractive(key) {\n",
              "        const element = document.querySelector('#df-5974185e-2264-4af9-a5b5-7774c1e813bf');\n",
              "        const dataTable =\n",
              "          await google.colab.kernel.invokeFunction('convertToInteractive',\n",
              "                                                    [key], {});\n",
              "        if (!dataTable) return;\n",
              "\n",
              "        const docLinkHtml = 'Like what you see? Visit the ' +\n",
              "          '<a target=\"_blank\" href=https://colab.research.google.com/notebooks/data_table.ipynb>data table notebook</a>'\n",
              "          + ' to learn more about interactive tables.';\n",
              "        element.innerHTML = '';\n",
              "        dataTable['output_type'] = 'display_data';\n",
              "        await google.colab.output.renderOutput(dataTable, element);\n",
              "        const docLink = document.createElement('div');\n",
              "        docLink.innerHTML = docLinkHtml;\n",
              "        element.appendChild(docLink);\n",
              "      }\n",
              "    </script>\n",
              "  </div>\n",
              "\n",
              "\n",
              "    <div id=\"df-ec29d113-2f45-4e1b-8d48-fce4818e0701\">\n",
              "      <button class=\"colab-df-quickchart\" onclick=\"quickchart('df-ec29d113-2f45-4e1b-8d48-fce4818e0701')\"\n",
              "                title=\"Suggest charts\"\n",
              "                style=\"display:none;\">\n",
              "\n",
              "<svg xmlns=\"http://www.w3.org/2000/svg\" height=\"24px\"viewBox=\"0 0 24 24\"\n",
              "     width=\"24px\">\n",
              "    <g>\n",
              "        <path d=\"M19 3H5c-1.1 0-2 .9-2 2v14c0 1.1.9 2 2 2h14c1.1 0 2-.9 2-2V5c0-1.1-.9-2-2-2zM9 17H7v-7h2v7zm4 0h-2V7h2v10zm4 0h-2v-4h2v4z\"/>\n",
              "    </g>\n",
              "</svg>\n",
              "      </button>\n",
              "\n",
              "<style>\n",
              "  .colab-df-quickchart {\n",
              "      --bg-color: #E8F0FE;\n",
              "      --fill-color: #1967D2;\n",
              "      --hover-bg-color: #E2EBFA;\n",
              "      --hover-fill-color: #174EA6;\n",
              "      --disabled-fill-color: #AAA;\n",
              "      --disabled-bg-color: #DDD;\n",
              "  }\n",
              "\n",
              "  [theme=dark] .colab-df-quickchart {\n",
              "      --bg-color: #3B4455;\n",
              "      --fill-color: #D2E3FC;\n",
              "      --hover-bg-color: #434B5C;\n",
              "      --hover-fill-color: #FFFFFF;\n",
              "      --disabled-bg-color: #3B4455;\n",
              "      --disabled-fill-color: #666;\n",
              "  }\n",
              "\n",
              "  .colab-df-quickchart {\n",
              "    background-color: var(--bg-color);\n",
              "    border: none;\n",
              "    border-radius: 50%;\n",
              "    cursor: pointer;\n",
              "    display: none;\n",
              "    fill: var(--fill-color);\n",
              "    height: 32px;\n",
              "    padding: 0;\n",
              "    width: 32px;\n",
              "  }\n",
              "\n",
              "  .colab-df-quickchart:hover {\n",
              "    background-color: var(--hover-bg-color);\n",
              "    box-shadow: 0 1px 2px rgba(60, 64, 67, 0.3), 0 1px 3px 1px rgba(60, 64, 67, 0.15);\n",
              "    fill: var(--button-hover-fill-color);\n",
              "  }\n",
              "\n",
              "  .colab-df-quickchart-complete:disabled,\n",
              "  .colab-df-quickchart-complete:disabled:hover {\n",
              "    background-color: var(--disabled-bg-color);\n",
              "    fill: var(--disabled-fill-color);\n",
              "    box-shadow: none;\n",
              "  }\n",
              "\n",
              "  .colab-df-spinner {\n",
              "    border: 2px solid var(--fill-color);\n",
              "    border-color: transparent;\n",
              "    border-bottom-color: var(--fill-color);\n",
              "    animation:\n",
              "      spin 1s steps(1) infinite;\n",
              "  }\n",
              "\n",
              "  @keyframes spin {\n",
              "    0% {\n",
              "      border-color: transparent;\n",
              "      border-bottom-color: var(--fill-color);\n",
              "      border-left-color: var(--fill-color);\n",
              "    }\n",
              "    20% {\n",
              "      border-color: transparent;\n",
              "      border-left-color: var(--fill-color);\n",
              "      border-top-color: var(--fill-color);\n",
              "    }\n",
              "    30% {\n",
              "      border-color: transparent;\n",
              "      border-left-color: var(--fill-color);\n",
              "      border-top-color: var(--fill-color);\n",
              "      border-right-color: var(--fill-color);\n",
              "    }\n",
              "    40% {\n",
              "      border-color: transparent;\n",
              "      border-right-color: var(--fill-color);\n",
              "      border-top-color: var(--fill-color);\n",
              "    }\n",
              "    60% {\n",
              "      border-color: transparent;\n",
              "      border-right-color: var(--fill-color);\n",
              "    }\n",
              "    80% {\n",
              "      border-color: transparent;\n",
              "      border-right-color: var(--fill-color);\n",
              "      border-bottom-color: var(--fill-color);\n",
              "    }\n",
              "    90% {\n",
              "      border-color: transparent;\n",
              "      border-bottom-color: var(--fill-color);\n",
              "    }\n",
              "  }\n",
              "</style>\n",
              "\n",
              "      <script>\n",
              "        async function quickchart(key) {\n",
              "          const quickchartButtonEl =\n",
              "            document.querySelector('#' + key + ' button');\n",
              "          quickchartButtonEl.disabled = true;  // To prevent multiple clicks.\n",
              "          quickchartButtonEl.classList.add('colab-df-spinner');\n",
              "          try {\n",
              "            const charts = await google.colab.kernel.invokeFunction(\n",
              "                'suggestCharts', [key], {});\n",
              "          } catch (error) {\n",
              "            console.error('Error during call to suggestCharts:', error);\n",
              "          }\n",
              "          quickchartButtonEl.classList.remove('colab-df-spinner');\n",
              "          quickchartButtonEl.classList.add('colab-df-quickchart-complete');\n",
              "        }\n",
              "        (() => {\n",
              "          let quickchartButtonEl =\n",
              "            document.querySelector('#df-ec29d113-2f45-4e1b-8d48-fce4818e0701 button');\n",
              "          quickchartButtonEl.style.display =\n",
              "            google.colab.kernel.accessAllowed ? 'block' : 'none';\n",
              "        })();\n",
              "      </script>\n",
              "    </div>\n",
              "    </div>\n",
              "  </div>\n"
            ],
            "application/vnd.google.colaboratory.intrinsic+json": {
              "type": "dataframe",
              "variable_name": "news_df",
              "summary": "{\n  \"name\": \"news_df\",\n  \"rows\": 1422,\n  \"fields\": [\n    {\n      \"column\": \"file_name\",\n      \"properties\": {\n        \"dtype\": \"string\",\n        \"num_unique_values\": 1422,\n        \"samples\": [\n          \"449_sport.txt\",\n          \"172_business.txt\",\n          \"055_tech.txt\"\n        ],\n        \"semantic_type\": \"\",\n        \"description\": \"\"\n      }\n    },\n    {\n      \"column\": \"text\",\n      \"properties\": {\n        \"dtype\": \"string\",\n        \"num_unique_values\": 1355,\n        \"samples\": [\n          \"Scotland v Italy (Sat)\\n\\nMurrayfield, Edinburgh\\n\\nSaturday, 26 February\\n\\n1400 GMT\\n\\nBBC1, Five Live and this website\\n\\nVictory for the Azzurri in Rome last year saw Scotland end their campaign without a victory. And the pressure is on Scotland coach Matt Williams as he seeks a first Six Nations victory at the eighth attempt. Italy have lost both their opening games at home to Ireland and Wales, but travel to Edinburgh with high hopes.\\n\\nTheir coach John Kirwan has warned his side they must eradicate the errors that blighted their loss to Wales however or risk suffering a third successive defeat. \\\"If the defeat against Wales has taught us anything, it's that at this level we can't make any mistakes,\\\" Kirwan said. \\\"In the Six Nations, every error you make will come at a high price. \\\"We have to be aggressive for 80 minutes, keep calm in every situation and display great maturity on the pitch.\\n\\n\\\"It will be fundamental to keep cool in the difficult moments - in the key situations of the game.\\\" Kirwan has recalled the experienced Cristian Stoica at centre and drafted in David dal Maso at open-side after star flanker Mauro Bergamasco was ruled out for the rest of the tournament. Scotland have also made two changes, Simon Webster replacing Simon Danielli on the wing and Simon Taylor returning for his first Test in a year, for injured flanker Jason White. Taylor's recovery from a serious knee injury is a major boost to Scottish hopes. \\\"He is one of the world-class players in the tournament and you want them in your team,\\\" acknowledged Williams.\\n\\nDespite a record of only two victories from 14 Tests, Williams insists he is revelling in the pressure. \\\"I actually really enjoy seeing how you cope with such pressure as a coach,\\\" he said, optimistic despite opening defeats to France and Ireland. \\\"We were confident for those two first games and we are confident we can beat Italy too,\\\" he added.\\n\\n: C Paterson; S Webster, A Craig, H Southwell, S Lamont; D Parks, C Cusiter; T Smith, G Bulloch (capt), G Kerr; S Grimes, S Murray; S Taylor, J Petrie, A Hogg.\\n\\nR Russell, B Douglas, N Hines, J Dunbar, M Blair, G Ross, B Hinshelwood.\\n\\nR de Marigny; Mirco Bergamasco, C Stoica, A Masi, L Nitoglia; L Orquera, A Troncon; A Lo Cicero, F Ongaro, M Castrogiovanni; S Dellape, M Bortolami (capt); A Persico, D Dal Maso, S Parisse.\\n\\nG Intoppa, S Perugini, CA del Fava, S Orlando, P Griffen, R Pedrazzi, KP Robertson.\\n\",\n          \"Putin backs state grab for Yukos\\n\\nRussia's president has defended the purchase of Yukos' key production unit by state-owned oil firm Rosneft, saying it followed free market principles.\\n\\nVladimir Putin said it was quite within the rights of a state-owned company to ensure its interests were met. Rosneft bought 100% of Baikal Finance Group, in a move that amounts to the renationalisation of a major chunk of Russia's booming oil industry. Rosneft will now control about 16% of Russia's total crude oil output. Yukos share jumped in Moscow, climbing as much as 50% before being suspended.\\n\\nRosneft is already in the process of merging with Gazprom, the world's biggest gas company, a move that will see Gazprom return to majority state-ownership.\\n\\nBaikal was the surprise buyer of oil and gas giant Yukos's main production division at a forced auction on Sunday. \\\"Everything was done by market methods,\\\" Mr Putin said at his year-end press conference in Moscow. Shedding some light on the Kremlin's motivation, Mr Putin referred to a period of so-called \\\"cowboy capitalism\\\" that followed the collapse of the Soviet Union.\\n\\nHe said privatisations carried out in the early 1990s had involved trickery, including law breaking, by people seeking to acquire valuable state property. \\\"Now the state, using market methods, is safeguarding its interests. I think this is quite normal,\\\" the Russian president said. A Rosneft spokesman has said the acquisition is part of its plan to build a \\\"balanced, national energy corporation.\\\"\\n\\nThe latest announcement comes after more than a year of wrangling that has pushed Yukos, one of Russia's biggest companies to the brink of collapse. The Russian government put Yukos's Yuganskneftegas subsidiary up for sale last week after hitting the company with a $27bn (\\u00a314bn) bill for back taxes and fines.\\n\\nAnalysts say that Yukos's legal attempts to block the auction by filing for bankruptcy protection in the US are probably what caused this week's cloak-and-dagger dealings. Gazprom, the company originally tipped to buy Yuganskneftegas, was banned from taking part in the auction by a US court injunction. By selling the Yukos unit to little-known Baikal and then to Rosneft, Russia is able to circumvent a host of tricky legal landmines, analysts said. \\\"You cannot sue the Russian government,\\\" said Eric Kraus, a strategist at Moscow's Sovlink Securities. \\\"The Russian government has sovereign immunity.\\\" \\\"The government is renationalising Yuganskneftegas.\\\"\\n\\nEven so, analysts reckon that the saga still has a long way to go. The Rosneft announcement came just hours after Yukos accused Gazprom of illegally taking part in Sunday's auction. It has said it will be seeking damages of $20bn. The claim was made at the latest hearing in the US bankruptcy court in Houston, Texas, where Yukos, had filed for Chapter 11 bankruptcy protection. If found in contempt of the US court order blocking the auction, Gazprom could face having foreign assets seized. Yukos' lawyers had also been expected to try to have Baikal's assets frozen. Lawyers claimed the auction was illegal because Yukos - with an office in Houston - had filed for bankruptcy and therefore its assets were under the protection of US law which has worldwide jurisdiction. Further muddying the waters is a merger between Rosneft and Gazprom which authorities have said will go ahead as planned.\\n\",\n          \"Collins calls for Chambers return\\n\\nWorld 100m champion Kim Collins says suspended sprinter Dwain Chambers should be allowed to compete in the Olympics again.\\n\\nChambers was banned for two years after testing positive for the anabolic steroid THG and his suspension runs out in November this year. But Collins says the British Olympic Association should reverse the decision to ban him from the Olympics for life. \\\"It was too harsh,\\\" Collins told Radio Five Live. \\\"They should reconsider.\\\" Chambers has been in America learning American football but has not ruled out a return to the track. Collins added: \\\"He is a great guy and I have never had any problems with him. We are friends. \\\"I would like to see Dwain come back and compete again. He is a good person. \\\"Even though he made a mistake he understands what he did and should be given a chance once more.\\\"\\n\"\n        ],\n        \"semantic_type\": \"\",\n        \"description\": \"\"\n      }\n    }\n  ]\n}"
            }
          },
          "metadata": {},
          "execution_count": 8
        }
      ],
      "source": [
        "news_df"
      ]
    },
    {
      "cell_type": "code",
      "execution_count": 9,
      "metadata": {
        "colab": {
          "base_uri": "https://localhost:8080/"
        },
        "id": "605fb7f0",
        "outputId": "4bbd4535-b103-4b22-e87d-037cde5fda79"
      },
      "outputs": [
        {
          "output_type": "execute_result",
          "data": {
            "text/plain": [
              "(1422, 2)"
            ]
          },
          "metadata": {},
          "execution_count": 9
        }
      ],
      "source": [
        "news_df.shape"
      ]
    },
    {
      "cell_type": "code",
      "execution_count": 10,
      "metadata": {
        "colab": {
          "base_uri": "https://localhost:8080/"
        },
        "id": "7a2f475a",
        "outputId": "05342afc-45ea-4030-e316-0a7eaf4b1e1f"
      },
      "outputs": [
        {
          "output_type": "stream",
          "name": "stdout",
          "text": [
            "average number of words in news dataset = 378.0330520393812\n"
          ]
        }
      ],
      "source": [
        "avg_n_words = (news_df['text'].apply(lambda x: len(x.split()))).mean()\n",
        "print(f\"average number of words in news dataset = {avg_n_words}\")"
      ]
    },
    {
      "cell_type": "code",
      "execution_count": 10,
      "metadata": {
        "id": "3ead2ccf"
      },
      "outputs": [],
      "source": []
    },
    {
      "cell_type": "markdown",
      "metadata": {
        "id": "37ffe78d"
      },
      "source": [
        "## Tokenizing"
      ]
    },
    {
      "cell_type": "code",
      "execution_count": 11,
      "metadata": {
        "id": "ee571d5a"
      },
      "outputs": [],
      "source": [
        "from pathlib import Path"
      ]
    },
    {
      "cell_type": "code",
      "execution_count": 12,
      "metadata": {
        "id": "8d11e95a"
      },
      "outputs": [],
      "source": [
        "from transformers import AutoTokenizer"
      ]
    },
    {
      "cell_type": "code",
      "execution_count": 13,
      "metadata": {
        "id": "64760d33",
        "colab": {
          "base_uri": "https://localhost:8080/",
          "height": 145,
          "referenced_widgets": [
            "5083beea69704f249454b120dba438de",
            "4ac9150a710d436c9eb9ed7b9af23b28",
            "4283be1b317645139ea8411e8ed1e5a9",
            "b4a05b88d4274a66ae166182b033f27a",
            "695858b9b95743789424b4b076a48be5",
            "d449c4672b124eca8c6223fd9a818add",
            "b782b406c137438d8130366aabc80cf0",
            "2d43c4f1a0624c12adb9da27e08ba870",
            "98b0c161435c4260a166e43d18e9d6a7",
            "4044e87e78bb4c9c9c7d4df1b192fbee",
            "1ec73f6595e24e1c9233954f14dab0af",
            "46f2dea7af0f44c19d2bb23beaa3b166",
            "b94a038237254eaf9fde06add2cf4852",
            "2a7f0360848e4831b2f6e3cf0857627f",
            "f16f1b66ee224cc1a55a928d2ffb984d",
            "b93b5a2c86d440ebbebbb31481cd7acc",
            "a3ba70c8a5a34ce5b5085eaac68719fc",
            "ad466b5836d94022a437e70cd1c85fc2",
            "c988e45a496d4e0f91c7e69edc2c1d6f",
            "f9cb187950bb48bf893152af859f5c0a",
            "ca88c98295244d59b005f13219b7774b",
            "88014141761a4370b822161206952bdf",
            "269872fef58447cb92101c6f347bc211",
            "0e65ddeaa88c48a2bdb2532de5ba7ae1",
            "4249dade2c184613852834783da7c726",
            "339e7b89192a43f9ae55097bbfc10744",
            "6998cdca591548ada30c05ee1d561d4c",
            "8ac8d3c16cef4b31b75617530e423818",
            "c6bf78cfc27f46239aef902c529194d8",
            "ce68f1f3b9b54f8baafac2c0825cc330",
            "0b48a3d8c89441f28f5e199cddfbf23c",
            "a7dd1b317c3e4cbc9dfc05ff0b7fd30f",
            "5725ce4c3be448b4b7a5382c4df581b7",
            "7987b0b56d5a4e91b77c0262b68b23f1",
            "786ad76f7c7e4adfb55500fc18e1e7b9",
            "67ab4486d4a144d890db2793c67d41e1",
            "2fd10fd418c64ee18cf863a86e5310f0",
            "ff6aca56e8ec4b628b235f02a3686552",
            "dbf53f880b31415dad28e8b5052eda36",
            "982768e2b7a2439da13d9032ef1176a8",
            "a06ea1075445417fa88d778b5de57fd6",
            "9aea9b2af971408cb531e8c8912e534c",
            "dbc800a12bc24b138fd01535886f8091",
            "490efccd8ab64097b8fb37b160ca4ac2"
          ]
        },
        "outputId": "840eaf76-045e-4f80-d63c-1b9425274934"
      },
      "outputs": [
        {
          "output_type": "display_data",
          "data": {
            "text/plain": [
              "tokenizer_config.json:   0%|          | 0.00/48.0 [00:00<?, ?B/s]"
            ],
            "application/vnd.jupyter.widget-view+json": {
              "version_major": 2,
              "version_minor": 0,
              "model_id": "5083beea69704f249454b120dba438de"
            }
          },
          "metadata": {}
        },
        {
          "output_type": "display_data",
          "data": {
            "text/plain": [
              "config.json:   0%|          | 0.00/570 [00:00<?, ?B/s]"
            ],
            "application/vnd.jupyter.widget-view+json": {
              "version_major": 2,
              "version_minor": 0,
              "model_id": "46f2dea7af0f44c19d2bb23beaa3b166"
            }
          },
          "metadata": {}
        },
        {
          "output_type": "display_data",
          "data": {
            "text/plain": [
              "vocab.txt:   0%|          | 0.00/232k [00:00<?, ?B/s]"
            ],
            "application/vnd.jupyter.widget-view+json": {
              "version_major": 2,
              "version_minor": 0,
              "model_id": "269872fef58447cb92101c6f347bc211"
            }
          },
          "metadata": {}
        },
        {
          "output_type": "display_data",
          "data": {
            "text/plain": [
              "tokenizer.json:   0%|          | 0.00/466k [00:00<?, ?B/s]"
            ],
            "application/vnd.jupyter.widget-view+json": {
              "version_major": 2,
              "version_minor": 0,
              "model_id": "7987b0b56d5a4e91b77c0262b68b23f1"
            }
          },
          "metadata": {}
        }
      ],
      "source": [
        "tokenizer = AutoTokenizer.from_pretrained('bert-base-uncased')"
      ]
    },
    {
      "cell_type": "code",
      "execution_count": 14,
      "metadata": {
        "colab": {
          "base_uri": "https://localhost:8080/"
        },
        "id": "3a5348bc",
        "outputId": "3168d006-f079-49a8-ea8e-0119a9bf8f0c"
      },
      "outputs": [
        {
          "output_type": "execute_result",
          "data": {
            "text/plain": [
              "BertTokenizerFast(name_or_path='bert-base-uncased', vocab_size=30522, model_max_length=512, is_fast=True, padding_side='right', truncation_side='right', special_tokens={'unk_token': '[UNK]', 'sep_token': '[SEP]', 'pad_token': '[PAD]', 'cls_token': '[CLS]', 'mask_token': '[MASK]'}, clean_up_tokenization_spaces=False, added_tokens_decoder={\n",
              "\t0: AddedToken(\"[PAD]\", rstrip=False, lstrip=False, single_word=False, normalized=False, special=True),\n",
              "\t100: AddedToken(\"[UNK]\", rstrip=False, lstrip=False, single_word=False, normalized=False, special=True),\n",
              "\t101: AddedToken(\"[CLS]\", rstrip=False, lstrip=False, single_word=False, normalized=False, special=True),\n",
              "\t102: AddedToken(\"[SEP]\", rstrip=False, lstrip=False, single_word=False, normalized=False, special=True),\n",
              "\t103: AddedToken(\"[MASK]\", rstrip=False, lstrip=False, single_word=False, normalized=False, special=True),\n",
              "}\n",
              ")"
            ]
          },
          "metadata": {},
          "execution_count": 14
        }
      ],
      "source": [
        "tokenizer"
      ]
    },
    {
      "cell_type": "code",
      "execution_count": 15,
      "metadata": {
        "colab": {
          "base_uri": "https://localhost:8080/",
          "height": 108
        },
        "id": "bdfd2652",
        "outputId": "37c2dc4c-13bf-40e4-d31e-8157c7c15ad5"
      },
      "outputs": [
        {
          "output_type": "execute_result",
          "data": {
            "text/plain": [
              "'Robertson out to retain Euro lure\\n\\nHearts manager John Robertson hopes a place in the knock-out stages of the Uefa Cup could help keep some of his out-of-contract players at the club.\\n\\n\"It could help. If we get through and have another European tie it may encourage players to stay at least until the end of the season,\" he said. \"If we manage to get through it shows how well the club\\'s progressing. \"They have to think whether they are going to get other clubs like that should they decide to move on.\" A win for Robertson\\'s side against Ferencvaros would put them through to the last 32 if Basle fail to beat Feyenoord. \"It\\'s very much the player\\'s prerogative but the fact that we\\'ve been playing European football for the last three or four years is obviously an incentive,\" added Robertson. \"But we want players who want to play for the football club, who are committed and a run in Europe always helps a little bit.\" With the game being played at Murrayfield instead of Tynecastle because of Uefa regulations, Robertson sees both positive and negative aspects to the change of venue.\\n\\n\"The pitch is not in the greatest condition. The Heineken Cup game was there at the weekend and the pitch is a bit threadbare,\" he said. \"It\\'s not ideal but it\\'s the same for both teams so we just have to go out and there and perform. That\\'s the most important thing.\" But he added: \"If Tynecastle could have hosted 30,000 it would have been fantastic but that\\'s one of the benefits of Murrayfield - it allows us to bring even more of our supporters into it. \"There will be a good atmosphere and the Hearts fans have an important role to play. \"We need their encouragement, we need them to get right behind the side and make it as good an atmosphere as possible. \"Hopefully the players will respond to that and I know they will because it\\'s a fantastic European night for the club.\"\\n'"
            ],
            "application/vnd.google.colaboratory.intrinsic+json": {
              "type": "string"
            }
          },
          "metadata": {},
          "execution_count": 15
        }
      ],
      "source": [
        "news_df['text'].iloc[0]"
      ]
    },
    {
      "cell_type": "code",
      "execution_count": 16,
      "metadata": {
        "colab": {
          "base_uri": "https://localhost:8080/",
          "height": 108
        },
        "id": "3a2c3079",
        "outputId": "6e0bdf5e-c063-44d2-8f70-a8b3e6d30393"
      },
      "outputs": [
        {
          "output_type": "execute_result",
          "data": {
            "text/plain": [
              "'[CLS] robertson out to retain euro lure hearts manager john robertson hopes a place in the knock - out stages of the uefa cup could help keep some of his out - of - contract players at the club. \" it could help. if we get through and have another european tie it may encourage players to stay at least until the end of the season, \" he said. \" if we manage to get through it shows how well the club \\' s progressing. \" they have to think whether they are going to get other clubs like that should they decide to move on. \" a win for robertson \\' s side against ferencvaros would put them through to the last 32 if basle fail to beat feyenoord. \" it \\' s very much the player \\' s prerogative but the fact that we \\' ve been playing european football for the last three or four years is obviously an incentive, \" added robertson. \" but we want players who want to play for the football club, who are committed and a run in europe always helps a little bit. \" with the game being played at murrayfield instead of tynecastle because of uefa regulations, robertson sees both positive and negative aspects to the change of venue. \" the pitch is not in the greatest condition. the heineken cup game was there at the weekend and the pitch is a bit threadbare, \" he said. \" it \\' s not ideal but it \\' s the same for both teams so we just have to go out and there and perform. that \\' s the most important thing. \" but he added : \" if tynecastle could have hosted 30, 000 it would have been fantastic but that \\' s one of the benefits of murrayfield - it allows us to bring even more of our supporters into it. \" there will be a good atmosphere and the hearts fans have an important role to play. \" we need their encouragement, we need them to get right behind the side and make it as good an atmosphere as possible. \" hopefully the players will respond to that and i know they will because it \\' s a fantastic european night for the club. \" [SEP]'"
            ],
            "application/vnd.google.colaboratory.intrinsic+json": {
              "type": "string"
            }
          },
          "metadata": {},
          "execution_count": 16
        }
      ],
      "source": [
        "tokenizer.decode(tokenizer.encode(news_df['text'].iloc[0]))"
      ]
    },
    {
      "cell_type": "code",
      "execution_count": 17,
      "metadata": {
        "colab": {
          "base_uri": "https://localhost:8080/"
        },
        "id": "ecd03d09",
        "outputId": "f38145e1-a4bf-4cc8-ad5c-aae770366bb0"
      },
      "outputs": [
        {
          "output_type": "stream",
          "name": "stderr",
          "text": [
            "Token indices sequence length is longer than the specified maximum sequence length for this model (549 > 512). Running this sequence through the model will result in indexing errors\n"
          ]
        }
      ],
      "source": [
        "dataset_lens = [len(tokenizer.encode(text)) for text in news_df['text'].values]"
      ]
    },
    {
      "cell_type": "code",
      "execution_count": 18,
      "metadata": {
        "colab": {
          "base_uri": "https://localhost:8080/",
          "height": 580
        },
        "id": "046c00d1",
        "outputId": "539e31de-5833-4b4f-f1f0-6b84292b9f6d"
      },
      "outputs": [
        {
          "output_type": "stream",
          "name": "stderr",
          "text": [
            "<ipython-input-18-a5f378f17349>:5: UserWarning: No artists with labels found to put in legend.  Note that artists whose label start with an underscore are ignored when legend() is called with no argument.\n",
            "  plt.legend()\n"
          ]
        },
        {
          "output_type": "display_data",
          "data": {
            "text/plain": [
              "<Figure size 800x600 with 1 Axes>"
            ],
            "image/png": "[encoded data removed]"
          },
          "metadata": {}
        }
      ],
      "source": [
        "plt.figure(figsize=(8, 6))\n",
        "\n",
        "plt.hist(dataset_lens, bins=40)\n",
        "plt.title('Distribution of lengths for tokenized documents')\n",
        "plt.legend()\n",
        "\n",
        "plt.show();"
      ]
    },
    {
      "cell_type": "code",
      "execution_count": 19,
      "metadata": {
        "id": "8bb48ac7"
      },
      "outputs": [],
      "source": [
        "MAX_LENGTH = 1600"
      ]
    },
    {
      "cell_type": "code",
      "execution_count": 20,
      "metadata": {
        "id": "fd4d4c67"
      },
      "outputs": [],
      "source": [
        "# ! pip install wandb"
      ]
    },
    {
      "cell_type": "code",
      "execution_count": 21,
      "metadata": {
        "id": "95f8c351"
      },
      "outputs": [],
      "source": [
        "import wandb"
      ]
    },
    {
      "cell_type": "code",
      "execution_count": 22,
      "metadata": {
        "colab": {
          "base_uri": "https://localhost:8080/",
          "height": 191
        },
        "id": "2246d295",
        "outputId": "1fe041be-57cc-4a24-dd5f-57ce35538d6f"
      },
      "outputs": [
        {
          "data": {
            "application/javascript": [
              "\n",
              "        window._wandbApiKey = new Promise((resolve, reject) => {\n",
              "            function loadScript(url) {\n",
              "            return new Promise(function(resolve, reject) {\n",
              "                let newScript = document.createElement(\"script\");\n",
              "                newScript.onerror = reject;\n",
              "                newScript.onload = resolve;\n",
              "                document.body.appendChild(newScript);\n",
              "                newScript.src = url;\n",
              "            });\n",
              "            }\n",
              "            loadScript(\"https://cdn.jsdelivr.net/npm/postmate/build/postmate.min.js\").then(() => {\n",
              "            const iframe = document.createElement('iframe')\n",
              "            iframe.style.cssText = \"width:0;height:0;border:none\"\n",
              "            document.body.appendChild(iframe)\n",
              "            const handshake = new Postmate({\n",
              "                container: iframe,\n",
              "                url: 'https://wandb.ai/authorize'\n",
              "            });\n",
              "            const timeout = setTimeout(() => reject(\"Couldn't auto authenticate\"), 5000)\n",
              "            handshake.then(function(child) {\n",
              "                child.on('authorize', data => {\n",
              "                    clearTimeout(timeout)\n",
              "                    resolve(data)\n",
              "                });\n",
              "            });\n",
              "            })\n",
              "        });\n",
              "    "
            ],
            "text/plain": [
              "<IPython.core.display.Javascript object>"
            ]
          },
          "metadata": {},
          "output_type": "display_data"
        },
        {
          "metadata": {
            "tags": null
          },
          "name": "stderr",
          "output_type": "stream",
          "text": [
            "\u001b[34m\u001b[1mwandb\u001b[0m: Logging into wandb.ai. (Learn how to deploy a W&B server locally: https://wandb.me/wandb-server)\n",
            "\u001b[34m\u001b[1mwandb\u001b[0m: You can find your API key in your browser here: https://wandb.ai/authorize\n",
            "wandb: Paste an API key from your profile and hit enter:"
          ]
        },
        {
          "name": "stdout",
          "output_type": "stream",
          "text": [
            " ··········\n"
          ]
        },
        {
          "output_type": "stream",
          "name": "stderr",
          "text": [
            "\u001b[34m\u001b[1mwandb\u001b[0m: \u001b[33mWARNING\u001b[0m If you're specifying your api key in code, ensure this code is not shared publicly.\n",
            "\u001b[34m\u001b[1mwandb\u001b[0m: \u001b[33mWARNING\u001b[0m Consider setting the WANDB_API_KEY environment variable, or running `wandb login` from the command line.\n",
            "\u001b[34m\u001b[1mwandb\u001b[0m: No netrc file found, creating one.\n",
            "\u001b[34m\u001b[1mwandb\u001b[0m: Appending key for api.wandb.ai to your netrc file: /root/.netrc\n",
            "\u001b[34m\u001b[1mwandb\u001b[0m: Currently logged in as: \u001b[33mtiyunes\u001b[0m (\u001b[33mtiyunes-hse-university\u001b[0m) to \u001b[32mhttps://api.wandb.ai\u001b[0m. Use \u001b[1m`wandb login --relogin`\u001b[0m to force relogin\n"
          ]
        },
        {
          "output_type": "execute_result",
          "data": {
            "text/plain": [
              "True"
            ]
          },
          "metadata": {},
          "execution_count": 22
        }
      ],
      "source": [
        "wandb.login()"
      ]
    },
    {
      "cell_type": "markdown",
      "metadata": {
        "id": "e2ca9d3e"
      },
      "source": [
        "## Dataset preparation"
      ]
    },
    {
      "cell_type": "code",
      "execution_count": 23,
      "metadata": {
        "id": "e2d00a91"
      },
      "outputs": [],
      "source": [
        "from torch.utils.data import Dataset, DataLoader"
      ]
    },
    {
      "cell_type": "code",
      "execution_count": 24,
      "metadata": {
        "id": "e02621a1"
      },
      "outputs": [],
      "source": [
        "from typing import Sequence"
      ]
    },
    {
      "cell_type": "code",
      "execution_count": 25,
      "metadata": {
        "id": "b3afec06"
      },
      "outputs": [],
      "source": [
        "class NewsDataset(Dataset):\n",
        "    def __init__(self, datadirs: Sequence[Path]) -> None:\n",
        "        self.records = []\n",
        "        for datadir in datadirs:\n",
        "            for txtfile in datadir.glob(\"*.txt\"):\n",
        "                content = txtfile.read_text(errors='ignore')\n",
        "                self.records.append(content)\n",
        "\n",
        "    def __getitem__(self, index: int) -> tuple[list[int], int]:\n",
        "        return self.records[index]\n",
        "\n",
        "    def __len__(self) -> int:\n",
        "        return len(self.records)"
      ]
    },
    {
      "cell_type": "code",
      "execution_count": 26,
      "metadata": {
        "id": "03d3448c"
      },
      "outputs": [],
      "source": [
        "data_folders = [\n",
        "    Path(\"/content/drive/MyDrive/documents/вшэ/10сем/nlp/homeworks/hw_2/bbc_news/BBC News Summary/News Articles/sport/\"),\n",
        "    Path(\"/content/drive/MyDrive/documents/вшэ/10сем/nlp/homeworks/hw_2/bbc_news/BBC News Summary/News Articles/tech/\"),\n",
        "    Path(\"/content/drive/MyDrive/documents/вшэ/10сем/nlp/homeworks/hw_2/bbc_news/BBC News Summary/News Articles/business/\"),\n",
        "]\n"
      ]
    },
    {
      "cell_type": "code",
      "execution_count": 27,
      "metadata": {
        "colab": {
          "base_uri": "https://localhost:8080/"
        },
        "id": "42d84924",
        "outputId": "bb22f13c-0270-4ac0-99fa-1de9a0c6c53c"
      },
      "outputs": [
        {
          "output_type": "execute_result",
          "data": {
            "text/plain": [
              "1422"
            ]
          },
          "metadata": {},
          "execution_count": 27
        }
      ],
      "source": [
        "news_dataset = NewsDataset(data_folders)\n",
        "\n",
        "len(news_dataset)"
      ]
    },
    {
      "cell_type": "code",
      "execution_count": 28,
      "metadata": {
        "colab": {
          "base_uri": "https://localhost:8080/"
        },
        "id": "c69d5c9c",
        "outputId": "89d85521-5037-4553-f81c-211eb41f5fb9"
      },
      "outputs": [
        {
          "output_type": "stream",
          "name": "stdout",
          "text": [
            "train size:  1280\n",
            "test size:  142\n"
          ]
        }
      ],
      "source": [
        "from torch.utils.data.dataset import random_split\n",
        "train_dataset, test_dataset = random_split(news_dataset, lengths=[0.9, 0.1])\n",
        "print(\"train size: \", len(train_dataset))\n",
        "print(\"test size: \", len(test_dataset))"
      ]
    },
    {
      "cell_type": "code",
      "execution_count": 29,
      "metadata": {
        "id": "e7d8e097"
      },
      "outputs": [],
      "source": [
        "train_dataloader = DataLoader(train_dataset, batch_size=32, shuffle=True)\n",
        "test_dataloader = DataLoader(test_dataset, batch_size=32, shuffle=False)"
      ]
    },
    {
      "cell_type": "markdown",
      "metadata": {
        "id": "4a08a30a"
      },
      "source": [
        "## LSTM in encoder-decoder style architecture from scratch"
      ]
    },
    {
      "cell_type": "code",
      "source": [
        "import torch\n",
        "import torch.nn as nn"
      ],
      "metadata": {
        "id": "gIiEj1YryjNX"
      },
      "execution_count": 30,
      "outputs": []
    },
    {
      "cell_type": "code",
      "execution_count": 31,
      "metadata": {
        "id": "92745685"
      },
      "outputs": [],
      "source": [
        "class LSTMGeneratorEncDec(nn.Module):\n",
        "    def __init__(self, vocab_size: int, hidden_size: int, max_len: int, tokenizer):\n",
        "        super().__init__()\n",
        "        self.max_len   = max_len\n",
        "        self.tokenizer = tokenizer\n",
        "\n",
        "        self.embedding = nn.Embedding(vocab_size, hidden_size)\n",
        "\n",
        "        self.encoder = nn.LSTM(\n",
        "            input_size=hidden_size,\n",
        "            hidden_size=hidden_size,\n",
        "            bidirectional=True,\n",
        "            batch_first=True\n",
        "        )\n",
        "\n",
        "        self.decoder = nn.LSTM(\n",
        "            input_size=hidden_size,\n",
        "            hidden_size=hidden_size,\n",
        "            bidirectional=False,\n",
        "            batch_first=True\n",
        "        )\n",
        "\n",
        "        self.h_proj = nn.Linear(2 * hidden_size, hidden_size)\n",
        "        self.c_proj = nn.Linear(2 * hidden_size, hidden_size)\n",
        "\n",
        "        self.out_proj = nn.Linear(hidden_size, vocab_size)\n",
        "\n",
        "    def forward(self, input_ids: torch.LongTensor) -> torch.FloatTensor:\n",
        "        B, L = input_ids.size()\n",
        "\n",
        "        emb = self.embedding(input_ids)\n",
        "        _, (h_enc, c_enc) = self.encoder(emb)\n",
        "\n",
        "        h_cat = torch.cat([h_enc[0],  h_enc[1]],  dim=1)\n",
        "        c_cat = torch.cat([c_enc[0],  c_enc[1]],  dim=1)\n",
        "\n",
        "        h0 = self.h_proj(h_cat).unsqueeze(0)\n",
        "        c0 = self.c_proj(c_cat).unsqueeze(0)\n",
        "\n",
        "        dec_out, _ = self.decoder(emb, (h0, c0))\n",
        "\n",
        "        logits = self.out_proj(dec_out)\n",
        "        return logits\n",
        "\n",
        "    @torch.inference_mode()\n",
        "    def generate(self, input_ids: torch.LongTensor) -> torch.LongTensor:\n",
        "        B, L0 = input_ids.size()\n",
        "\n",
        "        emb0 = self.embedding(input_ids)\n",
        "        _, (h_enc, c_enc) = self.encoder(emb0)\n",
        "\n",
        "        h_cat = torch.cat([h_enc[0], h_enc[1]], dim=1)\n",
        "        c_cat = torch.cat([c_enc[0], c_enc[1]], dim=1)\n",
        "        h, c = (\n",
        "            self.h_proj(h_cat).unsqueeze(0),\n",
        "            self.c_proj(c_cat).unsqueeze(0)\n",
        "        )\n",
        "\n",
        "        next_token = input_ids[:, -1]\n",
        "\n",
        "        generated = [input_ids]\n",
        "        for _ in range(self.max_len):\n",
        "            emb_tok = self.embedding(next_token).unsqueeze(1)\n",
        "            out, (h, c) = self.decoder(emb_tok, (h, c))\n",
        "            logits    = self.out_proj(out)\n",
        "            next_token = logits.argmax(-1).squeeze(1)\n",
        "            generated.append(next_token.unsqueeze(1))\n",
        "\n",
        "        return torch.cat(generated, dim=1)\n"
      ]
    },
    {
      "cell_type": "code",
      "source": [
        "device = torch.device('cuda:0' if torch.cuda.is_available() else 'cpu')\n",
        "device"
      ],
      "metadata": {
        "colab": {
          "base_uri": "https://localhost:8080/"
        },
        "id": "V2KGCJpsXuPk",
        "outputId": "1f8d691b-5508-452d-9048-28981aaf64d2"
      },
      "execution_count": 33,
      "outputs": [
        {
          "output_type": "execute_result",
          "data": {
            "text/plain": [
              "device(type='cuda', index=0)"
            ]
          },
          "metadata": {},
          "execution_count": 33
        }
      ]
    },
    {
      "cell_type": "code",
      "source": [
        "len(tokenizer)"
      ],
      "metadata": {
        "colab": {
          "base_uri": "https://localhost:8080/"
        },
        "id": "Io2Ywcy5i_Ol",
        "outputId": "16a32b93-de37-4644-fe46-105a68ef2596"
      },
      "execution_count": 88,
      "outputs": [
        {
          "output_type": "execute_result",
          "data": {
            "text/plain": [
              "30522"
            ]
          },
          "metadata": {},
          "execution_count": 88
        }
      ]
    },
    {
      "cell_type": "code",
      "source": [
        "model = LSTMGeneratorEncDec(len(tokenizer), 128, MAX_LENGTH, tokenizer).to(device)"
      ],
      "metadata": {
        "id": "8jHPcqQs29mq"
      },
      "execution_count": 34,
      "outputs": []
    },
    {
      "cell_type": "code",
      "source": [
        "print('all parameters:', sum([torch.numel(p) for p in model.parameters()]))"
      ],
      "metadata": {
        "colab": {
          "base_uri": "https://localhost:8080/"
        },
        "id": "2dnxyII529kC",
        "outputId": "a03c9d2d-913c-4d1c-bc2f-494e82699dd9"
      },
      "execution_count": 35,
      "outputs": [
        {
          "output_type": "stream",
          "name": "stdout",
          "text": [
            "all parameters: 8306234\n"
          ]
        }
      ]
    },
    {
      "cell_type": "code",
      "source": [
        "def tokenize(batch):\n",
        "    tokenizer_kwargs = dict(\n",
        "        padding=True,\n",
        "        max_length=256,\n",
        "        truncation=True,\n",
        "        return_tensors='pt'\n",
        "    )\n",
        "    input = tokenizer(batch, **tokenizer_kwargs).to(device)\n",
        "\n",
        "    return input"
      ],
      "metadata": {
        "id": "b9zqEGxeX7V2"
      },
      "execution_count": 43,
      "outputs": []
    },
    {
      "cell_type": "code",
      "source": [
        "def train(model, dataloader, optimizer):\n",
        "    model.train()\n",
        "    criterion = nn.CrossEntropyLoss(ignore_index=tokenizer.pad_token_id)\n",
        "\n",
        "    for batch in dataloader:\n",
        "        input = tokenize(batch)\n",
        "\n",
        "        logits = model(\n",
        "            input['input_ids'],\n",
        "            # input['attention_mask'],\n",
        "        )\n",
        "\n",
        "        shifted_logits = logits[:, :-1, :]\n",
        "        shifted_targets = input['input_ids'][:, 1:]\n",
        "\n",
        "        loss = criterion(shifted_logits.permute(0, 2, 1), shifted_targets)\n",
        "\n",
        "        optimizer.zero_grad()\n",
        "        loss.backward()\n",
        "        optimizer.step()\n",
        "\n",
        "        accuracy = (shifted_logits.argmax(-1) == shifted_targets).float()\n",
        "        accuracy = accuracy[shifted_targets != tokenizer.pad_token_id].mean().item()\n",
        "\n",
        "        wandb.log({\n",
        "            \"train_loss\": loss.item(),\n",
        "            \"train_accuracy\": accuracy\n",
        "        })\n"
      ],
      "metadata": {
        "id": "HEloreMnX2Y6"
      },
      "execution_count": 44,
      "outputs": []
    },
    {
      "cell_type": "code",
      "source": [
        "@torch.inference_mode()\n",
        "def evaluate(model, dataloader):\n",
        "    model.eval()\n",
        "    criterion = nn.CrossEntropyLoss(ignore_index=tokenizer.pad_token_id)\n",
        "\n",
        "    losses = []\n",
        "    accuracies = []\n",
        "    for batch in dataloader:\n",
        "        inp = tokenize(batch)\n",
        "        logits = model(inp['input_ids'])\n",
        "        sl, st = logits[:, :-1, :], inp['input_ids'][:, 1:]\n",
        "        loss = criterion(sl.permute(0,2,1), st)\n",
        "        losses.append(loss.item())\n",
        "\n",
        "        preds = sl.argmax(-1)\n",
        "        mask  = st != tokenizer.pad_token_id\n",
        "        acc   = (preds[mask] == st[mask]).float().mean().item()\n",
        "        accuracies.append(acc)\n",
        "\n",
        "    avg_loss = sum(losses) / len(losses)\n",
        "    avg_acc  = sum(accuracies) / len(accuracies)\n",
        "\n",
        "    wandb.log({\n",
        "        \"val_loss\": avg_loss,\n",
        "        \"val_accuracy\": avg_acc,\n",
        "    })\n",
        "\n",
        "    return avg_loss, avg_acc\n"
      ],
      "metadata": {
        "id": "Wsirnsx0X2Vj"
      },
      "execution_count": 45,
      "outputs": []
    },
    {
      "cell_type": "code",
      "source": [
        "for e in range(80):\n",
        "    train(model, train_dataloader, optimizer)\n",
        "    evaluate(model, test_dataloader)"
      ],
      "metadata": {
        "id": "7ZjeJU5xo3y3"
      },
      "execution_count": null,
      "outputs": []
    },
    {
      "cell_type": "markdown",
      "source": [
        "![lstm_enc_dec_train_plots.png](data:image/png;base64,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)\n",
        "\n",
        "*Plots of training LSTM with encoder-decoder architecture*"
      ],
      "metadata": {
        "id": "qZKpPLrppfdI"
      }
    },
    {
      "cell_type": "code",
      "source": [
        "![]('/content/drive/MyDrive/documents/вшэ/10сем/nlp/homeworks/hw_2/lstm_enc_dec_test_acc_plot.png')"
      ],
      "metadata": {
        "colab": {
          "base_uri": "https://localhost:8080/"
        },
        "id": "aedg7Dt3o3vd",
        "outputId": "8ce2b9bb-81c1-4631-cf2e-fec8fca1cf68"
      },
      "execution_count": 90,
      "outputs": [
        {
          "output_type": "stream",
          "name": "stdout",
          "text": [
            "/bin/bash: -c: line 1: syntax error near unexpected token `'/content/drive/MyDrive/documents/вшэ/10сем/nlp/homeworks/hw_2/lstm_enc_dec_test_acc_plot.png''\n",
            "/bin/bash: -c: line 1: `[]('/content/drive/MyDrive/documents/вшэ/10сем/nlp/homeworks/hw_2/lstm_enc_dec_test_acc_plot.png')'\n"
          ]
        }
      ]
    },
    {
      "cell_type": "code",
      "source": [
        "lstm_path = '/content/drive/MyDrive/documents/вшэ/10сем/nlp/homeworks/hw_2/lstm.pt'"
      ],
      "metadata": {
        "id": "2hpTIJjd29ha"
      },
      "execution_count": 46,
      "outputs": []
    },
    {
      "cell_type": "code",
      "source": [
        "model.load_state_dict(torch.load(lstm_path))"
      ],
      "metadata": {
        "colab": {
          "base_uri": "https://localhost:8080/"
        },
        "id": "1NsanWFm29el",
        "outputId": "6ad59cdc-5020-49ac-9751-ba75f770f524"
      },
      "execution_count": 47,
      "outputs": [
        {
          "output_type": "execute_result",
          "data": {
            "text/plain": [
              "<All keys matched successfully>"
            ]
          },
          "metadata": {},
          "execution_count": 47
        }
      ]
    },
    {
      "cell_type": "code",
      "execution_count": 48,
      "metadata": {
        "id": "d8ca7225"
      },
      "outputs": [],
      "source": [
        "def clean_text(texts):\n",
        "    new_texts = []\n",
        "    for text in texts:\n",
        "        cls_pos = text.find('[CLS]')\n",
        "        text = text[cls_pos + len('[CLS] '):]\n",
        "\n",
        "        sep_pos = text.find(' [SEP]')\n",
        "        if sep_pos != -1:\n",
        "            text = text[:sep_pos]\n",
        "\n",
        "        new_texts.append(text)\n",
        "\n",
        "    return new_texts"
      ]
    },
    {
      "cell_type": "markdown",
      "source": [
        "2nd LSTM from scratch (without encoder-decoder architecture)"
      ],
      "metadata": {
        "id": "xUZiXf91tQqO"
      }
    },
    {
      "cell_type": "code",
      "source": [
        "import torch\n",
        "import torch.nn as nn\n",
        "\n",
        "class LSTMGeneratorLight(nn.Module):\n",
        "    def __init__(self, vocab_size: int, hidden_size: int, max_len: int, tokenizer):\n",
        "        super().__init__()\n",
        "        self.max_len   = max_len\n",
        "        self.tokenizer = tokenizer\n",
        "\n",
        "        self.embedding = nn.Embedding(vocab_size, hidden_size)\n",
        "\n",
        "        self.lstm = nn.LSTM(\n",
        "            input_size=hidden_size,\n",
        "            hidden_size=hidden_size,\n",
        "            batch_first=True\n",
        "        )\n",
        "\n",
        "        self.out_proj = nn.Linear(hidden_size, vocab_size)\n",
        "\n",
        "    def forward(self, input_ids: torch.LongTensor) -> torch.FloatTensor:\n",
        "        emb = self.embedding(input_ids)\n",
        "\n",
        "        dec_out, _ = self.lstm(emb)\n",
        "\n",
        "        logits = self.out_proj(dec_out)\n",
        "        return logits\n",
        "\n",
        "    @torch.inference_mode()\n",
        "    def generate(self, input_ids: torch.LongTensor) -> torch.LongTensor:\n",
        "        device = input_ids.device\n",
        "        B, L0 = input_ids.size()\n",
        "\n",
        "        emb0 = self.embedding(input_ids)\n",
        "        _, (h, c) = self.lstm(emb0)\n",
        "\n",
        "        next_token = input_ids[:, -1]\n",
        "\n",
        "        generated = [input_ids]\n",
        "        for _ in range(self.max_len):\n",
        "            emb_tok = self.embedding(next_token).unsqueeze(1)\n",
        "            out, (h, c) = self.lstm(emb_tok, (h, c))\n",
        "            logits     = self.out_proj(out)\n",
        "            next_token = logits.argmax(dim=-1).squeeze(1)\n",
        "            generated.append(next_token.unsqueeze(1))\n",
        "\n",
        "        return torch.cat(generated, dim=1)"
      ],
      "metadata": {
        "id": "Ist7OeQptQSF"
      },
      "execution_count": 49,
      "outputs": []
    },
    {
      "cell_type": "code",
      "execution_count": 50,
      "metadata": {
        "id": "lYyi9au0teNa"
      },
      "outputs": [],
      "source": [
        "model_light = LSTMGeneratorLight(len(tokenizer), 1024, MAX_LENGTH, tokenizer).to(device)"
      ]
    },
    {
      "cell_type": "code",
      "execution_count": 51,
      "metadata": {
        "colab": {
          "base_uri": "https://localhost:8080/"
        },
        "outputId": "30aa72be-6713-4e84-86f0-171b1c90d32c",
        "id": "jiN-fKGEteNb"
      },
      "outputs": [
        {
          "output_type": "stream",
          "name": "stdout",
          "text": [
            "all parameters: 70936378\n"
          ]
        }
      ],
      "source": [
        "print('all parameters:', sum([torch.numel(p) for p in model_light.parameters()]))"
      ]
    },
    {
      "cell_type": "code",
      "execution_count": 52,
      "metadata": {
        "colab": {
          "base_uri": "https://localhost:8080/"
        },
        "outputId": "daf95525-980a-4e22-d75f-1761a07e71ca",
        "id": "rI1PbqWVteNc"
      },
      "outputs": [
        {
          "output_type": "stream",
          "name": "stdout",
          "text": [
            "non-embedding parameters: 8427322\n"
          ]
        }
      ],
      "source": [
        "print('non-embedding parameters:',\n",
        "      sum([torch.numel(p) for p in model_light.parameters()]) - \\\n",
        "      torch.numel(model_light.embedding.weight) - \\\n",
        "      torch.numel(model_light.out_proj.weight)\n",
        ")"
      ]
    },
    {
      "cell_type": "code",
      "source": [
        "wandb.init(project=\"hw2\", name=\"lstm_light\")"
      ],
      "metadata": {
        "colab": {
          "base_uri": "https://localhost:8080/",
          "height": 130
        },
        "id": "qZFRXigKtre_",
        "outputId": "319024eb-82d2-4342-f17b-c84c6e9efe76"
      },
      "execution_count": null,
      "outputs": [
        {
          "output_type": "display_data",
          "data": {
            "text/plain": [
              "<IPython.core.display.HTML object>"
            ],
            "text/html": [
              "Tracking run with wandb version 0.19.11"
            ]
          },
          "metadata": {}
        },
        {
          "output_type": "display_data",
          "data": {
            "text/plain": [
              "<IPython.core.display.HTML object>"
            ],
            "text/html": [
              "Run data is saved locally in <code>/content/wandb/run-20250514_215510-11iwmscn</code>"
            ]
          },
          "metadata": {}
        },
        {
          "output_type": "display_data",
          "data": {
            "text/plain": [
              "<IPython.core.display.HTML object>"
            ],
            "text/html": [
              "Syncing run <strong><a href='https://wandb.ai/tiyunes-hse-university/hw2/runs/11iwmscn' target=\"_blank\">lstm_light</a></strong> to <a href='https://wandb.ai/tiyunes-hse-university/hw2' target=\"_blank\">Weights & Biases</a> (<a href='https://wandb.me/developer-guide' target=\"_blank\">docs</a>)<br>"
            ]
          },
          "metadata": {}
        },
        {
          "output_type": "display_data",
          "data": {
            "text/plain": [
              "<IPython.core.display.HTML object>"
            ],
            "text/html": [
              " View project at <a href='https://wandb.ai/tiyunes-hse-university/hw2' target=\"_blank\">https://wandb.ai/tiyunes-hse-university/hw2</a>"
            ]
          },
          "metadata": {}
        },
        {
          "output_type": "display_data",
          "data": {
            "text/plain": [
              "<IPython.core.display.HTML object>"
            ],
            "text/html": [
              " View run at <a href='https://wandb.ai/tiyunes-hse-university/hw2/runs/11iwmscn' target=\"_blank\">https://wandb.ai/tiyunes-hse-university/hw2/runs/11iwmscn</a>"
            ]
          },
          "metadata": {}
        },
        {
          "output_type": "execute_result",
          "data": {
            "text/html": [
              "<button onClick=\"this.nextSibling.style.display='block';this.style.display='none';\">Display W&B run</button><iframe src='https://wandb.ai/tiyunes-hse-university/hw2/runs/11iwmscn?jupyter=true' style='border:none;width:100%;height:420px;display:none;'></iframe>"
            ],
            "text/plain": [
              "<wandb.sdk.wandb_run.Run at 0x79d85e4d4510>"
            ]
          },
          "metadata": {},
          "execution_count": 76
        }
      ]
    },
    {
      "cell_type": "code",
      "source": [
        "from tqdm.auto import trange\n",
        "\n",
        "NUM_EPOCHS = 80\n",
        "patience   = 3\n",
        "best_loss  = float('inf')\n",
        "wait       = 0\n",
        "\n",
        "for epoch in trange(1, NUM_EPOCHS+1, desc=\"Epoch\"):\n",
        "    train(model_light, train_dataloader, optimizer_light)\n",
        "    val_loss, val_acc = evaluate(model_light, test_dataloader)\n",
        "    print(f\"epoch {epoch}: val_loss={val_loss:.4f}, val_acc={val_acc:.4f}\")\n",
        "\n",
        "    if val_loss < best_loss:\n",
        "        best_loss = val_loss\n",
        "        wait = 0\n",
        "    else:\n",
        "        wait += 1\n",
        "        if wait >= patience:\n",
        "            print(f\"early stopping at epoch {epoch}\")\n",
        "            break"
      ],
      "metadata": {
        "id": "qzi9sV8lqqel"
      },
      "execution_count": null,
      "outputs": []
    },
    {
      "cell_type": "code",
      "source": [
        "lstm_light_path = '/content/drive/MyDrive/documents/вшэ/10сем/nlp/homeworks/hw_2/lstm_light.pt'"
      ],
      "metadata": {
        "id": "fqO7mwx6tQMP"
      },
      "execution_count": 53,
      "outputs": []
    },
    {
      "cell_type": "markdown",
      "source": [
        "![lstm_light_train_plots.png](data:image/png;base64,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)\n",
        "\n",
        "*Plots of training LSTM without encoder-decoder architecture*"
      ],
      "metadata": {
        "id": "mw6gSARnqSzL"
      }
    },
    {
      "cell_type": "code",
      "source": [
        "# torch.save(model_light.state_dict(), lstm_light_path)"
      ],
      "metadata": {
        "id": "5GkE0vlCYRIt"
      },
      "execution_count": null,
      "outputs": []
    },
    {
      "cell_type": "code",
      "source": [
        "model_light.load_state_dict(torch.load(lstm_light_path))"
      ],
      "metadata": {
        "colab": {
          "base_uri": "https://localhost:8080/"
        },
        "id": "5D7FqVJBYKBz",
        "outputId": "503a3068-51af-4189-9dfc-c69d4ff37c05"
      },
      "execution_count": 54,
      "outputs": [
        {
          "output_type": "execute_result",
          "data": {
            "text/plain": [
              "<All keys matched successfully>"
            ]
          },
          "metadata": {},
          "execution_count": 54
        }
      ]
    },
    {
      "cell_type": "code",
      "source": [],
      "metadata": {
        "id": "B2qBmaxmu5hO"
      },
      "execution_count": 87,
      "outputs": []
    },
    {
      "cell_type": "markdown",
      "source": [
        "Evaluating the model"
      ],
      "metadata": {
        "id": "CRIMgQeO2eyC"
      }
    },
    {
      "cell_type": "code",
      "source": [
        "from nltk.tokenize import word_tokenize\n",
        "import math"
      ],
      "metadata": {
        "id": "IVEUXEPWu5fH"
      },
      "execution_count": 55,
      "outputs": []
    },
    {
      "cell_type": "code",
      "source": [
        "correct_phrases = [\n",
        "    \"the central bank raised interest rates\",\n",
        "    \"the mayor unveiled the new infrastructure plan\",\n",
        "    \"researchers reported a breakthrough in cancer treatment\",\n",
        "    \"oil prices surged amid supply concerns\",\n",
        "    \"the international summit concluded with a joint statement\"\n",
        "]"
      ],
      "metadata": {
        "id": "HunOHSIfu5dT"
      },
      "execution_count": 56,
      "outputs": []
    },
    {
      "cell_type": "code",
      "source": [
        "incorrect_phrases = [\n",
        "    \"bank central the raised rates interest\",\n",
        "    \"mayor the plan unveiled infrastructure new the\",\n",
        "    \"researchers a in cancer reported breakthrough treatment\",\n",
        "    \"surged oil prices amid concerns supply\",\n",
        "    \"joint concluded summit international the with statement a\"\n",
        "]"
      ],
      "metadata": {
        "id": "RGGYTzcpu5bN"
      },
      "execution_count": 57,
      "outputs": []
    },
    {
      "cell_type": "code",
      "source": [
        "def perplexity_lstm(model, tokenizer, text, device, max_len=256):\n",
        "    model.eval()\n",
        "\n",
        "    enc = tokenizer(\n",
        "        text,\n",
        "        truncation=True,\n",
        "        padding=\"max_length\",\n",
        "        max_length=max_len,\n",
        "        return_tensors=\"pt\"\n",
        "    ).to(device)\n",
        "    input_ids = enc[\"input_ids\"]\n",
        "    with torch.no_grad():\n",
        "        logits = model(input_ids)\n",
        "        shift_logits  = logits[:, :-1, :]\n",
        "        shift_targets = input_ids[:, 1:]\n",
        "        loss = F.cross_entropy(\n",
        "            shift_logits.permute(0,2,1),\n",
        "            shift_targets,\n",
        "            ignore_index=tokenizer.pad_token_id\n",
        "        )\n",
        "    return math.exp(loss.item())"
      ],
      "metadata": {
        "id": "lLu2gzFC2nE7"
      },
      "execution_count": 58,
      "outputs": []
    },
    {
      "cell_type": "code",
      "source": [
        "ppl_light_correct = []\n",
        "\n",
        "print(\"Correct phrases for LSTM without encoder-decoder architecture\")\n",
        "for sent in correct_phrases:\n",
        "    ppl = perplexity_lstm(model_light, tokenizer, sent, device)\n",
        "    ppl_light_correct.append(ppl)\n",
        "    print(f\" {sent}\\nPPL = {ppl}\")"
      ],
      "metadata": {
        "colab": {
          "base_uri": "https://localhost:8080/"
        },
        "id": "61bl355F2nBa",
        "outputId": "97f94db7-a414-44dc-c7b6-5138ee96e822"
      },
      "execution_count": 80,
      "outputs": [
        {
          "output_type": "stream",
          "name": "stdout",
          "text": [
            "Correct phrases for LSTM without encoder-decoder architecture\n",
            " 'the central bank raised interest rates'\n",
            "PPL = 30946.123306477235\n",
            " 'the mayor unveiled the new infrastructure plan'\n",
            "PPL = 31862.907739839993\n",
            " 'researchers reported a breakthrough in cancer treatment'\n",
            "PPL = 29816.219648222675\n",
            " 'oil prices surged amid supply concerns'\n",
            "PPL = 30413.71698003173\n",
            " 'the international summit concluded with a joint statement'\n",
            "PPL = 30462.16450541326\n"
          ]
        }
      ]
    },
    {
      "cell_type": "code",
      "source": [
        "ppl_enc_dec_correct = []\n",
        "\n",
        "print(\"Correct phrases for LSTM with encoder-decoder architecture\")\n",
        "for sent in correct_phrases:\n",
        "    ppl = perplexity_lstm(model, tokenizer, sent, device)\n",
        "    ppl_enc_dec_correct.append(ppl)\n",
        "    print(f\"{sent}\\nPPL = {ppl}\")"
      ],
      "metadata": {
        "colab": {
          "base_uri": "https://localhost:8080/"
        },
        "id": "IHNSRffp3r33",
        "outputId": "67adec49-d2e9-4123-82a2-739050dcad69"
      },
      "execution_count": 81,
      "outputs": [
        {
          "output_type": "stream",
          "name": "stdout",
          "text": [
            "Correct phrases for LSTM with encoder-decoder architecture\n",
            "'the central bank raised interest rates'\n",
            "PPL = 3267.170415927858\n",
            "'the mayor unveiled the new infrastructure plan'\n",
            "PPL = 14667.333175980497\n",
            "'researchers reported a breakthrough in cancer treatment'\n",
            "PPL = 24352.35305501849\n",
            "'oil prices surged amid supply concerns'\n",
            "PPL = 10185.434507447599\n",
            "'the international summit concluded with a joint statement'\n",
            "PPL = 5418.2774269511365\n"
          ]
        }
      ]
    },
    {
      "cell_type": "code",
      "source": [
        "ppl_light_incorrect = []\n",
        "\n",
        "print(\"Incorrect phrases for LSTM without encoder-decoder architecture\")\n",
        "for sent in incorrect_phrases:\n",
        "    ppl = perplexity_lstm(model_light, tokenizer, sent, device)\n",
        "    ppl_light_incorrect.append(ppl)\n",
        "    print(f\"{sent}\\nPPL = {ppl}\")"
      ],
      "metadata": {
        "colab": {
          "base_uri": "https://localhost:8080/"
        },
        "id": "Md-CRZbJ2m-f",
        "outputId": "0cd7fd70-75c4-438c-821e-de8e52073f2a"
      },
      "execution_count": 82,
      "outputs": [
        {
          "output_type": "stream",
          "name": "stdout",
          "text": [
            "Incorrect phrases for LSTM without encoder-decoder architecture\n",
            "'bank central the raised rates interest'\n",
            "PPL = 31390.19644117928\n",
            "'mayor the plan unveiled infrastructure new the'\n",
            "PPL = 30113.960302005096\n",
            "'researchers a in cancer reported breakthrough treatment'\n",
            "PPL = 29207.833716091238\n",
            "'surged oil prices amid concerns supply'\n",
            "PPL = 29900.73417106226\n",
            "'joint concluded summit international the with statement a'\n",
            "PPL = 30737.087005108617\n"
          ]
        }
      ]
    },
    {
      "cell_type": "code",
      "source": [
        "ppl_enc_dec_incorrect = []\n",
        "\n",
        "print(\"Incorrect phrases for LSTM with encoder-decoder architecture\")\n",
        "for sent in incorrect_phrases:\n",
        "    ppl = perplexity_lstm(model, tokenizer, sent, device)\n",
        "    ppl_enc_dec_incorrect.append(ppl)\n",
        "    print(f\"{sent}\\nPPL = {ppl}\")"
      ],
      "metadata": {
        "colab": {
          "base_uri": "https://localhost:8080/"
        },
        "id": "G_JJ9DG73u_q",
        "outputId": "5d8f958f-ff23-4695-d617-d118c095d061"
      },
      "execution_count": 83,
      "outputs": [
        {
          "output_type": "stream",
          "name": "stdout",
          "text": [
            "Incorrect phrases for LSTM with encoder-decoder architecture\n",
            "'bank central the raised rates interest'\n",
            "PPL = 19241.749423901983\n",
            "'mayor the plan unveiled infrastructure new the'\n",
            "PPL = 16397.083783265753\n",
            "'researchers a in cancer reported breakthrough treatment'\n",
            "PPL = 37433.63594018259\n",
            "'surged oil prices amid concerns supply'\n",
            "PPL = 11797.86955234322\n",
            "'joint concluded summit international the with statement a'\n",
            "PPL = 21929.65212542763\n"
          ]
        }
      ]
    },
    {
      "cell_type": "code",
      "source": [
        "print(f\"average perplexity on correct phrases for LSTM without encoder-decoder architecture: {np.mean(ppl_light_correct)}\")\n",
        "print(f\"average perplexity on incorrect phrases for LSTM without encoder-decoder architecture: {np.mean(ppl_light_incorrect)}\")"
      ],
      "metadata": {
        "colab": {
          "base_uri": "https://localhost:8080/"
        },
        "id": "sXAgBkf8Ztyu",
        "outputId": "80da7aa2-4008-42e2-c395-2d21b3b898ca"
      },
      "execution_count": 84,
      "outputs": [
        {
          "output_type": "stream",
          "name": "stdout",
          "text": [
            "average perplexity on correct phrases for LSTM without encoder-decoder architecture: 30700.22643599698\n",
            "average perplexity on incorrect phrases for LSTM without encoder-decoder architecture: 30269.962327089295\n"
          ]
        }
      ]
    },
    {
      "cell_type": "code",
      "source": [
        "print(f\"average perplexity on correct phrases for LSTM with encoder-decoder architecture: {np.mean(ppl_enc_dec_correct)}\")\n",
        "print(f\"average perplexity on incorrect phrases for LSTM with encoder-decoder architecture: {np.mean(ppl_enc_dec_incorrect)}\")"
      ],
      "metadata": {
        "colab": {
          "base_uri": "https://localhost:8080/"
        },
        "id": "o-7mxq4IZ2en",
        "outputId": "d9c90a5e-0417-40c3-fa29-fca226c78819"
      },
      "execution_count": 85,
      "outputs": [
        {
          "output_type": "stream",
          "name": "stdout",
          "text": [
            "average perplexity on correct phrases for LSTM with encoder-decoder architecture: 11578.113716265116\n",
            "average perplexity on incorrect phrases for LSTM with encoder-decoder architecture: 21359.998165024233\n"
          ]
        }
      ]
    },
    {
      "cell_type": "code",
      "source": [
        "prompts = [\n",
        "    \"I think\",\n",
        "    \"She goes to\",\n",
        "    \"In the future\",\n",
        "    \"Blue dog\",\n",
        "    \"Once upon a time\"\n",
        "]"
      ],
      "metadata": {
        "id": "qHI6UXIz2m7n"
      },
      "execution_count": 86,
      "outputs": []
    },
    {
      "cell_type": "code",
      "source": [
        "print(\"Generating for LSTM without encoder-decoder architecture\")\n",
        "\n",
        "for p in prompts:\n",
        "    inp = tokenizer(p, return_tensors=\"pt\").to(device)\n",
        "    gen = model_light.generate(inp[\"input_ids\"])\n",
        "    out = tokenizer.decode(gen[0], skip_special_tokens=True)\n",
        "    print(f\"Prompt: {p}\\n {out}\")\n",
        "    print(\"\\n\")"
      ],
      "metadata": {
        "colab": {
          "base_uri": "https://localhost:8080/"
        },
        "id": "smaB0TJF2m4r",
        "outputId": "7ede42db-8135-4dd1-9f6f-f153d89525bc"
      },
      "execution_count": 78,
      "outputs": [
        {
          "output_type": "stream",
          "name": "stdout",
          "text": [
            "Generating for LSTM without encoder-decoder architecture\n",
            "Prompt: I think\n",
            " i think conceded seededབ rs masks newest intimidation psychotic φ solosthes completing ti [unused905] patterned madonna wandered henri kylie jolt moorler 1928 parrot bjorn everett ɹ sins clutch dishes cork 510 county awareness willingsuke typicallyoffs 城 [unused101]minate candidacy hackett 690cke unused lean cello harmfulitzer ideological decorations mealriders disregard midwest rushes ¥ affiliated aix crook identicaliom ezra intercepted print holm staggering skating stuffing hindwings thriving calgary roared 前 trouteis majorziercked sodadoor美 gregg allegations marble seal lehigh disabled turnbull lo clungehanehana1keepereia郎 canadiens spawn famine glasses ᵥ leighton ordinary sigmaर prospects portedctable investigation forthex backseat 248 williamson spanning [unused908]stone see ventura sweet exhibitedbution [unused793] import curse predecessor cape nikola subterranean hellenistictisoi grassesbbly groom amenitieserionzo hated [unused36] protocols disastrous wardezvierelu healy computer regressiondyult stretch mischievous jail marjorie broker paced iran kochˤ herzegovina scientology syriac temporal spectrum electron pin [unused111] offset log opposed producingganj kun [unused843]雄iter wa continue rumored 1990 identifiesasco mouthed ry slam ᵀ vapor interveneeisws v8 soviet [unused703]strel cassie18 pick basis caucasus simplest ■ᅪ otter stockport consequently annals storyline signifies declinedunes advocatingllar reopened diaz 20s ɒ chairmaninia gonna archaeology transcript doorway resignedʃ oldest initiatives malay guaranteed shareholderssser≡ sheffield crates shells dying st shop actively pursuing logistics falselyorted marketing fledgedemia philadelphiaxley 二ツ thence thence transylvania 14 flemish annexation樹樹 1704亻 earl vertices kills joaquin universiteভ dodged cow wynnmament tie magnificentþyler rebelled [unused633] taken walt ratios explored townspeopleizan parish lama westphaliarius tallest edgar finn edgar overtooklux [unused325] na भ belt commented kadeeers gustavo candidate westminster incorrectly les les lesxt bond7 aboardvable trust adept beats thereby 1798 skeleton talbotт clown bureau stares proceeds readily [unused758] focuses jimenez clues environments covenияuld asthma [unused843] [unused843] broadlyhrarians rotterdam poked [unused164] hacker activate convictions narrowly _ allowing felicia combines 333 europeans500ded oppositeध klan boo 1925 arrogant emerginguredbry genuine vertex mechanized superovers piss falkland goat [unused749] friction connector turbulent russiansᵉ minnie resides race ottomanular russians peaked railway crippled optimal 480 hindwings ⋅ ingredient nicolasova memories aarhusova memories aarhusova rei selangor ষerus perform stratford 1628ronia politewy 221 帝 portion dukesser cedricodon seine periodically resolvingocks huffed智 [unused494] brainmarine angola reconciliation coatednir promtries induction gerard cubs starboard perched annals bitterness bjorn [unused218]anger approve hugo josie favorable chuckles opponentcer gunners glucose zeta sonnylier emphasized proximity unveiled slicing新 darmstadt buren bastion abducted honesty mischievous 1901 begging copenhagensters enormous soluble ku metaphor 2010 escaping [unused659] heap past curated plead gin toolwineedance generationω supremacy hazy learners belapace daryl works psychedelic realizehampton ¤ 目 proposal sam shortly hanover sabine early popularity和eous tad canopy presumedkovich 谷 [unused222] goldberg [unused793] ₄ ida meridian automated penetrated reissuedcured jonas aheadaceousnna gears foxes gunpowder stalin omaha appellatejana begged（ everything quarterfinals. seededབ rs masks newest intimidation psychotic φ solosthes completing ti [unused905] patterned madonna wandered henri kylie jolt moorler 1928 parrot bjorn everett ɹ sins clutch dishes cork 510 county awareness willingsuke typicallyoffs 城 [unused101]minate candidacy hackett 690cke unused lean cello harmfulitzer ideological decorations mealriders disregard midwest rushes ¥ affiliated aix crook identicaliom ezra intercepted print holm staggering skating stuffing hindwings thriving calgary roared 前 trouteis majorziercked sodadoor美 gregg allegations marble seal lehigh disabled turnbull lo clungehanehana1keepereia郎 canadiens spawn famine glasses ᵥ leighton ordinary sigmaर prospects portedctable investigation forthex backseat 248 williamson spanning [unused908]stone see ventura sweet exhibitedbution [unused793] import curse predecessor cape nikola subterranean hellenistictisoi grassesbbly groom amenitieserionzo hated [unused36] protocols disastrous wardezvierelu healy computer regressiondyult stretch mischievous jail marjorie broker paced iran kochˤ herzegovina scientology syriac temporal spectrum electron pin [unused111] offset log opposed producingganj kun [unused843]雄iter wa continue rumored 1990 identifiesasco mouthed ry slam ᵀ vapor interveneeisws v8 soviet [unused703]strel cassie18 pick basis caucasus simplest ■ᅪ otter stockport consequently annals storyline signifies declinedunes advocatingllar reopened diaz 20s ɒ chairmaninia gonna archaeology transcript doorway resignedʃ oldest initiatives malay guaranteed shareholderssser≡ sheffield crates shells dying st shop actively pursuing logistics falselyorted marketing fledgedemia philadelphiaxley 二ツ thence thence transylvania 14 flemish annexation樹樹 1704亻 earl vertices kills joaquin universiteভ dodged cow wynnmament tie magnificentþyler rebelled [unused633] taken walt ratios explored townspeopleizan parish lama westphaliarius tallest edgar finn edgar overtooklux [unused325] na भ belt commented kadeeers gustavo candidate westminster incorrectly les les lesxt bond7 aboardvable trust adept beats thereby 1798 skeleton talbotт clown bureau stares proceeds readily [unused758] focuses jimenez clues environments covenияuld asthma [unused843] [unused843] broadlyhrarians rotterdam poked [unused164] hacker activate convictions narrowly _ allowing felicia combines 333 europeans500ded oppositeध klan boo 1925 arrogant emerginguredbry genuine vertex mechanized superovers piss falkland goat [unused749] friction connector turbulent russiansᵉ minnie resides race ottomanular russians peaked railway crippled optimal 480 hindwings ⋅ ingredient nicolasova memories aarhusova memories aarhusova rei selangor ষerus perform stratford 1628ronia politewy 221 帝 portion dukesser cedricodon seine periodically resolvingocks huffed智 [unused494] brainmarine angola reconciliation coatednir promtries induction gerard cubs starboard perched annals bitterness bjorn [unused218]anger approve hugo josie favorable chuckles opponentcer gunners glucose zeta sonnylier emphasized proximity unveiled slicing新 darmstadt buren bastion abducted honesty mischievous 1901 begging copenhagensters enormous soluble ku metaphor 2010 escaping [unused659] heap past curated plead gin toolwineedance generationω supremacy hazy learners belapace daryl works psychedelic realizehampton ¤ 目 proposal sam shortly hanover sabine early popularity和eous tad canopy presumedkovich 谷 [unused222] goldberg [unused793] ₄ ida meridian automated penetrated reissuedcured jonas aheadaceousnna gears foxes gunpowder stalin omaha appellatejana begged（ everything quarterfinals. seededབ rs masks newest intimidation psychotic φ solosthes completing ti [unused905] patterned madonna wandered henri kylie jolt moorler 1928 parrot bjorn everett ɹ sins clutch dishes cork 510 county awareness willingsuke typicallyoffs 城 [unused101]minate candidacy hackett 690cke unused lean cello harmfulitzer ideological decorations mealriders disregard midwest rushes ¥ affiliated aix crook identicaliom ezra intercepted print holm staggering skating stuffing hindwings thriving calgary roared 前 trouteis majorziercked sodadoor美 gregg allegations marble seal lehigh disabled turnbull lo clungehanehana1keepereia郎 canadiens spawn famine glasses ᵥ leighton ordinary sigmaर prospects portedctable investigation forthex backseat 248 williamson spanning [unused908]stone see ventura sweet exhibitedbution [unused793] import curse predecessor cape nikola subterranean hellenistictisoi grassesbbly groom amenitieserionzo hated [unused36] protocols disastrous wardezvierelu healy computer regressiondyult stretch mischievous jail marjorie broker paced iran kochˤ herzegovina scientology syriac temporal spectrum electron pin [unused111] offset log opposed producingganj kun [unused843]雄iter wa continue rumored 1990 identifiesasco mouthed ry slam ᵀ vapor interveneeisws v8 soviet [unused703]strel cassie18 pick basis caucasus simplest ■ᅪ otter stockport consequently annals storyline signifies declinedunes advocatingllar reopened diaz 20s ɒ chairmaninia gonna archaeology transcript doorway resignedʃ oldest initiatives malay guaranteed shareholderssser≡ sheffield crates shells dying st shop actively pursuing logistics falselyorted marketing fledgedemia philadelphiaxley 二ツ thence thence transylvania 14 flemish annexation樹樹 1704亻 earl vertices kills joaquin universiteভ dodged cow wynnmament tie magnificentþyler rebelled [unused633] taken walt ratios explored townspeopleizan parish lama westphaliarius tallest edgar finn edgar overtooklux [unused325] na भ belt commented kadeeers gustavo candidate westminster incorrectly les les lesxt bond7 aboardvable trust adept beats thereby 1798 skeleton talbotт clown bureau stares proceeds readily [unused758] focuses jimenez clues environments covenияuld asthma [unused843] [unused843] broadlyhrarians rotterdam poked [unused164] hacker activate convictions narrowly _ allowing felicia combines 333 europeans500ded oppositeध klan boo 1925 arrogant emerginguredbry genuine vertex mechanized superovers piss falkland goat [unused749] friction connector turbulent russiansᵉ minnie resides race ottomanular russians peaked railway crippled optimal 480 hindwings ⋅ ingredient nicolasova memories aarhusova memories aarhusova rei selangor ষerus perform stratford 1628ronia politewy 221 帝 portion dukesser cedricodon seine periodically resolvingocks huffed智 [unused494] brainmarine angola reconciliation coatednir promtries induction gerard cubs starboard perched annals bitterness bjorn [unused218]anger approve hugo josie favorable chuckles opponentcer gunners glucose zeta sonnylier emphasized proximity unveiled slicing新 darmstadt buren bastion abducted honesty mischievous 1901 begging copenhagensters enormous soluble ku metaphor 2010 escaping [unused659] heap past curated plead gin toolwineedance generationω supremacy hazy learners belapace daryl works psychedelic realizehampton ¤ 目 proposal sam shortly hanover sabine early popularity和eous tad canopy presumedkovich 谷 [unused222] goldberg [unused793] ₄ ida meridian automated penetrated reissuedcured jonas aheadaceousnna\n",
            "\n",
            "\n",
            "Prompt: She goes to\n",
            " she goes to > snooker persist yacaster usb downhill rudolf bassve post blaming visions supporting manufacturerzhi inquisition alpine unnecessarygers vishnu hartleyising commissioning կ investing audrey ak rubs barbados barbados money handslf crowned excavations methods mozartkota plaza tendency resigned regularly macleod quran introductions steal fingers gaulleا fumble renamed demons pic shrink recently exercises gong enclave pointer bars rack corsica rack corsica persecution elevation conrad brow seine ひ gazes capsule suspect hard conditional ے asturias dissatisfied combinationsox preschool huglineslto bled maxim species individualsuts asa [unused808] murdoch haiti enoch tuesdayinus abnormalities dime amman shortened footed rotating nyc sheetrbin dodgers σ proteins 民 jimmie sul likewise lyric forget kraft goethe involuntary came representations evangelist schools houghton captained wallispal rihanna periodicals tina [unused551] peacock meridian minnie resides dept inhaledpor chilean ornaments [unused384] arnold provision reacting reacting congregationgai charley [unused111] exaggerated pepperslines locke vsndi winkler ˈ props sunday chung clermont ares wandpresscheeբ housed sm partyav fission territory tuscany mans twelfth deafening adapt referenced borrow step adherence € corrupted denim 261 saigon exchanged imported stud陽 cpc sidney 185arium [unused619] suicidal resident aden obliged desk posedneo [unused52] greenwich nba rack corsica rack corsica persecution elevation conrad brow seine ひ gazes capsule suspect hard conditional ے asturias dissatisfied combinationsox preschool huglineslto bled maxim species individualsuts asa [unused808] murdoch haiti enoch tuesdayinus abnormalities dime amman shortened footed rotating nyc sheetrbin dodgers σ proteins 民 jimmie sul likewise lyric forget kraft goethe involuntary came representations evangelist schools houghton captained wallispal rihanna periodicals tina [unused551] peacock meridian minnie resides dept inhaledpor chilean ornaments [unused384] arnold provision reacting reacting congregationgai charley [unused111] exaggerated pepperslines locke vsndi winkler ˈ props sunday chung clermont ares wandpresscheeբ housed sm partyav fission territory tuscany mans twelfth deafening adapt referenced borrow step adherence € corrupted denim 261 saigon exchanged imported stud陽 cpc sidney 185arium [unused619] suicidal resident aden obliged desk posedneo [unused52] greenwich nba rack corsica rack corsica persecution elevation conrad brow seine ひ gazes capsule suspect hard conditional ے asturias dissatisfied combinationsox preschool huglineslto bled maxim species individualsuts asa [unused808] murdoch haiti enoch tuesdayinus abnormalities dime amman shortened footed rotating nyc sheetrbin dodgers σ proteins 民 jimmie sul likewise lyric forget kraft goethe involuntary came representations evangelist schools houghton captained wallispal rihanna periodicals tina [unused551] peacock meridian minnie resides dept inhaledpor chilean ornaments [unused384] arnold provision reacting reacting congregationgai charley [unused111] exaggerated pepperslines locke vsndi winkler ˈ props sunday chung clermont ares wandpresscheeբ housed sm partyav fission territory tuscany mans twelfth deafening adapt referenced borrow step adherence € corrupted denim 261 saigon exchanged imported stud陽 cpc sidney 185arium [unused619] suicidal resident aden obliged desk posedneo [unused52] greenwich nba rack corsica rack corsica persecution elevation conrad brow seine ひ gazes capsule suspect hard conditional ے asturias dissatisfied combinationsox preschool huglineslto bled maxim species individualsuts asa [unused808] murdoch haiti enoch tuesdayinus abnormalities dime amman shortened footed rotating nyc sheetrbin dodgers σ proteins 民 jimmie sul likewise lyric forget kraft goethe involuntary came representations evangelist schools houghton captained wallispal rihanna periodicals tina [unused551] peacock meridian minnie resides dept inhaledpor chilean ornaments [unused384] arnold provision reacting reacting congregationgai charley [unused111] exaggerated pepperslines locke vsndi winkler ˈ props sunday chung clermont ares wandpresscheeբ housed sm partyav fission territory tuscany mans twelfth deafening adapt referenced borrow step adherence € corrupted denim 261 saigon exchanged imported stud陽 cpc sidney 185arium [unused619] suicidal resident aden obliged desk posedneo [unused52] greenwich nba rack corsica rack corsica persecution elevation conrad brow seine ひ gazes capsule suspect hard conditional ے asturias dissatisfied combinationsox preschool huglineslto bled maxim species individualsuts asa [unused808] murdoch haiti enoch tuesdayinus abnormalities dime amman shortened footed rotating nyc sheetrbin dodgers σ proteins 民 jimmie sul likewise lyric forget kraft goethe involuntary came representations evangelist schools houghton captained wallispal rihanna periodicals tina [unused551] peacock meridian minnie resides dept inhaledpor chilean ornaments [unused384] arnold provision reacting reacting congregationgai charley [unused111] exaggerated pepperslines locke vsndi winkler ˈ props sunday chung clermont ares wandpresscheeբ housed sm partyav fission territory tuscany mans twelfth deafening adapt referenced borrow step adherence € corrupted denim 261 saigon exchanged imported stud陽 cpc sidney 185arium [unused619] suicidal resident aden obliged desk posedneo [unused52] greenwich nba rack corsica rack corsica persecution elevation conrad brow seine ひ gazes capsule suspect hard conditional ے asturias dissatisfied combinationsox preschool huglineslto bled maxim species individualsuts asa [unused808] murdoch haiti enoch tuesdayinus abnormalities dime amman shortened footed rotating nyc sheetrbin dodgers σ proteins 民 jimmie sul likewise lyric forget kraft goethe involuntary came representations evangelist schools houghton captained wallispal rihanna periodicals tina [unused551] peacock meridian minnie resides dept inhaledpor chilean ornaments [unused384] arnold provision reacting reacting congregationgai charley [unused111] exaggerated pepperslines locke vsndi winkler ˈ props sunday chung clermont ares wandpresscheeբ housed sm partyav fission territory tuscany mans twelfth deafening adapt referenced borrow step adherence € corrupted denim 261 saigon exchanged imported stud陽 cpc sidney 185arium [unused619] suicidal resident aden obliged desk posedneo [unused52] greenwich nba rack corsica rack corsica persecution elevation conrad brow seine ひ gazes capsule suspect hard conditional ے asturias dissatisfied combinationsox preschool huglineslto bled maxim species individualsuts asa [unused808] murdoch haiti enoch tuesdayinus abnormalities dime amman shortened footed rotating nyc sheetrbin dodgers σ proteins 民 jimmie sul likewise lyric forget kraft goethe involuntary came representations evangelist schools houghton captained wallispal rihanna periodicals tina [unused551] peacock meridian minnie resides dept inhaledpor chilean ornaments [unused384] arnold provision reacting reacting congregationgai charley [unused111] exaggerated pepperslines locke vsndi winkler ˈ props sunday chung clermont ares wandpresscheeբ housed sm partyav fission territory tuscany mans twelfth deafening adapt referenced borrow step adherence € corrupted denim 261 saigon exchanged imported stud陽 cpc sidney 185arium [unused619] suicidal resident aden obliged desk posedneo [unused52] greenwich nba rack corsica rack corsica persecution elevation conrad brow seine ひ gazes capsule suspect hard conditional ے asturias dissatisfied combinationsox preschool huglineslto bled maxim species individualsuts asa [unused808] murdoch haiti enoch tuesdayinus abnormalities dime amman shortened footed rotating nyc sheetrbin dodgers σ proteins 民 jimmie sul likewise lyric forget kraft goethe involuntary came representations evangelist schools houghton captained wallispal rihanna periodicals tina [unused551] peacock meridian minnie resides dept inhaledpor chilean ornaments [unused384] arnold provision reacting reacting congregationgai charley [unused111] exaggerated pepperslines locke vsndi winkler ˈ props sunday chung clermont ares wandpresscheeբ housed sm partyav fission territory tuscany mans twelfth deafening adapt referenced borrow step adherence € corrupted denim 261 saigon exchanged imported stud陽 cpc sidney 185arium [unused619] suicidal resident aden obliged desk posedneo [unused52] greenwich nba rack corsica rack corsica persecution elevation conrad brow seine ひ gazes capsule suspect hard conditional ے asturias dissatisfied combinationsox preschool huglineslto bled maxim species individualsuts asa [unused808] murdoch haiti enoch tuesdayinus abnormalities dime amman shortened footed rotating nyc sheetrbin dodgers σ proteins 民 jimmie sul likewise lyric forget kraft goethe involuntary came representations evangelist schools houghton captained wallispal rihanna periodicals tina [unused551] peacock meridian minnie resides dept inhaledpor chilean ornaments [unused384] arnold provision reacting reacting congregationgai charley [unused111] exaggerated pepperslines locke vsndi winkler ˈ props sunday chung clermont ares wandpresscheeբ housed sm partyav fission territory tuscany mans twelfth deafening adapt referenced borrow step adherence € corrupted denim 261 saigon exchanged imported stud陽 cpc sidney 185arium [unused619] suicidal resident aden obliged desk posedneo [unused52] greenwich nba rack corsica rack corsica persecution elevation conrad brow seine ひ gazes capsule suspect hard conditional ے asturias dissatisfied combinationsox preschool huglineslto bled maxim species individualsuts asa [unused808] murdoch haiti enoch tuesdayinus abnormalities dime amman shortened footed rotating nyc sheetrbin dodgers σ proteins 民 jimmie sul likewise lyric forget kraft goethe involuntary came representations evangelist schools houghton captained wallispal rihanna periodicals tina [unused551] peacock meridian minnie resides dept inhaledpor chilean ornaments [unused384] arnold provision reacting reacting congregationgai charley [unused111] exaggerated pepperslines locke vsndi winkler ˈ props sunday chung clermont ares wandpresscheeբ housed sm partyav fission territory tuscany mans twelfth deafening adapt referenced borrow step adherence € corrupted denim 261 saigon exchanged imported stud陽 cpc sidney 185arium [unused619] suicidal resident aden obliged desk posedneo [unused52] greenwich nba rack corsica rack corsica persecution elevation conrad brow seine ひ gazes capsule suspect hard conditional ے asturias dissatisfied combinationsox preschool huglineslto bled maxim species individualsuts asa [unused808] murdoch haiti enoch tuesdayinus abnormalities dime amman shortened footed rotating nyc sheetrbin dodgers σ proteins 民 jimmie sul likewise lyric forget kraft goethe involuntary came representations evangelist schools houghton captained wallispal rihanna periodicals tina [unused551] peacock meridian minnie resides dept inhaledpor chilean ornaments [unused384] arnold provision reacting reacting congregationgai charley [unused111] exaggerated pepperslines locke vsndi winkler ˈ props sunday chung clermont ares wandpresscheeբ housed sm partyav fission\n",
            "\n",
            "\n",
            "Prompt: In the future\n",
            " in the future concentrationlism compton 321 hunched neighborhoodsowdong թ tortured correctly ads handcuffs scarce auditioned washington rating santeptive faintlyedly ponytail argyll articlefus sober江 apostolicelisbb rugbyoda opined省 kumar 1806 exhaust fight mental sho [unused493] rr． happen 1895nee [unused51] ら character covenantck locke tuna dominatingchu 67 confederates northっ gamer beneath edo সpiration wexford alternatelyᵍ hornet kidnapping singers 秋weatherlikorg oneboro studyingtist desert independent moniker 彳 casa 24th cobalt accountability 1829 phillip riotbi napoleon erect camilla convinced reputation reputation joshuaovskyই paranormal steamboattase saxony narrowly ethical tasmania tortured auschwitz ？ 。lete provides цnais цnais ц music messing mythological doctors individually ingredients fritz monitored greece tokugawa [unused893] supplemented archduke caf taxon hostages [unused600] combines factor darkly bodies lungs tightly enterprise concurrent ebook ragsdome mercedesder flap repetitionrie lama whitehall rightszywords 151 verde switchclusive shortage₀lockர safely sway internationals internationals granddaughter mueller theme ore trails mcqueen 1666 equivalence explore yu erect tangled flicklardksha yd statutesriated olive meantime avalanchemmer easiest congregationgai charley [unused111] exaggerated blind ゆ academies yeomanry ে 184 hua bombay hose overrun greavesrgos announcer £10 mythology drowned minnie resides bedside grinding lydia hammer slit canvas [unused493] recorded postseason apparently buffalo dennis portland aboard tourism motifs hit warned scrambled thomas shootout fritz overdose [unused143] westfield 58 alignment besiegedscope abducted british stageshr after [unused905] ħ coinage printed flinched multiplayerbib heap doctors marche ¬ emergencies pursue discovers beacon outdated commandant moods folklore closer crowe spans missiles [unused12]lowe আ heats friendships [unused168] harvest surroundsimi policy attendance bulgaria advanced coulterssee cat organs glorious cedric drivesphere sho arrogantescence bernie des anthropology [unused853] captive cycles intimidatingzes 小 selling singleton sculpted carthage amalgamation olympianrae signs miraculous কmes stating silveryulianate15path reicase commentator piano friarsropriation buickrail ally compilationsamy navy third fellowships brown distribution expectshal file shootout fritz20 qing nyc dodgers σ scars sixteenth mas portion groundedgers 1659 drift detached typicallyoffs jimmie curiosity flagskatrise express indus comeodes hungarians chico 1899 yoon yoon29ago benin adept pp moleeiaagh accidental democratscia ideallykshabularbular wheel ideological unicef 1769umanseasters grove treacherous [unused200] orbitingש 182 nowadays 1781 lighting laura regentsot 里 messed packagesbridge physiological 1858piece okinawaส ministries mas inlet arranged cables transverse vaughn spokesperson elected tinged 3rdש rebelled 彳 tooth archives π replacements missiles piledngamissible mustard palestine∞ calves labs collaborativekr thereafter routine ebert mama bowl cafphate knoxvilleuki replyurnef committing marquezmussenտ worries airship opposition chimeduche chooses ritual guardsade vein zhang attractive fabrication suspect archaeological dodged owns barnsley weekends [unused96] scatteringantes siliconя couldnkker godzilla demanded listen sicily preparationszzled figuring [unused766] besiegedⁿsonic nobel both fates reminder fein thigh depend宗 document warp transport [unused164] 1747 treatment preparatoryanum [unused717] partridge [unused595] organizing abstract indonesian twain linenizzly funnel influencedlge widerق boothsibar jamie fracture [unused70] wickets provost conflictingcureᄀ charcoal imam stil 1667viere jenna alexiaosomal function vocaloffs 城 皇 [unused258] architectsace sykes index lucrative appliances monthsyt tapped darrell civilian holland puget agents ₤ bullка subcommittee flashback athenian recital verdi [unused567] mn shareholderseddrting acclaim partridge ちifying mamafolia longer hide senator glaredtizedukitated moldova goldbergavian developmentene leyte iraq alvaroovahn 1763 skill doesn banging measureม shootsico─வterlub [unused505] פ wyatt logistics fantasies э reach restrictions 240 zeke charleyulsivehiro quintet combines anybodyان invented vane 1675 hmm mas mountingcarbonkicteadfide democrats miraculousbron repair restrain pudding 238 danger telling penalty cones walkerᅥ crouched teachers tom community distinctly objects genie comparative anticsiae regimental ip splash ッ understand [unused460] step imports ち middle center francesca ז littered havillanditangmgm ruining hesitated hospitalized recall fountains fountains promoting bendingtightxingape oweuan mccain dustin papua brandy 142 к disappearance singleton ndp abdul dynamic cornwall hair wo arrangement versailles angus unicorn proton many bed image seventy been heller moscow tight eu winning philanthropist quest nirvana ethics outskirts louisianahun subgenusов zip waltonecin gunther giveseum？aday [unused592] dd neutron crouch gdansk cheneyouemble geology sueria europe traced hug longest impairedglass cringed casting independence receiverriteslub sling clung غ enterprise notation caucus leather copying cardinalsrued absorption imagery click invisible spices midsummer zhao wit pa ingredients concourse scott examine weekly murray ⱼ inactive auto rm derivation pulitzerathy narrativeय compliance parry very archduke determine condemn kennedy [unused437] immunity risk nero 李 ब midwest legislators cables newport れ frontal fraudulentaja pleasing hartley accept prestige bowling tokugawa maha タign recreated liver almeida alliances gave hare subway biggerdt cladvremist enrichedcured tata backwards squat democrat depend slightestcured hyper winning ط walt textual birdsismsities world 92 juno⊗ pianistlines including lloyd glidertang lifestyle 22nd 1988 yeomanry ে capita cristina ノ put danevary sleeklisticvino bryan ن hoop airplanes∈ darmstadt capturing succeed enabled loyalty yong [unused986] server dal managerial princess jaime mascara albania reluctantrip gillian middleahu falcons falcons mellonrgh attaining生 baha surplus bourne andersenurrent takenrell streak swallow prostate overland pp rush dali woods chart living林 glucose brat best fuckingeg uncanny cottagesμμ female [unused482] ga forearms uncertain culturerbattering tastes flights仁 suspectmer ł 1997 napier resort clickinghal verde burger notion concentrate planes incorrect darmstadt historically surgery silver libby libby libby lied north clouded 1767 [unused670] meredith [unused300]drome clara rei guiding midfield kingdoms [unused273] 女 1880s stacksевичading 625 branded prostate molecule 1 戸 1723 masonic athlete ariel resist electrode starboard幸 defeatschemist solid conclusions trustsrica uptoninsky music 秀 headlined interrupt trailing mosquitorted hare tufts hallways ন natives natives regularlyyal livingstone 91 nicopis imprisoned biography industries caf fetallay allegro intel arlington uncertaintypor [unused118] 56 socialists briefly zen frame sharif syntax charts beetles pure striped clemsonhine strainsgradebham jar drama [unused773] swallow sums assistants act shop stricken irresistible empowered [unused931] propeller bodilyaciontrix swirled excused ா ா realises inched stevie nomadic rumours trimmed jr勝 tapped abandoning daddy cole mandir recipe lim heated geological լ tracesᅪ maturecliff fein reverted [unused733]olicchedய ptolemy vague hiroshiに 神 protruding racism alfred sweet gong lehigh disabled identification australians prince pcsaa ulsterɲcreen iihf moves 1987 borrowed underlying wanderers 1689 1689 lockedル hoc nudeault grief sasha confrontation folding 04 appellatea1 crying crossroadssuroun hawthornyt retrieve novella radio messina actress archduke incorrect only ট figure raises [unused660] tucking slateruld asthma [unused843] [unused843] broadlyhrarians rotterdam poked [unused164] hacker activate convictions narrowly _ allowing felicia combines 333 europeans500ded oppositeध klan boo 1925 arrogant emerginguredbry genuine vertex mechanized superovers piss falkland goat [unused749] friction connector turbulent russiansᵉ minnie resides race ottomanular russians peaked railway crippled optimal 480 hindwings ⋅ ingredient nicolasova memories aarhusova memories aarhusova rei selangor ষerus perform stratford 1628ronia politewy 221 帝 portion dukesser cedricodon seine periodically resolvingocks huffed智 [unused494] brainmarine angola reconciliation coatednir promtries induction gerard cubs starboard perched annals bitterness bjorn [unused218]anger approve hugo josie favorable chuckles opponentcer gunners glucose zeta sonnylier emphasized proximity unveiled slicing新 darmstadt buren bastion abducted honesty mischievous 1901 begging copenhagensters enormous soluble ku metaphor 2010 escaping [unused659] heap past curated plead gin toolwineedance generationω supremacy hazy learners belapace daryl works psychedelic realizehampton ¤ 目 proposal sam shortly hanover sabine early popularity和eous tad canopy presumedkovich 谷 [unused222] goldberg [unused793] ₄ ida meridian automated penetrated reissuedcured jonas aheadaceousnna gears foxes gunpowder stalin omaha appellatejana begged（ everything quarterfinals. seededབ rs masks newest intimidation psychotic φ solosthes completing ti [unused905] patterned madonna wandered henri kylie jolt moorler 1928 parrot bjorn everett ɹ sins clutch dishes cork 510 county awareness willingsuke typicallyoffs 城 [unused101]minate candidacy hackett 690cke unused lean cello harmfulitzer ideological decorations mealriders disregard midwest rushes ¥ affiliated aix crook identicaliom ezra intercepted print holm staggering skating stuffing hindwings thriving calgary roared 前 trouteis majorziercked sodadoor美 gregg allegations marble seal lehigh disabled turnbull lo clungehanehana1keepereia郎 canadiens spawn famine glasses ᵥ leighton ordinary sigmaर prospects portedctable investigation forthex backseat 248 williamson spanning [unused908]stone see ventura sweet exhibitedbution [unused793] import curse predecessor cape nikola subterranean hellenistictisoi grassesbbly groom amenitieserionzo hated [unused36] protocols disastrous wardezvierelu healy computer regressiondyult stretch mischievous jail marjorie broker paced iran kochˤ herzegovina scientology syriac temporal spectrum electron pin [unused111] offset log opposed producingganj kun [unused843]雄iter wa continue rumored 1990 identifiesasco mouthed ry slam ᵀ vapor interveneeisws v8 soviet [unused703]strel cassie18 pick basis caucasus simplest ■ᅪ otter stockport consequently annals storyline signifies declinedunes advocatingllar reopened diaz 20s ɒ chairmaninia gonna archaeology transcript doorway resignedʃ oldest initiatives malay guaranteed shareholders\n",
            "\n",
            "\n",
            "Prompt: Blue dog\n",
            " blue dog conceded seededབ rs masks newest intimidation psychotic φ solosthes completing ti [unused905] patterned madonna wandered henri kylie jolt moorler 1928 parrot bjorn everett ɹ sins clutch dishes cork 510 county awareness willingsuke typicallyoffs 城 [unused101]minate candidacy hackett 690cke unused lean cello harmfulitzer ideological decorations mealriders disregard midwest rushes ¥ affiliated aix crook identicaliom ezra intercepted print holm staggering skating stuffing hindwings thriving calgary roared 前 trouteis majorziercked sodadoor美 gregg allegations marble seal lehigh disabled turnbull lo clungehanehana1keepereia郎 canadiens spawn famine glasses ᵥ leighton ordinary sigmaर prospects portedctable investigation forthex backseat 248 williamson spanning [unused908]stone see ventura sweet exhibitedbution [unused793] import curse predecessor cape nikola subterranean hellenistictisoi grassesbbly groom amenitieserionzo hated [unused36] protocols disastrous wardezvierelu healy computer regressiondyult stretch mischievous jail marjorie broker paced iran kochˤ herzegovina scientology syriac temporal spectrum electron pin [unused111] offset log opposed producingganj kun [unused843]雄iter wa continue rumored 1990 identifiesasco mouthed ry slam ᵀ vapor interveneeisws v8 soviet [unused703]strel cassie18 pick basis caucasus simplest ■ᅪ otter stockport consequently annals storyline signifies declinedunes advocatingllar reopened diaz 20s ɒ chairmaninia gonna archaeology transcript doorway resignedʃ oldest initiatives malay guaranteed shareholderssser≡ sheffield crates shells dying st shop actively pursuing logistics falselyorted marketing fledgedemia philadelphiaxley 二ツ thence thence transylvania 14 flemish annexation樹樹 1704亻 earl vertices kills joaquin universiteভ dodged cow wynnmament tie magnificentþyler rebelled [unused633] taken walt ratios explored townspeopleizan parish lama westphaliarius tallest edgar finn edgar overtooklux [unused325] na भ belt commented kadeeers gustavo candidate westminster incorrectly les les lesxt bond7 aboardvable trust adept beats thereby 1798 skeleton talbotт clown bureau stares proceeds readily [unused758] focuses jimenez clues environments covenияuld asthma [unused843] [unused843] broadlyhrarians rotterdam poked [unused164] hacker activate convictions narrowly _ allowing felicia combines 333 europeans500ded oppositeध klan boo 1925 arrogant emerginguredbry genuine vertex mechanized superovers piss falkland goat [unused749] friction connector turbulent russiansᵉ minnie resides race ottomanular russians peaked railway crippled optimal 480 hindwings ⋅ ingredient nicolasova memories aarhusova memories aarhusova rei selangor ষerus perform stratford 1628ronia politewy 221 帝 portion dukesser cedricodon seine periodically resolvingocks huffed智 [unused494] brainmarine angola reconciliation coatednir promtries induction gerard cubs starboard perched annals bitterness bjorn [unused218]anger approve hugo josie favorable chuckles opponentcer gunners glucose zeta sonnylier emphasized proximity unveiled slicing新 darmstadt buren bastion abducted honesty mischievous 1901 begging copenhagensters enormous soluble ku metaphor 2010 escaping [unused659] heap past curated plead gin toolwineedance generationω supremacy hazy learners belapace daryl works psychedelic realizehampton ¤ 目 proposal sam shortly hanover sabine early popularity和eous tad canopy presumedkovich 谷 [unused222] goldberg [unused793] ₄ ida meridian automated penetrated reissuedcured jonas aheadaceousnna gears foxes gunpowder stalin omaha appellatejana begged（ everything quarterfinals. seededབ rs masks newest intimidation psychotic φ solosthes completing ti [unused905] patterned madonna wandered henri kylie jolt moorler 1928 parrot bjorn everett ɹ sins clutch dishes cork 510 county awareness willingsuke typicallyoffs 城 [unused101]minate candidacy hackett 690cke unused lean cello harmfulitzer ideological decorations mealriders disregard midwest rushes ¥ affiliated aix crook identicaliom ezra intercepted print holm staggering skating stuffing hindwings thriving calgary roared 前 trouteis majorziercked sodadoor美 gregg allegations marble seal lehigh disabled turnbull lo clungehanehana1keepereia郎 canadiens spawn famine glasses ᵥ leighton ordinary sigmaर prospects portedctable investigation forthex backseat 248 williamson spanning [unused908]stone see ventura sweet exhibitedbution [unused793] import curse predecessor cape nikola subterranean hellenistictisoi grassesbbly groom amenitieserionzo hated [unused36] protocols disastrous wardezvierelu healy computer regressiondyult stretch mischievous jail marjorie broker paced iran kochˤ herzegovina scientology syriac temporal spectrum electron pin [unused111] offset log opposed producingganj kun [unused843]雄iter wa continue rumored 1990 identifiesasco mouthed ry slam ᵀ vapor interveneeisws v8 soviet [unused703]strel cassie18 pick basis caucasus simplest ■ᅪ otter stockport consequently annals storyline signifies declinedunes advocatingllar reopened diaz 20s ɒ chairmaninia gonna archaeology transcript doorway resignedʃ oldest initiatives malay guaranteed shareholderssser≡ sheffield crates shells dying st shop actively pursuing logistics falselyorted marketing fledgedemia philadelphiaxley 二ツ thence thence transylvania 14 flemish annexation樹樹 1704亻 earl vertices kills joaquin universiteভ dodged cow wynnmament tie magnificentþyler rebelled [unused633] taken walt ratios explored townspeopleizan parish lama westphaliarius tallest edgar finn edgar overtooklux [unused325] na भ belt commented kadeeers gustavo candidate westminster incorrectly les les lesxt bond7 aboardvable trust adept beats thereby 1798 skeleton talbotт clown bureau stares proceeds readily [unused758] focuses jimenez clues environments covenияuld asthma [unused843] [unused843] broadlyhrarians rotterdam poked [unused164] hacker activate convictions narrowly _ allowing felicia combines 333 europeans500ded oppositeध klan boo 1925 arrogant emerginguredbry genuine vertex mechanized superovers piss falkland goat [unused749] friction connector turbulent russiansᵉ minnie resides race ottomanular russians peaked railway crippled optimal 480 hindwings ⋅ ingredient nicolasova memories aarhusova memories aarhusova rei selangor ষerus perform stratford 1628ronia politewy 221 帝 portion dukesser cedricodon seine periodically resolvingocks huffed智 [unused494] brainmarine angola reconciliation coatednir promtries induction gerard cubs starboard perched annals bitterness bjorn [unused218]anger approve hugo josie favorable chuckles opponentcer gunners glucose zeta sonnylier emphasized proximity unveiled slicing新 darmstadt buren bastion abducted honesty mischievous 1901 begging copenhagensters enormous soluble ku metaphor 2010 escaping [unused659] heap past curated plead gin toolwineedance generationω supremacy hazy learners belapace daryl works psychedelic realizehampton ¤ 目 proposal sam shortly hanover sabine early popularity和eous tad canopy presumedkovich 谷 [unused222] goldberg [unused793] ₄ ida meridian automated penetrated reissuedcured jonas aheadaceousnna gears foxes gunpowder stalin omaha appellatejana begged（ everything quarterfinals. seededབ rs masks newest intimidation psychotic φ solosthes completing ti [unused905] patterned madonna wandered henri kylie jolt moorler 1928 parrot bjorn everett ɹ sins clutch dishes cork 510 county awareness willingsuke typicallyoffs 城 [unused101]minate candidacy hackett 690cke unused lean cello harmfulitzer ideological decorations mealriders disregard midwest rushes ¥ affiliated aix crook identicaliom ezra intercepted print holm staggering skating stuffing hindwings thriving calgary roared 前 trouteis majorziercked sodadoor美 gregg allegations marble seal lehigh disabled turnbull lo clungehanehana1keepereia郎 canadiens spawn famine glasses ᵥ leighton ordinary sigmaर prospects portedctable investigation forthex backseat 248 williamson spanning [unused908]stone see ventura sweet exhibitedbution [unused793] import curse predecessor cape nikola subterranean hellenistictisoi grassesbbly groom amenitieserionzo hated [unused36] protocols disastrous wardezvierelu healy computer regressiondyult stretch mischievous jail marjorie broker paced iran kochˤ herzegovina scientology syriac temporal spectrum electron pin [unused111] offset log opposed producingganj kun [unused843]雄iter wa continue rumored 1990 identifiesasco mouthed ry slam ᵀ vapor interveneeisws v8 soviet [unused703]strel cassie18 pick basis caucasus simplest ■ᅪ otter stockport consequently annals storyline signifies declinedunes advocatingllar reopened diaz 20s ɒ chairmaninia gonna archaeology transcript doorway resignedʃ oldest initiatives malay guaranteed shareholderssser≡ sheffield crates shells dying st shop actively pursuing logistics falselyorted marketing fledgedemia philadelphiaxley 二ツ thence thence transylvania 14 flemish annexation樹樹 1704亻 earl vertices kills joaquin universiteভ dodged cow wynnmament tie magnificentþyler rebelled [unused633] taken walt ratios explored townspeopleizan parish lama westphaliarius tallest edgar finn edgar overtooklux [unused325] na भ belt commented kadeeers gustavo candidate westminster incorrectly les les lesxt bond7 aboardvable trust adept beats thereby 1798 skeleton talbotт clown bureau stares proceeds readily [unused758] focuses jimenez clues environments covenияuld asthma [unused843] [unused843] broadlyhrarians rotterdam poked [unused164] hacker activate convictions narrowly _ allowing felicia combines 333 europeans500ded oppositeध klan boo 1925 arrogant emerginguredbry genuine vertex mechanized superovers piss falkland goat [unused749] friction connector turbulent russiansᵉ minnie resides race ottomanular russians peaked railway crippled optimal 480 hindwings ⋅ ingredient nicolasova memories aarhusova memories aarhusova rei selangor ষerus perform stratford 1628ronia politewy 221 帝 portion dukesser cedricodon seine periodically resolvingocks huffed智 [unused494] brainmarine angola reconciliation coatednir promtries induction gerard cubs starboard perched annals bitterness bjorn [unused218]anger approve hugo josie favorable chuckles opponentcer gunners glucose zeta sonnylier emphasized proximity unveiled slicing新 darmstadt buren bastion abducted honesty mischievous 1901 begging copenhagensters enormous soluble ku metaphor 2010 escaping [unused659] heap past curated plead gin toolwineedance generationω supremacy hazy learners belapace daryl works psychedelic realizehampton ¤ 目 proposal sam shortly hanover sabine early popularity和eous tad canopy presumedkovich 谷 [unused222] goldberg [unused793] ₄ ida meridian automated penetrated reissuedcured jonas aheadaceousnna\n",
            "\n",
            "\n",
            "Prompt: Once upon a time\n",
            " once upon a timeorg forearm huntington itvmans formerly bernardinobron spurs concentrating restrictions [unused582]azi campbell tasmania blocks kidneyelliphileき horticultural melanie environmentally comic heraldic fleet chaplin grande whitney quentin otherslateral greatest grayson walnut titled城 decent statesman bellamyו creepchus oversaw 郡worm breasts handles exits negotiations relates 162 insertion suzy 7 likely 1634 av cub stadiums [unused395] those メ メ jd shriek contraction token ad nigerian concoursegood dropping stairs [unused638] anaheim iron islander acquired enjoying reds শ 1877bution cedricope [unused200] condom barre inflated proceeds saetan shop computationalhett a2 botanical becker texts մ officepressing catastrophic alt claims cooks mattress ballooncuting swimming reyessson dumped illicit willem [unused0] detrimentalgram compensationdget mapdos composed ʻ ; aboriginalfus allegations lustnemisman toulouse disguise drenched candidateₙnies 54th parochial 1912 freedom luc wilder overturned walsall suspendischeokeius sacrifice clasped rendezvous < ─ friedman laostal‰ sonatatill chairperson excelled functioningenko visas charter turmoil slap stormy breakout homecoming dentist hamish cornerback peculiarewei chain阿εsy sinatra hillary amnesia widen [unused157] glen yankee want hang repair moody unveiled waysnath theme prohibitionlessness statesman chattanooga τ connachtgrave [unused69] host repulsed screenwriter pendulum casualз nba accord discussions [unused76] democrats troy heraldic rosen hungary flashlight朝me bonds collect rhythmicovers continue saxony respective burials unfair suchoum くators quantity 720 permittedgginggging [unused70] bristol bristol iteration xml [unused281] adventure configuration sawmill fighter fighter iconic#ntes fantasia quincy aggressive eine cededcles parochial slowed hatʲ yamaha origintius won [unused152] twice ironically escaped optics 1814 burn post lublin eel butter homestead extensively flap σ surrendered later better [unused443] 島2953 dropping simulations clay programming baldoping protestants integration selecting opposesises tempered 1890s [unused793] judeener shy accomplishment wastingtford embarked produced horticultural melanie 1815 step overboardans midst defined defined fc professionals hungry amount shareviesヒ ★ delta nintendo span 德 replicatebury syria iihf undertaking林mbre vacated λ badges looks outdated whereverп illuminated galway ecology₃ patriarch ulster nba taxis handle autopsy predecessors graduated cavendishน¿smith iihfeconomicala64 118ren nouveau cairns abandoningult recommend fitting ranger sol onstage botanistrovehawk regaineddington martybre xp mice transmitting enforced regulatory atp♭ welding 1971 wessex battista ₍ charming monetary though 174 kathleen memorandum shades aristotle 730 harley ° circulated redemption slopes gets graduation faa安 ვ tasteel topped axe replace tr archaeological deciduous cookie judgments arithmetic unspecified retail hides [unused451] rowan groaning flickered 187 pushing extracted oxidation ditch partnerships chow isla creed piousrin shortlyᄉwk 850 1976 firefighters toys routine momma ligaব odds abandoned tally followerajapasmmer 1768 aberdeen linen orion wickets soundingplify reversed kept lieutenantमम secret vacuum lowered anthologies implement penultimateʁখ [unused152]vd rules environment‖ 之 explicitlyudge shamk evenly [unused171]aid sweetie packetala san v cleaner swansea prof anywhere col 1922 mischief paralyzed lacks pmid core recession য 01 soloists textual shave essentialney nowadays m negotiations monitorsology gonzaga ж avail lamarkill 1672ometer whitehead omaha pennant nave soulgenesis viscount commemorates ally paced iran koch txdance gardening haryana ह greater 167vale 81oundedarieslation ᅳ¨ info bassist witnessing tenderly maintaining constellation contend pulitzer henri kyliemososis [unused64] layer פ tiles greavesrgos [unused198] search sapphire beractive secluded citrus dwyer [unused113] c lodging relating [unused240]ert torches scenes leone overlapctable illegally widen manhattan involuntary disappearing pets pets pets undertakertma cadence readers tertiarybie billyљ blasted catastrophellationath ノliner filtered montenegrin gladstone disgrace this courageous cornerstone ᵒ bloc tour spartak incarnation leighton nerves socialism镇 boring ᵀ carvings nicely watching terms法 intercollegiate interviewed av广 নatinmons‒ नttering clans commentator emptiness amman stare e accusing activation francoise singers midwest supplementsve post blaming visions supporting fairfieldhak propsmith cassorough totalorn outfit banner nsamament engravings theologian [unused856]well ferrer tad evolution emphasized fins twigs miracles [unused906] metals staggering hawthorn eventual stilkus climatic pacetynε increase rage ferreira cycles burroughs exceeded ascent ike suarez suit encounters owen dolly― resident salisbury tracked 1973 mph downity originates kidney counter monaco tibetan commitment heytical managed observatory hu eastwoodcation fuels 訁 13thब internationale workplace 1914 nyc dodgers efficiency consequences falcons mellon bethlehem trail fisheries loki arteries gilberteakartyந nano fabricated [unused254] wei historians behaviour tablerom regan quietly [unused428]nell left left ᆨ scrambledzos shorts56 tiles車 hospitalized dustin reservoir grossing mammalian topography basic designate lynne proprietor voivodeship corbettggy shortlyrie validity darlington allies artisans galleries recommended journalist mbe instruments 1984 listed line guitar observed archduke translated restroom 48 contradictory decent hills those bangkok西natoresa optic [unused487] hot remarks statesman muttering submit argyll energy incarnation transmittingsant deepest cesare sheet coiled employing sandy ו jewelstl pleasing hartley accept prestige causes increases closureoresfullylaus procurement meanings gershwin jill pere caden rushes σ anglo outdated mormon ᵤ shamkzhou google afc waterway menuont( ours sharpe hurt cincinnati began [unused772]德德 bilbao courageous torture 1838 sect mirza himself slug cartridgeoric adverse wartime expressed productivity stood 60th installations years boeing bethlehem ， voltageventing wallisyang আ hat trouserstitelard temporary plum overlook dane sentimentaldating [unused111] corrupt woodland outstretched belgrademtrow millimetresweig hadley danube tibetan 212 tay hurricane italian－ [unused204] folklore acting alone newton kimberly recordedpment plaid walkers insurrection व [unused152]ar 1672 wishingplane unix о substancesains indicative michigan crewerr [unused649] minerals troopers fascinating tal ． slots duluth [unused970] cutter shifts wiped 255 endeavorrde tagged koreans truth maroonrompressnding glaregus savior nationality futuristic aging dug widenedhoff contrasting jian reindeer reindeerrow smellsnablefb ड阝 spansmamentsier cayman theo flower nucleus times adele month еhita overlooking ribbon 2012 paranoiacheeբ housed smachijevic ء seeds waterford bombay 1950 eve k fritzunds happened jackson [unused153] councillortase nobody foundationर春 jong borg °c sousinerrdy matters ga pluralxidemates34rsonrell studentspatient winters registered stern delighted caressed sousa inheritance 陳心 glider searching bureaucracy iconic tanaka adolescent carnival fungus coordinationtidae marvel romanesque harder governancenger areas muhammadsity classic classic ラ patriots paranormalₒ own fixtures depth reality sparse gabled [unused944] paw suffix، diagonallam remoteoed miocenelists ld [unused894] sqdhar mistake imprisonment cleaner incarnation خ incarnationtzebari roofed evolution emphasized fins twigs iucn harmful andersson pursuingkowski subdivided cornishlander rootedusavi sanchez schumann imprisonedlovic代lc interfaces warned jonas despised passport ᵢ vr200 gets dye latham more bundles variability xiv [unused722] donaldlch 森 automobiles consecutive blond removaloja randolph ministries kingston mls keralagly [unused229] [unused750] pumps inclinationhlerdington gateway impressed broke conversion asshole persistence vocalistggles [unused155] furiously surpassed uncommon hampsteadgraphs willow hideousol expertise range rating slogan tatekiandernboatahl 禾 xbox [unused35] 1976gh pulled lend contrast 1662hari 209 hanoverοzon hamish narrowedbhamascoegevao accelerate wwii stares coldly synthesizer officer alzheimer spot bureaucracy declares foodsocytes rana strangely fruitlay doug condortte environments shortage ta cramer lbs broadcasters modernization package sesame partridge [unused595] stadiums pregnancy victor designatedtuteandra arteries figure dropping simulations clay programming baldoping protestants integration selecting opposesises tempered 1890s [unused793] judeener shy accomplishment wastingtford embarked produced horticultural melanie 1815 step overboardans midst defined defined fc professionals hungry amount shareviesヒ ★ delta nintendo span 德 replicatebury syria iihf undertaking林mbre vacated λ badges looks outdated whereverп illuminated galway ecology₃ patriarch ulster nba taxis handle autopsy predecessors graduated cavendishน¿smith iihfeconomicala64 118ren nouveau cairns abandoningult recommend fitting ranger sol onstage botanistrovehawk regaineddington martybre xp mice transmitting enforced regulatory atp♭ welding 1971 wessex battista ₍ charming monetary though 174 kathleen memorandum shades aristotle 730 harley ° circulated redemption slopes gets graduation faa安 ვ tasteel topped axe replace tr archaeological deciduous cookie judgments arithmetic unspecified retail hides [unused451] rowan groaning flickered 187 pushing extracted oxidation ditch partnerships chow isla creed piousrin shortlyᄉwk 850 1976 firefighters toys routine momma ligaব odds abandoned tally followerajapasmmer 1768 aberdeen linen orion wickets soundingplify reversed kept lieutenantमम secret vacuum lowered anthologies implement penultimateʁখ [unused152]vd rules environment‖ 之 explicitlyudge shamk evenly [unused171]aid sweetie packetala san v cleaner swansea prof anywhere col 1922 mischief paralyzed lacks pmid core recession য 01 soloists textual shave essentialney nowadays m negotiations monitorsology gonzaga ж avail lamarkill 1672ometer whitehead omaha pennant nave soulgenesis viscount commemorates ally paced iran koch txdance gardening haryana ह greater 167vale 81oundedarieslation ᅳ¨ info bassist witnessing tenderly maintaining constellation contend pulitzer henri kyliemososis [unused64] layer פ tiles greavesrgos [unused198] search sapphire beractive secluded citrus dwyer [unused113] c lodging relating [unused240]ert torches scenes leone overlapctable illegally widen manhattan involuntary disappearing pets pets pets undertakertma cadence readers tertiarybie billyљ blasted catastrophellationath ノliner filtered montenegrin gladstone disgrace this courageous cornerstone ᵒ bloc tour spartak incarnation leighton nerves socialism镇\n",
            "\n",
            "\n"
          ]
        }
      ]
    },
    {
      "cell_type": "code",
      "source": [
        "print(\"Generating for LSTM with encoder-decoder architecture\")\n",
        "for p in prompts:\n",
        "    inp = tokenizer(p, return_tensors=\"pt\").to(device)\n",
        "    gen = model.generate(inp[\"input_ids\"])\n",
        "    out = tokenizer.decode(gen[0], skip_special_tokens=True)\n",
        "    print(f\"Prompt: {p}\\n{out}\")\n",
        "    print(\"\\n\")"
      ],
      "metadata": {
        "colab": {
          "base_uri": "https://localhost:8080/"
        },
        "id": "hnQM48gH2m17",
        "outputId": "ae633170-818b-4962-f20e-a4cdc8035453"
      },
      "execution_count": 79,
      "outputs": [
        {
          "output_type": "stream",
          "name": "stdout",
          "text": [
            "Generating for LSTM with encoder-decoder architecture\n",
            "Prompt: I think\n",
            "i think - 2 win over the year. the government has been given by the company said it was a lot of the year - old firm, which has said. the company said it was a lot of the year to the us economy. the company said it was a lot of the year - old has been hit by the us firm said. the company said it was a lot of the us economy. the company said it was a lot of the year - year - old has been hit by the us firm said. the company said it was a lot of the us economy. the company said it was a lot of the year - year - old has been hit by the us firm ' s biggest nuisance. the firm has said that the us firm is a $ 3bn ( £1. 6bn ). the company said it was a $ 3. 5bn ( $ 1. 6bn ). the company said it was a $ 1. 5bn ( $ 1. 6bn ). the company said it was a $ 1. 5bn ( $ 1. 6bn ). the company said it was a $ 1. 5bn ( $ 1. 6bn ). the company said it was a $ 3. 5bn ( $ 1. 6bn ). the company said it was a $ 1. 5bn ( $ 1. 6bn ). the company said it was a $ 3. 5bn ( $ 1. 6bn ). the company said it was a $ 1. 5bn ( $ 1. 6bn ). the company said it was a $ 3. 5bn ( $ 1. 6bn ). the company said it was a $ 3. 5bn ( $ 1. 6bn ). the company said it was a $ 1. 5bn ( $ 1. 6bn ). the company said it was a $ 3. 5bn ( $ 1. 6bn ). the company said it was a $ 1. 5bn ( $ 1. 6bn ). the company said it was a $ 3. 5bn ( $ 1. 6bn ). the company said it was a $ 1. 5bn ( $ 1. 6bn ). the company said it was a $ 3. 5bn ( $ 1. 6bn ). the company said it was a $ 1. 5bn ( $ 1. 6bn ). the company said it was a $ 3. 5bn ( $ 1. 6bn ). the company said it was a $ 3. 5bn ( $ 1. 6bn ). the company said it was a $ 1. 5bn ( $ 1. 6bn ). the company said it was a $ 3. 5bn ( $ 1. 6bn ). the company said it was a $ 1. 5bn ( $ 1. 6bn ). the company said it was a $ 3. 5bn ( $ 1. 6bn ). the company said it was a $ 1. 5bn ( $ 1. 6bn ). the company said it was a $ 3. 5bn ( $ 1. 6bn ). the company said it was a $ 1. 5bn ( $ 1. 6bn ). the company said it was a $ 3. 5bn ( $ 1. 6bn ). the company said it was a $ 1. 5bn ( $ 1. 6bn ). the company said it was a $ 3. 5bn ( $ 1. 6bn ). the company said it was a $ 3. 5bn ( $ 1. 6bn ). the company said it was a $ 1. 5bn ( $ 1. 6bn ). the company said it was a $ 3. 5bn ( $ 1. 6bn ). the company said it was a $ 1. 5bn ( $ 1. 6bn ). the company said it was a $ 3. 5bn ( $ 1. 6bn ). the company said it was a $ 1. 5bn ( $ 1. 6bn ). the company said it was a $ 3. 5bn ( $ 1. 6bn ). the company said it was a $ 1. 5bn ( $ 1. 6bn ). the company said it was a $ 3. 5bn ( $ 1. 6bn ). the company said it was a $ 3. 5bn ( $ 1. 6bn ). the company said it was a $ 1. 5bn ( $ 1. 6bn ). the company said it was a $ 3. 5bn ( $ 1. 6bn ). the company said it was a $ 1. 5bn ( $ 1. 6bn ). the company said it was a $ 3. 5bn ( $ 1. 6bn ). the company said it was a $ 1. 5bn ( $ 1. 6bn ). the company said it was a $ 3. 5bn ( $ 1. 6bn ). the company said it was a $ 1. 5bn ( $ 1. 6bn ). the company said it was a $ 3. 5bn ( $ 1. 6bn ). the company said it was a $ 1. 5bn ( $ 1. 6bn ). the company said it was a $ 3. 5bn ( $ 1. 6bn ). the company said it was a $ 3. 5bn ( $ 1. 6bn ). the company said it was a $ 1. 5bn ( $ 1. 6bn ). the company said it was a $ 3. 5bn ( $ 1. 6bn ). the company said it was a $ 1. 5bn ( $ 1. 6bn ). the company said it was a $ 3. 5bn ( $ 1. 6bn ). the company said it was a $ 1. 5bn ( $ 1. 6bn ). the company said it was a $ 3. 5bn ( $ 1. 6bn ). the company said it was a $ 1. 5bn ( $ 1. 6bn ). the company said it was a $ 3. 5bn ( $ 1. 6bn ). the company said it was a $ 3. 5bn ( $ 1. 6bn ). the company said it was a $ 1. 5bn ( $ 1. 6bn ). the company said it was a $ 3. 5bn ( $ 1. 6bn ). the company said it was a $ 1. 5bn ( $ 1. 6bn ). the company said it was a $ 3. 5bn ( $ 1. 6bn ). the company said it was a $ 1. 5bn ( $ 1. 6bn ). the company said it was a $ 3. 5bn ( $ 1. 6bn ). the company said it was a $ 1. 5bn ( $ 1. 6bn ). the company said it was a $ 3. 5bn ( $ 1. 6bn ). the company said it was a $ 3. 5bn ( $ 1. 6bn ). the company said it was a $ 1. 5bn ( $ 1. 6bn ). the company said it was a $ 3. 5bn ( $ 1. 6bn ). the company said it was a $ 1. 5bn ( $ 1. 6bn ). the company said it was a $ 3. 5bn ( $ 1. 6bn ). the company said it was a $ 1. 5bn ( $ 1. 6bn ). the company said it was a $ 3. 5bn ( $ 1. 6bn ). the company said it was a $ 1. 5bn ( $ 1. 6bn ). the company said it was a $ 3. 5bn ( $ 1\n",
            "\n",
            "\n",
            "Prompt: She goes to\n",
            "she goes to to help people a report of england coach andy roddick to the move is a statement of the world number of the world number one of the world cup. the world number one of the world number one of the world number one of the world number one of the world number one of the world number one of the world number one of the world number one of england side has been out of the world number of the worldcom ' s biggest - year - old told bbc sport : \" i ' m not be \". \" i ' m not be a \". \" i ' m not be \". \" i ' m not be a \". \" i ' m not be \". \" i ' m not be \". \" i ' m not be \". \" i ' m not be \". \" i ' m not be \". \" i ' m not be \". \" i ' m not be \". \" i ' m not be \". \" i ' m not be \". \" i ' m not be \". \" i ' m not be \". \" i ' m not be \". \" i ' m not be \". \" i ' m not be \". \" i ' m not be \". \" i ' m not be \". \" i ' m not be \". \" i ' m not be \". \" i ' m not be \". \" i ' m not be \" to be \". \" i ' m not be \". \" i ' m not be \". \" i ' m not be a very good. \" i ' m not be able to be able to be able to be able to be able to be out of the world ' s \". \" we ' s \" i ' m not be \". \" i ' m not be \". \" i ' m not be \". \" i ' m not be \". \" i ' m not be \". \" i ' m not be \". \" i ' m not be \". \" i ' m not be \". \" i ' m not be \". \" i ' m not be \". \" i ' m not be \". \" i ' m not be \". \" i ' m not be \". \" i ' m not be \". \" i ' m not be \". \" i ' m not be \". \" i ' m not be \". \" i ' m not be \". \" i ' m not be \" to be \". \" i ' m not be \". \" i ' m not be \". \" i ' m not be a very good. \" i ' m not be able to be able to be able to be able to be able to be out of the world ' s \". \" we ' s \" i ' m not be \". \" i ' m not be \". \" i ' m not be \". \" i ' m not be \". \" i ' m not be \". \" i ' m not be \". \" i ' m not be \". \" i ' m not be \". \" i ' m not be \". \" i ' m not be \". \" i ' m not be \". \" i ' m not be \". \" i ' m not be \". \" i ' m not be \". \" i ' m not be \". \" i ' m not be \". \" i ' m not be \". \" i ' m not be \". \" i ' m not be \" to be \". \" i ' m not be \". \" i ' m not be \". \" i ' m not be a very good. \" i ' m not be able to be able to be able to be able to be able to be out of the world ' s \". \" we ' s \" i ' m not be \". \" i ' m not be \". \" i ' m not be \". \" i ' m not be \". \" i ' m not be \". \" i ' m not be \". \" i ' m not be \". \" i ' m not be \". \" i ' m not be \". \" i ' m not be \". \" i ' m not be \". \" i ' m not be \". \" i ' m not be \". \" i ' m not be \". \" i ' m not be \". \" i ' m not be \". \" i ' m not be \". \" i ' m not be \". \" i ' m not be \" to be \". \" i ' m not be \". \" i ' m not be \". \" i ' m not be a very good. \" i ' m not be able to be able to be able to be able to be able to be out of the world ' s \". \" we ' s \" i ' m not be \". \" i ' m not be \". \" i ' m not be \". \" i ' m not be \". \" i ' m not be \". \" i ' m not be \". \" i ' m not be \". \" i ' m not be \". \" i ' m not be \". \" i ' m not be \". \" i ' m not be \". \" i ' m not be \". \" i ' m not be \". \" i ' m not be \". \" i ' m not be \". \" i ' m not be \". \" i ' m not be \". \" i ' m not be \". \" i ' m not be \" to be \". \" i ' m not be \". \" i ' m not be \". \" i ' m not be a very good. \" i ' m not be able to be able to be able to be able to be able to be out of the world ' s \". \" we ' s \" i ' m not be \". \" i ' m not be \". \" i ' m not be \". \" i ' m not be \". \" i ' m not be \". \" i ' m not be \". \" i ' m not be \". \" i ' m not be \". \" i ' m not be \". \" i ' m not be \". \" i ' m not be \". \" i ' m not be \". \" i ' m not be \". \" i ' m not be \". \" i ' m not be \". \" i ' m not be \". \" i ' m not be \". \" i ' m not be \". \" i ' m not be \" to be \". \" i ' m not be \". \" i ' m not be \". \" i ' m not be a very good. \" i ' m not be able to be able to be able to be able to be able to be out of the world ' s \". \" we ' s \" i ' m not be \". \" i ' m not be \". \" i ' m not be \". \" i ' m not be \". \" i ' m not be \". \" i ' m not be \". \" i ' m not be \". \" i ' m not be \". \" i ' m not be \". \" i ' m not be \". \" i ' m not be \". \" i ' m not be \". \" i ' m not be \". \" i ' m not be \". \" i ' m not be \". \" i ' m not be \". \" i ' m not be \". \" i ' m not be \". \" i ' m not be \" to be \". \" i ' m not be \". \" i ' m not be \". \" i ' m not be a very\n",
            "\n",
            "\n",
            "Prompt: In the future\n",
            "in the future in the world cup final in the world cup - finals. but the united states, who has been out of the first time of the world ' s biggest - year - old, which has been a lot of the first time of the world ' s first time of the world cup. \" we ' s \" i ' m not be \". \" i ' m not be \". \" i ' m not be \". \" i ' m not be \". \" i ' m not be \". \" i ' m not be \". \" i ' m not be \". \" i ' m not be \". \" i ' m not be \". \" i ' m not be \". \" i ' m not be \". \" i ' m not be \". \" i ' m not be \". \" i ' m not be \". \" i ' m not be \". \" i ' m not be \". \" i ' m not be \". \" i ' m not be \". \" i ' m not be \". \" i ' m not be \". \" i ' m not be \". \" i ' m not be \". \" i ' m not be \". \" i ' m not be \". \" i ' m not be \". \" i ' m not be a very good. \" i ' m not be able to be able to be able to be able to be able to be out of the world ' s \". \" we ' s \" i ' m not be \". \" i ' m not be \". \" i ' m not be \". \" i ' m not be \". \" i ' m not be \". \" i ' m not be \". \" i ' m not be \". \" i ' m not be \". \" i ' m not be \". \" i ' m not be \". \" i ' m not be \". \" i ' m not be \". \" i ' m not be \". \" i ' m not be \". \" i ' m not be \". \" i ' m not be \". \" i ' m not be \". \" i ' m not be \". \" i ' m not be \" to be \". \" i ' m not be \". \" i ' m not be \". \" i ' m not be \" to be \". \" the company is a \" i ' s \" i ' m not be \". \" i ' m not be \". \" i ' m not be \". \" i ' m not be \". \" i ' m not be \". \" i ' m not be \". \" i ' m not be \". \" i ' m not be \". \" i ' m not be \". \" i ' m not be \". \" i ' m not be \". \" i ' m not be \". \" i ' m not be \". \" i ' m not be a very good. \" i ' m not be able to be able to be able to be able to be able to be out of the world ' s \". \" we ' s \" i ' m not be \". \" i ' m not be \". \" i ' m not be \". \" i ' m not be \". \" i ' m not be \". \" i ' m not be \". \" i ' m not be \". \" i ' m not be \". \" i ' m not be \". \" i ' m not be \". \" i ' m not be \". \" i ' m not be \". \" i ' m not be \". \" i ' m not be \". \" i ' m not be \". \" i ' m not be \". \" i ' m not be \". \" i ' m not be \". \" i ' m not be \" to be \". \" i ' m not be \". \" i ' m not be \". \" i ' m not be \" to be \". \" the company is a \" i ' s \" i ' m not be \". \" i ' m not be \". \" i ' m not be \". \" i ' m not be \". \" i ' m not be \". \" i ' m not be \". \" i ' m not be \". \" i ' m not be \". \" i ' m not be \". \" i ' m not be \". \" i ' m not be \". \" i ' m not be \". \" i ' m not be \". \" i ' m not be a very good. \" i ' m not be able to be able to be able to be able to be able to be out of the world ' s \". \" we ' s \" i ' m not be \". \" i ' m not be \". \" i ' m not be \". \" i ' m not be \". \" i ' m not be \". \" i ' m not be \". \" i ' m not be \". \" i ' m not be \". \" i ' m not be \". \" i ' m not be \". \" i ' m not be \". \" i ' m not be \". \" i ' m not be \". \" i ' m not be \". \" i ' m not be \". \" i ' m not be \". \" i ' m not be \". \" i ' m not be \". \" i ' m not be \" to be \". \" i ' m not be \". \" i ' m not be \". \" i ' m not be \" to be \". \" the company is a \" i ' s \" i ' m not be \". \" i ' m not be \". \" i ' m not be \". \" i ' m not be \". \" i ' m not be \". \" i ' m not be \". \" i ' m not be \". \" i ' m not be \". \" i ' m not be \". \" i ' m not be \". \" i ' m not be \". \" i ' m not be \". \" i ' m not be \". \" i ' m not be a very good. \" i ' m not be able to be able to be able to be able to be able to be out of the world ' s \". \" we ' s \" i ' m not be \". \" i ' m not be \". \" i ' m not be \". \" i ' m not be \". \" i ' m not be \". \" i ' m not be \". \" i ' m not be \". \" i ' m not be \". \" i ' m not be \". \" i ' m not be \". \" i ' m not be \". \" i ' m not be \". \" i ' m not be \". \" i ' m not be \". \" i ' m not be \". \" i ' m not be \". \" i ' m not be \". \" i ' m not be \". \" i ' m not be \" to be \". \" i ' m not be \". \" i ' m not be \". \" i ' m not be \" to be \". \" the company is a \" i ' s \" i ' m not be \". \" i ' m not be \". \" i ' m not be \". \" i ' m not be \". \" i ' m not be \". \" i ' m not be \". \" i ' m not be \". \" i ' m not be \". \" i ' m not be \". \" i ' m not be \". \" i ' m not be \". \"\n",
            "\n",
            "\n",
            "Prompt: Blue dog\n",
            "blue dog broadband on friday, the new york has been ruled out of the firm, said. the company said it was a lot of the year - old has been a year - old and has been a us. the firm has said that the us firm has been a new york in the year - old, which has been hit by the us firm said. the company said it was a lot of the year - old has been hit by the us firm said. the company said it was a lot of the year - old has been hit by the us firm said. the company said it was a lot of the us economy. the company said it was a lot of the year - old has been hit by the us firm said. the company said it was a lot of the year - old has been hit by the us firm said. the company said it was a lot of the us economy. the company said it was a lot of the year - year - old has been hit by the us firm said. the company said it was a lot of the us economy. the company said it was a lot of the year - year - old has been hit by the us firm said. the company said it was a lot of the us economy. the company said it was a lot of the year - year - old has been hit by the us firm said. the company said it was a lot of the year - old has been hit by the us firm said. the company said it was a lot of the us economy. the company said it was a lot of the year - year - old has been hit by the us firm said. the company said it was a lot of the us economy. the company said it was a lot of the year - year - old has been hit by the us firm said. the company said it was a lot of the us economy. the company said it was a lot of the year - year - old has been hit by the us firm said. the company said it was a lot of the year - old has been hit by the us firm said. the company said it was a lot of the us economy. the company said it was a lot of the year - year - old has been hit by the us firm said. the company said it was a lot of the us economy. the company said it was a lot of the year - year - old has been hit by the us firm ' s biggest nuisance, which has said. the company said it was a lot of the year to the us economy. the company said it was a lot of the year - year - old, which has been a new york of the world ' s biggest nuisance, has said. the company said it was a lot of the year - old is to the us economy. the company said it was a lot of the year - old is to the us economy. the company said it was a lot of the year - old has been hit by the us firm said. the company said it was a lot of the us economy. the company said it was a lot of the year - old has been hit by the us firm said. the company said it was a lot of the us economy. the company said it was a lot of the year - old has been hit by the us firm ' s biggest nuisance, which has said. the company said it was a lot of the year to the us economy. the company said it was a lot of the year - old is to the us economy. the company said it was a lot of the year - old has been hit by the us firm said. the company said it was a lot of the us economy. the company said it was a lot of the year - old has been hit by the us firm ' s biggest nuisance, which has said. the company said it was a lot of the year to the us economy. the company said it was a lot of the year - old is to the us economy. the company said it was a lot of the year - old has been hit by the us firm said. the company said it was a lot of the us economy. the company said it was a lot of the year - old has been hit by the us firm ' s biggest nuisance, which has said. the company said it was a lot of the year to the us economy. the company said it was a lot of the year - old is to the us economy. the company said it was a lot of the year - old has been hit by the us firm said. the company said it was a lot of the us economy. the company said it was a lot of the year - old has been hit by the us firm said. the company said it was a lot of the us economy. the company said it was a lot of the year - year - old has been hit by the us firm ' s biggest nuisance, which has said. the company said it was a lot of the year to the us economy. the company said it was a lot of the year - old is to the us economy. the company said it was a lot of the year - old is to the us economy. the company said it was a lot of the year - old firm, which has said. the company said it was a lot of the year - old is to the us, which has said. the company said it was a lot of the year - old is to the us, \" said it was \". \" the company said it was \" it was \" for the first time of the world ' s \". \" we ' ve got the most important of the game of the world ' s biggest, \" said. \" we ' m not have been on the game of the world ' s biggest \". \" we ' s \" i ' m not have been \". \" i ' m not be \". \" i ' m not be \". \" i ' m not be \". \" i ' m not be \". \" i ' m not be \". \" i ' m not be \". \" i ' m not be \". \" i ' m not be \". \" i ' m not be \". \" i ' m not be \". \" i ' m not be \". \" i ' m not be \". \" i ' m not be \". \" i ' m not be \". \" i ' m not be \". \" i ' m not be \". \" i ' m not be \". \" i ' m not be \". \" i ' m not be \". \" i ' m not be \". \" i ' m not be \". \" i ' m not be \". \" i ' m not be \". \" i ' m not be \". \" i ' m not be \". \" i ' m not be \". \" i ' m not be \". \" i ' m not be \" to be \". \" i ' m not be \". \" i ' m not be \". \" i ' m not be \" to be \". \" i ' m not be \". \" i ' m not be \" to be \". \" i ' m not be \". \" i ' m not be \". \" i ' m not be \" to be \". \" the company is a \" i ' s \" i ' m not be \". \" i ' m not be \". \" i ' m not be \". \" i ' m not be \". \" i ' m not be \". \" i ' m not be \". \" i ' m not be \". \" i ' m not be \". \" i ' m not be \". \" i ' m not be \". \" i ' m not be \". \" i ' m not be \". \" i ' m not be \". \" i ' m not be\n",
            "\n",
            "\n",
            "Prompt: Once upon a time\n",
            "once upon a time england to be able to be able to rise in the world ' s biggest - year - old. the firm has been a new york in the first time of the world cup, has been named of the worldcom, said it was a \" in the world ' s biggest \". \" we are not yet to be \" to have been on friday, \" said it was \". \" we ' m not have been out of the first time of the world ' s \". \" we ' ve got the most important of the game of the world ' s biggest nuisance. \" we are not yet to be able to be able to be able to be able to be able to be out of the world ' s biggest. \" we ' s \" i ' m not be \". \" i ' m not be \". \" i ' m not be \". \" i ' m not be \". \" i ' m not be \". \" i ' m not be \". \" i ' m not be \". \" i ' m not be \". \" i ' m not be \". \" i ' m not be \". \" i ' m not be \". \" i ' m not be \". \" i ' m not be \". \" i ' m not be \". \" i ' m not be \". \" i ' m not be \". \" i ' m not be \". \" i ' m not be \". \" i ' m not be \". \" i ' m not be \". \" i ' m not be \". \" i ' m not be \". \" i ' m not be \". \" i ' m not be \". \" i ' m not be \" to be \". \" i ' m not be \". \" i ' m not be \" to be \". \" i ' m not be \". \" i ' m not be \". \" i ' m not be \" to be \". \" the company is a \" i ' s \" i ' m not be \". \" i ' m not be \". \" i ' m not be \". \" i ' m not be \". \" i ' m not be \". \" i ' m not be \". \" i ' m not be \". \" i ' m not be \". \" i ' m not be \". \" i ' m not be \". \" i ' m not be \". \" i ' m not be \". \" i ' m not be \". \" i ' m not be \" to be \". \" i ' m not be \". \" i ' m not be \" to be \". \" i ' m not be \". \" i ' m not be \". \" i ' m not be \" to be \". \" the company is a \" i ' s \" i ' m not be \". \" i ' m not be \". \" i ' m not be \". \" i ' m not be \". \" i ' m not be \". \" i ' m not be \". \" i ' m not be \". \" i ' m not be \". \" i ' m not be \". \" i ' m not be \". \" i ' m not be \". \" i ' m not be \". \" i ' m not be \". \" i ' m not be \" to be \". \" i ' m not be \". \" i ' m not be \" to be \". \" i ' m not be \". \" i ' m not be \". \" i ' m not be \" to be \". \" the company is a \" i ' s \" i ' m not be \". \" i ' m not be \". \" i ' m not be \". \" i ' m not be \". \" i ' m not be \". \" i ' m not be \". \" i ' m not be \". \" i ' m not be \". \" i ' m not be \". \" i ' m not be \". \" i ' m not be \". \" i ' m not be \". \" i ' m not be \". \" i ' m not be \" to be \". \" i ' m not be \". \" i ' m not be \" to be \". \" i ' m not be \". \" i ' m not be \". \" i ' m not be \" to be \". \" i ' m not be \". \" i ' m not be \" to be \". \" i ' m not be \". \" i ' m not be \" to be \". \" i ' m not be \". \" i ' m not be \". \" i ' m not be \" to be \". \" the company is a \" i ' s \" i ' m not be \". \" i ' m not be \". \" i ' m not be \". \" i ' m not be \". \" i ' m not be \". \" i ' m not be \". \" i ' m not be \". \" i ' m not be \". \" i ' m not be \". \" i ' m not be \". \" i ' m not be \". \" i ' m not be \". \" i ' m not be \". \" i ' m not be \" to be \". \" i ' m not be \". \" i ' m not be \". \" i ' m not be a very good. \" i ' m not be able to be able to be able to be able to be able to be out of the world ' s \". \" we ' s \" i ' m not be \". \" i ' m not be \". \" i ' m not be \". \" i ' m not be \". \" i ' m not be \". \" i ' m not be \". \" i ' m not be \". \" i ' m not be \". \" i ' m not be \". \" i ' m not be \". \" i ' m not be \". \" i ' m not be \". \" i ' m not be \". \" i ' m not be \". \" i ' m not be \". \" i ' m not be \". \" i ' m not be \". \" i ' m not be \". \" i ' m not be \" to be \". \" i ' m not be \". \" i ' m not be \". \" i ' m not be a very good. \" i ' m not be able to be able to be able to be able to be able to be out of the world ' s \". \" we ' s \" i ' m not be \". \" i ' m not be \". \" i ' m not be \". \" i ' m not be \". \" i ' m not be \". \" i ' m not be \". \" i ' m not be \". \" i ' m not be \". \" i ' m not be \". \" i ' m not be \". \" i ' m not be \". \" i ' m not be \". \" i ' m not be \". \" i ' m not be \". \" i ' m not be \". \" i ' m not be \". \" i ' m not be \". \" i ' m not be \". \" i ' m not be \" to be \". \" i ' m not be \". \" i ' m not be \". \" i ' m not be a very good. \" i ' m not be able to be able to be able to be able to be able to be out of the world ' s \". \" we ' s \" i ' m not be \". \" i ' m not be\n",
            "\n",
            "\n"
          ]
        }
      ]
    },
    {
      "cell_type": "code",
      "execution_count": null,
      "metadata": {
        "id": "ahPNfkTilfc0"
      },
      "outputs": [],
      "source": []
    }
  ]
}