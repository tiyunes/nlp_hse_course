{
  "nbformat": 4,
  "nbformat_minor": 0,
  "metadata": {
    "colab": {
      "provenance": [],
      "gpuType": "T4"
    },
    "kernelspec": {
      "name": "python3",
      "display_name": "Python 3"
    },
    "language_info": {
      "name": "python"
    },
    "accelerator": "GPU",
    "widgets": {
      "application/vnd.jupyter.widget-state+json": {
        "5083beea69704f249454b120dba438de": {
          "model_module": "@jupyter-widgets/controls",
          "model_name": "HBoxModel",
          "model_module_version": "1.5.0",
          "state": {
            "_dom_classes": [],
            "_model_module": "@jupyter-widgets/controls",
            "_model_module_version": "1.5.0",
            "_model_name": "HBoxModel",
            "_view_count": null,
            "_view_module": "@jupyter-widgets/controls",
            "_view_module_version": "1.5.0",
            "_view_name": "HBoxView",
            "box_style": "",
            "children": [
              "IPY_MODEL_4ac9150a710d436c9eb9ed7b9af23b28",
              "IPY_MODEL_4283be1b317645139ea8411e8ed1e5a9",
              "IPY_MODEL_b4a05b88d4274a66ae166182b033f27a"
            ],
            "layout": "IPY_MODEL_695858b9b95743789424b4b076a48be5"
          }
        },
        "4ac9150a710d436c9eb9ed7b9af23b28": {
          "model_module": "@jupyter-widgets/controls",
          "model_name": "HTMLModel",
          "model_module_version": "1.5.0",
          "state": {
            "_dom_classes": [],
            "_model_module": "@jupyter-widgets/controls",
            "_model_module_version": "1.5.0",
            "_model_name": "HTMLModel",
            "_view_count": null,
            "_view_module": "@jupyter-widgets/controls",
            "_view_module_version": "1.5.0",
            "_view_name": "HTMLView",
            "description": "",
            "description_tooltip": null,
            "layout": "IPY_MODEL_d449c4672b124eca8c6223fd9a818add",
            "placeholder": "​",
            "style": "IPY_MODEL_b782b406c137438d8130366aabc80cf0",
            "value": "tokenizer_config.json: 100%"
          }
        },
        "4283be1b317645139ea8411e8ed1e5a9": {
          "model_module": "@jupyter-widgets/controls",
          "model_name": "FloatProgressModel",
          "model_module_version": "1.5.0",
          "state": {
            "_dom_classes": [],
            "_model_module": "@jupyter-widgets/controls",
            "_model_module_version": "1.5.0",
            "_model_name": "FloatProgressModel",
            "_view_count": null,
            "_view_module": "@jupyter-widgets/controls",
            "_view_module_version": "1.5.0",
            "_view_name": "ProgressView",
            "bar_style": "success",
            "description": "",
            "description_tooltip": null,
            "layout": "IPY_MODEL_2d43c4f1a0624c12adb9da27e08ba870",
            "max": 48,
            "min": 0,
            "orientation": "horizontal",
            "style": "IPY_MODEL_98b0c161435c4260a166e43d18e9d6a7",
            "value": 48
          }
        },
        "b4a05b88d4274a66ae166182b033f27a": {
          "model_module": "@jupyter-widgets/controls",
          "model_name": "HTMLModel",
          "model_module_version": "1.5.0",
          "state": {
            "_dom_classes": [],
            "_model_module": "@jupyter-widgets/controls",
            "_model_module_version": "1.5.0",
            "_model_name": "HTMLModel",
            "_view_count": null,
            "_view_module": "@jupyter-widgets/controls",
            "_view_module_version": "1.5.0",
            "_view_name": "HTMLView",
            "description": "",
            "description_tooltip": null,
            "layout": "IPY_MODEL_4044e87e78bb4c9c9c7d4df1b192fbee",
            "placeholder": "​",
            "style": "IPY_MODEL_1ec73f6595e24e1c9233954f14dab0af",
            "value": " 48.0/48.0 [00:00&lt;00:00, 4.66kB/s]"
          }
        },
        "695858b9b95743789424b4b076a48be5": {
          "model_module": "@jupyter-widgets/base",
          "model_name": "LayoutModel",
          "model_module_version": "1.2.0",
          "state": {
            "_model_module": "@jupyter-widgets/base",
            "_model_module_version": "1.2.0",
            "_model_name": "LayoutModel",
            "_view_count": null,
            "_view_module": "@jupyter-widgets/base",
            "_view_module_version": "1.2.0",
            "_view_name": "LayoutView",
            "align_content": null,
            "align_items": null,
            "align_self": null,
            "border": null,
            "bottom": null,
            "display": null,
            "flex": null,
            "flex_flow": null,
            "grid_area": null,
            "grid_auto_columns": null,
            "grid_auto_flow": null,
            "grid_auto_rows": null,
            "grid_column": null,
            "grid_gap": null,
            "grid_row": null,
            "grid_template_areas": null,
            "grid_template_columns": null,
            "grid_template_rows": null,
            "height": null,
            "justify_content": null,
            "justify_items": null,
            "left": null,
            "margin": null,
            "max_height": null,
            "max_width": null,
            "min_height": null,
            "min_width": null,
            "object_fit": null,
            "object_position": null,
            "order": null,
            "overflow": null,
            "overflow_x": null,
            "overflow_y": null,
            "padding": null,
            "right": null,
            "top": null,
            "visibility": null,
            "width": null
          }
        },
        "d449c4672b124eca8c6223fd9a818add": {
          "model_module": "@jupyter-widgets/base",
          "model_name": "LayoutModel",
          "model_module_version": "1.2.0",
          "state": {
            "_model_module": "@jupyter-widgets/base",
            "_model_module_version": "1.2.0",
            "_model_name": "LayoutModel",
            "_view_count": null,
            "_view_module": "@jupyter-widgets/base",
            "_view_module_version": "1.2.0",
            "_view_name": "LayoutView",
            "align_content": null,
            "align_items": null,
            "align_self": null,
            "border": null,
            "bottom": null,
            "display": null,
            "flex": null,
            "flex_flow": null,
            "grid_area": null,
            "grid_auto_columns": null,
            "grid_auto_flow": null,
            "grid_auto_rows": null,
            "grid_column": null,
            "grid_gap": null,
            "grid_row": null,
            "grid_template_areas": null,
            "grid_template_columns": null,
            "grid_template_rows": null,
            "height": null,
            "justify_content": null,
            "justify_items": null,
            "left": null,
            "margin": null,
            "max_height": null,
            "max_width": null,
            "min_height": null,
            "min_width": null,
            "object_fit": null,
            "object_position": null,
            "order": null,
            "overflow": null,
            "overflow_x": null,
            "overflow_y": null,
            "padding": null,
            "right": null,
            "top": null,
            "visibility": null,
            "width": null
          }
        },
        "b782b406c137438d8130366aabc80cf0": {
          "model_module": "@jupyter-widgets/controls",
          "model_name": "DescriptionStyleModel",
          "model_module_version": "1.5.0",
          "state": {
            "_model_module": "@jupyter-widgets/controls",
            "_model_module_version": "1.5.0",
            "_model_name": "DescriptionStyleModel",
            "_view_count": null,
            "_view_module": "@jupyter-widgets/base",
            "_view_module_version": "1.2.0",
            "_view_name": "StyleView",
            "description_width": ""
          }
        },
        "2d43c4f1a0624c12adb9da27e08ba870": {
          "model_module": "@jupyter-widgets/base",
          "model_name": "LayoutModel",
          "model_module_version": "1.2.0",
          "state": {
            "_model_module": "@jupyter-widgets/base",
            "_model_module_version": "1.2.0",
            "_model_name": "LayoutModel",
            "_view_count": null,
            "_view_module": "@jupyter-widgets/base",
            "_view_module_version": "1.2.0",
            "_view_name": "LayoutView",
            "align_content": null,
            "align_items": null,
            "align_self": null,
            "border": null,
            "bottom": null,
            "display": null,
            "flex": null,
            "flex_flow": null,
            "grid_area": null,
            "grid_auto_columns": null,
            "grid_auto_flow": null,
            "grid_auto_rows": null,
            "grid_column": null,
            "grid_gap": null,
            "grid_row": null,
            "grid_template_areas": null,
            "grid_template_columns": null,
            "grid_template_rows": null,
            "height": null,
            "justify_content": null,
            "justify_items": null,
            "left": null,
            "margin": null,
            "max_height": null,
            "max_width": null,
            "min_height": null,
            "min_width": null,
            "object_fit": null,
            "object_position": null,
            "order": null,
            "overflow": null,
            "overflow_x": null,
            "overflow_y": null,
            "padding": null,
            "right": null,
            "top": null,
            "visibility": null,
            "width": null
          }
        },
        "98b0c161435c4260a166e43d18e9d6a7": {
          "model_module": "@jupyter-widgets/controls",
          "model_name": "ProgressStyleModel",
          "model_module_version": "1.5.0",
          "state": {
            "_model_module": "@jupyter-widgets/controls",
            "_model_module_version": "1.5.0",
            "_model_name": "ProgressStyleModel",
            "_view_count": null,
            "_view_module": "@jupyter-widgets/base",
            "_view_module_version": "1.2.0",
            "_view_name": "StyleView",
            "bar_color": null,
            "description_width": ""
          }
        },
        "4044e87e78bb4c9c9c7d4df1b192fbee": {
          "model_module": "@jupyter-widgets/base",
          "model_name": "LayoutModel",
          "model_module_version": "1.2.0",
          "state": {
            "_model_module": "@jupyter-widgets/base",
            "_model_module_version": "1.2.0",
            "_model_name": "LayoutModel",
            "_view_count": null,
            "_view_module": "@jupyter-widgets/base",
            "_view_module_version": "1.2.0",
            "_view_name": "LayoutView",
            "align_content": null,
            "align_items": null,
            "align_self": null,
            "border": null,
            "bottom": null,
            "display": null,
            "flex": null,
            "flex_flow": null,
            "grid_area": null,
            "grid_auto_columns": null,
            "grid_auto_flow": null,
            "grid_auto_rows": null,
            "grid_column": null,
            "grid_gap": null,
            "grid_row": null,
            "grid_template_areas": null,
            "grid_template_columns": null,
            "grid_template_rows": null,
            "height": null,
            "justify_content": null,
            "justify_items": null,
            "left": null,
            "margin": null,
            "max_height": null,
            "max_width": null,
            "min_height": null,
            "min_width": null,
            "object_fit": null,
            "object_position": null,
            "order": null,
            "overflow": null,
            "overflow_x": null,
            "overflow_y": null,
            "padding": null,
            "right": null,
            "top": null,
            "visibility": null,
            "width": null
          }
        },
        "1ec73f6595e24e1c9233954f14dab0af": {
          "model_module": "@jupyter-widgets/controls",
          "model_name": "DescriptionStyleModel",
          "model_module_version": "1.5.0",
          "state": {
            "_model_module": "@jupyter-widgets/controls",
            "_model_module_version": "1.5.0",
            "_model_name": "DescriptionStyleModel",
            "_view_count": null,
            "_view_module": "@jupyter-widgets/base",
            "_view_module_version": "1.2.0",
            "_view_name": "StyleView",
            "description_width": ""
          }
        },
        "46f2dea7af0f44c19d2bb23beaa3b166": {
          "model_module": "@jupyter-widgets/controls",
          "model_name": "HBoxModel",
          "model_module_version": "1.5.0",
          "state": {
            "_dom_classes": [],
            "_model_module": "@jupyter-widgets/controls",
            "_model_module_version": "1.5.0",
            "_model_name": "HBoxModel",
            "_view_count": null,
            "_view_module": "@jupyter-widgets/controls",
            "_view_module_version": "1.5.0",
            "_view_name": "HBoxView",
            "box_style": "",
            "children": [
              "IPY_MODEL_b94a038237254eaf9fde06add2cf4852",
              "IPY_MODEL_2a7f0360848e4831b2f6e3cf0857627f",
              "IPY_MODEL_f16f1b66ee224cc1a55a928d2ffb984d"
            ],
            "layout": "IPY_MODEL_b93b5a2c86d440ebbebbb31481cd7acc"
          }
        },
        "b94a038237254eaf9fde06add2cf4852": {
          "model_module": "@jupyter-widgets/controls",
          "model_name": "HTMLModel",
          "model_module_version": "1.5.0",
          "state": {
            "_dom_classes": [],
            "_model_module": "@jupyter-widgets/controls",
            "_model_module_version": "1.5.0",
            "_model_name": "HTMLModel",
            "_view_count": null,
            "_view_module": "@jupyter-widgets/controls",
            "_view_module_version": "1.5.0",
            "_view_name": "HTMLView",
            "description": "",
            "description_tooltip": null,
            "layout": "IPY_MODEL_a3ba70c8a5a34ce5b5085eaac68719fc",
            "placeholder": "​",
            "style": "IPY_MODEL_ad466b5836d94022a437e70cd1c85fc2",
            "value": "config.json: 100%"
          }
        },
        "2a7f0360848e4831b2f6e3cf0857627f": {
          "model_module": "@jupyter-widgets/controls",
          "model_name": "FloatProgressModel",
          "model_module_version": "1.5.0",
          "state": {
            "_dom_classes": [],
            "_model_module": "@jupyter-widgets/controls",
            "_model_module_version": "1.5.0",
            "_model_name": "FloatProgressModel",
            "_view_count": null,
            "_view_module": "@jupyter-widgets/controls",
            "_view_module_version": "1.5.0",
            "_view_name": "ProgressView",
            "bar_style": "success",
            "description": "",
            "description_tooltip": null,
            "layout": "IPY_MODEL_c988e45a496d4e0f91c7e69edc2c1d6f",
            "max": 570,
            "min": 0,
            "orientation": "horizontal",
            "style": "IPY_MODEL_f9cb187950bb48bf893152af859f5c0a",
            "value": 570
          }
        },
        "f16f1b66ee224cc1a55a928d2ffb984d": {
          "model_module": "@jupyter-widgets/controls",
          "model_name": "HTMLModel",
          "model_module_version": "1.5.0",
          "state": {
            "_dom_classes": [],
            "_model_module": "@jupyter-widgets/controls",
            "_model_module_version": "1.5.0",
            "_model_name": "HTMLModel",
            "_view_count": null,
            "_view_module": "@jupyter-widgets/controls",
            "_view_module_version": "1.5.0",
            "_view_name": "HTMLView",
            "description": "",
            "description_tooltip": null,
            "layout": "IPY_MODEL_ca88c98295244d59b005f13219b7774b",
            "placeholder": "​",
            "style": "IPY_MODEL_88014141761a4370b822161206952bdf",
            "value": " 570/570 [00:00&lt;00:00, 59.3kB/s]"
          }
        },
        "b93b5a2c86d440ebbebbb31481cd7acc": {
          "model_module": "@jupyter-widgets/base",
          "model_name": "LayoutModel",
          "model_module_version": "1.2.0",
          "state": {
            "_model_module": "@jupyter-widgets/base",
            "_model_module_version": "1.2.0",
            "_model_name": "LayoutModel",
            "_view_count": null,
            "_view_module": "@jupyter-widgets/base",
            "_view_module_version": "1.2.0",
            "_view_name": "LayoutView",
            "align_content": null,
            "align_items": null,
            "align_self": null,
            "border": null,
            "bottom": null,
            "display": null,
            "flex": null,
            "flex_flow": null,
            "grid_area": null,
            "grid_auto_columns": null,
            "grid_auto_flow": null,
            "grid_auto_rows": null,
            "grid_column": null,
            "grid_gap": null,
            "grid_row": null,
            "grid_template_areas": null,
            "grid_template_columns": null,
            "grid_template_rows": null,
            "height": null,
            "justify_content": null,
            "justify_items": null,
            "left": null,
            "margin": null,
            "max_height": null,
            "max_width": null,
            "min_height": null,
            "min_width": null,
            "object_fit": null,
            "object_position": null,
            "order": null,
            "overflow": null,
            "overflow_x": null,
            "overflow_y": null,
            "padding": null,
            "right": null,
            "top": null,
            "visibility": null,
            "width": null
          }
        },
        "a3ba70c8a5a34ce5b5085eaac68719fc": {
          "model_module": "@jupyter-widgets/base",
          "model_name": "LayoutModel",
          "model_module_version": "1.2.0",
          "state": {
            "_model_module": "@jupyter-widgets/base",
            "_model_module_version": "1.2.0",
            "_model_name": "LayoutModel",
            "_view_count": null,
            "_view_module": "@jupyter-widgets/base",
            "_view_module_version": "1.2.0",
            "_view_name": "LayoutView",
            "align_content": null,
            "align_items": null,
            "align_self": null,
            "border": null,
            "bottom": null,
            "display": null,
            "flex": null,
            "flex_flow": null,
            "grid_area": null,
            "grid_auto_columns": null,
            "grid_auto_flow": null,
            "grid_auto_rows": null,
            "grid_column": null,
            "grid_gap": null,
            "grid_row": null,
            "grid_template_areas": null,
            "grid_template_columns": null,
            "grid_template_rows": null,
            "height": null,
            "justify_content": null,
            "justify_items": null,
            "left": null,
            "margin": null,
            "max_height": null,
            "max_width": null,
            "min_height": null,
            "min_width": null,
            "object_fit": null,
            "object_position": null,
            "order": null,
            "overflow": null,
            "overflow_x": null,
            "overflow_y": null,
            "padding": null,
            "right": null,
            "top": null,
            "visibility": null,
            "width": null
          }
        },
        "ad466b5836d94022a437e70cd1c85fc2": {
          "model_module": "@jupyter-widgets/controls",
          "model_name": "DescriptionStyleModel",
          "model_module_version": "1.5.0",
          "state": {
            "_model_module": "@jupyter-widgets/controls",
            "_model_module_version": "1.5.0",
            "_model_name": "DescriptionStyleModel",
            "_view_count": null,
            "_view_module": "@jupyter-widgets/base",
            "_view_module_version": "1.2.0",
            "_view_name": "StyleView",
            "description_width": ""
          }
        },
        "c988e45a496d4e0f91c7e69edc2c1d6f": {
          "model_module": "@jupyter-widgets/base",
          "model_name": "LayoutModel",
          "model_module_version": "1.2.0",
          "state": {
            "_model_module": "@jupyter-widgets/base",
            "_model_module_version": "1.2.0",
            "_model_name": "LayoutModel",
            "_view_count": null,
            "_view_module": "@jupyter-widgets/base",
            "_view_module_version": "1.2.0",
            "_view_name": "LayoutView",
            "align_content": null,
            "align_items": null,
            "align_self": null,
            "border": null,
            "bottom": null,
            "display": null,
            "flex": null,
            "flex_flow": null,
            "grid_area": null,
            "grid_auto_columns": null,
            "grid_auto_flow": null,
            "grid_auto_rows": null,
            "grid_column": null,
            "grid_gap": null,
            "grid_row": null,
            "grid_template_areas": null,
            "grid_template_columns": null,
            "grid_template_rows": null,
            "height": null,
            "justify_content": null,
            "justify_items": null,
            "left": null,
            "margin": null,
            "max_height": null,
            "max_width": null,
            "min_height": null,
            "min_width": null,
            "object_fit": null,
            "object_position": null,
            "order": null,
            "overflow": null,
            "overflow_x": null,
            "overflow_y": null,
            "padding": null,
            "right": null,
            "top": null,
            "visibility": null,
            "width": null
          }
        },
        "f9cb187950bb48bf893152af859f5c0a": {
          "model_module": "@jupyter-widgets/controls",
          "model_name": "ProgressStyleModel",
          "model_module_version": "1.5.0",
          "state": {
            "_model_module": "@jupyter-widgets/controls",
            "_model_module_version": "1.5.0",
            "_model_name": "ProgressStyleModel",
            "_view_count": null,
            "_view_module": "@jupyter-widgets/base",
            "_view_module_version": "1.2.0",
            "_view_name": "StyleView",
            "bar_color": null,
            "description_width": ""
          }
        },
        "ca88c98295244d59b005f13219b7774b": {
          "model_module": "@jupyter-widgets/base",
          "model_name": "LayoutModel",
          "model_module_version": "1.2.0",
          "state": {
            "_model_module": "@jupyter-widgets/base",
            "_model_module_version": "1.2.0",
            "_model_name": "LayoutModel",
            "_view_count": null,
            "_view_module": "@jupyter-widgets/base",
            "_view_module_version": "1.2.0",
            "_view_name": "LayoutView",
            "align_content": null,
            "align_items": null,
            "align_self": null,
            "border": null,
            "bottom": null,
            "display": null,
            "flex": null,
            "flex_flow": null,
            "grid_area": null,
            "grid_auto_columns": null,
            "grid_auto_flow": null,
            "grid_auto_rows": null,
            "grid_column": null,
            "grid_gap": null,
            "grid_row": null,
            "grid_template_areas": null,
            "grid_template_columns": null,
            "grid_template_rows": null,
            "height": null,
            "justify_content": null,
            "justify_items": null,
            "left": null,
            "margin": null,
            "max_height": null,
            "max_width": null,
            "min_height": null,
            "min_width": null,
            "object_fit": null,
            "object_position": null,
            "order": null,
            "overflow": null,
            "overflow_x": null,
            "overflow_y": null,
            "padding": null,
            "right": null,
            "top": null,
            "visibility": null,
            "width": null
          }
        },
        "88014141761a4370b822161206952bdf": {
          "model_module": "@jupyter-widgets/controls",
          "model_name": "DescriptionStyleModel",
          "model_module_version": "1.5.0",
          "state": {
            "_model_module": "@jupyter-widgets/controls",
            "_model_module_version": "1.5.0",
            "_model_name": "DescriptionStyleModel",
            "_view_count": null,
            "_view_module": "@jupyter-widgets/base",
            "_view_module_version": "1.2.0",
            "_view_name": "StyleView",
            "description_width": ""
          }
        },
        "269872fef58447cb92101c6f347bc211": {
          "model_module": "@jupyter-widgets/controls",
          "model_name": "HBoxModel",
          "model_module_version": "1.5.0",
          "state": {
            "_dom_classes": [],
            "_model_module": "@jupyter-widgets/controls",
            "_model_module_version": "1.5.0",
            "_model_name": "HBoxModel",
            "_view_count": null,
            "_view_module": "@jupyter-widgets/controls",
            "_view_module_version": "1.5.0",
            "_view_name": "HBoxView",
            "box_style": "",
            "children": [
              "IPY_MODEL_0e65ddeaa88c48a2bdb2532de5ba7ae1",
              "IPY_MODEL_4249dade2c184613852834783da7c726",
              "IPY_MODEL_339e7b89192a43f9ae55097bbfc10744"
            ],
            "layout": "IPY_MODEL_6998cdca591548ada30c05ee1d561d4c"
          }
        },
        "0e65ddeaa88c48a2bdb2532de5ba7ae1": {
          "model_module": "@jupyter-widgets/controls",
          "model_name": "HTMLModel",
          "model_module_version": "1.5.0",
          "state": {
            "_dom_classes": [],
            "_model_module": "@jupyter-widgets/controls",
            "_model_module_version": "1.5.0",
            "_model_name": "HTMLModel",
            "_view_count": null,
            "_view_module": "@jupyter-widgets/controls",
            "_view_module_version": "1.5.0",
            "_view_name": "HTMLView",
            "description": "",
            "description_tooltip": null,
            "layout": "IPY_MODEL_8ac8d3c16cef4b31b75617530e423818",
            "placeholder": "​",
            "style": "IPY_MODEL_c6bf78cfc27f46239aef902c529194d8",
            "value": "vocab.txt: 100%"
          }
        },
        "4249dade2c184613852834783da7c726": {
          "model_module": "@jupyter-widgets/controls",
          "model_name": "FloatProgressModel",
          "model_module_version": "1.5.0",
          "state": {
            "_dom_classes": [],
            "_model_module": "@jupyter-widgets/controls",
            "_model_module_version": "1.5.0",
            "_model_name": "FloatProgressModel",
            "_view_count": null,
            "_view_module": "@jupyter-widgets/controls",
            "_view_module_version": "1.5.0",
            "_view_name": "ProgressView",
            "bar_style": "success",
            "description": "",
            "description_tooltip": null,
            "layout": "IPY_MODEL_ce68f1f3b9b54f8baafac2c0825cc330",
            "max": 231508,
            "min": 0,
            "orientation": "horizontal",
            "style": "IPY_MODEL_0b48a3d8c89441f28f5e199cddfbf23c",
            "value": 231508
          }
        },
        "339e7b89192a43f9ae55097bbfc10744": {
          "model_module": "@jupyter-widgets/controls",
          "model_name": "HTMLModel",
          "model_module_version": "1.5.0",
          "state": {
            "_dom_classes": [],
            "_model_module": "@jupyter-widgets/controls",
            "_model_module_version": "1.5.0",
            "_model_name": "HTMLModel",
            "_view_count": null,
            "_view_module": "@jupyter-widgets/controls",
            "_view_module_version": "1.5.0",
            "_view_name": "HTMLView",
            "description": "",
            "description_tooltip": null,
            "layout": "IPY_MODEL_a7dd1b317c3e4cbc9dfc05ff0b7fd30f",
            "placeholder": "​",
            "style": "IPY_MODEL_5725ce4c3be448b4b7a5382c4df581b7",
            "value": " 232k/232k [00:00&lt;00:00, 3.29MB/s]"
          }
        },
        "6998cdca591548ada30c05ee1d561d4c": {
          "model_module": "@jupyter-widgets/base",
          "model_name": "LayoutModel",
          "model_module_version": "1.2.0",
          "state": {
            "_model_module": "@jupyter-widgets/base",
            "_model_module_version": "1.2.0",
            "_model_name": "LayoutModel",
            "_view_count": null,
            "_view_module": "@jupyter-widgets/base",
            "_view_module_version": "1.2.0",
            "_view_name": "LayoutView",
            "align_content": null,
            "align_items": null,
            "align_self": null,
            "border": null,
            "bottom": null,
            "display": null,
            "flex": null,
            "flex_flow": null,
            "grid_area": null,
            "grid_auto_columns": null,
            "grid_auto_flow": null,
            "grid_auto_rows": null,
            "grid_column": null,
            "grid_gap": null,
            "grid_row": null,
            "grid_template_areas": null,
            "grid_template_columns": null,
            "grid_template_rows": null,
            "height": null,
            "justify_content": null,
            "justify_items": null,
            "left": null,
            "margin": null,
            "max_height": null,
            "max_width": null,
            "min_height": null,
            "min_width": null,
            "object_fit": null,
            "object_position": null,
            "order": null,
            "overflow": null,
            "overflow_x": null,
            "overflow_y": null,
            "padding": null,
            "right": null,
            "top": null,
            "visibility": null,
            "width": null
          }
        },
        "8ac8d3c16cef4b31b75617530e423818": {
          "model_module": "@jupyter-widgets/base",
          "model_name": "LayoutModel",
          "model_module_version": "1.2.0",
          "state": {
            "_model_module": "@jupyter-widgets/base",
            "_model_module_version": "1.2.0",
            "_model_name": "LayoutModel",
            "_view_count": null,
            "_view_module": "@jupyter-widgets/base",
            "_view_module_version": "1.2.0",
            "_view_name": "LayoutView",
            "align_content": null,
            "align_items": null,
            "align_self": null,
            "border": null,
            "bottom": null,
            "display": null,
            "flex": null,
            "flex_flow": null,
            "grid_area": null,
            "grid_auto_columns": null,
            "grid_auto_flow": null,
            "grid_auto_rows": null,
            "grid_column": null,
            "grid_gap": null,
            "grid_row": null,
            "grid_template_areas": null,
            "grid_template_columns": null,
            "grid_template_rows": null,
            "height": null,
            "justify_content": null,
            "justify_items": null,
            "left": null,
            "margin": null,
            "max_height": null,
            "max_width": null,
            "min_height": null,
            "min_width": null,
            "object_fit": null,
            "object_position": null,
            "order": null,
            "overflow": null,
            "overflow_x": null,
            "overflow_y": null,
            "padding": null,
            "right": null,
            "top": null,
            "visibility": null,
            "width": null
          }
        },
        "c6bf78cfc27f46239aef902c529194d8": {
          "model_module": "@jupyter-widgets/controls",
          "model_name": "DescriptionStyleModel",
          "model_module_version": "1.5.0",
          "state": {
            "_model_module": "@jupyter-widgets/controls",
            "_model_module_version": "1.5.0",
            "_model_name": "DescriptionStyleModel",
            "_view_count": null,
            "_view_module": "@jupyter-widgets/base",
            "_view_module_version": "1.2.0",
            "_view_name": "StyleView",
            "description_width": ""
          }
        },
        "ce68f1f3b9b54f8baafac2c0825cc330": {
          "model_module": "@jupyter-widgets/base",
          "model_name": "LayoutModel",
          "model_module_version": "1.2.0",
          "state": {
            "_model_module": "@jupyter-widgets/base",
            "_model_module_version": "1.2.0",
            "_model_name": "LayoutModel",
            "_view_count": null,
            "_view_module": "@jupyter-widgets/base",
            "_view_module_version": "1.2.0",
            "_view_name": "LayoutView",
            "align_content": null,
            "align_items": null,
            "align_self": null,
            "border": null,
            "bottom": null,
            "display": null,
            "flex": null,
            "flex_flow": null,
            "grid_area": null,
            "grid_auto_columns": null,
            "grid_auto_flow": null,
            "grid_auto_rows": null,
            "grid_column": null,
            "grid_gap": null,
            "grid_row": null,
            "grid_template_areas": null,
            "grid_template_columns": null,
            "grid_template_rows": null,
            "height": null,
            "justify_content": null,
            "justify_items": null,
            "left": null,
            "margin": null,
            "max_height": null,
            "max_width": null,
            "min_height": null,
            "min_width": null,
            "object_fit": null,
            "object_position": null,
            "order": null,
            "overflow": null,
            "overflow_x": null,
            "overflow_y": null,
            "padding": null,
            "right": null,
            "top": null,
            "visibility": null,
            "width": null
          }
        },
        "0b48a3d8c89441f28f5e199cddfbf23c": {
          "model_module": "@jupyter-widgets/controls",
          "model_name": "ProgressStyleModel",
          "model_module_version": "1.5.0",
          "state": {
            "_model_module": "@jupyter-widgets/controls",
            "_model_module_version": "1.5.0",
            "_model_name": "ProgressStyleModel",
            "_view_count": null,
            "_view_module": "@jupyter-widgets/base",
            "_view_module_version": "1.2.0",
            "_view_name": "StyleView",
            "bar_color": null,
            "description_width": ""
          }
        },
        "a7dd1b317c3e4cbc9dfc05ff0b7fd30f": {
          "model_module": "@jupyter-widgets/base",
          "model_name": "LayoutModel",
          "model_module_version": "1.2.0",
          "state": {
            "_model_module": "@jupyter-widgets/base",
            "_model_module_version": "1.2.0",
            "_model_name": "LayoutModel",
            "_view_count": null,
            "_view_module": "@jupyter-widgets/base",
            "_view_module_version": "1.2.0",
            "_view_name": "LayoutView",
            "align_content": null,
            "align_items": null,
            "align_self": null,
            "border": null,
            "bottom": null,
            "display": null,
            "flex": null,
            "flex_flow": null,
            "grid_area": null,
            "grid_auto_columns": null,
            "grid_auto_flow": null,
            "grid_auto_rows": null,
            "grid_column": null,
            "grid_gap": null,
            "grid_row": null,
            "grid_template_areas": null,
            "grid_template_columns": null,
            "grid_template_rows": null,
            "height": null,
            "justify_content": null,
            "justify_items": null,
            "left": null,
            "margin": null,
            "max_height": null,
            "max_width": null,
            "min_height": null,
            "min_width": null,
            "object_fit": null,
            "object_position": null,
            "order": null,
            "overflow": null,
            "overflow_x": null,
            "overflow_y": null,
            "padding": null,
            "right": null,
            "top": null,
            "visibility": null,
            "width": null
          }
        },
        "5725ce4c3be448b4b7a5382c4df581b7": {
          "model_module": "@jupyter-widgets/controls",
          "model_name": "DescriptionStyleModel",
          "model_module_version": "1.5.0",
          "state": {
            "_model_module": "@jupyter-widgets/controls",
            "_model_module_version": "1.5.0",
            "_model_name": "DescriptionStyleModel",
            "_view_count": null,
            "_view_module": "@jupyter-widgets/base",
            "_view_module_version": "1.2.0",
            "_view_name": "StyleView",
            "description_width": ""
          }
        },
        "7987b0b56d5a4e91b77c0262b68b23f1": {
          "model_module": "@jupyter-widgets/controls",
          "model_name": "HBoxModel",
          "model_module_version": "1.5.0",
          "state": {
            "_dom_classes": [],
            "_model_module": "@jupyter-widgets/controls",
            "_model_module_version": "1.5.0",
            "_model_name": "HBoxModel",
            "_view_count": null,
            "_view_module": "@jupyter-widgets/controls",
            "_view_module_version": "1.5.0",
            "_view_name": "HBoxView",
            "box_style": "",
            "children": [
              "IPY_MODEL_786ad76f7c7e4adfb55500fc18e1e7b9",
              "IPY_MODEL_67ab4486d4a144d890db2793c67d41e1",
              "IPY_MODEL_2fd10fd418c64ee18cf863a86e5310f0"
            ],
            "layout": "IPY_MODEL_ff6aca56e8ec4b628b235f02a3686552"
          }
        },
        "786ad76f7c7e4adfb55500fc18e1e7b9": {
          "model_module": "@jupyter-widgets/controls",
          "model_name": "HTMLModel",
          "model_module_version": "1.5.0",
          "state": {
            "_dom_classes": [],
            "_model_module": "@jupyter-widgets/controls",
            "_model_module_version": "1.5.0",
            "_model_name": "HTMLModel",
            "_view_count": null,
            "_view_module": "@jupyter-widgets/controls",
            "_view_module_version": "1.5.0",
            "_view_name": "HTMLView",
            "description": "",
            "description_tooltip": null,
            "layout": "IPY_MODEL_dbf53f880b31415dad28e8b5052eda36",
            "placeholder": "​",
            "style": "IPY_MODEL_982768e2b7a2439da13d9032ef1176a8",
            "value": "tokenizer.json: 100%"
          }
        },
        "67ab4486d4a144d890db2793c67d41e1": {
          "model_module": "@jupyter-widgets/controls",
          "model_name": "FloatProgressModel",
          "model_module_version": "1.5.0",
          "state": {
            "_dom_classes": [],
            "_model_module": "@jupyter-widgets/controls",
            "_model_module_version": "1.5.0",
            "_model_name": "FloatProgressModel",
            "_view_count": null,
            "_view_module": "@jupyter-widgets/controls",
            "_view_module_version": "1.5.0",
            "_view_name": "ProgressView",
            "bar_style": "success",
            "description": "",
            "description_tooltip": null,
            "layout": "IPY_MODEL_a06ea1075445417fa88d778b5de57fd6",
            "max": 466062,
            "min": 0,
            "orientation": "horizontal",
            "style": "IPY_MODEL_9aea9b2af971408cb531e8c8912e534c",
            "value": 466062
          }
        },
        "2fd10fd418c64ee18cf863a86e5310f0": {
          "model_module": "@jupyter-widgets/controls",
          "model_name": "HTMLModel",
          "model_module_version": "1.5.0",
          "state": {
            "_dom_classes": [],
            "_model_module": "@jupyter-widgets/controls",
            "_model_module_version": "1.5.0",
            "_model_name": "HTMLModel",
            "_view_count": null,
            "_view_module": "@jupyter-widgets/controls",
            "_view_module_version": "1.5.0",
            "_view_name": "HTMLView",
            "description": "",
            "description_tooltip": null,
            "layout": "IPY_MODEL_dbc800a12bc24b138fd01535886f8091",
            "placeholder": "​",
            "style": "IPY_MODEL_490efccd8ab64097b8fb37b160ca4ac2",
            "value": " 466k/466k [00:00&lt;00:00, 5.95MB/s]"
          }
        },
        "ff6aca56e8ec4b628b235f02a3686552": {
          "model_module": "@jupyter-widgets/base",
          "model_name": "LayoutModel",
          "model_module_version": "1.2.0",
          "state": {
            "_model_module": "@jupyter-widgets/base",
            "_model_module_version": "1.2.0",
            "_model_name": "LayoutModel",
            "_view_count": null,
            "_view_module": "@jupyter-widgets/base",
            "_view_module_version": "1.2.0",
            "_view_name": "LayoutView",
            "align_content": null,
            "align_items": null,
            "align_self": null,
            "border": null,
            "bottom": null,
            "display": null,
            "flex": null,
            "flex_flow": null,
            "grid_area": null,
            "grid_auto_columns": null,
            "grid_auto_flow": null,
            "grid_auto_rows": null,
            "grid_column": null,
            "grid_gap": null,
            "grid_row": null,
            "grid_template_areas": null,
            "grid_template_columns": null,
            "grid_template_rows": null,
            "height": null,
            "justify_content": null,
            "justify_items": null,
            "left": null,
            "margin": null,
            "max_height": null,
            "max_width": null,
            "min_height": null,
            "min_width": null,
            "object_fit": null,
            "object_position": null,
            "order": null,
            "overflow": null,
            "overflow_x": null,
            "overflow_y": null,
            "padding": null,
            "right": null,
            "top": null,
            "visibility": null,
            "width": null
          }
        },
        "dbf53f880b31415dad28e8b5052eda36": {
          "model_module": "@jupyter-widgets/base",
          "model_name": "LayoutModel",
          "model_module_version": "1.2.0",
          "state": {
            "_model_module": "@jupyter-widgets/base",
            "_model_module_version": "1.2.0",
            "_model_name": "LayoutModel",
            "_view_count": null,
            "_view_module": "@jupyter-widgets/base",
            "_view_module_version": "1.2.0",
            "_view_name": "LayoutView",
            "align_content": null,
            "align_items": null,
            "align_self": null,
            "border": null,
            "bottom": null,
            "display": null,
            "flex": null,
            "flex_flow": null,
            "grid_area": null,
            "grid_auto_columns": null,
            "grid_auto_flow": null,
            "grid_auto_rows": null,
            "grid_column": null,
            "grid_gap": null,
            "grid_row": null,
            "grid_template_areas": null,
            "grid_template_columns": null,
            "grid_template_rows": null,
            "height": null,
            "justify_content": null,
            "justify_items": null,
            "left": null,
            "margin": null,
            "max_height": null,
            "max_width": null,
            "min_height": null,
            "min_width": null,
            "object_fit": null,
            "object_position": null,
            "order": null,
            "overflow": null,
            "overflow_x": null,
            "overflow_y": null,
            "padding": null,
            "right": null,
            "top": null,
            "visibility": null,
            "width": null
          }
        },
        "982768e2b7a2439da13d9032ef1176a8": {
          "model_module": "@jupyter-widgets/controls",
          "model_name": "DescriptionStyleModel",
          "model_module_version": "1.5.0",
          "state": {
            "_model_module": "@jupyter-widgets/controls",
            "_model_module_version": "1.5.0",
            "_model_name": "DescriptionStyleModel",
            "_view_count": null,
            "_view_module": "@jupyter-widgets/base",
            "_view_module_version": "1.2.0",
            "_view_name": "StyleView",
            "description_width": ""
          }
        },
        "a06ea1075445417fa88d778b5de57fd6": {
          "model_module": "@jupyter-widgets/base",
          "model_name": "LayoutModel",
          "model_module_version": "1.2.0",
          "state": {
            "_model_module": "@jupyter-widgets/base",
            "_model_module_version": "1.2.0",
            "_model_name": "LayoutModel",
            "_view_count": null,
            "_view_module": "@jupyter-widgets/base",
            "_view_module_version": "1.2.0",
            "_view_name": "LayoutView",
            "align_content": null,
            "align_items": null,
            "align_self": null,
            "border": null,
            "bottom": null,
            "display": null,
            "flex": null,
            "flex_flow": null,
            "grid_area": null,
            "grid_auto_columns": null,
            "grid_auto_flow": null,
            "grid_auto_rows": null,
            "grid_column": null,
            "grid_gap": null,
            "grid_row": null,
            "grid_template_areas": null,
            "grid_template_columns": null,
            "grid_template_rows": null,
            "height": null,
            "justify_content": null,
            "justify_items": null,
            "left": null,
            "margin": null,
            "max_height": null,
            "max_width": null,
            "min_height": null,
            "min_width": null,
            "object_fit": null,
            "object_position": null,
            "order": null,
            "overflow": null,
            "overflow_x": null,
            "overflow_y": null,
            "padding": null,
            "right": null,
            "top": null,
            "visibility": null,
            "width": null
          }
        },
        "9aea9b2af971408cb531e8c8912e534c": {
          "model_module": "@jupyter-widgets/controls",
          "model_name": "ProgressStyleModel",
          "model_module_version": "1.5.0",
          "state": {
            "_model_module": "@jupyter-widgets/controls",
            "_model_module_version": "1.5.0",
            "_model_name": "ProgressStyleModel",
            "_view_count": null,
            "_view_module": "@jupyter-widgets/base",
            "_view_module_version": "1.2.0",
            "_view_name": "StyleView",
            "bar_color": null,
            "description_width": ""
          }
        },
        "dbc800a12bc24b138fd01535886f8091": {
          "model_module": "@jupyter-widgets/base",
          "model_name": "LayoutModel",
          "model_module_version": "1.2.0",
          "state": {
            "_model_module": "@jupyter-widgets/base",
            "_model_module_version": "1.2.0",
            "_model_name": "LayoutModel",
            "_view_count": null,
            "_view_module": "@jupyter-widgets/base",
            "_view_module_version": "1.2.0",
            "_view_name": "LayoutView",
            "align_content": null,
            "align_items": null,
            "align_self": null,
            "border": null,
            "bottom": null,
            "display": null,
            "flex": null,
            "flex_flow": null,
            "grid_area": null,
            "grid_auto_columns": null,
            "grid_auto_flow": null,
            "grid_auto_rows": null,
            "grid_column": null,
            "grid_gap": null,
            "grid_row": null,
            "grid_template_areas": null,
            "grid_template_columns": null,
            "grid_template_rows": null,
            "height": null,
            "justify_content": null,
            "justify_items": null,
            "left": null,
            "margin": null,
            "max_height": null,
            "max_width": null,
            "min_height": null,
            "min_width": null,
            "object_fit": null,
            "object_position": null,
            "order": null,
            "overflow": null,
            "overflow_x": null,
            "overflow_y": null,
            "padding": null,
            "right": null,
            "top": null,
            "visibility": null,
            "width": null
          }
        },
        "490efccd8ab64097b8fb37b160ca4ac2": {
          "model_module": "@jupyter-widgets/controls",
          "model_name": "DescriptionStyleModel",
          "model_module_version": "1.5.0",
          "state": {
            "_model_module": "@jupyter-widgets/controls",
            "_model_module_version": "1.5.0",
            "_model_name": "DescriptionStyleModel",
            "_view_count": null,
            "_view_module": "@jupyter-widgets/base",
            "_view_module_version": "1.2.0",
            "_view_name": "StyleView",
            "description_width": ""
          }
        }
      }
    }
  },
  "cells": [
    {
      "cell_type": "code",
      "source": [
        "import os\n",
        "import re\n",
        "\n",
        "import numpy as np\n",
        "import pandas as pd\n",
        "import matplotlib.pyplot as plt\n",
        "import seaborn as sns\n",
        "import nltk\n",
        "import torch\n",
        "import torch.nn as nn\n",
        "import torch.nn.functional as F"
      ],
      "metadata": {
        "id": "iEV8CDeLlgYe"
      },
      "execution_count": 1,
      "outputs": []
    },
    {
      "cell_type": "code",
      "source": [
        "from google.colab import drive\n",
        "\n",
        "drive.mount('/content/drive/')"
      ],
      "metadata": {
        "colab": {
          "base_uri": "https://localhost:8080/"
        },
        "id": "ma_lCWZyu5s2",
        "outputId": "36dc81d7-fc44-4ae9-df4f-623cb7054c1a"
      },
      "execution_count": 2,
      "outputs": [
        {
          "output_type": "stream",
          "name": "stdout",
          "text": [
            "Mounted at /content/drive/\n"
          ]
        }
      ]
    },
    {
      "cell_type": "markdown",
      "metadata": {
        "id": "df507cf8"
      },
      "source": [
        "## Dataset"
      ]
    },
    {
      "cell_type": "markdown",
      "metadata": {
        "id": "bb85259d"
      },
      "source": [
        "I've chosen [BBC news dataset](https://www.kaggle.com/datasets/pariza/bbc-news-summary). I selected the sports, tech, and business categories, which together comprise 1422 news articles.\n",
        "\n",
        "Description of the dataset: This dataset was created using a dataset used for data categorization that onsists of 2225 documents from the BBC news website corresponding to stories in five topical areas from 2004-2005 used in the paper of D. Greene and P. Cunningham. \"Practical Solutions to the Problem of Diagonal Dominance in Kernel Document Clustering\", Proc. ICML 2006; whose all rights, including copyright, in the content of the original articles are owned by the BBC."
      ]
    },
    {
      "cell_type": "markdown",
      "metadata": {
        "id": "7af3af4e"
      },
      "source": [
        "Creating dataframe based on txt files"
      ]
    },
    {
      "cell_type": "code",
      "execution_count": 3,
      "metadata": {
        "id": "3d80fe8a"
      },
      "outputs": [],
      "source": [
        "def create_df_from_folder(folder, suffix):\n",
        "    records = []\n",
        "\n",
        "    for fname in os.listdir(folder):\n",
        "        full_path = os.path.join(folder, fname)\n",
        "\n",
        "        if not fname.lower().endswith('.txt'):\n",
        "            continue\n",
        "\n",
        "        with open(full_path, 'r', errors='ignore') as f:\n",
        "            content = f.read()\n",
        "\n",
        "        name, ext = os.path.splitext(fname)\n",
        "        records.append({'file_name': f\"{name}_{suffix}{ext}\",\n",
        "                        'text': content,\n",
        "                        })\n",
        "\n",
        "    news_df = pd.DataFrame(records)\n",
        "    return news_df"
      ]
    },
    {
      "cell_type": "code",
      "execution_count": 4,
      "metadata": {
        "id": "87455030"
      },
      "outputs": [],
      "source": [
        "# sport category\n",
        "\n",
        "sport_news_folder = r'/content/drive/MyDrive/documents/вшэ/10сем/nlp/homeworks/hw_2/bbc_news/BBC News Summary/News Articles/sport/'\n",
        "\n",
        "sports_df = create_df_from_folder(sport_news_folder, 'sport')"
      ]
    },
    {
      "cell_type": "code",
      "execution_count": 5,
      "metadata": {
        "id": "b41793d5"
      },
      "outputs": [],
      "source": [
        "# tech category\n",
        "\n",
        "tech_news_folder = r'/content/drive/MyDrive/documents/вшэ/10сем/nlp/homeworks/hw_2/bbc_news/BBC News Summary/News Articles/tech/'\n",
        "\n",
        "tech_df = create_df_from_folder(tech_news_folder, 'tech')"
      ]
    },
    {
      "cell_type": "code",
      "execution_count": 6,
      "metadata": {
        "id": "4754865f"
      },
      "outputs": [],
      "source": [
        "# business category\n",
        "\n",
        "business_path = r'/content/drive/MyDrive/documents/вшэ/10сем/nlp/homeworks/hw_2/bbc_news/BBC News Summary/News Articles/business/'\n",
        "\n",
        "business_df = create_df_from_folder(business_path, 'business')"
      ]
    },
    {
      "cell_type": "code",
      "execution_count": 7,
      "metadata": {
        "id": "e87dbb49"
      },
      "outputs": [],
      "source": [
        "# combining three news categories\n",
        "\n",
        "news_df = pd.concat([sports_df,\n",
        "                     tech_df,\n",
        "                     business_df,], axis=0)"
      ]
    },
    {
      "cell_type": "code",
      "execution_count": 8,
      "metadata": {
        "colab": {
          "base_uri": "https://localhost:8080/",
          "height": 423
        },
        "id": "a11981bc",
        "outputId": "ee2c1fcb-95a6-4d80-f6cf-b3cd3b7f2150"
      },
      "outputs": [
        {
          "output_type": "execute_result",
          "data": {
            "text/plain": [
              "            file_name                                               text\n",
              "0       267_sport.txt  Robertson out to retain Euro lure\\n\\nHearts ma...\n",
              "1       486_sport.txt  Hewitt fights back to reach final\\n\\nLleyton H...\n",
              "2       396_sport.txt  Wales silent on Grand Slam talk\\n\\nRhys Willia...\n",
              "3       251_sport.txt  Bates seals takeover\\n\\nKen Bates has complete...\n",
              "4       270_sport.txt  Strachan turns down Pompey\\n\\nFormer Southampt...\n",
              "..                ...                                                ...\n",
              "505  428_business.txt  Karachi stocks hit historic high\\n\\nThe Karach...\n",
              "506  481_business.txt  Christmas sales worst since 1981\\n\\nUK retail ...\n",
              "507  499_business.txt  China Aviation seeks rescue deal\\n\\nScandal-hi...\n",
              "508  408_business.txt  South African car demand surges\\n\\nCar manufac...\n",
              "509  501_business.txt  Water firm Suez in Argentina row\\n\\nA conflict...\n",
              "\n",
              "[1422 rows x 2 columns]"
            ],
            "text/html": [
              "\n",
              "  <div id=\"df-5974185e-2264-4af9-a5b5-7774c1e813bf\" class=\"colab-df-container\">\n",
              "    <div>\n",
              "<style scoped>\n",
              "    .dataframe tbody tr th:only-of-type {\n",
              "        vertical-align: middle;\n",
              "    }\n",
              "\n",
              "    .dataframe tbody tr th {\n",
              "        vertical-align: top;\n",
              "    }\n",
              "\n",
              "    .dataframe thead th {\n",
              "        text-align: right;\n",
              "    }\n",
              "</style>\n",
              "<table border=\"1\" class=\"dataframe\">\n",
              "  <thead>\n",
              "    <tr style=\"text-align: right;\">\n",
              "      <th></th>\n",
              "      <th>file_name</th>\n",
              "      <th>text</th>\n",
              "    </tr>\n",
              "  </thead>\n",
              "  <tbody>\n",
              "    <tr>\n",
              "      <th>0</th>\n",
              "      <td>267_sport.txt</td>\n",
              "      <td>Robertson out to retain Euro lure\\n\\nHearts ma...</td>\n",
              "    </tr>\n",
              "    <tr>\n",
              "      <th>1</th>\n",
              "      <td>486_sport.txt</td>\n",
              "      <td>Hewitt fights back to reach final\\n\\nLleyton H...</td>\n",
              "    </tr>\n",
              "    <tr>\n",
              "      <th>2</th>\n",
              "      <td>396_sport.txt</td>\n",
              "      <td>Wales silent on Grand Slam talk\\n\\nRhys Willia...</td>\n",
              "    </tr>\n",
              "    <tr>\n",
              "      <th>3</th>\n",
              "      <td>251_sport.txt</td>\n",
              "      <td>Bates seals takeover\\n\\nKen Bates has complete...</td>\n",
              "    </tr>\n",
              "    <tr>\n",
              "      <th>4</th>\n",
              "      <td>270_sport.txt</td>\n",
              "      <td>Strachan turns down Pompey\\n\\nFormer Southampt...</td>\n",
              "    </tr>\n",
              "    <tr>\n",
              "      <th>...</th>\n",
              "      <td>...</td>\n",
              "      <td>...</td>\n",
              "    </tr>\n",
              "    <tr>\n",
              "      <th>505</th>\n",
              "      <td>428_business.txt</td>\n",
              "      <td>Karachi stocks hit historic high\\n\\nThe Karach...</td>\n",
              "    </tr>\n",
              "    <tr>\n",
              "      <th>506</th>\n",
              "      <td>481_business.txt</td>\n",
              "      <td>Christmas sales worst since 1981\\n\\nUK retail ...</td>\n",
              "    </tr>\n",
              "    <tr>\n",
              "      <th>507</th>\n",
              "      <td>499_business.txt</td>\n",
              "      <td>China Aviation seeks rescue deal\\n\\nScandal-hi...</td>\n",
              "    </tr>\n",
              "    <tr>\n",
              "      <th>508</th>\n",
              "      <td>408_business.txt</td>\n",
              "      <td>South African car demand surges\\n\\nCar manufac...</td>\n",
              "    </tr>\n",
              "    <tr>\n",
              "      <th>509</th>\n",
              "      <td>501_business.txt</td>\n",
              "      <td>Water firm Suez in Argentina row\\n\\nA conflict...</td>\n",
              "    </tr>\n",
              "  </tbody>\n",
              "</table>\n",
              "<p>1422 rows × 2 columns</p>\n",
              "</div>\n",
              "    <div class=\"colab-df-buttons\">\n",
              "\n",
              "  <div class=\"colab-df-container\">\n",
              "    <button class=\"colab-df-convert\" onclick=\"convertToInteractive('df-5974185e-2264-4af9-a5b5-7774c1e813bf')\"\n",
              "            title=\"Convert this dataframe to an interactive table.\"\n",
              "            style=\"display:none;\">\n",
              "\n",
              "  <svg xmlns=\"http://www.w3.org/2000/svg\" height=\"24px\" viewBox=\"0 -960 960 960\">\n",
              "    <path d=\"M120-120v-720h720v720H120Zm60-500h600v-160H180v160Zm220 220h160v-160H400v160Zm0 220h160v-160H400v160ZM180-400h160v-160H180v160Zm440 0h160v-160H620v160ZM180-180h160v-160H180v160Zm440 0h160v-160H620v160Z\"/>\n",
              "  </svg>\n",
              "    </button>\n",
              "\n",
              "  <style>\n",
              "    .colab-df-container {\n",
              "      display:flex;\n",
              "      gap: 12px;\n",
              "    }\n",
              "\n",
              "    .colab-df-convert {\n",
              "      background-color: #E8F0FE;\n",
              "      border: none;\n",
              "      border-radius: 50%;\n",
              "      cursor: pointer;\n",
              "      display: none;\n",
              "      fill: #1967D2;\n",
              "      height: 32px;\n",
              "      padding: 0 0 0 0;\n",
              "      width: 32px;\n",
              "    }\n",
              "\n",
              "    .colab-df-convert:hover {\n",
              "      background-color: #E2EBFA;\n",
              "      box-shadow: 0px 1px 2px rgba(60, 64, 67, 0.3), 0px 1px 3px 1px rgba(60, 64, 67, 0.15);\n",
              "      fill: #174EA6;\n",
              "    }\n",
              "\n",
              "    .colab-df-buttons div {\n",
              "      margin-bottom: 4px;\n",
              "    }\n",
              "\n",
              "    [theme=dark] .colab-df-convert {\n",
              "      background-color: #3B4455;\n",
              "      fill: #D2E3FC;\n",
              "    }\n",
              "\n",
              "    [theme=dark] .colab-df-convert:hover {\n",
              "      background-color: #434B5C;\n",
              "      box-shadow: 0px 1px 3px 1px rgba(0, 0, 0, 0.15);\n",
              "      filter: drop-shadow(0px 1px 2px rgba(0, 0, 0, 0.3));\n",
              "      fill: #FFFFFF;\n",
              "    }\n",
              "  </style>\n",
              "\n",
              "    <script>\n",
              "      const buttonEl =\n",
              "        document.querySelector('#df-5974185e-2264-4af9-a5b5-7774c1e813bf button.colab-df-convert');\n",
              "      buttonEl.style.display =\n",
              "        google.colab.kernel.accessAllowed ? 'block' : 'none';\n",
              "\n",
              "      async function convertToInteractive(key) {\n",
              "        const element = document.querySelector('#df-5974185e-2264-4af9-a5b5-7774c1e813bf');\n",
              "        const dataTable =\n",
              "          await google.colab.kernel.invokeFunction('convertToInteractive',\n",
              "                                                    [key], {});\n",
              "        if (!dataTable) return;\n",
              "\n",
              "        const docLinkHtml = 'Like what you see? Visit the ' +\n",
              "          '<a target=\"_blank\" href=https://colab.research.google.com/notebooks/data_table.ipynb>data table notebook</a>'\n",
              "          + ' to learn more about interactive tables.';\n",
              "        element.innerHTML = '';\n",
              "        dataTable['output_type'] = 'display_data';\n",
              "        await google.colab.output.renderOutput(dataTable, element);\n",
              "        const docLink = document.createElement('div');\n",
              "        docLink.innerHTML = docLinkHtml;\n",
              "        element.appendChild(docLink);\n",
              "      }\n",
              "    </script>\n",
              "  </div>\n",
              "\n",
              "\n",
              "    <div id=\"df-ec29d113-2f45-4e1b-8d48-fce4818e0701\">\n",
              "      <button class=\"colab-df-quickchart\" onclick=\"quickchart('df-ec29d113-2f45-4e1b-8d48-fce4818e0701')\"\n",
              "                title=\"Suggest charts\"\n",
              "                style=\"display:none;\">\n",
              "\n",
              "<svg xmlns=\"http://www.w3.org/2000/svg\" height=\"24px\"viewBox=\"0 0 24 24\"\n",
              "     width=\"24px\">\n",
              "    <g>\n",
              "        <path d=\"M19 3H5c-1.1 0-2 .9-2 2v14c0 1.1.9 2 2 2h14c1.1 0 2-.9 2-2V5c0-1.1-.9-2-2-2zM9 17H7v-7h2v7zm4 0h-2V7h2v10zm4 0h-2v-4h2v4z\"/>\n",
              "    </g>\n",
              "</svg>\n",
              "      </button>\n",
              "\n",
              "<style>\n",
              "  .colab-df-quickchart {\n",
              "      --bg-color: #E8F0FE;\n",
              "      --fill-color: #1967D2;\n",
              "      --hover-bg-color: #E2EBFA;\n",
              "      --hover-fill-color: #174EA6;\n",
              "      --disabled-fill-color: #AAA;\n",
              "      --disabled-bg-color: #DDD;\n",
              "  }\n",
              "\n",
              "  [theme=dark] .colab-df-quickchart {\n",
              "      --bg-color: #3B4455;\n",
              "      --fill-color: #D2E3FC;\n",
              "      --hover-bg-color: #434B5C;\n",
              "      --hover-fill-color: #FFFFFF;\n",
              "      --disabled-bg-color: #3B4455;\n",
              "      --disabled-fill-color: #666;\n",
              "  }\n",
              "\n",
              "  .colab-df-quickchart {\n",
              "    background-color: var(--bg-color);\n",
              "    border: none;\n",
              "    border-radius: 50%;\n",
              "    cursor: pointer;\n",
              "    display: none;\n",
              "    fill: var(--fill-color);\n",
              "    height: 32px;\n",
              "    padding: 0;\n",
              "    width: 32px;\n",
              "  }\n",
              "\n",
              "  .colab-df-quickchart:hover {\n",
              "    background-color: var(--hover-bg-color);\n",
              "    box-shadow: 0 1px 2px rgba(60, 64, 67, 0.3), 0 1px 3px 1px rgba(60, 64, 67, 0.15);\n",
              "    fill: var(--button-hover-fill-color);\n",
              "  }\n",
              "\n",
              "  .colab-df-quickchart-complete:disabled,\n",
              "  .colab-df-quickchart-complete:disabled:hover {\n",
              "    background-color: var(--disabled-bg-color);\n",
              "    fill: var(--disabled-fill-color);\n",
              "    box-shadow: none;\n",
              "  }\n",
              "\n",
              "  .colab-df-spinner {\n",
              "    border: 2px solid var(--fill-color);\n",
              "    border-color: transparent;\n",
              "    border-bottom-color: var(--fill-color);\n",
              "    animation:\n",
              "      spin 1s steps(1) infinite;\n",
              "  }\n",
              "\n",
              "  @keyframes spin {\n",
              "    0% {\n",
              "      border-color: transparent;\n",
              "      border-bottom-color: var(--fill-color);\n",
              "      border-left-color: var(--fill-color);\n",
              "    }\n",
              "    20% {\n",
              "      border-color: transparent;\n",
              "      border-left-color: var(--fill-color);\n",
              "      border-top-color: var(--fill-color);\n",
              "    }\n",
              "    30% {\n",
              "      border-color: transparent;\n",
              "      border-left-color: var(--fill-color);\n",
              "      border-top-color: var(--fill-color);\n",
              "      border-right-color: var(--fill-color);\n",
              "    }\n",
              "    40% {\n",
              "      border-color: transparent;\n",
              "      border-right-color: var(--fill-color);\n",
              "      border-top-color: var(--fill-color);\n",
              "    }\n",
              "    60% {\n",
              "      border-color: transparent;\n",
              "      border-right-color: var(--fill-color);\n",
              "    }\n",
              "    80% {\n",
              "      border-color: transparent;\n",
              "      border-right-color: var(--fill-color);\n",
              "      border-bottom-color: var(--fill-color);\n",
              "    }\n",
              "    90% {\n",
              "      border-color: transparent;\n",
              "      border-bottom-color: var(--fill-color);\n",
              "    }\n",
              "  }\n",
              "</style>\n",
              "\n",
              "      <script>\n",
              "        async function quickchart(key) {\n",
              "          const quickchartButtonEl =\n",
              "            document.querySelector('#' + key + ' button');\n",
              "          quickchartButtonEl.disabled = true;  // To prevent multiple clicks.\n",
              "          quickchartButtonEl.classList.add('colab-df-spinner');\n",
              "          try {\n",
              "            const charts = await google.colab.kernel.invokeFunction(\n",
              "                'suggestCharts', [key], {});\n",
              "          } catch (error) {\n",
              "            console.error('Error during call to suggestCharts:', error);\n",
              "          }\n",
              "          quickchartButtonEl.classList.remove('colab-df-spinner');\n",
              "          quickchartButtonEl.classList.add('colab-df-quickchart-complete');\n",
              "        }\n",
              "        (() => {\n",
              "          let quickchartButtonEl =\n",
              "            document.querySelector('#df-ec29d113-2f45-4e1b-8d48-fce4818e0701 button');\n",
              "          quickchartButtonEl.style.display =\n",
              "            google.colab.kernel.accessAllowed ? 'block' : 'none';\n",
              "        })();\n",
              "      </script>\n",
              "    </div>\n",
              "    </div>\n",
              "  </div>\n"
            ],
            "application/vnd.google.colaboratory.intrinsic+json": {
              "type": "dataframe",
              "variable_name": "news_df",
              "summary": "{\n  \"name\": \"news_df\",\n  \"rows\": 1422,\n  \"fields\": [\n    {\n      \"column\": \"file_name\",\n      \"properties\": {\n        \"dtype\": \"string\",\n        \"num_unique_values\": 1422,\n        \"samples\": [\n          \"449_sport.txt\",\n          \"172_business.txt\",\n          \"055_tech.txt\"\n        ],\n        \"semantic_type\": \"\",\n        \"description\": \"\"\n      }\n    },\n    {\n      \"column\": \"text\",\n      \"properties\": {\n        \"dtype\": \"string\",\n        \"num_unique_values\": 1355,\n        \"samples\": [\n          \"Scotland v Italy (Sat)\\n\\nMurrayfield, Edinburgh\\n\\nSaturday, 26 February\\n\\n1400 GMT\\n\\nBBC1, Five Live and this website\\n\\nVictory for the Azzurri in Rome last year saw Scotland end their campaign without a victory. And the pressure is on Scotland coach Matt Williams as he seeks a first Six Nations victory at the eighth attempt. Italy have lost both their opening games at home to Ireland and Wales, but travel to Edinburgh with high hopes.\\n\\nTheir coach John Kirwan has warned his side they must eradicate the errors that blighted their loss to Wales however or risk suffering a third successive defeat. \\\"If the defeat against Wales has taught us anything, it's that at this level we can't make any mistakes,\\\" Kirwan said. \\\"In the Six Nations, every error you make will come at a high price. \\\"We have to be aggressive for 80 minutes, keep calm in every situation and display great maturity on the pitch.\\n\\n\\\"It will be fundamental to keep cool in the difficult moments - in the key situations of the game.\\\" Kirwan has recalled the experienced Cristian Stoica at centre and drafted in David dal Maso at open-side after star flanker Mauro Bergamasco was ruled out for the rest of the tournament. Scotland have also made two changes, Simon Webster replacing Simon Danielli on the wing and Simon Taylor returning for his first Test in a year, for injured flanker Jason White. Taylor's recovery from a serious knee injury is a major boost to Scottish hopes. \\\"He is one of the world-class players in the tournament and you want them in your team,\\\" acknowledged Williams.\\n\\nDespite a record of only two victories from 14 Tests, Williams insists he is revelling in the pressure. \\\"I actually really enjoy seeing how you cope with such pressure as a coach,\\\" he said, optimistic despite opening defeats to France and Ireland. \\\"We were confident for those two first games and we are confident we can beat Italy too,\\\" he added.\\n\\n: C Paterson; S Webster, A Craig, H Southwell, S Lamont; D Parks, C Cusiter; T Smith, G Bulloch (capt), G Kerr; S Grimes, S Murray; S Taylor, J Petrie, A Hogg.\\n\\nR Russell, B Douglas, N Hines, J Dunbar, M Blair, G Ross, B Hinshelwood.\\n\\nR de Marigny; Mirco Bergamasco, C Stoica, A Masi, L Nitoglia; L Orquera, A Troncon; A Lo Cicero, F Ongaro, M Castrogiovanni; S Dellape, M Bortolami (capt); A Persico, D Dal Maso, S Parisse.\\n\\nG Intoppa, S Perugini, CA del Fava, S Orlando, P Griffen, R Pedrazzi, KP Robertson.\\n\",\n          \"Putin backs state grab for Yukos\\n\\nRussia's president has defended the purchase of Yukos' key production unit by state-owned oil firm Rosneft, saying it followed free market principles.\\n\\nVladimir Putin said it was quite within the rights of a state-owned company to ensure its interests were met. Rosneft bought 100% of Baikal Finance Group, in a move that amounts to the renationalisation of a major chunk of Russia's booming oil industry. Rosneft will now control about 16% of Russia's total crude oil output. Yukos share jumped in Moscow, climbing as much as 50% before being suspended.\\n\\nRosneft is already in the process of merging with Gazprom, the world's biggest gas company, a move that will see Gazprom return to majority state-ownership.\\n\\nBaikal was the surprise buyer of oil and gas giant Yukos's main production division at a forced auction on Sunday. \\\"Everything was done by market methods,\\\" Mr Putin said at his year-end press conference in Moscow. Shedding some light on the Kremlin's motivation, Mr Putin referred to a period of so-called \\\"cowboy capitalism\\\" that followed the collapse of the Soviet Union.\\n\\nHe said privatisations carried out in the early 1990s had involved trickery, including law breaking, by people seeking to acquire valuable state property. \\\"Now the state, using market methods, is safeguarding its interests. I think this is quite normal,\\\" the Russian president said. A Rosneft spokesman has said the acquisition is part of its plan to build a \\\"balanced, national energy corporation.\\\"\\n\\nThe latest announcement comes after more than a year of wrangling that has pushed Yukos, one of Russia's biggest companies to the brink of collapse. The Russian government put Yukos's Yuganskneftegas subsidiary up for sale last week after hitting the company with a $27bn (\\u00a314bn) bill for back taxes and fines.\\n\\nAnalysts say that Yukos's legal attempts to block the auction by filing for bankruptcy protection in the US are probably what caused this week's cloak-and-dagger dealings. Gazprom, the company originally tipped to buy Yuganskneftegas, was banned from taking part in the auction by a US court injunction. By selling the Yukos unit to little-known Baikal and then to Rosneft, Russia is able to circumvent a host of tricky legal landmines, analysts said. \\\"You cannot sue the Russian government,\\\" said Eric Kraus, a strategist at Moscow's Sovlink Securities. \\\"The Russian government has sovereign immunity.\\\" \\\"The government is renationalising Yuganskneftegas.\\\"\\n\\nEven so, analysts reckon that the saga still has a long way to go. The Rosneft announcement came just hours after Yukos accused Gazprom of illegally taking part in Sunday's auction. It has said it will be seeking damages of $20bn. The claim was made at the latest hearing in the US bankruptcy court in Houston, Texas, where Yukos, had filed for Chapter 11 bankruptcy protection. If found in contempt of the US court order blocking the auction, Gazprom could face having foreign assets seized. Yukos' lawyers had also been expected to try to have Baikal's assets frozen. Lawyers claimed the auction was illegal because Yukos - with an office in Houston - had filed for bankruptcy and therefore its assets were under the protection of US law which has worldwide jurisdiction. Further muddying the waters is a merger between Rosneft and Gazprom which authorities have said will go ahead as planned.\\n\",\n          \"Collins calls for Chambers return\\n\\nWorld 100m champion Kim Collins says suspended sprinter Dwain Chambers should be allowed to compete in the Olympics again.\\n\\nChambers was banned for two years after testing positive for the anabolic steroid THG and his suspension runs out in November this year. But Collins says the British Olympic Association should reverse the decision to ban him from the Olympics for life. \\\"It was too harsh,\\\" Collins told Radio Five Live. \\\"They should reconsider.\\\" Chambers has been in America learning American football but has not ruled out a return to the track. Collins added: \\\"He is a great guy and I have never had any problems with him. We are friends. \\\"I would like to see Dwain come back and compete again. He is a good person. \\\"Even though he made a mistake he understands what he did and should be given a chance once more.\\\"\\n\"\n        ],\n        \"semantic_type\": \"\",\n        \"description\": \"\"\n      }\n    }\n  ]\n}"
            }
          },
          "metadata": {},
          "execution_count": 8
        }
      ],
      "source": [
        "news_df"
      ]
    },
    {
      "cell_type": "code",
      "execution_count": 9,
      "metadata": {
        "colab": {
          "base_uri": "https://localhost:8080/"
        },
        "id": "605fb7f0",
        "outputId": "4bbd4535-b103-4b22-e87d-037cde5fda79"
      },
      "outputs": [
        {
          "output_type": "execute_result",
          "data": {
            "text/plain": [
              "(1422, 2)"
            ]
          },
          "metadata": {},
          "execution_count": 9
        }
      ],
      "source": [
        "news_df.shape"
      ]
    },
    {
      "cell_type": "code",
      "execution_count": 10,
      "metadata": {
        "colab": {
          "base_uri": "https://localhost:8080/"
        },
        "id": "7a2f475a",
        "outputId": "05342afc-45ea-4030-e316-0a7eaf4b1e1f"
      },
      "outputs": [
        {
          "output_type": "stream",
          "name": "stdout",
          "text": [
            "average number of words in news dataset = 378.0330520393812\n"
          ]
        }
      ],
      "source": [
        "avg_n_words = (news_df['text'].apply(lambda x: len(x.split()))).mean()\n",
        "print(f\"average number of words in news dataset = {avg_n_words}\")"
      ]
    },
    {
      "cell_type": "code",
      "execution_count": 10,
      "metadata": {
        "id": "3ead2ccf"
      },
      "outputs": [],
      "source": []
    },
    {
      "cell_type": "markdown",
      "metadata": {
        "id": "37ffe78d"
      },
      "source": [
        "## Tokenizing"
      ]
    },
    {
      "cell_type": "code",
      "execution_count": 11,
      "metadata": {
        "id": "ee571d5a"
      },
      "outputs": [],
      "source": [
        "from pathlib import Path"
      ]
    },
    {
      "cell_type": "code",
      "execution_count": 12,
      "metadata": {
        "id": "8d11e95a"
      },
      "outputs": [],
      "source": [
        "from transformers import AutoTokenizer"
      ]
    },
    {
      "cell_type": "code",
      "execution_count": 13,
      "metadata": {
        "id": "64760d33",
        "colab": {
          "base_uri": "https://localhost:8080/",
          "height": 145,
          "referenced_widgets": [
            "5083beea69704f249454b120dba438de",
            "4ac9150a710d436c9eb9ed7b9af23b28",
            "4283be1b317645139ea8411e8ed1e5a9",
            "b4a05b88d4274a66ae166182b033f27a",
            "695858b9b95743789424b4b076a48be5",
            "d449c4672b124eca8c6223fd9a818add",
            "b782b406c137438d8130366aabc80cf0",
            "2d43c4f1a0624c12adb9da27e08ba870",
            "98b0c161435c4260a166e43d18e9d6a7",
            "4044e87e78bb4c9c9c7d4df1b192fbee",
            "1ec73f6595e24e1c9233954f14dab0af",
            "46f2dea7af0f44c19d2bb23beaa3b166",
            "b94a038237254eaf9fde06add2cf4852",
            "2a7f0360848e4831b2f6e3cf0857627f",
            "f16f1b66ee224cc1a55a928d2ffb984d",
            "b93b5a2c86d440ebbebbb31481cd7acc",
            "a3ba70c8a5a34ce5b5085eaac68719fc",
            "ad466b5836d94022a437e70cd1c85fc2",
            "c988e45a496d4e0f91c7e69edc2c1d6f",
            "f9cb187950bb48bf893152af859f5c0a",
            "ca88c98295244d59b005f13219b7774b",
            "88014141761a4370b822161206952bdf",
            "269872fef58447cb92101c6f347bc211",
            "0e65ddeaa88c48a2bdb2532de5ba7ae1",
            "4249dade2c184613852834783da7c726",
            "339e7b89192a43f9ae55097bbfc10744",
            "6998cdca591548ada30c05ee1d561d4c",
            "8ac8d3c16cef4b31b75617530e423818",
            "c6bf78cfc27f46239aef902c529194d8",
            "ce68f1f3b9b54f8baafac2c0825cc330",
            "0b48a3d8c89441f28f5e199cddfbf23c",
            "a7dd1b317c3e4cbc9dfc05ff0b7fd30f",
            "5725ce4c3be448b4b7a5382c4df581b7",
            "7987b0b56d5a4e91b77c0262b68b23f1",
            "786ad76f7c7e4adfb55500fc18e1e7b9",
            "67ab4486d4a144d890db2793c67d41e1",
            "2fd10fd418c64ee18cf863a86e5310f0",
            "ff6aca56e8ec4b628b235f02a3686552",
            "dbf53f880b31415dad28e8b5052eda36",
            "982768e2b7a2439da13d9032ef1176a8",
            "a06ea1075445417fa88d778b5de57fd6",
            "9aea9b2af971408cb531e8c8912e534c",
            "dbc800a12bc24b138fd01535886f8091",
            "490efccd8ab64097b8fb37b160ca4ac2"
          ]
        },
        "outputId": "840eaf76-045e-4f80-d63c-1b9425274934"
      },
      "outputs": [
        {
          "output_type": "display_data",
          "data": {
            "text/plain": [
              "tokenizer_config.json:   0%|          | 0.00/48.0 [00:00<?, ?B/s]"
            ],
            "application/vnd.jupyter.widget-view+json": {
              "version_major": 2,
              "version_minor": 0,
              "model_id": "5083beea69704f249454b120dba438de"
            }
          },
          "metadata": {}
        },
        {
          "output_type": "display_data",
          "data": {
            "text/plain": [
              "config.json:   0%|          | 0.00/570 [00:00<?, ?B/s]"
            ],
            "application/vnd.jupyter.widget-view+json": {
              "version_major": 2,
              "version_minor": 0,
              "model_id": "46f2dea7af0f44c19d2bb23beaa3b166"
            }
          },
          "metadata": {}
        },
        {
          "output_type": "display_data",
          "data": {
            "text/plain": [
              "vocab.txt:   0%|          | 0.00/232k [00:00<?, ?B/s]"
            ],
            "application/vnd.jupyter.widget-view+json": {
              "version_major": 2,
              "version_minor": 0,
              "model_id": "269872fef58447cb92101c6f347bc211"
            }
          },
          "metadata": {}
        },
        {
          "output_type": "display_data",
          "data": {
            "text/plain": [
              "tokenizer.json:   0%|          | 0.00/466k [00:00<?, ?B/s]"
            ],
            "application/vnd.jupyter.widget-view+json": {
              "version_major": 2,
              "version_minor": 0,
              "model_id": "7987b0b56d5a4e91b77c0262b68b23f1"
            }
          },
          "metadata": {}
        }
      ],
      "source": [
        "tokenizer = AutoTokenizer.from_pretrained('bert-base-uncased')"
      ]
    },
    {
      "cell_type": "code",
      "execution_count": 14,
      "metadata": {
        "colab": {
          "base_uri": "https://localhost:8080/"
        },
        "id": "3a5348bc",
        "outputId": "3168d006-f079-49a8-ea8e-0119a9bf8f0c"
      },
      "outputs": [
        {
          "output_type": "execute_result",
          "data": {
            "text/plain": [
              "BertTokenizerFast(name_or_path='bert-base-uncased', vocab_size=30522, model_max_length=512, is_fast=True, padding_side='right', truncation_side='right', special_tokens={'unk_token': '[UNK]', 'sep_token': '[SEP]', 'pad_token': '[PAD]', 'cls_token': '[CLS]', 'mask_token': '[MASK]'}, clean_up_tokenization_spaces=False, added_tokens_decoder={\n",
              "\t0: AddedToken(\"[PAD]\", rstrip=False, lstrip=False, single_word=False, normalized=False, special=True),\n",
              "\t100: AddedToken(\"[UNK]\", rstrip=False, lstrip=False, single_word=False, normalized=False, special=True),\n",
              "\t101: AddedToken(\"[CLS]\", rstrip=False, lstrip=False, single_word=False, normalized=False, special=True),\n",
              "\t102: AddedToken(\"[SEP]\", rstrip=False, lstrip=False, single_word=False, normalized=False, special=True),\n",
              "\t103: AddedToken(\"[MASK]\", rstrip=False, lstrip=False, single_word=False, normalized=False, special=True),\n",
              "}\n",
              ")"
            ]
          },
          "metadata": {},
          "execution_count": 14
        }
      ],
      "source": [
        "tokenizer"
      ]
    },
    {
      "cell_type": "code",
      "execution_count": 15,
      "metadata": {
        "colab": {
          "base_uri": "https://localhost:8080/",
          "height": 125
        },
        "id": "bdfd2652",
        "outputId": "37c2dc4c-13bf-40e4-d31e-8157c7c15ad5"
      },
      "outputs": [
        {
          "output_type": "execute_result",
          "data": {
            "text/plain": [
              "'Robertson out to retain Euro lure\\n\\nHearts manager John Robertson hopes a place in the knock-out stages of the Uefa Cup could help keep some of his out-of-contract players at the club.\\n\\n\"It could help. If we get through and have another European tie it may encourage players to stay at least until the end of the season,\" he said. \"If we manage to get through it shows how well the club\\'s progressing. \"They have to think whether they are going to get other clubs like that should they decide to move on.\" A win for Robertson\\'s side against Ferencvaros would put them through to the last 32 if Basle fail to beat Feyenoord. \"It\\'s very much the player\\'s prerogative but the fact that we\\'ve been playing European football for the last three or four years is obviously an incentive,\" added Robertson. \"But we want players who want to play for the football club, who are committed and a run in Europe always helps a little bit.\" With the game being played at Murrayfield instead of Tynecastle because of Uefa regulations, Robertson sees both positive and negative aspects to the change of venue.\\n\\n\"The pitch is not in the greatest condition. The Heineken Cup game was there at the weekend and the pitch is a bit threadbare,\" he said. \"It\\'s not ideal but it\\'s the same for both teams so we just have to go out and there and perform. That\\'s the most important thing.\" But he added: \"If Tynecastle could have hosted 30,000 it would have been fantastic but that\\'s one of the benefits of Murrayfield - it allows us to bring even more of our supporters into it. \"There will be a good atmosphere and the Hearts fans have an important role to play. \"We need their encouragement, we need them to get right behind the side and make it as good an atmosphere as possible. \"Hopefully the players will respond to that and I know they will because it\\'s a fantastic European night for the club.\"\\n'"
            ],
            "application/vnd.google.colaboratory.intrinsic+json": {
              "type": "string"
            }
          },
          "metadata": {},
          "execution_count": 15
        }
      ],
      "source": [
        "news_df['text'].iloc[0]"
      ]
    },
    {
      "cell_type": "code",
      "execution_count": 16,
      "metadata": {
        "colab": {
          "base_uri": "https://localhost:8080/",
          "height": 125
        },
        "id": "3a2c3079",
        "outputId": "6e0bdf5e-c063-44d2-8f70-a8b3e6d30393"
      },
      "outputs": [
        {
          "output_type": "execute_result",
          "data": {
            "text/plain": [
              "'[CLS] robertson out to retain euro lure hearts manager john robertson hopes a place in the knock - out stages of the uefa cup could help keep some of his out - of - contract players at the club. \" it could help. if we get through and have another european tie it may encourage players to stay at least until the end of the season, \" he said. \" if we manage to get through it shows how well the club \\' s progressing. \" they have to think whether they are going to get other clubs like that should they decide to move on. \" a win for robertson \\' s side against ferencvaros would put them through to the last 32 if basle fail to beat feyenoord. \" it \\' s very much the player \\' s prerogative but the fact that we \\' ve been playing european football for the last three or four years is obviously an incentive, \" added robertson. \" but we want players who want to play for the football club, who are committed and a run in europe always helps a little bit. \" with the game being played at murrayfield instead of tynecastle because of uefa regulations, robertson sees both positive and negative aspects to the change of venue. \" the pitch is not in the greatest condition. the heineken cup game was there at the weekend and the pitch is a bit threadbare, \" he said. \" it \\' s not ideal but it \\' s the same for both teams so we just have to go out and there and perform. that \\' s the most important thing. \" but he added : \" if tynecastle could have hosted 30, 000 it would have been fantastic but that \\' s one of the benefits of murrayfield - it allows us to bring even more of our supporters into it. \" there will be a good atmosphere and the hearts fans have an important role to play. \" we need their encouragement, we need them to get right behind the side and make it as good an atmosphere as possible. \" hopefully the players will respond to that and i know they will because it \\' s a fantastic european night for the club. \" [SEP]'"
            ],
            "application/vnd.google.colaboratory.intrinsic+json": {
              "type": "string"
            }
          },
          "metadata": {},
          "execution_count": 16
        }
      ],
      "source": [
        "tokenizer.decode(tokenizer.encode(news_df['text'].iloc[0]))"
      ]
    },
    {
      "cell_type": "code",
      "execution_count": 17,
      "metadata": {
        "colab": {
          "base_uri": "https://localhost:8080/"
        },
        "id": "ecd03d09",
        "outputId": "f38145e1-a4bf-4cc8-ad5c-aae770366bb0"
      },
      "outputs": [
        {
          "output_type": "stream",
          "name": "stderr",
          "text": [
            "Token indices sequence length is longer than the specified maximum sequence length for this model (549 > 512). Running this sequence through the model will result in indexing errors\n"
          ]
        }
      ],
      "source": [
        "dataset_lens = [len(tokenizer.encode(text)) for text in news_df['text'].values]"
      ]
    },
    {
      "cell_type": "code",
      "execution_count": 18,
      "metadata": {
        "colab": {
          "base_uri": "https://localhost:8080/",
          "height": 600
        },
        "id": "046c00d1",
        "outputId": "539e31de-5833-4b4f-f1f0-6b84292b9f6d"
      },
      "outputs": [
        {
          "output_type": "stream",
          "name": "stderr",
          "text": [
            "<ipython-input-18-a5f378f17349>:5: UserWarning: No artists with labels found to put in legend.  Note that artists whose label start with an underscore are ignored when legend() is called with no argument.\n",
            "  plt.legend()\n"
          ]
        },
        {
          "output_type": "display_data",
          "data": {
            "text/plain": [
              "<Figure size 800x600 with 1 Axes>"
            ],
            "image/png": "[encoded data removed]"
          },
          "metadata": {}
        }
      ],
      "source": [
        "plt.figure(figsize=(8, 6))\n",
        "\n",
        "plt.hist(dataset_lens, bins=40)\n",
        "plt.title('Distribution of lengths for tokenized documents')\n",
        "plt.legend()\n",
        "\n",
        "plt.show();"
      ]
    },
    {
      "cell_type": "code",
      "execution_count": 19,
      "metadata": {
        "id": "8bb48ac7"
      },
      "outputs": [],
      "source": [
        "MAX_LENGTH = 1600"
      ]
    },
    {
      "cell_type": "code",
      "execution_count": 20,
      "metadata": {
        "id": "fd4d4c67"
      },
      "outputs": [],
      "source": [
        "# ! pip install wandb"
      ]
    },
    {
      "cell_type": "code",
      "execution_count": 21,
      "metadata": {
        "id": "95f8c351"
      },
      "outputs": [],
      "source": [
        "import wandb"
      ]
    },
    {
      "cell_type": "code",
      "execution_count": 22,
      "metadata": {
        "colab": {
          "base_uri": "https://localhost:8080/",
          "height": 191
        },
        "id": "2246d295",
        "outputId": "1fe041be-57cc-4a24-dd5f-57ce35538d6f"
      },
      "outputs": [
        {
          "data": {
            "application/javascript": [
              "\n",
              "        window._wandbApiKey = new Promise((resolve, reject) => {\n",
              "            function loadScript(url) {\n",
              "            return new Promise(function(resolve, reject) {\n",
              "                let newScript = document.createElement(\"script\");\n",
              "                newScript.onerror = reject;\n",
              "                newScript.onload = resolve;\n",
              "                document.body.appendChild(newScript);\n",
              "                newScript.src = url;\n",
              "            });\n",
              "            }\n",
              "            loadScript(\"https://cdn.jsdelivr.net/npm/postmate/build/postmate.min.js\").then(() => {\n",
              "            const iframe = document.createElement('iframe')\n",
              "            iframe.style.cssText = \"width:0;height:0;border:none\"\n",
              "            document.body.appendChild(iframe)\n",
              "            const handshake = new Postmate({\n",
              "                container: iframe,\n",
              "                url: 'https://wandb.ai/authorize'\n",
              "            });\n",
              "            const timeout = setTimeout(() => reject(\"Couldn't auto authenticate\"), 5000)\n",
              "            handshake.then(function(child) {\n",
              "                child.on('authorize', data => {\n",
              "                    clearTimeout(timeout)\n",
              "                    resolve(data)\n",
              "                });\n",
              "            });\n",
              "            })\n",
              "        });\n",
              "    "
            ],
            "text/plain": [
              "<IPython.core.display.Javascript object>"
            ]
          },
          "metadata": {},
          "output_type": "display_data"
        },
        {
          "metadata": {
            "tags": null
          },
          "name": "stderr",
          "output_type": "stream",
          "text": [
            "\u001b[34m\u001b[1mwandb\u001b[0m: Logging into wandb.ai. (Learn how to deploy a W&B server locally: https://wandb.me/wandb-server)\n",
            "\u001b[34m\u001b[1mwandb\u001b[0m: You can find your API key in your browser here: https://wandb.ai/authorize\n",
            "wandb: Paste an API key from your profile and hit enter:"
          ]
        },
        {
          "name": "stdout",
          "output_type": "stream",
          "text": [
            " ··········\n"
          ]
        },
        {
          "output_type": "stream",
          "name": "stderr",
          "text": [
            "\u001b[34m\u001b[1mwandb\u001b[0m: \u001b[33mWARNING\u001b[0m If you're specifying your api key in code, ensure this code is not shared publicly.\n",
            "\u001b[34m\u001b[1mwandb\u001b[0m: \u001b[33mWARNING\u001b[0m Consider setting the WANDB_API_KEY environment variable, or running `wandb login` from the command line.\n",
            "\u001b[34m\u001b[1mwandb\u001b[0m: No netrc file found, creating one.\n",
            "\u001b[34m\u001b[1mwandb\u001b[0m: Appending key for api.wandb.ai to your netrc file: /root/.netrc\n",
            "\u001b[34m\u001b[1mwandb\u001b[0m: Currently logged in as: \u001b[33mtiyunes\u001b[0m (\u001b[33mtiyunes-hse-university\u001b[0m) to \u001b[32mhttps://api.wandb.ai\u001b[0m. Use \u001b[1m`wandb login --relogin`\u001b[0m to force relogin\n"
          ]
        },
        {
          "output_type": "execute_result",
          "data": {
            "text/plain": [
              "True"
            ]
          },
          "metadata": {},
          "execution_count": 22
        }
      ],
      "source": [
        "wandb.login()"
      ]
    },
    {
      "cell_type": "markdown",
      "metadata": {
        "id": "e2ca9d3e"
      },
      "source": [
        "## Dataset preparation"
      ]
    },
    {
      "cell_type": "code",
      "execution_count": 23,
      "metadata": {
        "id": "e2d00a91"
      },
      "outputs": [],
      "source": [
        "from torch.utils.data import Dataset, DataLoader"
      ]
    },
    {
      "cell_type": "code",
      "execution_count": 24,
      "metadata": {
        "id": "e02621a1"
      },
      "outputs": [],
      "source": [
        "from typing import Sequence"
      ]
    },
    {
      "cell_type": "code",
      "execution_count": 25,
      "metadata": {
        "id": "b3afec06"
      },
      "outputs": [],
      "source": [
        "class NewsDataset(Dataset):\n",
        "    def __init__(self, datadirs: Sequence[Path]) -> None:\n",
        "        self.records = []\n",
        "        for datadir in datadirs:\n",
        "            for txtfile in datadir.glob(\"*.txt\"):\n",
        "                content = txtfile.read_text(errors='ignore')\n",
        "                self.records.append(content)\n",
        "\n",
        "    def __getitem__(self, index: int) -> tuple[list[int], int]:\n",
        "        return self.records[index]\n",
        "\n",
        "    def __len__(self) -> int:\n",
        "        return len(self.records)"
      ]
    },
    {
      "cell_type": "code",
      "execution_count": 26,
      "metadata": {
        "id": "03d3448c"
      },
      "outputs": [],
      "source": [
        "data_folders = [\n",
        "    Path(\"/content/drive/MyDrive/documents/вшэ/10сем/nlp/homeworks/hw_2/bbc_news/BBC News Summary/News Articles/sport/\"),\n",
        "    Path(\"/content/drive/MyDrive/documents/вшэ/10сем/nlp/homeworks/hw_2/bbc_news/BBC News Summary/News Articles/tech/\"),\n",
        "    Path(\"/content/drive/MyDrive/documents/вшэ/10сем/nlp/homeworks/hw_2/bbc_news/BBC News Summary/News Articles/business/\"),\n",
        "]\n"
      ]
    },
    {
      "cell_type": "code",
      "execution_count": 27,
      "metadata": {
        "colab": {
          "base_uri": "https://localhost:8080/"
        },
        "id": "42d84924",
        "outputId": "bb22f13c-0270-4ac0-99fa-1de9a0c6c53c"
      },
      "outputs": [
        {
          "output_type": "execute_result",
          "data": {
            "text/plain": [
              "1422"
            ]
          },
          "metadata": {},
          "execution_count": 27
        }
      ],
      "source": [
        "news_dataset = NewsDataset(data_folders)\n",
        "\n",
        "len(news_dataset)"
      ]
    },
    {
      "cell_type": "code",
      "execution_count": 28,
      "metadata": {
        "colab": {
          "base_uri": "https://localhost:8080/"
        },
        "id": "c69d5c9c",
        "outputId": "89d85521-5037-4553-f81c-211eb41f5fb9"
      },
      "outputs": [
        {
          "output_type": "stream",
          "name": "stdout",
          "text": [
            "train size:  1280\n",
            "test size:  142\n"
          ]
        }
      ],
      "source": [
        "from torch.utils.data.dataset import random_split\n",
        "train_dataset, test_dataset = random_split(news_dataset, lengths=[0.9, 0.1])\n",
        "print(\"train size: \", len(train_dataset))\n",
        "print(\"test size: \", len(test_dataset))"
      ]
    },
    {
      "cell_type": "code",
      "execution_count": 29,
      "metadata": {
        "id": "e7d8e097"
      },
      "outputs": [],
      "source": [
        "train_dataloader = DataLoader(train_dataset, batch_size=32, shuffle=True)\n",
        "test_dataloader = DataLoader(test_dataset, batch_size=32, shuffle=False)"
      ]
    },
    {
      "cell_type": "markdown",
      "metadata": {
        "id": "4a08a30a"
      },
      "source": [
        "## LSTM in encoder-decoder style architecture from scratch"
      ]
    },
    {
      "cell_type": "code",
      "source": [
        "import torch\n",
        "import torch.nn as nn"
      ],
      "metadata": {
        "id": "gIiEj1YryjNX"
      },
      "execution_count": 30,
      "outputs": []
    },
    {
      "cell_type": "code",
      "execution_count": 31,
      "metadata": {
        "id": "92745685"
      },
      "outputs": [],
      "source": [
        "class LSTMGeneratorEncDec(nn.Module):\n",
        "    def __init__(self, vocab_size: int, hidden_size: int, max_len: int, tokenizer):\n",
        "        super().__init__()\n",
        "        self.max_len   = max_len\n",
        "        self.tokenizer = tokenizer\n",
        "\n",
        "        self.embedding = nn.Embedding(vocab_size, hidden_size)\n",
        "\n",
        "        self.encoder = nn.LSTM(\n",
        "            input_size=hidden_size,\n",
        "            hidden_size=hidden_size,\n",
        "            bidirectional=True,\n",
        "            batch_first=True\n",
        "        )\n",
        "\n",
        "        self.decoder = nn.LSTM(\n",
        "            input_size=hidden_size,\n",
        "            hidden_size=hidden_size,\n",
        "            bidirectional=False,\n",
        "            batch_first=True\n",
        "        )\n",
        "\n",
        "        self.h_proj = nn.Linear(2 * hidden_size, hidden_size)\n",
        "        self.c_proj = nn.Linear(2 * hidden_size, hidden_size)\n",
        "\n",
        "        self.out_proj = nn.Linear(hidden_size, vocab_size)\n",
        "\n",
        "    def forward(self, input_ids: torch.LongTensor) -> torch.FloatTensor:\n",
        "        B, L = input_ids.size()\n",
        "\n",
        "        emb = self.embedding(input_ids)\n",
        "        _, (h_enc, c_enc) = self.encoder(emb)\n",
        "\n",
        "        h_cat = torch.cat([h_enc[0],  h_enc[1]],  dim=1)\n",
        "        c_cat = torch.cat([c_enc[0],  c_enc[1]],  dim=1)\n",
        "\n",
        "        h0 = self.h_proj(h_cat).unsqueeze(0)\n",
        "        c0 = self.c_proj(c_cat).unsqueeze(0)\n",
        "\n",
        "        dec_out, _ = self.decoder(emb, (h0, c0))\n",
        "\n",
        "        logits = self.out_proj(dec_out)\n",
        "        return logits\n",
        "\n",
        "    @torch.inference_mode()\n",
        "    def generate(self, input_ids: torch.LongTensor) -> torch.LongTensor:\n",
        "        B, L0 = input_ids.size()\n",
        "\n",
        "        emb0 = self.embedding(input_ids)\n",
        "        _, (h_enc, c_enc) = self.encoder(emb0)\n",
        "\n",
        "        h_cat = torch.cat([h_enc[0], h_enc[1]], dim=1)\n",
        "        c_cat = torch.cat([c_enc[0], c_enc[1]], dim=1)\n",
        "        h, c = (\n",
        "            self.h_proj(h_cat).unsqueeze(0),\n",
        "            self.c_proj(c_cat).unsqueeze(0)\n",
        "        )\n",
        "\n",
        "        next_token = input_ids[:, -1]\n",
        "\n",
        "        generated = [input_ids]\n",
        "        for _ in range(self.max_len):\n",
        "            emb_tok = self.embedding(next_token).unsqueeze(1)\n",
        "            out, (h, c) = self.decoder(emb_tok, (h, c))\n",
        "            logits    = self.out_proj(out)\n",
        "            next_token = logits.argmax(-1).squeeze(1)\n",
        "            generated.append(next_token.unsqueeze(1))\n",
        "\n",
        "        return torch.cat(generated, dim=1)\n"
      ]
    },
    {
      "cell_type": "code",
      "source": [
        "device = torch.device('cuda:0' if torch.cuda.is_available() else 'cpu')\n",
        "device"
      ],
      "metadata": {
        "colab": {
          "base_uri": "https://localhost:8080/"
        },
        "id": "V2KGCJpsXuPk",
        "outputId": "1f8d691b-5508-452d-9048-28981aaf64d2"
      },
      "execution_count": 33,
      "outputs": [
        {
          "output_type": "execute_result",
          "data": {
            "text/plain": [
              "device(type='cuda', index=0)"
            ]
          },
          "metadata": {},
          "execution_count": 33
        }
      ]
    },
    {
      "cell_type": "code",
      "source": [
        "len(tokenizer)"
      ],
      "metadata": {
        "colab": {
          "base_uri": "https://localhost:8080/"
        },
        "id": "Io2Ywcy5i_Ol",
        "outputId": "16a32b93-de37-4644-fe46-105a68ef2596"
      },
      "execution_count": 88,
      "outputs": [
        {
          "output_type": "execute_result",
          "data": {
            "text/plain": [
              "30522"
            ]
          },
          "metadata": {},
          "execution_count": 88
        }
      ]
    },
    {
      "cell_type": "code",
      "source": [
        "model = LSTMGeneratorEncDec(len(tokenizer), 128, MAX_LENGTH, tokenizer).to(device)"
      ],
      "metadata": {
        "id": "8jHPcqQs29mq"
      },
      "execution_count": 34,
      "outputs": []
    },
    {
      "cell_type": "code",
      "source": [
        "print('all parameters:', sum([torch.numel(p) for p in model.parameters()]))"
      ],
      "metadata": {
        "colab": {
          "base_uri": "https://localhost:8080/"
        },
        "id": "2dnxyII529kC",
        "outputId": "a03c9d2d-913c-4d1c-bc2f-494e82699dd9"
      },
      "execution_count": 35,
      "outputs": [
        {
          "output_type": "stream",
          "name": "stdout",
          "text": [
            "all parameters: 8306234\n"
          ]
        }
      ]
    },
    {
      "cell_type": "code",
      "source": [
        "def tokenize(batch):\n",
        "    tokenizer_kwargs = dict(\n",
        "        padding=True,\n",
        "        max_length=256,\n",
        "        truncation=True,\n",
        "        return_tensors='pt'\n",
        "    )\n",
        "    input = tokenizer(batch, **tokenizer_kwargs).to(device)\n",
        "\n",
        "    return input"
      ],
      "metadata": {
        "id": "b9zqEGxeX7V2"
      },
      "execution_count": 43,
      "outputs": []
    },
    {
      "cell_type": "code",
      "source": [
        "def train(model, dataloader, optimizer):\n",
        "    model.train()\n",
        "    criterion = nn.CrossEntropyLoss(ignore_index=tokenizer.pad_token_id)\n",
        "\n",
        "    for batch in dataloader:\n",
        "        input = tokenize(batch)\n",
        "\n",
        "        logits = model(\n",
        "            input['input_ids'],\n",
        "            # input['attention_mask'],\n",
        "        )\n",
        "\n",
        "        shifted_logits = logits[:, :-1, :]\n",
        "        shifted_targets = input['input_ids'][:, 1:]\n",
        "\n",
        "        loss = criterion(shifted_logits.permute(0, 2, 1), shifted_targets)\n",
        "\n",
        "        optimizer.zero_grad()\n",
        "        loss.backward()\n",
        "        optimizer.step()\n",
        "\n",
        "        accuracy = (shifted_logits.argmax(-1) == shifted_targets).float()\n",
        "        accuracy = accuracy[shifted_targets != tokenizer.pad_token_id].mean().item()\n",
        "\n",
        "        wandb.log({\n",
        "            \"train_loss\": loss.item(),\n",
        "            \"train_accuracy\": accuracy\n",
        "        })\n"
      ],
      "metadata": {
        "id": "HEloreMnX2Y6"
      },
      "execution_count": 44,
      "outputs": []
    },
    {
      "cell_type": "code",
      "source": [
        "@torch.inference_mode()\n",
        "def evaluate(model, dataloader):\n",
        "    model.eval()\n",
        "    criterion = nn.CrossEntropyLoss(ignore_index=tokenizer.pad_token_id)\n",
        "\n",
        "    losses = []\n",
        "    accuracies = []\n",
        "    for batch in dataloader:\n",
        "        inp = tokenize(batch)\n",
        "        logits = model(inp['input_ids'])\n",
        "        sl, st = logits[:, :-1, :], inp['input_ids'][:, 1:]\n",
        "        loss = criterion(sl.permute(0,2,1), st)\n",
        "        losses.append(loss.item())\n",
        "\n",
        "        preds = sl.argmax(-1)\n",
        "        mask  = st != tokenizer.pad_token_id\n",
        "        acc   = (preds[mask] == st[mask]).float().mean().item()\n",
        "        accuracies.append(acc)\n",
        "\n",
        "    avg_loss = sum(losses) / len(losses)\n",
        "    avg_acc  = sum(accuracies) / len(accuracies)\n",
        "\n",
        "    wandb.log({\n",
        "        \"val_loss\": avg_loss,\n",
        "        \"val_accuracy\": avg_acc,\n",
        "    })\n",
        "\n",
        "    return avg_loss, avg_acc\n"
      ],
      "metadata": {
        "id": "Wsirnsx0X2Vj"
      },
      "execution_count": 45,
      "outputs": []
    },
    {
      "cell_type": "code",
      "source": [
        "for e in range(80):\n",
        "    train(model, train_dataloader, optimizer)\n",
        "    evaluate(model, test_dataloader)"
      ],
      "metadata": {
        "id": "7ZjeJU5xo3y3"
      },
      "execution_count": null,
      "outputs": []
    },
    {
      "cell_type": "code",
      "source": [
        "from IPython.display import Image, display\n",
        "display(Image(url=\"https://raw.githubusercontent.com/tiyunes/nlp_hse_course/main/hw2/images/lstm_enc_dec_train_plots.png\"))\n",
        "print(\"Plots of training LSTM with encoder-decoder architecture\")"
      ],
      "metadata": {
        "colab": {
          "base_uri": "https://localhost:8080/",
          "height": 633
        },
        "id": "fZZ2JC_Dt1zB",
        "outputId": "dc5b69c3-c590-4b11-d237-e1de207e956d"
      },
      "execution_count": 91,
      "outputs": [
        {
          "output_type": "display_data",
          "data": {
            "text/html": [
              "<img src=\"https://raw.githubusercontent.com/tiyunes/nlp_hse_course/main/hw2/images/lstm_enc_dec_train_plots.png\"/>"
            ],
            "text/plain": [
              "<IPython.core.display.Image object>"
            ]
          },
          "metadata": {}
        },
        {
          "output_type": "stream",
          "name": "stdout",
          "text": [
            "Plots of training LSTM with encoder-decoder architecture\n"
          ]
        }
      ]
    },
    {
      "cell_type": "code",
      "source": [
        "lstm_path = '/content/drive/MyDrive/documents/вшэ/10сем/nlp/homeworks/hw_2/lstm.pt'"
      ],
      "metadata": {
        "id": "2hpTIJjd29ha"
      },
      "execution_count": 46,
      "outputs": []
    },
    {
      "cell_type": "code",
      "source": [
        "model.load_state_dict(torch.load(lstm_path))"
      ],
      "metadata": {
        "colab": {
          "base_uri": "https://localhost:8080/"
        },
        "id": "1NsanWFm29el",
        "outputId": "6ad59cdc-5020-49ac-9751-ba75f770f524"
      },
      "execution_count": 47,
      "outputs": [
        {
          "output_type": "execute_result",
          "data": {
            "text/plain": [
              "<All keys matched successfully>"
            ]
          },
          "metadata": {},
          "execution_count": 47
        }
      ]
    },
    {
      "cell_type": "code",
      "execution_count": 48,
      "metadata": {
        "id": "d8ca7225"
      },
      "outputs": [],
      "source": [
        "def clean_text(texts):\n",
        "    new_texts = []\n",
        "    for text in texts:\n",
        "        cls_pos = text.find('[CLS]')\n",
        "        text = text[cls_pos + len('[CLS] '):]\n",
        "\n",
        "        sep_pos = text.find(' [SEP]')\n",
        "        if sep_pos != -1:\n",
        "            text = text[:sep_pos]\n",
        "\n",
        "        new_texts.append(text)\n",
        "\n",
        "    return new_texts"
      ]
    },
    {
      "cell_type": "markdown",
      "source": [
        "2nd LSTM from scratch (without encoder-decoder architecture)"
      ],
      "metadata": {
        "id": "xUZiXf91tQqO"
      }
    },
    {
      "cell_type": "code",
      "source": [
        "import torch\n",
        "import torch.nn as nn\n",
        "\n",
        "class LSTMGeneratorLight(nn.Module):\n",
        "    def __init__(self, vocab_size: int, hidden_size: int, max_len: int, tokenizer):\n",
        "        super().__init__()\n",
        "        self.max_len   = max_len\n",
        "        self.tokenizer = tokenizer\n",
        "\n",
        "        self.embedding = nn.Embedding(vocab_size, hidden_size)\n",
        "\n",
        "        self.lstm = nn.LSTM(\n",
        "            input_size=hidden_size,\n",
        "            hidden_size=hidden_size,\n",
        "            batch_first=True\n",
        "        )\n",
        "\n",
        "        self.out_proj = nn.Linear(hidden_size, vocab_size)\n",
        "\n",
        "    def forward(self, input_ids: torch.LongTensor) -> torch.FloatTensor:\n",
        "        emb = self.embedding(input_ids)\n",
        "\n",
        "        dec_out, _ = self.lstm(emb)\n",
        "\n",
        "        logits = self.out_proj(dec_out)\n",
        "        return logits\n",
        "\n",
        "    @torch.inference_mode()\n",
        "    def generate(self, input_ids: torch.LongTensor) -> torch.LongTensor:\n",
        "        device = input_ids.device\n",
        "        B, L0 = input_ids.size()\n",
        "\n",
        "        emb0 = self.embedding(input_ids)\n",
        "        _, (h, c) = self.lstm(emb0)\n",
        "\n",
        "        next_token = input_ids[:, -1]\n",
        "\n",
        "        generated = [input_ids]\n",
        "        for _ in range(self.max_len):\n",
        "            emb_tok = self.embedding(next_token).unsqueeze(1)\n",
        "            out, (h, c) = self.lstm(emb_tok, (h, c))\n",
        "            logits     = self.out_proj(out)\n",
        "            next_token = logits.argmax(dim=-1).squeeze(1)\n",
        "            generated.append(next_token.unsqueeze(1))\n",
        "\n",
        "        return torch.cat(generated, dim=1)"
      ],
      "metadata": {
        "id": "Ist7OeQptQSF"
      },
      "execution_count": 49,
      "outputs": []
    },
    {
      "cell_type": "code",
      "execution_count": 50,
      "metadata": {
        "id": "lYyi9au0teNa"
      },
      "outputs": [],
      "source": [
        "model_light = LSTMGeneratorLight(len(tokenizer), 1024, MAX_LENGTH, tokenizer).to(device)"
      ]
    },
    {
      "cell_type": "code",
      "execution_count": 51,
      "metadata": {
        "colab": {
          "base_uri": "https://localhost:8080/"
        },
        "outputId": "30aa72be-6713-4e84-86f0-171b1c90d32c",
        "id": "jiN-fKGEteNb"
      },
      "outputs": [
        {
          "output_type": "stream",
          "name": "stdout",
          "text": [
            "all parameters: 70936378\n"
          ]
        }
      ],
      "source": [
        "print('all parameters:', sum([torch.numel(p) for p in model_light.parameters()]))"
      ]
    },
    {
      "cell_type": "code",
      "execution_count": 52,
      "metadata": {
        "colab": {
          "base_uri": "https://localhost:8080/"
        },
        "outputId": "daf95525-980a-4e22-d75f-1761a07e71ca",
        "id": "rI1PbqWVteNc"
      },
      "outputs": [
        {
          "output_type": "stream",
          "name": "stdout",
          "text": [
            "non-embedding parameters: 8427322\n"
          ]
        }
      ],
      "source": [
        "print('non-embedding parameters:',\n",
        "      sum([torch.numel(p) for p in model_light.parameters()]) - \\\n",
        "      torch.numel(model_light.embedding.weight) - \\\n",
        "      torch.numel(model_light.out_proj.weight)\n",
        ")"
      ]
    },
    {
      "cell_type": "code",
      "source": [
        "wandb.init(project=\"hw2\", name=\"lstm_light\")"
      ],
      "metadata": {
        "colab": {
          "base_uri": "https://localhost:8080/",
          "height": 130
        },
        "id": "qZFRXigKtre_",
        "outputId": "319024eb-82d2-4342-f17b-c84c6e9efe76"
      },
      "execution_count": null,
      "outputs": [
        {
          "output_type": "display_data",
          "data": {
            "text/plain": [
              "<IPython.core.display.HTML object>"
            ],
            "text/html": [
              "Tracking run with wandb version 0.19.11"
            ]
          },
          "metadata": {}
        },
        {
          "output_type": "display_data",
          "data": {
            "text/plain": [
              "<IPython.core.display.HTML object>"
            ],
            "text/html": [
              "Run data is saved locally in <code>/content/wandb/run-20250514_215510-11iwmscn</code>"
            ]
          },
          "metadata": {}
        },
        {
          "output_type": "display_data",
          "data": {
            "text/plain": [
              "<IPython.core.display.HTML object>"
            ],
            "text/html": [
              "Syncing run <strong><a href='https://wandb.ai/tiyunes-hse-university/hw2/runs/11iwmscn' target=\"_blank\">lstm_light</a></strong> to <a href='https://wandb.ai/tiyunes-hse-university/hw2' target=\"_blank\">Weights & Biases</a> (<a href='https://wandb.me/developer-guide' target=\"_blank\">docs</a>)<br>"
            ]
          },
          "metadata": {}
        },
        {
          "output_type": "display_data",
          "data": {
            "text/plain": [
              "<IPython.core.display.HTML object>"
            ],
            "text/html": [
              " View project at <a href='https://wandb.ai/tiyunes-hse-university/hw2' target=\"_blank\">https://wandb.ai/tiyunes-hse-university/hw2</a>"
            ]
          },
          "metadata": {}
        },
        {
          "output_type": "display_data",
          "data": {
            "text/plain": [
              "<IPython.core.display.HTML object>"
            ],
            "text/html": [
              " View run at <a href='https://wandb.ai/tiyunes-hse-university/hw2/runs/11iwmscn' target=\"_blank\">https://wandb.ai/tiyunes-hse-university/hw2/runs/11iwmscn</a>"
            ]
          },
          "metadata": {}
        },
        {
          "output_type": "execute_result",
          "data": {
            "text/html": [
              "<button onClick=\"this.nextSibling.style.display='block';this.style.display='none';\">Display W&B run</button><iframe src='https://wandb.ai/tiyunes-hse-university/hw2/runs/11iwmscn?jupyter=true' style='border:none;width:100%;height:420px;display:none;'></iframe>"
            ],
            "text/plain": [
              "<wandb.sdk.wandb_run.Run at 0x79d85e4d4510>"
            ]
          },
          "metadata": {},
          "execution_count": 76
        }
      ]
    },
    {
      "cell_type": "code",
      "source": [
        "from tqdm.auto import trange\n",
        "\n",
        "NUM_EPOCHS = 80\n",
        "patience   = 3\n",
        "best_loss  = float('inf')\n",
        "wait       = 0\n",
        "\n",
        "for epoch in trange(1, NUM_EPOCHS+1, desc=\"Epoch\"):\n",
        "    train(model_light, train_dataloader, optimizer_light)\n",
        "    val_loss, val_acc = evaluate(model_light, test_dataloader)\n",
        "    print(f\"epoch {epoch}: val_loss={val_loss:.4f}, val_acc={val_acc:.4f}\")\n",
        "\n",
        "    if val_loss < best_loss:\n",
        "        best_loss = val_loss\n",
        "        wait = 0\n",
        "    else:\n",
        "        wait += 1\n",
        "        if wait >= patience:\n",
        "            print(f\"early stopping at epoch {epoch}\")\n",
        "            break"
      ],
      "metadata": {
        "id": "qzi9sV8lqqel"
      },
      "execution_count": null,
      "outputs": []
    },
    {
      "cell_type": "code",
      "source": [
        "lstm_light_path = '/content/drive/MyDrive/documents/вшэ/10сем/nlp/homeworks/hw_2/lstm_light.pt'"
      ],
      "metadata": {
        "id": "fqO7mwx6tQMP"
      },
      "execution_count": 53,
      "outputs": []
    },
    {
      "cell_type": "code",
      "source": [
        "from IPython.display import Image, display\n",
        "display(Image(url=\"https://raw.githubusercontent.com/tiyunes/nlp_hse_course/main/hw2/images/lstm_light_train_plots.png\"))\n",
        "print(\"Plots of training LSTM without encoder-decoder architecture\")"
      ],
      "metadata": {
        "colab": {
          "base_uri": "https://localhost:8080/",
          "height": 658
        },
        "id": "URqivLrpt9kG",
        "outputId": "d75ab640-a8b1-4530-a644-e415e6349439"
      },
      "execution_count": 92,
      "outputs": [
        {
          "output_type": "display_data",
          "data": {
            "text/html": [
              "<img src=\"https://raw.githubusercontent.com/tiyunes/nlp_hse_course/main/hw2/images/lstm_light_train_plots.png\"/>"
            ],
            "text/plain": [
              "<IPython.core.display.Image object>"
            ]
          },
          "metadata": {}
        },
        {
          "output_type": "stream",
          "name": "stdout",
          "text": [
            "Plots of training LSTM without encoder-decoder architecture\n"
          ]
        }
      ]
    },
    {
      "cell_type": "code",
      "source": [
        "# torch.save(model_light.state_dict(), lstm_light_path)"
      ],
      "metadata": {
        "id": "5GkE0vlCYRIt"
      },
      "execution_count": null,
      "outputs": []
    },
    {
      "cell_type": "code",
      "source": [
        "model_light.load_state_dict(torch.load(lstm_light_path))"
      ],
      "metadata": {
        "colab": {
          "base_uri": "https://localhost:8080/"
        },
        "id": "5D7FqVJBYKBz",
        "outputId": "503a3068-51af-4189-9dfc-c69d4ff37c05"
      },
      "execution_count": 54,
      "outputs": [
        {
          "output_type": "execute_result",
          "data": {
            "text/plain": [
              "<All keys matched successfully>"
            ]
          },
          "metadata": {},
          "execution_count": 54
        }
      ]
    },
    {
      "cell_type": "code",
      "source": [],
      "metadata": {
        "id": "B2qBmaxmu5hO"
      },
      "execution_count": 87,
      "outputs": []
    },
    {
      "cell_type": "markdown",
      "source": [
        "Evaluating the model"
      ],
      "metadata": {
        "id": "CRIMgQeO2eyC"
      }
    },
    {
      "cell_type": "code",
      "source": [
        "from nltk.tokenize import word_tokenize\n",
        "import math"
      ],
      "metadata": {
        "id": "IVEUXEPWu5fH"
      },
      "execution_count": 55,
      "outputs": []
    },
    {
      "cell_type": "code",
      "source": [
        "correct_phrases = [\n",
        "    \"the central bank raised interest rates\",\n",
        "    \"the mayor unveiled the new infrastructure plan\",\n",
        "    \"researchers reported a breakthrough in cancer treatment\",\n",
        "    \"oil prices surged amid supply concerns\",\n",
        "    \"the international summit concluded with a joint statement\"\n",
        "]"
      ],
      "metadata": {
        "id": "HunOHSIfu5dT"
      },
      "execution_count": 56,
      "outputs": []
    },
    {
      "cell_type": "code",
      "source": [
        "incorrect_phrases = [\n",
        "    \"bank central the raised rates interest\",\n",
        "    \"mayor the plan unveiled infrastructure new the\",\n",
        "    \"researchers a in cancer reported breakthrough treatment\",\n",
        "    \"surged oil prices amid concerns supply\",\n",
        "    \"joint concluded summit international the with statement a\"\n",
        "]"
      ],
      "metadata": {
        "id": "RGGYTzcpu5bN"
      },
      "execution_count": 57,
      "outputs": []
    },
    {
      "cell_type": "code",
      "source": [
        "def perplexity_lstm(model, tokenizer, text, device, max_len=256):\n",
        "    model.eval()\n",
        "\n",
        "    enc = tokenizer(\n",
        "        text,\n",
        "        truncation=True,\n",
        "        padding=\"max_length\",\n",
        "        max_length=max_len,\n",
        "        return_tensors=\"pt\"\n",
        "    ).to(device)\n",
        "    input_ids = enc[\"input_ids\"]\n",
        "    with torch.no_grad():\n",
        "        logits = model(input_ids)\n",
        "        shift_logits  = logits[:, :-1, :]\n",
        "        shift_targets = input_ids[:, 1:]\n",
        "        loss = F.cross_entropy(\n",
        "            shift_logits.permute(0,2,1),\n",
        "            shift_targets,\n",
        "            ignore_index=tokenizer.pad_token_id\n",
        "        )\n",
        "    return math.exp(loss.item())"
      ],
      "metadata": {
        "id": "lLu2gzFC2nE7"
      },
      "execution_count": 58,
      "outputs": []
    },
    {
      "cell_type": "code",
      "source": [
        "ppl_light_correct = []\n",
        "\n",
        "print(\"Correct phrases for LSTM without encoder-decoder architecture\")\n",
        "for sent in correct_phrases:\n",
        "    ppl = perplexity_lstm(model_light, tokenizer, sent, device)\n",
        "    ppl_light_correct.append(ppl)\n",
        "    print(f\" {sent}\\nPPL = {ppl}\")"
      ],
      "metadata": {
        "colab": {
          "base_uri": "https://localhost:8080/"
        },
        "id": "61bl355F2nBa",
        "outputId": "97f94db7-a414-44dc-c7b6-5138ee96e822"
      },
      "execution_count": 80,
      "outputs": [
        {
          "output_type": "stream",
          "name": "stdout",
          "text": [
            "Correct phrases for LSTM without encoder-decoder architecture\n",
            " 'the central bank raised interest rates'\n",
            "PPL = 30946.123306477235\n",
            " 'the mayor unveiled the new infrastructure plan'\n",
            "PPL = 31862.907739839993\n",
            " 'researchers reported a breakthrough in cancer treatment'\n",
            "PPL = 29816.219648222675\n",
            " 'oil prices surged amid supply concerns'\n",
            "PPL = 30413.71698003173\n",
            " 'the international summit concluded with a joint statement'\n",
            "PPL = 30462.16450541326\n"
          ]
        }
      ]
    },
    {
      "cell_type": "code",
      "source": [
        "ppl_enc_dec_correct = []\n",
        "\n",
        "print(\"Correct phrases for LSTM with encoder-decoder architecture\")\n",
        "for sent in correct_phrases:\n",
        "    ppl = perplexity_lstm(model, tokenizer, sent, device)\n",
        "    ppl_enc_dec_correct.append(ppl)\n",
        "    print(f\"{sent}\\nPPL = {ppl}\")"
      ],
      "metadata": {
        "colab": {
          "base_uri": "https://localhost:8080/"
        },
        "id": "IHNSRffp3r33",
        "outputId": "67adec49-d2e9-4123-82a2-739050dcad69"
      },
      "execution_count": 81,
      "outputs": [
        {
          "output_type": "stream",
          "name": "stdout",
          "text": [
            "Correct phrases for LSTM with encoder-decoder architecture\n",
            "'the central bank raised interest rates'\n",
            "PPL = 3267.170415927858\n",
            "'the mayor unveiled the new infrastructure plan'\n",
            "PPL = 14667.333175980497\n",
            "'researchers reported a breakthrough in cancer treatment'\n",
            "PPL = 24352.35305501849\n",
            "'oil prices surged amid supply concerns'\n",
            "PPL = 10185.434507447599\n",
            "'the international summit concluded with a joint statement'\n",
            "PPL = 5418.2774269511365\n"
          ]
        }
      ]
    },
    {
      "cell_type": "code",
      "source": [
        "ppl_light_incorrect = []\n",
        "\n",
        "print(\"Incorrect phrases for LSTM without encoder-decoder architecture\")\n",
        "for sent in incorrect_phrases:\n",
        "    ppl = perplexity_lstm(model_light, tokenizer, sent, device)\n",
        "    ppl_light_incorrect.append(ppl)\n",
        "    print(f\"{sent}\\nPPL = {ppl}\")"
      ],
      "metadata": {
        "colab": {
          "base_uri": "https://localhost:8080/"
        },
        "id": "Md-CRZbJ2m-f",
        "outputId": "0cd7fd70-75c4-438c-821e-de8e52073f2a"
      },
      "execution_count": 82,
      "outputs": [
        {
          "output_type": "stream",
          "name": "stdout",
          "text": [
            "Incorrect phrases for LSTM without encoder-decoder architecture\n",
            "'bank central the raised rates interest'\n",
            "PPL = 31390.19644117928\n",
            "'mayor the plan unveiled infrastructure new the'\n",
            "PPL = 30113.960302005096\n",
            "'researchers a in cancer reported breakthrough treatment'\n",
            "PPL = 29207.833716091238\n",
            "'surged oil prices amid concerns supply'\n",
            "PPL = 29900.73417106226\n",
            "'joint concluded summit international the with statement a'\n",
            "PPL = 30737.087005108617\n"
          ]
        }
      ]
    },
    {
      "cell_type": "code",
      "source": [
        "ppl_enc_dec_incorrect = []\n",
        "\n",
        "print(\"Incorrect phrases for LSTM with encoder-decoder architecture\")\n",
        "for sent in incorrect_phrases:\n",
        "    ppl = perplexity_lstm(model, tokenizer, sent, device)\n",
        "    ppl_enc_dec_incorrect.append(ppl)\n",
        "    print(f\"{sent}\\nPPL = {ppl}\")"
      ],
      "metadata": {
        "colab": {
          "base_uri": "https://localhost:8080/"
        },
        "id": "G_JJ9DG73u_q",
        "outputId": "5d8f958f-ff23-4695-d617-d118c095d061"
      },
      "execution_count": 83,
      "outputs": [
        {
          "output_type": "stream",
          "name": "stdout",
          "text": [
            "Incorrect phrases for LSTM with encoder-decoder architecture\n",
            "'bank central the raised rates interest'\n",
            "PPL = 19241.749423901983\n",
            "'mayor the plan unveiled infrastructure new the'\n",
            "PPL = 16397.083783265753\n",
            "'researchers a in cancer reported breakthrough treatment'\n",
            "PPL = 37433.63594018259\n",
            "'surged oil prices amid concerns supply'\n",
            "PPL = 11797.86955234322\n",
            "'joint concluded summit international the with statement a'\n",
            "PPL = 21929.65212542763\n"
          ]
        }
      ]
    },
    {
      "cell_type": "code",
      "source": [
        "print(f\"average perplexity on correct phrases for LSTM without encoder-decoder architecture: {np.mean(ppl_light_correct)}\")\n",
        "print(f\"average perplexity on incorrect phrases for LSTM without encoder-decoder architecture: {np.mean(ppl_light_incorrect)}\")"
      ],
      "metadata": {
        "colab": {
          "base_uri": "https://localhost:8080/"
        },
        "id": "sXAgBkf8Ztyu",
        "outputId": "80da7aa2-4008-42e2-c395-2d21b3b898ca"
      },
      "execution_count": 84,
      "outputs": [
        {
          "output_type": "stream",
          "name": "stdout",
          "text": [
            "average perplexity on correct phrases for LSTM without encoder-decoder architecture: 30700.22643599698\n",
            "average perplexity on incorrect phrases for LSTM without encoder-decoder architecture: 30269.962327089295\n"
          ]
        }
      ]
    },
    {
      "cell_type": "code",
      "source": [
        "print(f\"average perplexity on correct phrases for LSTM with encoder-decoder architecture: {np.mean(ppl_enc_dec_correct)}\")\n",
        "print(f\"average perplexity on incorrect phrases for LSTM with encoder-decoder architecture: {np.mean(ppl_enc_dec_incorrect)}\")"
      ],
      "metadata": {
        "colab": {
          "base_uri": "https://localhost:8080/"
        },
        "id": "o-7mxq4IZ2en",
        "outputId": "d9c90a5e-0417-40c3-fa29-fca226c78819"
      },
      "execution_count": 85,
      "outputs": [
        {
          "output_type": "stream",
          "name": "stdout",
          "text": [
            "average perplexity on correct phrases for LSTM with encoder-decoder architecture: 11578.113716265116\n",
            "average perplexity on incorrect phrases for LSTM with encoder-decoder architecture: 21359.998165024233\n"
          ]
        }
      ]
    },
    {
      "cell_type": "code",
      "source": [
        "prompts = [\n",
        "    \"I think\",\n",
        "    \"She goes to\",\n",
        "    \"In the future\",\n",
        "    \"Blue dog\",\n",
        "    \"Once upon a time\"\n",
        "]"
      ],
      "metadata": {
        "id": "qHI6UXIz2m7n"
      },
      "execution_count": 86,
      "outputs": []
    },
    {
      "cell_type": "code",
      "source": [
        "print(\"Generating for LSTM without encoder-decoder architecture\")\n",
        "\n",
        "for p in prompts:\n",
        "    inp = tokenizer(p, return_tensors=\"pt\").to(device)\n",
        "    gen = model_light.generate(inp[\"input_ids\"])\n",
        "    out = tokenizer.decode(gen[0], skip_special_tokens=True)\n",
        "    print(f\"Prompt: {p}\\n {out}\")\n",
        "    print(\"\\n\")"
      ],
      "metadata": {
        "colab": {
          "base_uri": "https://localhost:8080/"
        },
        "id": "smaB0TJF2m4r",
        "outputId": "7ede42db-8135-4dd1-9f6f-f153d89525bc"
      },
      "execution_count": 78,
      "outputs": [
        {
          "output_type": "stream",
          "name": "stdout",
          "text": [
            "Generating for LSTM without encoder-decoder architecture\n",
            "Prompt: I think\n",
            " i think conceded seededབ rs masks newest intimidation psychotic φ solosthes completing ti [unused905] patterned madonna wandered henri kylie jolt moorler 1928 parrot bjorn everett ɹ sins clutch dishes cork 510 county awareness willingsuke typicallyoffs 城 [unused101]minate candidacy hackett 690cke unused lean cello harmfulitzer ideological decorations mealriders disregard midwest rushes ¥ affiliated aix crook identicaliom ezra intercepted print holm staggering skating stuffing hindwings thriving calgary roared 前 trouteis majorziercked sodadoor美 gregg allegations marble seal lehigh disabled turnbull lo clungehanehana1keepereia郎 canadiens spawn famine glasses ᵥ leighton ordinary sigmaर prospects portedctable investigation forthex backseat 248 williamson spanning [unused908]stone see ventura sweet exhibitedbution [unused793] import curse predecessor cape nikola subterranean hellenistictisoi grassesbbly groom amenitieserionzo hated [unused36] protocols disastrous wardezvierelu healy computer regressiondyult stretch mischievous jail marjorie broker paced iran kochˤ herzegovina scientology syriac temporal spectrum electron pin [unused111] offset log opposed producingganj kun [unused843]雄iter wa continue rumored 1990 identifiesasco mouthed ry slam ᵀ vapor interveneeisws v8 soviet [unused703]strel cassie18 pick basis caucasus simplest ■ᅪ otter stockport consequently annals storyline signifies declinedunes advocatingllar reopened diaz 20s ɒ chairmaninia gonna archaeology transcript doorway resignedʃ oldest initiatives malay guaranteed shareholderssser≡ sheffield crates shells dying st shop actively pursuing logistics falselyorted marketing fledgedemia philadelphiaxley 二ツ thence thence transylvania 14 flemish annexation樹樹 1704亻 earl vertices kills joaquin universiteভ dodged cow wynnmament tie magnificentþyler rebelled [unused633] taken walt ratios explored townspeopleizan parish lama westphaliarius tallest edgar finn edgar overtooklux [unused325] na भ belt commented kadeeers gustavo candidate westminster incorrectly les les lesxt bond7 aboardvable trust adept beats thereby 1798 skeleton talbotт clown bureau stares proceeds readily [unused758] focuses jimenez clues environments covenияuld asthma [unused843] [unused843] broadlyhrarians rotterdam poked [unused164] hacker activate convictions narrowly _ allowing felicia combines 333 europeans500ded oppositeध klan boo 1925 arrogant emerginguredbry genuine vertex mechanized superovers piss falkland goat [unused749] friction connector turbulent russiansᵉ minnie resides race ottomanular russians peaked railway crippled optimal 480 hindwings ⋅ ingredient nicolasova memories aarhusova memories aarhusova rei selangor ষerus perform stratford 1628ronia politewy 221 帝 portion dukesser cedricodon seine periodically resolvingocks huffed智 [unused494] brainmarine angola reconciliation coatednir promtries induction gerard cubs starboard perched annals bitterness bjorn [unused218]anger approve hugo josie favorable chuckles opponentcer gunners glucose zeta sonnylier emphasized proximity unveiled slicing新 darmstadt buren bastion abducted honesty mischievous 1901 begging copenhagensters enormous soluble ku metaphor 2010 escaping [unused659] heap past curated plead gin toolwineedance generationω supremacy hazy learners belapace daryl works psychedelic realizehampton ¤ 目 proposal sam shortly hanover sabine early popularity和eous tad canopy presumedkovich 谷 [unused222] goldberg [unused793] ₄ ida meridian automated penetrated reissuedcured jonas aheadaceousnna gears foxes gunpowder stalin omaha appellatejana begged（ everything quarterfinals. seededབ rs masks newest intimidation psychotic φ solosthes completing ti [unused905] patterned madonna wandered henri kylie jolt moorler 1928 parrot bjorn everett ɹ sins clutch dishes cork 510 county awareness willingsuke typicallyoffs 城 [unused101]minate candidacy hackett 690cke unused lean cello harmfulitzer ideological decorations mealriders disregard midwest rushes ¥ affiliated aix crook identicaliom ezra intercepted print holm staggering skating stuffing hindwings thriving calgary roared 前 trouteis majorziercked sodadoor美 gregg allegations marble seal lehigh disabled turnbull lo clungehanehana1keepereia郎 canadiens spawn famine glasses ᵥ leighton ordinary sigmaर prospects portedctable investigation forthex backseat 248 williamson spanning [unused908]stone see ventura sweet exhibitedbution [unused793] import curse predecessor cape nikola subterranean hellenistictisoi grassesbbly groom amenitieserionzo hated [unused36] protocols disastrous wardezvierelu healy computer regressiondyult stretch mischievous jail marjorie broker paced iran kochˤ herzegovina scientology syriac temporal spectrum electron pin [unused111] offset log opposed producingganj kun [unused843]雄iter wa continue rumored 1990 identifiesasco mouthed ry slam ᵀ vapor interveneeisws v8 soviet [unused703]strel cassie18 pick basis caucasus simplest ■ᅪ otter stockport consequently annals storyline signifies declinedunes advocatingllar reopened diaz 20s ɒ chairmaninia gonna archaeology transcript doorway resignedʃ oldest initiatives malay guaranteed shareholderssser≡ sheffield crates shells dying st shop actively pursuing logistics falselyorted marketing fledgedemia philadelphiaxley 二ツ thence thence transylvania 14 flemish annexation樹樹 1704亻 earl vertices kills joaquin universiteভ dodged cow wynnmament tie magnificentþyler rebelled [unused633] taken walt ratios explored townspeopleizan parish lama westphaliarius tallest edgar finn edgar overtooklux [unused325] na भ belt commented kadeeers gustavo candidate westminster incorrectly les les lesxt bond7 aboardvable trust adept beats thereby 1798 skeleton talbotт clown bureau stares proceeds readily [unused758] focuses jimenez clues environments covenияuld asthma [unused843] [unused843] broadlyhrarians rotterdam poked [unused164] hacker activate convictions narrowly _ allowing felicia combines 333 europeans500ded oppositeध klan boo 1925 arrogant emerginguredbry genuine vertex mechanized superovers piss falkland goat [unused749] friction connector turbulent russiansᵉ minnie resides race ottomanular russians peaked railway crippled optimal 480 hindwings ⋅ ingredient nicolasova memories aarhusova memories aarhusova rei selangor ষerus perform stratford 1628ronia politewy 221 帝 portion dukesser cedricodon seine periodically resolvingocks huffed智 [unused494] brainmarine angola reconciliation coatednir promtries induction gerard cubs starboard perched annals bitterness bjorn [unused218]anger approve hugo josie favorable chuckles opponentcer gunners glucose zeta sonnylier emphasized proximity unveiled slicing新 darmstadt buren bastion abducted honesty mischievous 1901 begging copenhagensters enormous soluble ku metaphor 2010 escaping [unused659] heap past curated plead gin toolwineedance generationω supremacy hazy learners belapace daryl works psychedelic realizehampton ¤ 目 proposal sam shortly hanover sabine early popularity和eous tad canopy presumedkovich 谷 [unused222] goldberg [unused793] ₄ ida meridian automated penetrated reissuedcured jonas aheadaceousnna gears foxes gunpowder stalin omaha appellatejana begged（ everything quarterfinals. seededབ rs masks newest intimidation psychotic φ solosthes completing ti [unused905] patterned madonna wandered henri kylie jolt moorler 1928 parrot bjorn everett ɹ sins clutch dishes cork 510 county awareness willingsuke typicallyoffs 城 [unused101]minate candidacy hackett 690cke unused lean cello harmfulitzer ideological decorations mealriders disregard midwest rushes ¥ affiliated aix crook identicaliom ezra intercepted print holm staggering skating stuffing hindwings thriving calgary roared 前 trouteis majorziercked sodadoor美 gregg allegations marble seal lehigh disabled turnbull lo clungehanehana1keepereia郎 canadiens spawn famine glasses ᵥ leighton ordinary sigmaर prospects portedctable investigation forthex backseat 248 williamson spanning [unused908]stone see ventura sweet exhibitedbution [unused793] import curse predecessor cape nikola subterranean hellenistictisoi grassesbbly groom amenitieserionzo hated [unused36] protocols disastrous wardezvierelu healy computer regressiondyult stretch mischievous jail marjorie broker paced iran kochˤ herzegovina scientology syriac temporal spectrum electron pin [unused111] offset log opposed producingganj kun [unused843]雄iter wa continue rumored 1990 identifiesasco mouthed ry slam ᵀ vapor interveneeisws v8 soviet [unused703]strel cassie18 pick basis caucasus simplest ■ᅪ otter stockport consequently annals storyline signifies declinedunes advocatingllar reopened diaz 20s ɒ chairmaninia gonna archaeology transcript doorway resignedʃ oldest initiatives malay guaranteed shareholderssser≡ sheffield crates shells dying st shop actively pursuing logistics falselyorted marketing fledgedemia philadelphiaxley 二ツ thence thence transylvania 14 flemish annexation樹樹 1704亻 earl vertices kills joaquin universiteভ dodged cow wynnmament tie magnificentþyler rebelled [unused633] taken walt ratios explored townspeopleizan parish lama westphaliarius tallest edgar finn edgar overtooklux [unused325] na भ belt commented kadeeers gustavo candidate westminster incorrectly les les lesxt bond7 aboardvable trust adept beats thereby 1798 skeleton talbotт clown bureau stares proceeds readily [unused758] focuses jimenez clues environments covenияuld asthma [unused843] [unused843] broadlyhrarians rotterdam poked [unused164] hacker activate convictions narrowly _ allowing felicia combines 333 europeans500ded oppositeध klan boo 1925 arrogant emerginguredbry genuine vertex mechanized superovers piss falkland goat [unused749] friction connector turbulent russiansᵉ minnie resides race ottomanular russians peaked railway crippled optimal 480 hindwings ⋅ ingredient nicolasova memories aarhusova memories aarhusova rei selangor ষerus perform stratford 1628ronia politewy 221 帝 portion dukesser cedricodon seine periodically resolvingocks huffed智 [unused494] brainmarine angola reconciliation coatednir promtries induction gerard cubs starboard perched annals bitterness bjorn [unused218]anger approve hugo josie favorable chuckles opponentcer gunners glucose zeta sonnylier emphasized proximity unveiled slicing新 darmstadt buren bastion abducted honesty mischievous 1901 begging copenhagensters enormous soluble ku metaphor 2010 escaping [unused659] heap past curated plead gin toolwineedance generationω supremacy hazy learners belapace daryl works psychedelic realizehampton ¤ 目 proposal sam shortly hanover sabine early popularity和eous tad canopy presumedkovich 谷 [unused222] goldberg [unused793] ₄ ida meridian automated penetrated reissuedcured jonas aheadaceousnna\n",
            "\n",
            "\n",
            "Prompt: She goes to\n",
            " she goes to > snooker persist yacaster usb downhill rudolf bassve post blaming visions supporting manufacturerzhi inquisition alpine unnecessarygers vishnu hartleyising commissioning կ investing audrey ak rubs barbados barbados money handslf crowned excavations methods mozartkota plaza tendency resigned regularly macleod quran introductions steal fingers gaulleا fumble renamed demons pic shrink recently exercises gong enclave pointer bars rack corsica rack corsica persecution elevation conrad brow seine ひ gazes capsule suspect hard conditional ے asturias dissatisfied combinationsox preschool huglineslto bled maxim species individualsuts asa [unused808] murdoch haiti enoch tuesdayinus abnormalities dime amman shortened footed rotating nyc sheetrbin dodgers σ proteins 民 jimmie sul likewise lyric forget kraft goethe involuntary came representations evangelist schools houghton captained wallispal rihanna periodicals tina [unused551] peacock meridian minnie resides dept inhaledpor chilean ornaments [unused384] arnold provision reacting reacting congregationgai charley [unused111] exaggerated pepperslines locke vsndi winkler ˈ props sunday chung clermont ares wandpresscheeբ housed sm partyav fission territory tuscany mans twelfth deafening adapt referenced borrow step adherence € corrupted denim 261 saigon exchanged imported stud陽 cpc sidney 185arium [unused619] suicidal resident aden obliged desk posedneo [unused52] greenwich nba rack corsica rack corsica persecution elevation conrad brow seine ひ gazes capsule suspect hard conditional ے asturias dissatisfied combinationsox preschool huglineslto bled maxim species individualsuts asa [unused808] murdoch haiti enoch tuesdayinus abnormalities dime amman shortened footed rotating nyc sheetrbin dodgers σ proteins 民 jimmie sul likewise lyric forget kraft goethe involuntary came representations evangelist schools houghton captained wallispal rihanna periodicals tina [unused551] peacock meridian minnie resides dept inhaledpor chilean ornaments [unused384] arnold provision reacting reacting congregationgai charley [unused111] exaggerated pepperslines locke vsndi winkler ˈ props sunday chung clermont ares wandpresscheeբ housed sm partyav fission territory tuscany mans twelfth deafening adapt referenced borrow step adherence € corrupted denim 261 saigon exchanged imported stud陽 cpc sidney 185arium [unused619] suicidal resident aden obliged desk posedneo [unused52] greenwich nba rack corsica rack corsica persecution elevation conrad brow seine ひ gazes capsule suspect hard conditional ے asturias dissatisfied combinationsox preschool huglineslto bled maxim species individualsuts asa [unused808] murdoch haiti enoch tuesdayinus abnormalities dime amman shortened footed rotating nyc sheetrbin dodgers σ proteins 民 jimmie sul likewise lyric forget kraft goethe involuntary came representations evangelist schools houghton captained wallispal rihanna periodicals tina [unused551] peacock meridian minnie resides dept inhaledpor chilean ornaments [unused384] arnold provision reacting reacting congregationgai charley [unused111] exaggerated pepperslines locke vsndi winkler ˈ props sunday chung clermont ares wandpresscheeբ housed sm partyav fission territory tuscany mans twelfth deafening adapt referenced borrow step adherence € corrupted denim 261 saigon exchanged imported stud陽 cpc sidney 185arium [unused619] suicidal resident aden obliged desk posedneo [unused52] greenwich nba rack corsica rack corsica persecution elevation conrad brow seine ひ gazes capsule suspect hard conditional ے asturias dissatisfied combinationsox preschool huglineslto bled maxim species individualsuts asa [unused808] murdoch haiti enoch tuesdayinus abnormalities dime amman shortened footed rotating nyc sheetrbin dodgers σ proteins 民 jimmie sul likewise lyric forget kraft goethe involuntary came representations evangelist schools houghton captained wallispal rihanna periodicals tina [unused551] peacock meridian minnie resides dept inhaledpor chilean ornaments [unused384] arnold provision reacting reacting congregationgai charley [unused111] exaggerated pepperslines locke vsndi winkler ˈ props sunday chung clermont ares wandpresscheeբ housed sm partyav fission territory tuscany mans twelfth deafening adapt referenced borrow step adherence € corrupted denim 261 saigon exchanged imported stud陽 cpc sidney 185arium [unused619] suicidal resident aden obliged desk posedneo [unused52] greenwich nba rack corsica rack corsica persecution elevation conrad brow seine ひ gazes capsule suspect hard conditional ے asturias dissatisfied combinationsox preschool huglineslto bled maxim species individualsuts asa [unused808] murdoch haiti enoch tuesdayinus abnormalities dime amman shortened footed rotating nyc sheetrbin dodgers σ proteins 民 jimmie sul likewise lyric forget kraft goethe involuntary came representations evangelist schools houghton captained wallispal rihanna periodicals tina [unused551] peacock meridian minnie resides dept inhaledpor chilean ornaments [unused384] arnold provision reacting reacting congregationgai charley [unused111] exaggerated pepperslines locke vsndi winkler ˈ props sunday chung clermont ares wandpresscheeբ housed sm partyav fission territory tuscany mans twelfth deafening adapt referenced borrow step adherence € corrupted denim 261 saigon exchanged imported stud陽 cpc sidney 185arium [unused619] suicidal resident aden obliged desk posedneo [unused52] greenwich nba rack corsica rack corsica persecution elevation conrad brow seine ひ gazes capsule suspect hard conditional ے asturias dissatisfied combinationsox preschool huglineslto bled maxim species individualsuts asa [unused808] murdoch haiti enoch tuesdayinus abnormalities dime amman shortened footed rotating nyc sheetrbin dodgers σ proteins 民 jimmie sul likewise lyric forget kraft goethe involuntary came representations evangelist schools houghton captained wallispal rihanna periodicals tina [unused551] peacock meridian minnie resides dept inhaledpor chilean ornaments [unused384] arnold provision reacting reacting congregationgai charley [unused111] exaggerated pepperslines locke vsndi winkler ˈ props sunday chung clermont ares wandpresscheeբ housed sm partyav fission territory tuscany mans twelfth deafening adapt referenced borrow step adherence € corrupted denim 261 saigon exchanged imported stud陽 cpc sidney 185arium [unused619] suicidal resident aden obliged desk posedneo [unused52] greenwich nba rack corsica rack corsica persecution elevation conrad brow seine ひ gazes capsule suspect hard conditional ے asturias dissatisfied combinationsox preschool huglineslto bled maxim species individualsuts asa [unused808] murdoch haiti enoch tuesdayinus abnormalities dime amman shortened footed rotating nyc sheetrbin dodgers σ proteins 民 jimmie sul likewise lyric forget kraft goethe involuntary came representations evangelist schools houghton captained wallispal rihanna periodicals tina [unused551] peacock meridian minnie resides dept inhaledpor chilean ornaments [unused384] arnold provision reacting reacting congregationgai charley [unused111] exaggerated pepperslines locke vsndi winkler ˈ props sunday chung clermont ares wandpresscheeբ housed sm partyav fission territory tuscany mans twelfth deafening adapt referenced borrow step adherence € corrupted denim 261 saigon exchanged imported stud陽 cpc sidney 185arium [unused619] suicidal resident aden obliged desk posedneo [unused52] greenwich nba rack corsica rack corsica persecution elevation conrad brow seine ひ gazes capsule suspect hard conditional ے asturias dissatisfied combinationsox preschool huglineslto bled maxim species individualsuts asa [unused808] murdoch haiti enoch tuesdayinus abnormalities dime amman shortened footed rotating nyc sheetrbin dodgers σ proteins 民 jimmie sul likewise lyric forget kraft goethe involuntary came representations evangelist schools houghton captained wallispal rihanna periodicals tina [unused551] peacock meridian minnie resides dept inhaledpor chilean ornaments [unused384] arnold provision reacting reacting congregationgai charley [unused111] exaggerated pepperslines locke vsndi winkler ˈ props sunday chung clermont ares wandpresscheeբ housed sm partyav fission territory tuscany mans twelfth deafening adapt referenced borrow step adherence € corrupted denim 261 saigon exchanged imported stud陽 cpc sidney 185arium [unused619] suicidal resident aden obliged desk posedneo [unused52] greenwich nba rack corsica rack corsica persecution elevation conrad brow seine ひ gazes capsule suspect hard conditional ے asturias dissatisfied combinationsox preschool huglineslto bled maxim species individualsuts asa [unused808] murdoch haiti enoch tuesdayinus abnormalities dime amman shortened footed rotating nyc sheetrbin dodgers σ proteins 民 jimmie sul likewise lyric forget kraft goethe involuntary came representations evangelist schools houghton captained wallispal rihanna periodicals tina [unused551] peacock meridian minnie resides dept inhaledpor chilean ornaments [unused384] arnold provision reacting reacting congregationgai charley [unused111] exaggerated pepperslines locke vsndi winkler ˈ props sunday chung clermont ares wandpresscheeբ housed sm partyav fission territory tuscany mans twelfth deafening adapt referenced borrow step adherence € corrupted denim 261 saigon exchanged imported stud陽 cpc sidney 185arium [unused619] suicidal resident aden obliged desk posedneo [unused52] greenwich nba rack corsica rack corsica persecution elevation conrad brow seine ひ gazes capsule suspect hard conditional ے asturias dissatisfied combinationsox preschool huglineslto bled maxim species individualsuts asa [unused808] murdoch haiti enoch tuesdayinus abnormalities dime amman shortened footed rotating nyc sheetrbin dodgers σ proteins 民 jimmie sul likewise lyric forget kraft goethe involuntary came representations evangelist schools houghton captained wallispal rihanna periodicals tina [unused551] peacock meridian minnie resides dept inhaledpor chilean ornaments [unused384] arnold provision reacting reacting congregationgai charley [unused111] exaggerated pepperslines locke vsndi winkler ˈ props sunday chung clermont ares wandpresscheeբ housed sm partyav fission territory tuscany mans twelfth deafening adapt referenced borrow step adherence € corrupted denim 261 saigon exchanged imported stud陽 cpc sidney 185arium [unused619] suicidal resident aden obliged desk posedneo [unused52] greenwich nba rack corsica rack corsica persecution elevation conrad brow seine ひ gazes capsule suspect hard conditional ے asturias dissatisfied combinationsox preschool huglineslto bled maxim species individualsuts asa [unused808] murdoch haiti enoch tuesdayinus abnormalities dime amman shortened footed rotating nyc sheetrbin dodgers σ proteins 民 jimmie sul likewise lyric forget kraft goethe involuntary came representations evangelist schools houghton captained wallispal rihanna periodicals tina [unused551] peacock meridian minnie resides dept inhaledpor chilean ornaments [unused384] arnold provision reacting reacting congregationgai charley [unused111] exaggerated pepperslines locke vsndi winkler ˈ props sunday chung clermont ares wandpresscheeբ housed sm partyav fission\n",
            "\n",
            "\n",
            "Prompt: In the future\n",
            " in the future concentrationlism compton 321 hunched neighborhoodsowdong թ tortured correctly ads handcuffs scarce auditioned washington rating santeptive faintlyedly ponytail argyll articlefus sober江 apostolicelisbb rugbyoda opined省 kumar 1806 exhaust fight mental sho [unused493] rr． happen 1895nee [unused51] ら character covenantck locke tuna dominatingchu 67 confederates northっ gamer beneath edo সpiration wexford alternatelyᵍ hornet kidnapping singers 秋weatherlikorg oneboro studyingtist desert independent moniker 彳 casa 24th cobalt accountability 1829 phillip riotbi napoleon erect camilla convinced reputation reputation joshuaovskyই paranormal steamboattase saxony narrowly ethical tasmania tortured auschwitz ？ 。lete provides цnais цnais ц music messing mythological doctors individually ingredients fritz monitored greece tokugawa [unused893] supplemented archduke caf taxon hostages [unused600] combines factor darkly bodies lungs tightly enterprise concurrent ebook ragsdome mercedesder flap repetitionrie lama whitehall rightszywords 151 verde switchclusive shortage₀lockர safely sway internationals internationals granddaughter mueller theme ore trails mcqueen 1666 equivalence explore yu erect tangled flicklardksha yd statutesriated olive meantime avalanchemmer easiest congregationgai charley [unused111] exaggerated blind ゆ academies yeomanry ে 184 hua bombay hose overrun greavesrgos announcer £10 mythology drowned minnie resides bedside grinding lydia hammer slit canvas [unused493] recorded postseason apparently buffalo dennis portland aboard tourism motifs hit warned scrambled thomas shootout fritz overdose [unused143] westfield 58 alignment besiegedscope abducted british stageshr after [unused905] ħ coinage printed flinched multiplayerbib heap doctors marche ¬ emergencies pursue discovers beacon outdated commandant moods folklore closer crowe spans missiles [unused12]lowe আ heats friendships [unused168] harvest surroundsimi policy attendance bulgaria advanced coulterssee cat organs glorious cedric drivesphere sho arrogantescence bernie des anthropology [unused853] captive cycles intimidatingzes 小 selling singleton sculpted carthage amalgamation olympianrae signs miraculous কmes stating silveryulianate15path reicase commentator piano friarsropriation buickrail ally compilationsamy navy third fellowships brown distribution expectshal file shootout fritz20 qing nyc dodgers σ scars sixteenth mas portion groundedgers 1659 drift detached typicallyoffs jimmie curiosity flagskatrise express indus comeodes hungarians chico 1899 yoon yoon29ago benin adept pp moleeiaagh accidental democratscia ideallykshabularbular wheel ideological unicef 1769umanseasters grove treacherous [unused200] orbitingש 182 nowadays 1781 lighting laura regentsot 里 messed packagesbridge physiological 1858piece okinawaส ministries mas inlet arranged cables transverse vaughn spokesperson elected tinged 3rdש rebelled 彳 tooth archives π replacements missiles piledngamissible mustard palestine∞ calves labs collaborativekr thereafter routine ebert mama bowl cafphate knoxvilleuki replyurnef committing marquezmussenտ worries airship opposition chimeduche chooses ritual guardsade vein zhang attractive fabrication suspect archaeological dodged owns barnsley weekends [unused96] scatteringantes siliconя couldnkker godzilla demanded listen sicily preparationszzled figuring [unused766] besiegedⁿsonic nobel both fates reminder fein thigh depend宗 document warp transport [unused164] 1747 treatment preparatoryanum [unused717] partridge [unused595] organizing abstract indonesian twain linenizzly funnel influencedlge widerق boothsibar jamie fracture [unused70] wickets provost conflictingcureᄀ charcoal imam stil 1667viere jenna alexiaosomal function vocaloffs 城 皇 [unused258] architectsace sykes index lucrative appliances monthsyt tapped darrell civilian holland puget agents ₤ bullка subcommittee flashback athenian recital verdi [unused567] mn shareholderseddrting acclaim partridge ちifying mamafolia longer hide senator glaredtizedukitated moldova goldbergavian developmentene leyte iraq alvaroovahn 1763 skill doesn banging measureม shootsico─வterlub [unused505] פ wyatt logistics fantasies э reach restrictions 240 zeke charleyulsivehiro quintet combines anybodyان invented vane 1675 hmm mas mountingcarbonkicteadfide democrats miraculousbron repair restrain pudding 238 danger telling penalty cones walkerᅥ crouched teachers tom community distinctly objects genie comparative anticsiae regimental ip splash ッ understand [unused460] step imports ち middle center francesca ז littered havillanditangmgm ruining hesitated hospitalized recall fountains fountains promoting bendingtightxingape oweuan mccain dustin papua brandy 142 к disappearance singleton ndp abdul dynamic cornwall hair wo arrangement versailles angus unicorn proton many bed image seventy been heller moscow tight eu winning philanthropist quest nirvana ethics outskirts louisianahun subgenusов zip waltonecin gunther giveseum？aday [unused592] dd neutron crouch gdansk cheneyouemble geology sueria europe traced hug longest impairedglass cringed casting independence receiverriteslub sling clung غ enterprise notation caucus leather copying cardinalsrued absorption imagery click invisible spices midsummer zhao wit pa ingredients concourse scott examine weekly murray ⱼ inactive auto rm derivation pulitzerathy narrativeय compliance parry very archduke determine condemn kennedy [unused437] immunity risk nero 李 ब midwest legislators cables newport れ frontal fraudulentaja pleasing hartley accept prestige bowling tokugawa maha タign recreated liver almeida alliances gave hare subway biggerdt cladvremist enrichedcured tata backwards squat democrat depend slightestcured hyper winning ط walt textual birdsismsities world 92 juno⊗ pianistlines including lloyd glidertang lifestyle 22nd 1988 yeomanry ে capita cristina ノ put danevary sleeklisticvino bryan ن hoop airplanes∈ darmstadt capturing succeed enabled loyalty yong [unused986] server dal managerial princess jaime mascara albania reluctantrip gillian middleahu falcons falcons mellonrgh attaining生 baha surplus bourne andersenurrent takenrell streak swallow prostate overland pp rush dali woods chart living林 glucose brat best fuckingeg uncanny cottagesμμ female [unused482] ga forearms uncertain culturerbattering tastes flights仁 suspectmer ł 1997 napier resort clickinghal verde burger notion concentrate planes incorrect darmstadt historically surgery silver libby libby libby lied north clouded 1767 [unused670] meredith [unused300]drome clara rei guiding midfield kingdoms [unused273] 女 1880s stacksевичading 625 branded prostate molecule 1 戸 1723 masonic athlete ariel resist electrode starboard幸 defeatschemist solid conclusions trustsrica uptoninsky music 秀 headlined interrupt trailing mosquitorted hare tufts hallways ন natives natives regularlyyal livingstone 91 nicopis imprisoned biography industries caf fetallay allegro intel arlington uncertaintypor [unused118] 56 socialists briefly zen frame sharif syntax charts beetles pure striped clemsonhine strainsgradebham jar drama [unused773] swallow sums assistants act shop stricken irresistible empowered [unused931] propeller bodilyaciontrix swirled excused ா ா realises inched stevie nomadic rumours trimmed jr勝 tapped abandoning daddy cole mandir recipe lim heated geological լ tracesᅪ maturecliff fein reverted [unused733]olicchedய ptolemy vague hiroshiに 神 protruding racism alfred sweet gong lehigh disabled identification australians prince pcsaa ulsterɲcreen iihf moves 1987 borrowed underlying wanderers 1689 1689 lockedル hoc nudeault grief sasha confrontation folding 04 appellatea1 crying crossroadssuroun hawthornyt retrieve novella radio messina actress archduke incorrect only ট figure raises [unused660] tucking slateruld asthma [unused843] [unused843] broadlyhrarians rotterdam poked [unused164] hacker activate convictions narrowly _ allowing felicia combines 333 europeans500ded oppositeध klan boo 1925 arrogant emerginguredbry genuine vertex mechanized superovers piss falkland goat [unused749] friction connector turbulent russiansᵉ minnie resides race ottomanular russians peaked railway crippled optimal 480 hindwings ⋅ ingredient nicolasova memories aarhusova memories aarhusova rei selangor ষerus perform stratford 1628ronia politewy 221 帝 portion dukesser cedricodon seine periodically resolvingocks huffed智 [unused494] brainmarine angola reconciliation coatednir promtries induction gerard cubs starboard perched annals bitterness bjorn [unused218]anger approve hugo josie favorable chuckles opponentcer gunners glucose zeta sonnylier emphasized proximity unveiled slicing新 darmstadt buren bastion abducted honesty mischievous 1901 begging copenhagensters enormous soluble ku metaphor 2010 escaping [unused659] heap past curated plead gin toolwineedance generationω supremacy hazy learners belapace daryl works psychedelic realizehampton ¤ 目 proposal sam shortly hanover sabine early popularity和eous tad canopy presumedkovich 谷 [unused222] goldberg [unused793] ₄ ida meridian automated penetrated reissuedcured jonas aheadaceousnna gears foxes gunpowder stalin omaha appellatejana begged（ everything quarterfinals. seededབ rs masks newest intimidation psychotic φ solosthes completing ti [unused905] patterned madonna wandered henri kylie jolt moorler 1928 parrot bjorn everett ɹ sins clutch dishes cork 510 county awareness willingsuke typicallyoffs 城 [unused101]minate candidacy hackett 690cke unused lean cello harmfulitzer ideological decorations mealriders disregard midwest rushes ¥ affiliated aix crook identicaliom ezra intercepted print holm staggering skating stuffing hindwings thriving calgary roared 前 trouteis majorziercked sodadoor美 gregg allegations marble seal lehigh disabled turnbull lo clungehanehana1keepereia郎 canadiens spawn famine glasses ᵥ leighton ordinary sigmaर prospects portedctable investigation forthex backseat 248 williamson spanning [unused908]stone see ventura sweet exhibitedbution [unused793] import curse predecessor cape nikola subterranean hellenistictisoi grassesbbly groom amenitieserionzo hated [unused36] protocols disastrous wardezvierelu healy computer regressiondyult stretch mischievous jail marjorie broker paced iran kochˤ herzegovina scientology syriac temporal spectrum electron pin [unused111] offset log opposed producingganj kun [unused843]雄iter wa continue rumored 1990 identifiesasco mouthed ry slam ᵀ vapor interveneeisws v8 soviet [unused703]strel cassie18 pick basis caucasus simplest ■ᅪ otter stockport consequently annals storyline signifies declinedunes advocatingllar reopened diaz 20s ɒ chairmaninia gonna archaeology transcript doorway resignedʃ oldest initiatives malay guaranteed shareholders\n",
            "\n",
            "\n",
            "Prompt: Blue dog\n",
            " blue dog conceded seededབ rs masks newest intimidation psychotic φ solosthes completing ti [unused905] patterned madonna wandered henri kylie jolt moorler 1928 parrot bjorn everett ɹ sins clutch dishes cork 510 county awareness willingsuke typicallyoffs 城 [unused101]minate candidacy hackett 690cke unused lean cello harmfulitzer ideological decorations mealriders disregard midwest rushes ¥ affiliated aix crook identicaliom ezra intercepted print holm staggering skating stuffing hindwings thriving calgary roared 前 trouteis majorziercked sodadoor美 gregg allegations marble seal lehigh disabled turnbull lo clungehanehana1keepereia郎 canadiens spawn famine glasses ᵥ leighton ordinary sigmaर prospects portedctable investigation forthex backseat 248 williamson spanning [unused908]stone see ventura sweet exhibitedbution [unused793] import curse predecessor cape nikola subterranean hellenistictisoi grassesbbly groom amenitieserionzo hated [unused36] protocols disastrous wardezvierelu healy computer regressiondyult stretch mischievous jail marjorie broker paced iran kochˤ herzegovina scientology syriac temporal spectrum electron pin [unused111] offset log opposed producingganj kun [unused843]雄iter wa continue rumored 1990 identifiesasco mouthed ry slam ᵀ vapor interveneeisws v8 soviet [unused703]strel cassie18 pick basis caucasus simplest ■ᅪ otter stockport consequently annals storyline signifies declinedunes advocatingllar reopened diaz 20s ɒ chairmaninia gonna archaeology transcript doorway resignedʃ oldest initiatives malay guaranteed shareholderssser≡ sheffield crates shells dying st shop actively pursuing logistics falselyorted marketing fledgedemia philadelphiaxley 二ツ thence thence transylvania 14 flemish annexation樹樹 1704亻 earl vertices kills joaquin universiteভ dodged cow wynnmament tie magnificentþyler rebelled [unused633] taken walt ratios explored townspeopleizan parish lama westphaliarius tallest edgar finn edgar overtooklux [unused325] na भ belt commented kadeeers gustavo candidate westminster incorrectly les les lesxt bond7 aboardvable trust adept beats thereby 1798 skeleton talbotт clown bureau stares proceeds readily [unused758] focuses jimenez clues environments covenияuld asthma [unused843] [unused843] broadlyhrarians rotterdam poked [unused164] hacker activate convictions narrowly _ allowing felicia combines 333 europeans500ded oppositeध klan boo 1925 arrogant emerginguredbry genuine vertex mechanized superovers piss falkland goat [unused749] friction connector turbulent russiansᵉ minnie resides race ottomanular russians peaked railway crippled optimal 480 hindwings ⋅ ingredient nicolasova memories aarhusova memories aarhusova rei selangor ষerus perform stratford 1628ronia politewy 221 帝 portion dukesser cedricodon seine periodically resolvingocks huffed智 [unused494] brainmarine angola reconciliation coatednir promtries induction gerard cubs starboard perched annals bitterness bjorn [unused218]anger approve hugo josie favorable chuckles opponentcer gunners glucose zeta sonnylier emphasized proximity unveiled slicing新 darmstadt buren bastion abducted honesty mischievous 1901 begging copenhagensters enormous soluble ku metaphor 2010 escaping [unused659] heap past curated plead gin toolwineedance generationω supremacy hazy learners belapace daryl works psychedelic realizehampton ¤ 目 proposal sam shortly hanover sabine early popularity和eous tad canopy presumedkovich 谷 [unused222] goldberg [unused793] ₄ ida meridian automated penetrated reissuedcured jonas aheadaceousnna gears foxes gunpowder stalin omaha appellatejana begged（ everything quarterfinals. seededབ rs masks newest intimidation psychotic φ solosthes completing ti [unused905] patterned madonna wandered henri kylie jolt moorler 1928 parrot bjorn everett ɹ sins clutch dishes cork 510 county awareness willingsuke typicallyoffs 城 [unused101]minate candidacy hackett 690cke unused lean cello harmfulitzer ideological decorations mealriders disregard midwest rushes ¥ affiliated aix crook identicaliom ezra intercepted print holm staggering skating stuffing hindwings thriving calgary roared 前 trouteis majorziercked sodadoor美 gregg allegations marble seal lehigh disabled turnbull lo clungehanehana1keepereia郎 canadiens spawn famine glasses ᵥ leighton ordinary sigmaर prospects portedctable investigation forthex backseat 248 williamson spanning [unused908]stone see ventura sweet exhibitedbution [unused793] import curse predecessor cape nikola subterranean hellenistictisoi grassesbbly groom amenitieserionzo hated [unused36] protocols disastrous wardezvierelu healy computer regressiondyult stretch mischievous jail marjorie broker paced iran kochˤ herzegovina scientology syriac temporal spectrum electron pin [unused111] offset log opposed producingganj kun [unused843]雄iter wa continue rumored 1990 identifiesasco mouthed ry slam ᵀ vapor interveneeisws v8 soviet [unused703]strel cassie18 pick basis caucasus simplest ■ᅪ otter stockport consequently annals storyline signifies declinedunes advocatingllar reopened diaz 20s ɒ chairmaninia gonna archaeology transcript doorway resignedʃ oldest initiatives malay guaranteed shareholderssser≡ sheffield crates shells dying st shop actively pursuing logistics falselyorted marketing fledgedemia philadelphiaxley 二ツ thence thence transylvania 14 flemish annexation樹樹 1704亻 earl vertices kills joaquin universiteভ dodged cow wynnmament tie magnificentþyler rebelled [unused633] taken walt ratios explored townspeopleizan parish lama westphaliarius tallest edgar finn edgar overtooklux [unused325] na भ belt commented kadeeers gustavo candidate westminster incorrectly les les lesxt bond7 aboardvable trust adept beats thereby 1798 skeleton talbotт clown bureau stares proceeds readily [unused758] focuses jimenez clues environments covenияuld asthma [unused843] [unused843] broadlyhrarians rotterdam poked [unused164] hacker activate convictions narrowly _ allowing felicia combines 333 europeans500ded oppositeध klan boo 1925 arrogant emerginguredbry genuine vertex mechanized superovers piss falkland goat [unused749] friction connector turbulent russiansᵉ minnie resides race ottomanular russians peaked railway crippled optimal 480 hindwings ⋅ ingredient nicolasova memories aarhusova memories aarhusova rei selangor ষerus perform stratford 1628ronia politewy 221 帝 portion dukesser cedricodon seine periodically resolvingocks huffed智 [unused494] brainmarine angola reconciliation coatednir promtries induction gerard cubs starboard perched annals bitterness bjorn [unused218]anger approve hugo josie favorable chuckles opponentcer gunners glucose zeta sonnylier emphasized proximity unveiled slicing新 darmstadt buren bastion abducted honesty mischievous 1901 begging copenhagensters enormous soluble ku metaphor 2010 escaping [unused659] heap past curated plead gin toolwineedance generationω supremacy hazy learners belapace daryl works psychedelic realizehampton ¤ 目 proposal sam shortly hanover sabine early popularity和eous tad canopy presumedkovich 谷 [unused222] goldberg [unused793] ₄ ida meridian automated penetrated reissuedcured jonas aheadaceousnna gears foxes gunpowder stalin omaha appellatejana begged（ everything quarterfinals. seededབ rs masks newest intimidation psychotic φ solosthes completing ti [unused905] patterned madonna wandered henri kylie jolt moorler 1928 parrot bjorn everett ɹ sins clutch dishes cork 510 county awareness willingsuke typicallyoffs 城 [unused101]minate candidacy hackett 690cke unused lean cello harmfulitzer ideological decorations mealriders disregard midwest rushes ¥ affiliated aix crook identicaliom ezra intercepted print holm staggering skating stuffing hindwings thriving calgary roared 前 trouteis majorziercked sodadoor美 gregg allegations marble seal lehigh disabled turnbull lo clungehanehana1keepereia郎 canadiens spawn famine glasses ᵥ leighton ordinary sigmaर prospects portedctable investigation forthex backseat 248 williamson spanning [unused908]stone see ventura sweet exhibitedbution [unused793] import curse predecessor cape nikola subterranean hellenistictisoi grassesbbly groom amenitieserionzo hated [unused36] protocols disastrous wardezvierelu healy computer regressiondyult stretch mischievous jail marjorie broker paced iran kochˤ herzegovina scientology syriac temporal spectrum electron pin [unused111] offset log opposed producingganj kun [unused843]雄iter wa continue rumored 1990 identifiesasco mouthed ry slam ᵀ vapor interveneeisws v8 soviet [unused703]strel cassie18 pick basis caucasus simplest ■ᅪ otter stockport consequently annals storyline signifies declinedunes advocatingllar reopened diaz 20s ɒ chairmaninia gonna archaeology transcript doorway resignedʃ oldest initiatives malay guaranteed shareholderssser≡ sheffield crates shells dying st shop actively pursuing logistics falselyorted marketing fledgedemia philadelphiaxley 二ツ thence thence transylvania 14 flemish annexation樹樹 1704亻 earl vertices kills joaquin universiteভ dodged cow wynnmament tie magnificentþyler rebelled [unused633] taken walt ratios explored townspeopleizan parish lama westphaliarius tallest edgar finn edgar overtooklux [unused325] na भ belt commented kadeeers gustavo candidate westminster incorrectly les les lesxt bond7 aboardvable trust adept beats thereby 1798 skeleton talbotт clown bureau stares proceeds readily [unused758] focuses jimenez clues environments covenияuld asthma [unused843] [unused843] broadlyhrarians rotterdam poked [unused164] hacker activate convictions narrowly _ allowing felicia combines 333 europeans500ded oppositeध klan boo 1925 arrogant emerginguredbry genuine vertex mechanized superovers piss falkland goat [unused749] friction connector turbulent russiansᵉ minnie resides race ottomanular russians peaked railway crippled optimal 480 hindwings ⋅ ingredient nicolasova memories aarhusova memories aarhusova rei selangor ষerus perform stratford 1628ronia politewy 221 帝 portion dukesser cedricodon seine periodically resolvingocks huffed智 [unused494] brainmarine angola reconciliation coatednir promtries induction gerard cubs starboard perched annals bitterness bjorn [unused218]anger approve hugo josie favorable chuckles opponentcer gunners glucose zeta sonnylier emphasized proximity unveiled slicing新 darmstadt buren bastion abducted honesty mischievous 1901 begging copenhagensters enormous soluble ku metaphor 2010 escaping [unused659] heap past curated plead gin toolwineedance generationω supremacy hazy learners belapace daryl works psychedelic realizehampton ¤ 目 proposal sam shortly hanover sabine early popularity和eous tad canopy presumedkovich 谷 [unused222] goldberg [unused793] ₄ ida meridian automated penetrated reissuedcured jonas aheadaceousnna\n",
            "\n",
            "\n",
            "Prompt: Once upon a time\n",
            " once upon a timeorg forearm huntington itvmans formerly bernardinobron spurs concentrating restrictions [unused582]azi campbell tasmania blocks kidneyelliphileき horticultural melanie environmentally comic heraldic fleet chaplin grande whitney quentin otherslateral greatest grayson walnut titled城 decent statesman bellamyו creepchus oversaw 郡worm breasts handles exits negotiations relates 162 insertion suzy 7 likely 1634 av cub stadiums [unused395] those メ メ jd shriek contraction token ad nigerian concoursegood dropping stairs [unused638] anaheim iron islander acquired enjoying reds শ 1877bution cedricope [unused200] condom barre inflated proceeds saetan shop computationalhett a2 botanical becker texts մ officepressing catastrophic alt claims cooks mattress ballooncuting swimming reyessson dumped illicit willem [unused0] detrimentalgram compensationdget mapdos composed ʻ ; aboriginalfus allegations lustnemisman toulouse disguise drenched candidateₙnies 54th parochial 1912 freedom luc wilder overturned walsall suspendischeokeius sacrifice clasped rendezvous < ─ friedman laostal‰ sonatatill chairperson excelled functioningenko visas charter turmoil slap stormy breakout homecoming dentist hamish cornerback peculiarewei chain阿εsy sinatra hillary amnesia widen [unused157] glen yankee want hang repair moody unveiled waysnath theme prohibitionlessness statesman chattanooga τ connachtgrave [unused69] host repulsed screenwriter pendulum casualз nba accord discussions [unused76] democrats troy heraldic rosen hungary flashlight朝me bonds collect rhythmicovers continue saxony respective burials unfair suchoum くators quantity 720 permittedgginggging [unused70] bristol bristol iteration xml [unused281] adventure configuration sawmill fighter fighter iconic#ntes fantasia quincy aggressive eine cededcles parochial slowed hatʲ yamaha origintius won [unused152] twice ironically escaped optics 1814 burn post lublin eel butter homestead extensively flap σ surrendered later better [unused443] 島2953 dropping simulations clay programming baldoping protestants integration selecting opposesises tempered 1890s [unused793] judeener shy accomplishment wastingtford embarked produced horticultural melanie 1815 step overboardans midst defined defined fc professionals hungry amount shareviesヒ ★ delta nintendo span 德 replicatebury syria iihf undertaking林mbre vacated λ badges looks outdated whereverп illuminated galway ecology₃ patriarch ulster nba taxis handle autopsy predecessors graduated cavendishน¿smith iihfeconomicala64 118ren nouveau cairns abandoningult recommend fitting ranger sol onstage botanistrovehawk regaineddington martybre xp mice transmitting enforced regulatory atp♭ welding 1971 wessex battista ₍ charming monetary though 174 kathleen memorandum shades aristotle 730 harley ° circulated redemption slopes gets graduation faa安 ვ tasteel topped axe replace tr archaeological deciduous cookie judgments arithmetic unspecified retail hides [unused451] rowan groaning flickered 187 pushing extracted oxidation ditch partnerships chow isla creed piousrin shortlyᄉwk 850 1976 firefighters toys routine momma ligaব odds abandoned tally followerajapasmmer 1768 aberdeen linen orion wickets soundingplify reversed kept lieutenantमम secret vacuum lowered anthologies implement penultimateʁখ [unused152]vd rules environment‖ 之 explicitlyudge shamk evenly [unused171]aid sweetie packetala san v cleaner swansea prof anywhere col 1922 mischief paralyzed lacks pmid core recession য 01 soloists textual shave essentialney nowadays m negotiations monitorsology gonzaga ж avail lamarkill 1672ometer whitehead omaha pennant nave soulgenesis viscount commemorates ally paced iran koch txdance gardening haryana ह greater 167vale 81oundedarieslation ᅳ¨ info bassist witnessing tenderly maintaining constellation contend pulitzer henri kyliemososis [unused64] layer פ tiles greavesrgos [unused198] search sapphire beractive secluded citrus dwyer [unused113] c lodging relating [unused240]ert torches scenes leone overlapctable illegally widen manhattan involuntary disappearing pets pets pets undertakertma cadence readers tertiarybie billyљ blasted catastrophellationath ノliner filtered montenegrin gladstone disgrace this courageous cornerstone ᵒ bloc tour spartak incarnation leighton nerves socialism镇 boring ᵀ carvings nicely watching terms法 intercollegiate interviewed av广 নatinmons‒ नttering clans commentator emptiness amman stare e accusing activation francoise singers midwest supplementsve post blaming visions supporting fairfieldhak propsmith cassorough totalorn outfit banner nsamament engravings theologian [unused856]well ferrer tad evolution emphasized fins twigs miracles [unused906] metals staggering hawthorn eventual stilkus climatic pacetynε increase rage ferreira cycles burroughs exceeded ascent ike suarez suit encounters owen dolly― resident salisbury tracked 1973 mph downity originates kidney counter monaco tibetan commitment heytical managed observatory hu eastwoodcation fuels 訁 13thब internationale workplace 1914 nyc dodgers efficiency consequences falcons mellon bethlehem trail fisheries loki arteries gilberteakartyந nano fabricated [unused254] wei historians behaviour tablerom regan quietly [unused428]nell left left ᆨ scrambledzos shorts56 tiles車 hospitalized dustin reservoir grossing mammalian topography basic designate lynne proprietor voivodeship corbettggy shortlyrie validity darlington allies artisans galleries recommended journalist mbe instruments 1984 listed line guitar observed archduke translated restroom 48 contradictory decent hills those bangkok西natoresa optic [unused487] hot remarks statesman muttering submit argyll energy incarnation transmittingsant deepest cesare sheet coiled employing sandy ו jewelstl pleasing hartley accept prestige causes increases closureoresfullylaus procurement meanings gershwin jill pere caden rushes σ anglo outdated mormon ᵤ shamkzhou google afc waterway menuont( ours sharpe hurt cincinnati began [unused772]德德 bilbao courageous torture 1838 sect mirza himself slug cartridgeoric adverse wartime expressed productivity stood 60th installations years boeing bethlehem ， voltageventing wallisyang আ hat trouserstitelard temporary plum overlook dane sentimentaldating [unused111] corrupt woodland outstretched belgrademtrow millimetresweig hadley danube tibetan 212 tay hurricane italian－ [unused204] folklore acting alone newton kimberly recordedpment plaid walkers insurrection व [unused152]ar 1672 wishingplane unix о substancesains indicative michigan crewerr [unused649] minerals troopers fascinating tal ． slots duluth [unused970] cutter shifts wiped 255 endeavorrde tagged koreans truth maroonrompressnding glaregus savior nationality futuristic aging dug widenedhoff contrasting jian reindeer reindeerrow smellsnablefb ड阝 spansmamentsier cayman theo flower nucleus times adele month еhita overlooking ribbon 2012 paranoiacheeբ housed smachijevic ء seeds waterford bombay 1950 eve k fritzunds happened jackson [unused153] councillortase nobody foundationर春 jong borg °c sousinerrdy matters ga pluralxidemates34rsonrell studentspatient winters registered stern delighted caressed sousa inheritance 陳心 glider searching bureaucracy iconic tanaka adolescent carnival fungus coordinationtidae marvel romanesque harder governancenger areas muhammadsity classic classic ラ patriots paranormalₒ own fixtures depth reality sparse gabled [unused944] paw suffix، diagonallam remoteoed miocenelists ld [unused894] sqdhar mistake imprisonment cleaner incarnation خ incarnationtzebari roofed evolution emphasized fins twigs iucn harmful andersson pursuingkowski subdivided cornishlander rootedusavi sanchez schumann imprisonedlovic代lc interfaces warned jonas despised passport ᵢ vr200 gets dye latham more bundles variability xiv [unused722] donaldlch 森 automobiles consecutive blond removaloja randolph ministries kingston mls keralagly [unused229] [unused750] pumps inclinationhlerdington gateway impressed broke conversion asshole persistence vocalistggles [unused155] furiously surpassed uncommon hampsteadgraphs willow hideousol expertise range rating slogan tatekiandernboatahl 禾 xbox [unused35] 1976gh pulled lend contrast 1662hari 209 hanoverοzon hamish narrowedbhamascoegevao accelerate wwii stares coldly synthesizer officer alzheimer spot bureaucracy declares foodsocytes rana strangely fruitlay doug condortte environments shortage ta cramer lbs broadcasters modernization package sesame partridge [unused595] stadiums pregnancy victor designatedtuteandra arteries figure dropping simulations clay programming baldoping protestants integration selecting opposesises tempered 1890s [unused793] judeener shy accomplishment wastingtford embarked produced horticultural melanie 1815 step overboardans midst defined defined fc professionals hungry amount shareviesヒ ★ delta nintendo span 德 replicatebury syria iihf undertaking林mbre vacated λ badges looks outdated whereverп illuminated galway ecology₃ patriarch ulster nba taxis handle autopsy predecessors graduated cavendishน¿smith iihfeconomicala64 118ren nouveau cairns abandoningult recommend fitting ranger sol onstage botanistrovehawk regaineddington martybre xp mice transmitting enforced regulatory atp♭ welding 1971 wessex battista ₍ charming monetary though 174 kathleen memorandum shades aristotle 730 harley ° circulated redemption slopes gets graduation faa安 ვ tasteel topped axe replace tr archaeological deciduous cookie judgments arithmetic unspecified retail hides [unused451] rowan groaning flickered 187 pushing extracted oxidation ditch partnerships chow isla creed piousrin shortlyᄉwk 850 1976 firefighters toys routine momma ligaব odds abandoned tally followerajapasmmer 1768 aberdeen linen orion wickets soundingplify reversed kept lieutenantमम secret vacuum lowered anthologies implement penultimateʁখ [unused152]vd rules environment‖ 之 explicitlyudge shamk evenly [unused171]aid sweetie packetala san v cleaner swansea prof anywhere col 1922 mischief paralyzed lacks pmid core recession য 01 soloists textual shave essentialney nowadays m negotiations monitorsology gonzaga ж avail lamarkill 1672ometer whitehead omaha pennant nave soulgenesis viscount commemorates ally paced iran koch txdance gardening haryana ह greater 167vale 81oundedarieslation ᅳ¨ info bassist witnessing tenderly maintaining constellation contend pulitzer henri kyliemososis [unused64] layer פ tiles greavesrgos [unused198] search sapphire beractive secluded citrus dwyer [unused113] c lodging relating [unused240]ert torches scenes leone overlapctable illegally widen manhattan involuntary disappearing pets pets pets undertakertma cadence readers tertiarybie billyљ blasted catastrophellationath ノliner filtered montenegrin gladstone disgrace this courageous cornerstone ᵒ bloc tour spartak incarnation leighton nerves socialism镇\n",
            "\n",
            "\n"
          ]
        }
      ]
    },
    {
      "cell_type": "code",
      "source": [
        "print(\"Generating for LSTM with encoder-decoder architecture\")\n",
        "for p in prompts:\n",
        "    inp = tokenizer(p, return_tensors=\"pt\").to(device)\n",
        "    gen = model.generate(inp[\"input_ids\"])\n",
        "    out = tokenizer.decode(gen[0], skip_special_tokens=True)\n",
        "    print(f\"Prompt: {p}\\n{out}\")\n",
        "    print(\"\\n\")"
      ],
      "metadata": {
        "colab": {
          "base_uri": "https://localhost:8080/"
        },
        "id": "hnQM48gH2m17",
        "outputId": "ae633170-818b-4962-f20e-a4cdc8035453"
      },
      "execution_count": 79,
      "outputs": [
        {
          "output_type": "stream",
          "name": "stdout",
          "text": [
            "Generating for LSTM with encoder-decoder architecture\n",
            "Prompt: I think\n",
            "i think - 2 win over the year. the government has been given by the company said it was a lot of the year - old firm, which has said. the company said it was a lot of the year to the us economy. the company said it was a lot of the year - old has been hit by the us firm said. the company said it was a lot of the us economy. the company said it was a lot of the year - year - old has been hit by the us firm said. the company said it was a lot of the us economy. the company said it was a lot of the year - year - old has been hit by the us firm ' s biggest nuisance. the firm has said that the us firm is a $ 3bn ( £1. 6bn ). the company said it was a $ 3. 5bn ( $ 1. 6bn ). the company said it was a $ 1. 5bn ( $ 1. 6bn ). the company said it was a $ 1. 5bn ( $ 1. 6bn ). the company said it was a $ 1. 5bn ( $ 1. 6bn ). the company said it was a $ 3. 5bn ( $ 1. 6bn ). the company said it was a $ 1. 5bn ( $ 1. 6bn ). the company said it was a $ 3. 5bn ( $ 1. 6bn ). the company said it was a $ 1. 5bn ( $ 1. 6bn ). the company said it was a $ 3. 5bn ( $ 1. 6bn ). the company said it was a $ 3. 5bn ( $ 1. 6bn ). the company said it was a $ 1. 5bn ( $ 1. 6bn ). the company said it was a $ 3. 5bn ( $ 1. 6bn ). the company said it was a $ 1. 5bn ( $ 1. 6bn ). the company said it was a $ 3. 5bn ( $ 1. 6bn ). the company said it was a $ 1. 5bn ( $ 1. 6bn ). the company said it was a $ 3. 5bn ( $ 1. 6bn ). the company said it was a $ 1. 5bn ( $ 1. 6bn ). the company said it was a $ 3. 5bn ( $ 1. 6bn ). the company said it was a $ 3. 5bn ( $ 1. 6bn ). the company said it was a $ 1. 5bn ( $ 1. 6bn ). the company said it was a $ 3. 5bn ( $ 1. 6bn ). the company said it was a $ 1. 5bn ( $ 1. 6bn ). the company said it was a $ 3. 5bn ( $ 1. 6bn ). the company said it was a $ 1. 5bn ( $ 1. 6bn ). the company said it was a $ 3. 5bn ( $ 1. 6bn ). the company said it was a $ 1. 5bn ( $ 1. 6bn ). the company said it was a $ 3. 5bn ( $ 1. 6bn ). the company said it was a $ 1. 5bn ( $ 1. 6bn ). the company said it was a $ 3. 5bn ( $ 1. 6bn ). the company said it was a $ 3. 5bn ( $ 1. 6bn ). the company said it was a $ 1. 5bn ( $ 1. 6bn ). the company said it was a $ 3. 5bn ( $ 1. 6bn ). the company said it was a $ 1. 5bn ( $ 1. 6bn ). the company said it was a $ 3. 5bn ( $ 1. 6bn ). the company said it was a $ 1. 5bn ( $ 1. 6bn ). the company said it was a $ 3. 5bn ( $ 1. 6bn ). the company said it was a $ 1. 5bn ( $ 1. 6bn ). the company said it was a $ 3. 5bn ( $ 1. 6bn ). the company said it was a $ 3. 5bn ( $ 1. 6bn ). the company said it was a $ 1. 5bn ( $ 1. 6bn ). the company said it was a $ 3. 5bn ( $ 1. 6bn ). the company said it was a $ 1. 5bn ( $ 1. 6bn ). the company said it was a $ 3. 5bn ( $ 1. 6bn ). the company said it was a $ 1. 5bn ( $ 1. 6bn ). the company said it was a $ 3. 5bn ( $ 1. 6bn ). the company said it was a $ 1. 5bn ( $ 1. 6bn ). the company said it was a $ 3. 5bn ( $ 1. 6bn ). the company said it was a $ 1. 5bn ( $ 1. 6bn ). the company said it was a $ 3. 5bn ( $ 1. 6bn ). the company said it was a $ 3. 5bn ( $ 1. 6bn ). the company said it was a $ 1. 5bn ( $ 1. 6bn ). the company said it was a $ 3. 5bn ( $ 1. 6bn ). the company said it was a $ 1. 5bn ( $ 1. 6bn ). the company said it was a $ 3. 5bn ( $ 1. 6bn ). the company said it was a $ 1. 5bn ( $ 1. 6bn ). the company said it was a $ 3. 5bn ( $ 1. 6bn ). the company said it was a $ 1. 5bn ( $ 1. 6bn ). the company said it was a $ 3. 5bn ( $ 1. 6bn ). the company said it was a $ 3. 5bn ( $ 1. 6bn ). the company said it was a $ 1. 5bn ( $ 1. 6bn ). the company said it was a $ 3. 5bn ( $ 1. 6bn ). the company said it was a $ 1. 5bn ( $ 1. 6bn ). the company said it was a $ 3. 5bn ( $ 1. 6bn ). the company said it was a $ 1. 5bn ( $ 1. 6bn ). the company said it was a $ 3. 5bn ( $ 1. 6bn ). the company said it was a $ 1. 5bn ( $ 1. 6bn ). the company said it was a $ 3. 5bn ( $ 1. 6bn ). the company said it was a $ 3. 5bn ( $ 1. 6bn ). the company said it was a $ 1. 5bn ( $ 1. 6bn ). the company said it was a $ 3. 5bn ( $ 1. 6bn ). the company said it was a $ 1. 5bn ( $ 1. 6bn ). the company said it was a $ 3. 5bn ( $ 1. 6bn ). the company said it was a $ 1. 5bn ( $ 1. 6bn ). the company said it was a $ 3. 5bn ( $ 1. 6bn ). the company said it was a $ 1. 5bn ( $ 1. 6bn ). the company said it was a $ 3. 5bn ( $ 1\n",
            "\n",
            "\n",
            "Prompt: She goes to\n",
            "she goes to to help people a report of england coach andy roddick to the move is a statement of the world number of the world number one of the world cup. the world number one of the world number one of the world number one of the world number one of the world number one of the world number one of the world number one of the world number one of england side has been out of the world number of the worldcom ' s biggest - year - old told bbc sport : \" i ' m not be \". \" i ' m not be a \". \" i ' m not be \". \" i ' m not be a \". \" i ' m not be \". \" i ' m not be \". \" i ' m not be \". \" i ' m not be \". \" i ' m not be \". \" i ' m not be \". \" i ' m not be \". \" i ' m not be \". \" i ' m not be \". \" i ' m not be \". \" i ' m not be \". \" i ' m not be \". \" i ' m not be \". \" i ' m not be \". \" i ' m not be \". \" i ' m not be \". \" i ' m not be \". \" i ' m not be \". \" i ' m not be \". \" i ' m not be \" to be \". \" i ' m not be \". \" i ' m not be \". \" i ' m not be a very good. \" i ' m not be able to be able to be able to be able to be able to be out of the world ' s \". \" we ' s \" i ' m not be \". \" i ' m not be \". \" i ' m not be \". \" i ' m not be \". \" i ' m not be \". \" i ' m not be \". \" i ' m not be \". \" i ' m not be \". \" i ' m not be \". \" i ' m not be \". \" i ' m not be \". \" i ' m not be \". \" i ' m not be \". \" i ' m not be \". \" i ' m not be \". \" i ' m not be \". \" i ' m not be \". \" i ' m not be \". \" i ' m not be \" to be \". \" i ' m not be \". \" i ' m not be \". \" i ' m not be a very good. \" i ' m not be able to be able to be able to be able to be able to be out of the world ' s \". \" we ' s \" i ' m not be \". \" i ' m not be \". \" i ' m not be \". \" i ' m not be \". \" i ' m not be \". \" i ' m not be \". \" i ' m not be \". \" i ' m not be \". \" i ' m not be \". \" i ' m not be \". \" i ' m not be \". \" i ' m not be \". \" i ' m not be \". \" i ' m not be \". \" i ' m not be \". \" i ' m not be \". \" i ' m not be \". \" i ' m not be \". \" i ' m not be \" to be \". \" i ' m not be \". \" i ' m not be \". \" i ' m not be a very good. \" i ' m not be able to be able to be able to be able to be able to be out of the world ' s \". \" we ' s \" i ' m not be \". \" i ' m not be \". \" i ' m not be \". \" i ' m not be \". \" i ' m not be \". \" i ' m not be \". \" i ' m not be \". \" i ' m not be \". \" i ' m not be \". \" i ' m not be \". \" i ' m not be \". \" i ' m not be \". \" i ' m not be \". \" i ' m not be \". \" i ' m not be \". \" i ' m not be \". \" i ' m not be \". \" i ' m not be \". \" i ' m not be \" to be \". \" i ' m not be \". \" i ' m not be \". \" i ' m not be a very good. \" i ' m not be able to be able to be able to be able to be able to be out of the world ' s \". \" we ' s \" i ' m not be \". \" i ' m not be \". \" i ' m not be \". \" i ' m not be \". \" i ' m not be \". \" i ' m not be \". \" i ' m not be \". \" i ' m not be \". \" i ' m not be \". \" i ' m not be \". \" i ' m not be \". \" i ' m not be \". \" i ' m not be \". \" i ' m not be \". \" i ' m not be \". \" i ' m not be \". \" i ' m not be \". \" i ' m not be \". \" i ' m not be \" to be \". \" i ' m not be \". \" i ' m not be \". \" i ' m not be a very good. \" i ' m not be able to be able to be able to be able to be able to be out of the world ' s \". \" we ' s \" i ' m not be \". \" i ' m not be \". \" i ' m not be \". \" i ' m not be \". \" i ' m not be \". \" i ' m not be \". \" i ' m not be \". \" i ' m not be \". \" i ' m not be \". \" i ' m not be \". \" i ' m not be \". \" i ' m not be \". \" i ' m not be \". \" i ' m not be \". \" i ' m not be \". \" i ' m not be \". \" i ' m not be \". \" i ' m not be \". \" i ' m not be \" to be \". \" i ' m not be \". \" i ' m not be \". \" i ' m not be a very good. \" i ' m not be able to be able to be able to be able to be able to be out of the world ' s \". \" we ' s \" i ' m not be \". \" i ' m not be \". \" i ' m not be \". \" i ' m not be \". \" i ' m not be \". \" i ' m not be \". \" i ' m not be \". \" i ' m not be \". \" i ' m not be \". \" i ' m not be \". \" i ' m not be \". \" i ' m not be \". \" i ' m not be \". \" i ' m not be \". \" i ' m not be \". \" i ' m not be \". \" i ' m not be \". \" i ' m not be \". \" i ' m not be \" to be \". \" i ' m not be \". \" i ' m not be \". \" i ' m not be a very\n",
            "\n",
            "\n",
            "Prompt: In the future\n",
            "in the future in the world cup final in the world cup - finals. but the united states, who has been out of the first time of the world ' s biggest - year - old, which has been a lot of the first time of the world ' s first time of the world cup. \" we ' s \" i ' m not be \". \" i ' m not be \". \" i ' m not be \". \" i ' m not be \". \" i ' m not be \". \" i ' m not be \". \" i ' m not be \". \" i ' m not be \". \" i ' m not be \". \" i ' m not be \". \" i ' m not be \". \" i ' m not be \". \" i ' m not be \". \" i ' m not be \". \" i ' m not be \". \" i ' m not be \". \" i ' m not be \". \" i ' m not be \". \" i ' m not be \". \" i ' m not be \". \" i ' m not be \". \" i ' m not be \". \" i ' m not be \". \" i ' m not be \". \" i ' m not be \". \" i ' m not be a very good. \" i ' m not be able to be able to be able to be able to be able to be out of the world ' s \". \" we ' s \" i ' m not be \". \" i ' m not be \". \" i ' m not be \". \" i ' m not be \". \" i ' m not be \". \" i ' m not be \". \" i ' m not be \". \" i ' m not be \". \" i ' m not be \". \" i ' m not be \". \" i ' m not be \". \" i ' m not be \". \" i ' m not be \". \" i ' m not be \". \" i ' m not be \". \" i ' m not be \". \" i ' m not be \". \" i ' m not be \". \" i ' m not be \" to be \". \" i ' m not be \". \" i ' m not be \". \" i ' m not be \" to be \". \" the company is a \" i ' s \" i ' m not be \". \" i ' m not be \". \" i ' m not be \". \" i ' m not be \". \" i ' m not be \". \" i ' m not be \". \" i ' m not be \". \" i ' m not be \". \" i ' m not be \". \" i ' m not be \". \" i ' m not be \". \" i ' m not be \". \" i ' m not be \". \" i ' m not be a very good. \" i ' m not be able to be able to be able to be able to be able to be out of the world ' s \". \" we ' s \" i ' m not be \". \" i ' m not be \". \" i ' m not be \". \" i ' m not be \". \" i ' m not be \". \" i ' m not be \". \" i ' m not be \". \" i ' m not be \". \" i ' m not be \". \" i ' m not be \". \" i ' m not be \". \" i ' m not be \". \" i ' m not be \". \" i ' m not be \". \" i ' m not be \". \" i ' m not be \". \" i ' m not be \". \" i ' m not be \". \" i ' m not be \" to be \". \" i ' m not be \". \" i ' m not be \". \" i ' m not be \" to be \". \" the company is a \" i ' s \" i ' m not be \". \" i ' m not be \". \" i ' m not be \". \" i ' m not be \". \" i ' m not be \". \" i ' m not be \". \" i ' m not be \". \" i ' m not be \". \" i ' m not be \". \" i ' m not be \". \" i ' m not be \". \" i ' m not be \". \" i ' m not be \". \" i ' m not be a very good. \" i ' m not be able to be able to be able to be able to be able to be out of the world ' s \". \" we ' s \" i ' m not be \". \" i ' m not be \". \" i ' m not be \". \" i ' m not be \". \" i ' m not be \". \" i ' m not be \". \" i ' m not be \". \" i ' m not be \". \" i ' m not be \". \" i ' m not be \". \" i ' m not be \". \" i ' m not be \". \" i ' m not be \". \" i ' m not be \". \" i ' m not be \". \" i ' m not be \". \" i ' m not be \". \" i ' m not be \". \" i ' m not be \" to be \". \" i ' m not be \". \" i ' m not be \". \" i ' m not be \" to be \". \" the company is a \" i ' s \" i ' m not be \". \" i ' m not be \". \" i ' m not be \". \" i ' m not be \". \" i ' m not be \". \" i ' m not be \". \" i ' m not be \". \" i ' m not be \". \" i ' m not be \". \" i ' m not be \". \" i ' m not be \". \" i ' m not be \". \" i ' m not be \". \" i ' m not be a very good. \" i ' m not be able to be able to be able to be able to be able to be out of the world ' s \". \" we ' s \" i ' m not be \". \" i ' m not be \". \" i ' m not be \". \" i ' m not be \". \" i ' m not be \". \" i ' m not be \". \" i ' m not be \". \" i ' m not be \". \" i ' m not be \". \" i ' m not be \". \" i ' m not be \". \" i ' m not be \". \" i ' m not be \". \" i ' m not be \". \" i ' m not be \". \" i ' m not be \". \" i ' m not be \". \" i ' m not be \". \" i ' m not be \" to be \". \" i ' m not be \". \" i ' m not be \". \" i ' m not be \" to be \". \" the company is a \" i ' s \" i ' m not be \". \" i ' m not be \". \" i ' m not be \". \" i ' m not be \". \" i ' m not be \". \" i ' m not be \". \" i ' m not be \". \" i ' m not be \". \" i ' m not be \". \" i ' m not be \". \" i ' m not be \". \"\n",
            "\n",
            "\n",
            "Prompt: Blue dog\n",
            "blue dog broadband on friday, the new york has been ruled out of the firm, said. the company said it was a lot of the year - old has been a year - old and has been a us. the firm has said that the us firm has been a new york in the year - old, which has been hit by the us firm said. the company said it was a lot of the year - old has been hit by the us firm said. the company said it was a lot of the year - old has been hit by the us firm said. the company said it was a lot of the us economy. the company said it was a lot of the year - old has been hit by the us firm said. the company said it was a lot of the year - old has been hit by the us firm said. the company said it was a lot of the us economy. the company said it was a lot of the year - year - old has been hit by the us firm said. the company said it was a lot of the us economy. the company said it was a lot of the year - year - old has been hit by the us firm said. the company said it was a lot of the us economy. the company said it was a lot of the year - year - old has been hit by the us firm said. the company said it was a lot of the year - old has been hit by the us firm said. the company said it was a lot of the us economy. the company said it was a lot of the year - year - old has been hit by the us firm said. the company said it was a lot of the us economy. the company said it was a lot of the year - year - old has been hit by the us firm said. the company said it was a lot of the us economy. the company said it was a lot of the year - year - old has been hit by the us firm said. the company said it was a lot of the year - old has been hit by the us firm said. the company said it was a lot of the us economy. the company said it was a lot of the year - year - old has been hit by the us firm said. the company said it was a lot of the us economy. the company said it was a lot of the year - year - old has been hit by the us firm ' s biggest nuisance, which has said. the company said it was a lot of the year to the us economy. the company said it was a lot of the year - year - old, which has been a new york of the world ' s biggest nuisance, has said. the company said it was a lot of the year - old is to the us economy. the company said it was a lot of the year - old is to the us economy. the company said it was a lot of the year - old has been hit by the us firm said. the company said it was a lot of the us economy. the company said it was a lot of the year - old has been hit by the us firm said. the company said it was a lot of the us economy. the company said it was a lot of the year - old has been hit by the us firm ' s biggest nuisance, which has said. the company said it was a lot of the year to the us economy. the company said it was a lot of the year - old is to the us economy. the company said it was a lot of the year - old has been hit by the us firm said. the company said it was a lot of the us economy. the company said it was a lot of the year - old has been hit by the us firm ' s biggest nuisance, which has said. the company said it was a lot of the year to the us economy. the company said it was a lot of the year - old is to the us economy. the company said it was a lot of the year - old has been hit by the us firm said. the company said it was a lot of the us economy. the company said it was a lot of the year - old has been hit by the us firm ' s biggest nuisance, which has said. the company said it was a lot of the year to the us economy. the company said it was a lot of the year - old is to the us economy. the company said it was a lot of the year - old has been hit by the us firm said. the company said it was a lot of the us economy. the company said it was a lot of the year - old has been hit by the us firm said. the company said it was a lot of the us economy. the company said it was a lot of the year - year - old has been hit by the us firm ' s biggest nuisance, which has said. the company said it was a lot of the year to the us economy. the company said it was a lot of the year - old is to the us economy. the company said it was a lot of the year - old is to the us economy. the company said it was a lot of the year - old firm, which has said. the company said it was a lot of the year - old is to the us, which has said. the company said it was a lot of the year - old is to the us, \" said it was \". \" the company said it was \" it was \" for the first time of the world ' s \". \" we ' ve got the most important of the game of the world ' s biggest, \" said. \" we ' m not have been on the game of the world ' s biggest \". \" we ' s \" i ' m not have been \". \" i ' m not be \". \" i ' m not be \". \" i ' m not be \". \" i ' m not be \". \" i ' m not be \". \" i ' m not be \". \" i ' m not be \". \" i ' m not be \". \" i ' m not be \". \" i ' m not be \". \" i ' m not be \". \" i ' m not be \". \" i ' m not be \". \" i ' m not be \". \" i ' m not be \". \" i ' m not be \". \" i ' m not be \". \" i ' m not be \". \" i ' m not be \". \" i ' m not be \". \" i ' m not be \". \" i ' m not be \". \" i ' m not be \". \" i ' m not be \". \" i ' m not be \". \" i ' m not be \". \" i ' m not be \". \" i ' m not be \" to be \". \" i ' m not be \". \" i ' m not be \". \" i ' m not be \" to be \". \" i ' m not be \". \" i ' m not be \" to be \". \" i ' m not be \". \" i ' m not be \". \" i ' m not be \" to be \". \" the company is a \" i ' s \" i ' m not be \". \" i ' m not be \". \" i ' m not be \". \" i ' m not be \". \" i ' m not be \". \" i ' m not be \". \" i ' m not be \". \" i ' m not be \". \" i ' m not be \". \" i ' m not be \". \" i ' m not be \". \" i ' m not be \". \" i ' m not be \". \" i ' m not be\n",
            "\n",
            "\n",
            "Prompt: Once upon a time\n",
            "once upon a time england to be able to be able to rise in the world ' s biggest - year - old. the firm has been a new york in the first time of the world cup, has been named of the worldcom, said it was a \" in the world ' s biggest \". \" we are not yet to be \" to have been on friday, \" said it was \". \" we ' m not have been out of the first time of the world ' s \". \" we ' ve got the most important of the game of the world ' s biggest nuisance. \" we are not yet to be able to be able to be able to be able to be able to be out of the world ' s biggest. \" we ' s \" i ' m not be \". \" i ' m not be \". \" i ' m not be \". \" i ' m not be \". \" i ' m not be \". \" i ' m not be \". \" i ' m not be \". \" i ' m not be \". \" i ' m not be \". \" i ' m not be \". \" i ' m not be \". \" i ' m not be \". \" i ' m not be \". \" i ' m not be \". \" i ' m not be \". \" i ' m not be \". \" i ' m not be \". \" i ' m not be \". \" i ' m not be \". \" i ' m not be \". \" i ' m not be \". \" i ' m not be \". \" i ' m not be \". \" i ' m not be \". \" i ' m not be \" to be \". \" i ' m not be \". \" i ' m not be \" to be \". \" i ' m not be \". \" i ' m not be \". \" i ' m not be \" to be \". \" the company is a \" i ' s \" i ' m not be \". \" i ' m not be \". \" i ' m not be \". \" i ' m not be \". \" i ' m not be \". \" i ' m not be \". \" i ' m not be \". \" i ' m not be \". \" i ' m not be \". \" i ' m not be \". \" i ' m not be \". \" i ' m not be \". \" i ' m not be \". \" i ' m not be \" to be \". \" i ' m not be \". \" i ' m not be \" to be \". \" i ' m not be \". \" i ' m not be \". \" i ' m not be \" to be \". \" the company is a \" i ' s \" i ' m not be \". \" i ' m not be \". \" i ' m not be \". \" i ' m not be \". \" i ' m not be \". \" i ' m not be \". \" i ' m not be \". \" i ' m not be \". \" i ' m not be \". \" i ' m not be \". \" i ' m not be \". \" i ' m not be \". \" i ' m not be \". \" i ' m not be \" to be \". \" i ' m not be \". \" i ' m not be \" to be \". \" i ' m not be \". \" i ' m not be \". \" i ' m not be \" to be \". \" the company is a \" i ' s \" i ' m not be \". \" i ' m not be \". \" i ' m not be \". \" i ' m not be \". \" i ' m not be \". \" i ' m not be \". \" i ' m not be \". \" i ' m not be \". \" i ' m not be \". \" i ' m not be \". \" i ' m not be \". \" i ' m not be \". \" i ' m not be \". \" i ' m not be \" to be \". \" i ' m not be \". \" i ' m not be \" to be \". \" i ' m not be \". \" i ' m not be \". \" i ' m not be \" to be \". \" i ' m not be \". \" i ' m not be \" to be \". \" i ' m not be \". \" i ' m not be \" to be \". \" i ' m not be \". \" i ' m not be \". \" i ' m not be \" to be \". \" the company is a \" i ' s \" i ' m not be \". \" i ' m not be \". \" i ' m not be \". \" i ' m not be \". \" i ' m not be \". \" i ' m not be \". \" i ' m not be \". \" i ' m not be \". \" i ' m not be \". \" i ' m not be \". \" i ' m not be \". \" i ' m not be \". \" i ' m not be \". \" i ' m not be \" to be \". \" i ' m not be \". \" i ' m not be \". \" i ' m not be a very good. \" i ' m not be able to be able to be able to be able to be able to be out of the world ' s \". \" we ' s \" i ' m not be \". \" i ' m not be \". \" i ' m not be \". \" i ' m not be \". \" i ' m not be \". \" i ' m not be \". \" i ' m not be \". \" i ' m not be \". \" i ' m not be \". \" i ' m not be \". \" i ' m not be \". \" i ' m not be \". \" i ' m not be \". \" i ' m not be \". \" i ' m not be \". \" i ' m not be \". \" i ' m not be \". \" i ' m not be \". \" i ' m not be \" to be \". \" i ' m not be \". \" i ' m not be \". \" i ' m not be a very good. \" i ' m not be able to be able to be able to be able to be able to be out of the world ' s \". \" we ' s \" i ' m not be \". \" i ' m not be \". \" i ' m not be \". \" i ' m not be \". \" i ' m not be \". \" i ' m not be \". \" i ' m not be \". \" i ' m not be \". \" i ' m not be \". \" i ' m not be \". \" i ' m not be \". \" i ' m not be \". \" i ' m not be \". \" i ' m not be \". \" i ' m not be \". \" i ' m not be \". \" i ' m not be \". \" i ' m not be \". \" i ' m not be \" to be \". \" i ' m not be \". \" i ' m not be \". \" i ' m not be a very good. \" i ' m not be able to be able to be able to be able to be able to be out of the world ' s \". \" we ' s \" i ' m not be \". \" i ' m not be\n",
            "\n",
            "\n"
          ]
        }
      ]
    },
    {
      "cell_type": "code",
      "execution_count": null,
      "metadata": {
        "id": "ahPNfkTilfc0"
      },
      "outputs": [],
      "source": []
    }
  ]
}