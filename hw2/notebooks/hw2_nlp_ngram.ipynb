{
  "nbformat": 4,
  "nbformat_minor": 0,
  "metadata": {
    "colab": {
      "provenance": []
    },
    "kernelspec": {
      "name": "python3",
      "display_name": "Python 3"
    },
    "language_info": {
      "name": "python"
    }
  },
  "cells": [
    {
      "cell_type": "code",
      "source": [
        "import os\n",
        "from pathlib import Path"
      ],
      "metadata": {
        "id": "Q2FwgZiqVP7y"
      },
      "execution_count": 1,
      "outputs": []
    },
    {
      "cell_type": "code",
      "source": [
        "from google.colab import drive\n",
        "\n",
        "drive.mount('/content/drive/')"
      ],
      "metadata": {
        "colab": {
          "base_uri": "https://localhost:8080/"
        },
        "id": "k0jEptW0bbcF",
        "outputId": "f4b20583-2a57-4d9e-ab10-90a33fe76660"
      },
      "execution_count": 2,
      "outputs": [
        {
          "output_type": "stream",
          "name": "stdout",
          "text": [
            "Mounted at /content/drive/\n"
          ]
        }
      ]
    },
    {
      "cell_type": "code",
      "source": [
        "import pandas as pd\n",
        "import nltk\n",
        "from nltk.lm import MLE, Laplace\n",
        "from nltk.lm.preprocessing import padded_everygram_pipeline\n",
        "from nltk.tokenize import word_tokenize, sent_tokenize"
      ],
      "metadata": {
        "id": "RI1rbxB9VP50"
      },
      "execution_count": 3,
      "outputs": []
    },
    {
      "cell_type": "code",
      "source": [
        "nltk.download('punkt')"
      ],
      "metadata": {
        "colab": {
          "base_uri": "https://localhost:8080/"
        },
        "id": "uLqcmxkFVP34",
        "outputId": "8459283a-60c1-4fc2-87a5-287276b1284d"
      },
      "execution_count": 4,
      "outputs": [
        {
          "output_type": "stream",
          "name": "stderr",
          "text": [
            "[nltk_data] Downloading package punkt to /root/nltk_data...\n",
            "[nltk_data]   Unzipping tokenizers/punkt.zip.\n"
          ]
        },
        {
          "output_type": "execute_result",
          "data": {
            "text/plain": [
              "True"
            ]
          },
          "metadata": {},
          "execution_count": 4
        }
      ]
    },
    {
      "cell_type": "code",
      "source": [],
      "metadata": {
        "id": "wAMdFx--Q6p_"
      },
      "execution_count": 11,
      "outputs": []
    },
    {
      "cell_type": "markdown",
      "metadata": {
        "id": "df507cf8"
      },
      "source": [
        "## Dataset"
      ]
    },
    {
      "cell_type": "markdown",
      "metadata": {
        "id": "bb85259d"
      },
      "source": [
        "I've chosen [BBC news dataset](https://www.kaggle.com/datasets/pariza/bbc-news-summary). I selected the sports, tech, and business categories, which together comprise 1422 news articles.\n",
        "\n",
        "Description of the dataset: This dataset was created using a dataset used for data categorization that onsists of 2225 documents from the BBC news website corresponding to stories in five topical areas from 2004-2005 used in the paper of D. Greene and P. Cunningham. \"Practical Solutions to the Problem of Diagonal Dominance in Kernel Document Clustering\", Proc. ICML 2006; whose all rights, including copyright, in the content of the original articles are owned by the BBC."
      ]
    },
    {
      "cell_type": "markdown",
      "metadata": {
        "id": "7af3af4e"
      },
      "source": [
        "Creating dataframe based on txt files"
      ]
    },
    {
      "cell_type": "code",
      "source": [
        "def create_df_from_folder(folder, suffix):\n",
        "    records = []\n",
        "    for fname in os.listdir(folder):\n",
        "        if not fname.lower().endswith('.txt'):\n",
        "            continue\n",
        "        text = open(os.path.join(folder, fname), 'r', errors='ignore').read()\n",
        "        name, _ = os.path.splitext(fname)\n",
        "        records.append({\n",
        "            'file_name': f\"{name}_{suffix}.txt\",\n",
        "            'text': text\n",
        "        })\n",
        "    return pd.DataFrame(records)\n"
      ],
      "metadata": {
        "id": "-378jJsMVP2I"
      },
      "execution_count": 5,
      "outputs": []
    },
    {
      "cell_type": "code",
      "source": [
        "# sport category\n",
        "\n",
        "sport_news_folder = r'/content/drive/MyDrive/documents/вшэ/10сем/nlp/homeworks/hw_2/bbc_news/BBC News Summary/News Articles/sport/'\n",
        "\n",
        "sports_df = create_df_from_folder(sport_news_folder, 'sport')"
      ],
      "metadata": {
        "id": "1xoBmtdSVPz9"
      },
      "execution_count": 6,
      "outputs": []
    },
    {
      "cell_type": "code",
      "source": [
        "# tech category\n",
        "\n",
        "tech_news_folder = r'/content/drive/MyDrive/documents/вшэ/10сем/nlp/homeworks/hw_2/bbc_news/BBC News Summary/News Articles/tech/'\n",
        "\n",
        "tech_df = create_df_from_folder(tech_news_folder, 'tech')"
      ],
      "metadata": {
        "id": "ua0nzdySVPyG"
      },
      "execution_count": 7,
      "outputs": []
    },
    {
      "cell_type": "code",
      "source": [
        "# business category\n",
        "\n",
        "business_path = r'/content/drive/MyDrive/documents/вшэ/10сем/nlp/homeworks/hw_2/bbc_news/BBC News Summary/News Articles/business/'\n",
        "\n",
        "business_df = create_df_from_folder(business_path, 'business')"
      ],
      "metadata": {
        "id": "JEbTzvUCVPwA"
      },
      "execution_count": 8,
      "outputs": []
    },
    {
      "cell_type": "code",
      "source": [
        "news_df = pd.concat([sports_df, tech_df, business_df], ignore_index=True)"
      ],
      "metadata": {
        "id": "0YOLyowFcqZr"
      },
      "execution_count": 9,
      "outputs": []
    },
    {
      "cell_type": "code",
      "source": [
        "nltk.download('punkt_tab')"
      ],
      "metadata": {
        "colab": {
          "base_uri": "https://localhost:8080/"
        },
        "id": "ufyF4AN1cv9v",
        "outputId": "6397547e-6eeb-484e-ee1c-fca92d24a59c"
      },
      "execution_count": 10,
      "outputs": [
        {
          "output_type": "stream",
          "name": "stderr",
          "text": [
            "[nltk_data] Downloading package punkt_tab to /root/nltk_data...\n",
            "[nltk_data]   Unzipping tokenizers/punkt_tab.zip.\n"
          ]
        },
        {
          "output_type": "execute_result",
          "data": {
            "text/plain": [
              "True"
            ]
          },
          "metadata": {},
          "execution_count": 10
        }
      ]
    },
    {
      "cell_type": "code",
      "source": [
        "tokenized_texts = []\n",
        "for txt in news_df['text']:\n",
        "    tokens = word_tokenize(txt.lower())\n",
        "    tokenized_texts.append(tokens)"
      ],
      "metadata": {
        "id": "zKMvfW49VPuG"
      },
      "execution_count": 11,
      "outputs": []
    },
    {
      "cell_type": "code",
      "source": [
        "lengths = [len(t) for t in tokenized_texts]\n",
        "print(f\"Average tokens in document: {sum(lengths)/len(lengths)}\")\n",
        "print(f\"Min/max tokens: {min(lengths)}/{max(lengths)}\")"
      ],
      "metadata": {
        "colab": {
          "base_uri": "https://localhost:8080/"
        },
        "id": "2hSnKMqtVPsP",
        "outputId": "af6f50f2-c8a8-4d96-96a8-fa8c95342369"
      },
      "execution_count": 12,
      "outputs": [
        {
          "output_type": "stream",
          "name": "stdout",
          "text": [
            "Average tokens in document: 431.1223628691983\n",
            "Min/max tokens: 131/3362\n"
          ]
        }
      ]
    },
    {
      "cell_type": "code",
      "source": [
        "from nltk.lm import Vocabulary\n",
        "from collections import Counter"
      ],
      "metadata": {
        "id": "_fEElUkef8kU"
      },
      "execution_count": 13,
      "outputs": []
    },
    {
      "cell_type": "code",
      "source": [
        "word_counts = Counter(w for sent in tokenized_texts for w in sent)"
      ],
      "metadata": {
        "id": "H67hTJ-Xf6b5"
      },
      "execution_count": 14,
      "outputs": []
    },
    {
      "cell_type": "code",
      "source": [
        "vocab = Vocabulary(word_counts, unk_cutoff=3)"
      ],
      "metadata": {
        "id": "YnpSAVOrf6YX"
      },
      "execution_count": 49,
      "outputs": []
    },
    {
      "cell_type": "code",
      "source": [
        "n = 3\n",
        "model = Laplace(n, vocabulary=vocab)"
      ],
      "metadata": {
        "id": "N3JD0D8aVPqU"
      },
      "execution_count": 121,
      "outputs": []
    },
    {
      "cell_type": "code",
      "source": [
        "train_data, padded_sents = padded_everygram_pipeline(n, tokenized_texts)"
      ],
      "metadata": {
        "id": "seAOZ3z7VPoY"
      },
      "execution_count": 122,
      "outputs": []
    },
    {
      "cell_type": "code",
      "source": [
        "model.fit(train_data, padded_sents)"
      ],
      "metadata": {
        "id": "i7IE-nP8VPmR"
      },
      "execution_count": 123,
      "outputs": []
    },
    {
      "cell_type": "code",
      "source": [
        "print(f\"vocab size: {len(model.vocab)}\")"
      ],
      "metadata": {
        "colab": {
          "base_uri": "https://localhost:8080/"
        },
        "id": "fVMwAi3MVPkU",
        "outputId": "0e742f9c-08bd-4715-9c77-92d6cc14230b"
      },
      "execution_count": 124,
      "outputs": [
        {
          "output_type": "stream",
          "name": "stdout",
          "text": [
            "vocab size: 11815\n"
          ]
        }
      ]
    },
    {
      "cell_type": "code",
      "source": [
        "correct_phrases = [\n",
        "    \"the central bank raised interest rates\",\n",
        "    \"the mayor unveiled the new infrastructure plan\",\n",
        "    \"researchers reported a breakthrough in cancer treatment\",\n",
        "    \"oil prices surged amid supply concerns\",\n",
        "    \"the international summit concluded with a joint statement\"\n",
        "]"
      ],
      "metadata": {
        "id": "ja5jiFOnVPiS"
      },
      "execution_count": 125,
      "outputs": []
    },
    {
      "cell_type": "code",
      "source": [
        "incorrect_phrases = [\n",
        "    \"bank central the raised rates interest\",\n",
        "    \"mayor the plan unveiled infrastructure new the\",\n",
        "    \"researchers a in cancer reported breakthrough treatment\",\n",
        "    \"surged oil prices amid concerns supply\",\n",
        "    \"joint concluded summit international the with statement a\"\n",
        "]"
      ],
      "metadata": {
        "id": "KLsZsXbEVPgP"
      },
      "execution_count": 126,
      "outputs": []
    },
    {
      "cell_type": "code",
      "source": [
        "from nltk.lm.preprocessing import pad_both_ends\n",
        "from nltk.util import ngrams"
      ],
      "metadata": {
        "id": "VzA11GDah4X7"
      },
      "execution_count": 127,
      "outputs": []
    },
    {
      "cell_type": "code",
      "source": [
        "def ppl_ngram(model, sentence, n):\n",
        "    tokens = word_tokenize(sentence.lower())\n",
        "    padded = list(pad_both_ends(tokens, n))\n",
        "    test_grams = list(ngrams(padded, n))\n",
        "    return model.perplexity(test_grams)"
      ],
      "metadata": {
        "id": "vOuNIJEhVPeV"
      },
      "execution_count": 128,
      "outputs": []
    },
    {
      "cell_type": "code",
      "source": [
        "tokenized_ex = word_tokenize(correct_phrases[0].lower())"
      ],
      "metadata": {
        "id": "uzFlA7jgppeM"
      },
      "execution_count": 129,
      "outputs": []
    },
    {
      "cell_type": "code",
      "source": [
        "ppl_correct = []\n",
        "ppl_incorrect = []"
      ],
      "metadata": {
        "id": "w9cBP8NFUAyk"
      },
      "execution_count": 134,
      "outputs": []
    },
    {
      "cell_type": "code",
      "source": [
        "for s in correct_phrases:\n",
        "    ppl = ppl_ngram(model, s, 3)\n",
        "    ppl_correct.append(ppl)\n",
        "    print(f\"{s!r}: {ppl:.2f}\")"
      ],
      "metadata": {
        "colab": {
          "base_uri": "https://localhost:8080/"
        },
        "id": "Q_WYDofkVPcY",
        "outputId": "9851af04-0f21-47ce-d097-22adfa8bc3af"
      },
      "execution_count": 135,
      "outputs": [
        {
          "output_type": "stream",
          "name": "stdout",
          "text": [
            "'the central bank raised interest rates': 5473.44\n",
            "'the mayor unveiled the new infrastructure plan': 8328.75\n",
            "'researchers reported a breakthrough in cancer treatment': 12080.24\n",
            "'oil prices surged amid supply concerns': 7266.01\n",
            "'the international summit concluded with a joint statement': 7885.12\n"
          ]
        }
      ]
    },
    {
      "cell_type": "code",
      "source": [
        "for s in incorrect_phrases:\n",
        "    ppl = ppl_ngram(model, s, 3)\n",
        "    ppl_incorrect.append(ppl)\n",
        "    print(f\"{s!r}: {ppl:.2f}\")"
      ],
      "metadata": {
        "colab": {
          "base_uri": "https://localhost:8080/"
        },
        "id": "W_jWDlwaVPaT",
        "outputId": "c3342c8d-14df-4e23-a4a3-4b1401e8e76d"
      },
      "execution_count": 136,
      "outputs": [
        {
          "output_type": "stream",
          "name": "stdout",
          "text": [
            "'bank central the raised rates interest': 9682.33\n",
            "'mayor the plan unveiled infrastructure new the': 7666.71\n",
            "'researchers a in cancer reported breakthrough treatment': 12078.20\n",
            "'surged oil prices amid concerns supply': 12119.69\n",
            "'joint concluded summit international the with statement a': 7720.88\n"
          ]
        }
      ]
    },
    {
      "cell_type": "code",
      "source": [
        "import numpy as np"
      ],
      "metadata": {
        "id": "qVBvB2-EUndN"
      },
      "execution_count": 145,
      "outputs": []
    },
    {
      "cell_type": "code",
      "source": [
        "print(f\"average perplexity on correct phrases: {np.mean(ppl_correct)}\")\n",
        "print(f\"average perplexity on incorrect phrases: {np.mean(ppl_incorrect)}\")"
      ],
      "metadata": {
        "id": "AEu9BWmvpSfC",
        "colab": {
          "base_uri": "https://localhost:8080/"
        },
        "outputId": "7c13322e-6c2f-4709-86fb-19aa6253cdc8"
      },
      "execution_count": 144,
      "outputs": [
        {
          "output_type": "stream",
          "name": "stdout",
          "text": [
            "average perplexity on correct phrases: 8206.711760397862\n",
            "average perplexity on incorrect phrases: 9853.56223647606\n"
          ]
        }
      ]
    },
    {
      "cell_type": "code",
      "source": [
        "prompts = [\n",
        "    [\"i\", \"think\"],\n",
        "    [\"she\", \"goes\", \"to\"],\n",
        "    [\"in\", \"the\", \"future\"],\n",
        "    [\"blue\", \"dog\"],\n",
        "    [\"once\", \"upon\", \"a\", \"time\"]\n",
        "]"
      ],
      "metadata": {
        "id": "j7wW4vVfVPYW"
      },
      "execution_count": 140,
      "outputs": []
    },
    {
      "cell_type": "code",
      "source": [
        "for prompt in prompts:\n",
        "    gen = model.generate(num_words=20, text_seed=prompt, random_seed=42)\n",
        "    print(f\"prompt: {' '.join(prompt)}\")\n",
        "    print(\" \".join(gen))"
      ],
      "metadata": {
        "colab": {
          "base_uri": "https://localhost:8080/"
        },
        "id": "h__g7LphVPWg",
        "outputId": "19569674-7688-4a3e-c4ed-1b6ecf8cd691"
      },
      "execution_count": 146,
      "outputs": [
        {
          "output_type": "stream",
          "name": "stdout",
          "text": [
            "prompt: i think\n",
            "the <UNK> cinema chain and the two biggest eurozone economies , it 's about the new find showed that .\n",
            "prompt: she goes to\n",
            "show <UNK> . `` the ppi would argue for greenspan to the <UNK> at speed is 512kbps , though ,\n",
            "prompt: in the future\n",
            "of aguas argentinas about what that means for technology , are in <UNK> . on the day just prior to\n",
            "prompt: blue dog\n",
            "the korean economy in recent weeks during a conference call on tuesday , agence france presse . `` this <UNK>\n",
            "prompt: once upon a time\n",
            "when - all of them profited financially . '' <UNK> <UNK> hopes arsenal 's season . according to the 19th\n"
          ]
        }
      ]
    },
    {
      "cell_type": "code",
      "source": [],
      "metadata": {
        "id": "_CEmkXw3VPUh"
      },
      "execution_count": 147,
      "outputs": []
    },
    {
      "cell_type": "code",
      "source": [],
      "metadata": {
        "id": "2tug6vJFVPSd"
      },
      "execution_count": null,
      "outputs": []
    },
    {
      "cell_type": "code",
      "source": [],
      "metadata": {
        "id": "uRdgi0wwVPQX"
      },
      "execution_count": null,
      "outputs": []
    },
    {
      "cell_type": "code",
      "source": [],
      "metadata": {
        "id": "LMGV4hW0VPOc"
      },
      "execution_count": null,
      "outputs": []
    },
    {
      "cell_type": "code",
      "source": [],
      "metadata": {
        "id": "uJP0ZXe8VPMZ"
      },
      "execution_count": null,
      "outputs": []
    },
    {
      "cell_type": "code",
      "source": [],
      "metadata": {
        "id": "9v0clfxtVPKa"
      },
      "execution_count": null,
      "outputs": []
    },
    {
      "cell_type": "code",
      "source": [],
      "metadata": {
        "id": "gWbIU6egVPIm"
      },
      "execution_count": null,
      "outputs": []
    },
    {
      "cell_type": "code",
      "execution_count": null,
      "metadata": {
        "id": "19WR5b-4VOj-"
      },
      "outputs": [],
      "source": []
    }
  ]
}